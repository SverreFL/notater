{
 "cells": [
  {
   "cell_type": "markdown",
   "id": "yellow-merchandise",
   "metadata": {},
   "source": [
    "### Panel"
   ]
  },
  {
   "cell_type": "markdown",
   "id": "closing-paste",
   "metadata": {},
   "source": [
    "Vil lage gui for å interaktivt utforske data i et såkalt *dashboard*. Har rektangulær grid der element er *Pane* som renderer et objekt, samt *Widget* som gir gui for å bestemme verdi av variabler. \n",
    "\n",
    "I praksis kan objekt som bli renderet i Pane avhenge av verdi til variabel (input i funksjon som generer output). Dette medfører at vi kan påvirke Pane gjennom Widget som bestememr verdi til variabel.\n",
    "\n",
    "Merk at Widget ikke har noe magi/priveligert posisjon utover å endre verdi til en variabel i python. Vi kunne i praksis endret den på andre måter med samme resultat. Det endrer output dynamisk fordi python ser at variabelverdi har blitt endret og caller funksjonen som generer output i Pane på nytt slik at det blir oppdater dynamisk. Tror dette blir håndtert av *params*.."
   ]
  },
  {
   "cell_type": "markdown",
   "id": "sonic-thermal",
   "metadata": {},
   "source": [
    "#### API"
   ]
  },
  {
   "cell_type": "markdown",
   "id": "numerical-canal",
   "metadata": {},
   "source": [
    "Har flere nivåer. Har high-level som gjør at vi kommer langt med få linjer, uten at det er en blindvei. Det betyr at vi ikke trenger å begynne på nytt dersom vi ikke kommer helt i mål gjennom high-level api. Vi kan få tilgang til de underliggende objektene og gjøre endringer der."
   ]
  },
  {
   "cell_type": "markdown",
   "id": "introductory-cream",
   "metadata": {},
   "source": [
    "##### interact"
   ]
  },
  {
   "cell_type": "markdown",
   "id": "respected-parker",
   "metadata": {},
   "source": [
    "One-liner funksjon som er analog til interact i ipywidgets. Første argument er en funksjon med noe output som kan bli renderet i en Pane. Forsøker å finne riktig Pane-class. Neste argumenter er keyword argument til funksjon som lager wdigets der input blir bestemt gjennom gui. Kan gi den hint for å konstruere widgets eller være eksplisitt i valg av widget klasse.\n",
    "\n",
    "Til slutt konstruerer det en layout som inneholder Pane med output fra funksjon samt widgets. Kan oppnå mer kontroll gjennom argumenter i interact funksjonen, men tenker det er bedre å jobbe videre med outputten."
   ]
  },
  {
   "cell_type": "markdown",
   "id": "liked-arrow",
   "metadata": {},
   "source": [
    "```python\n",
    "pn.interact(func,\n",
    "            arg0 = (start, end, step),\n",
    "            arg1 = pn.widgets.Intslider(start=, end=, step=, value=)\n",
    "            )\n",
    "```"
   ]
  },
  {
   "cell_type": "markdown",
   "id": "demanding-ivory",
   "metadata": {},
   "source": [
    "##### Reactive functions"
   ]
  },
  {
   "cell_type": "markdown",
   "id": "creative-telescope",
   "metadata": {},
   "source": [
    "Hvis vi lager widgets eksplisitt så må vi spesifisere hvordan verdi til widget er assosiert med input til funksjon som lager objekt til pane. Kan bruke decorator\n",
    "\n",
    "```python\n",
    "slider_x = pn.widgets.IntSlider(value=1)\n",
    "slider_y = pn.widgets.IntSlider()\n",
    "@pn.depends(slider_x, slider_y)\n",
    "def func(x,y):\n",
    "    return x+y\n",
    "```"
   ]
  },
  {
   "cell_type": "markdown",
   "id": "hydraulic-baking",
   "metadata": {},
   "source": [
    "Ellers kan vi bruke pn.bind(func, widget, ..) som er litt mer eksplisitt"
   ]
  },
  {
   "cell_type": "markdown",
   "id": "israeli-attempt",
   "metadata": {},
   "source": [
    "```python\n",
    "def fn(a,b): return f'Arguments: {a,b}'\n",
    "slider = pn.widgets.FloatSlider(value=0.5)\n",
    "\n",
    "bound_fn = pn.bind(fn, a=slider, b=2)\n",
    "bound_fn()\n",
    "```"
   ]
  },
  {
   "cell_type": "markdown",
   "id": "answering-preview",
   "metadata": {},
   "source": [
    "##### Parameterized Classes"
   ]
  },
  {
   "cell_type": "markdown",
   "id": "specific-regard",
   "metadata": {},
   "source": [
    "Initialisere subclass av param.Parameterized. Fordel at det er mindre knyttet til gui og widgets. Lage objekt og overvåke om attributtene til dette blir endret.."
   ]
  },
  {
   "cell_type": "markdown",
   "id": "governing-internet",
   "metadata": {},
   "source": [
    "```python\n",
    "import param\n",
    "class MPGExplorer(param.Parameterized):\n",
    "    x = param.Selector(objects=columns)\n",
    "    y = param.Selector(default='hp', objects=columns)\n",
    "    color = param.Color(default='#0f0f0f')\n",
    "   \n",
    "    @param.depends('x', 'y', 'color') # optional in this case\n",
    "    def plot(self):\n",
    "        return autompg_plot(self.x, self.y, self.color)\n",
    "explorer = MPGExplorer()\n",
    "pn.Row(explorer.param, explorer.plot)\n",
    "```"
   ]
  },
  {
   "cell_type": "markdown",
   "id": "needed-plate",
   "metadata": {},
   "source": [
    "##### Eksplisitte callbacks"
   ]
  },
  {
   "cell_type": "markdown",
   "id": "static-hindu",
   "metadata": {},
   "source": [
    "Ser ut som jeg kan bruker widget.param interface.watch til å konstruere en Watcher.. ellers kan jeg bruke link.\n",
    "\n",
    "link er litt mer high-level.."
   ]
  },
  {
   "cell_type": "markdown",
   "id": "suburban-immunology",
   "metadata": {},
   "source": [
    "```python\n",
    "# litt hacky måte å dynamisk endre global variabel fra widget input\n",
    "x = 1\n",
    "widget = pn.widgets.TextInput()\n",
    "def callback(*args): # sender inn et Event objekt fra params som vi ikke bruker\n",
    "    global x\n",
    "    x = some_function(widget.value)\n",
    "widget.param.watch(callback, 'value') # der 'value' er navn på parameter, eg. attributt til widget objekt som watches\n",
    "```"
   ]
  },
  {
   "cell_type": "markdown",
   "id": "fitted-compromise",
   "metadata": {},
   "source": [
    "Kan bruke widget.link() til å lage en kobling mellom verdi assosiert med widget og output i pane"
   ]
  },
  {
   "cell_type": "markdown",
   "id": "relevant-vienna",
   "metadata": {},
   "source": [
    "```python\n",
    "widget = pn.widgets.TextInput(value='hei')\n",
    "pane = pn.pane.Markdown('på deg')\n",
    "pn.Row(widget, pane) # ingen kobling mellom widget.value og pane.object\n",
    "widget.link(pane, value='object') # linker value til widget til objekt i pane slik at endres dynamisk\n",
    "pn.Row(widget, pane) # operativt panel der widget value blir renderet i pane\n",
    "```\n"
   ]
  },
  {
   "cell_type": "markdown",
   "id": "antique-command",
   "metadata": {},
   "source": [
    "Hvis vi vil at output (objekt som renderes i pane)skal være en transformasjon av input (verdi assosiert med widget) må vi definere en callback funksjon. Synes ikke det er intuitivt hvordan vi kombinerer link med callback. Tror jeg går for widget.param.watch .."
   ]
  },
  {
   "cell_type": "markdown",
   "id": "floppy-principle",
   "metadata": {},
   "source": [
    "```python\n",
    "pane = pn.pane.Markdown(\"\")\n",
    "widget = pn.widgets.TextInput()\n",
    "def callback(pane, event): # event er class i params, vet ikke om det\n",
    "    pane.object = event.new.upper() + '!!!'\n",
    "widget.link(pane, callbacks={'value': callback}) # value til widget kommer inn i event i callback på en eller anenn måte\n",
    "pn.Row(widget, pane)\n",
    "```"
   ]
  },
  {
   "cell_type": "markdown",
   "id": "driving-capability",
   "metadata": {},
   "source": [
    "Eksempel for å resette kart:\n",
    "```python\n",
    "def initalize_map():\n",
    "    return Map(center=[60.4,5.3], zoom=13)\n",
    "m = initalize_map()\n",
    "pane = pn.pane.ipywidget.IPyLeaflet(m)\n",
    "button = pn.widgets.Button(name='reset')\n",
    "def callback(pane, event): # event er class i params, vet ikke om det\n",
    "    pane.object = initalize_map()\n",
    "button.link(pane, callbacks={'value': callback})\n",
    "```"
   ]
  },
  {
   "cell_type": "markdown",
   "id": "adequate-ambassador",
   "metadata": {},
   "source": [
    "Eksempel med callback på button\n",
    "```python\n",
    "button = pn.widgets.Button(name='Click me', button_type='primary')\n",
    "text = pn.pane.Markdown(object='Ready')\n",
    "def b(event):\n",
    "    text.object = f'Clicked {button.clicks} times'\n",
    "button.on_click(b)\n",
    "pn.Row(button, text)\n",
    "```\n"
   ]
  },
  {
   "cell_type": "markdown",
   "id": "convertible-stereo",
   "metadata": {},
   "source": [
    "Kan bruke callback til å kjøre vilkårlig funksjon med\n",
    "```python\n",
    "def callback(pane, event):\n",
    "    do_something()\n",
    "```"
   ]
  },
  {
   "cell_type": "markdown",
   "id": "particular-brush",
   "metadata": {},
   "source": [
    "En mulig workflow er å ha funksjon som avhenger av global variabel. Når vi trykker på widget så endrer vi global variabel og setter ny output til funksjon som object til pane i layout. Ikke så veldig ryddig, men det fungerer.\n",
    "```python\n",
    "STATE = False\n",
    "def plot_function():\n",
    "    if not STATE:\n",
    "        return plot1()\n",
    "    else:\n",
    "        return plot2()\n",
    "def callback(*args, **kwargs):\n",
    "    global STATE\n",
    "    if STATE:\n",
    "        STATE = False\n",
    "    else:\n",
    "        STATE = True\n",
    "    plot_pane.object = plot_function()\n",
    "button.on_click(callback)\n",
    "```"
   ]
  },
  {
   "cell_type": "markdown",
   "id": "impressed-clerk",
   "metadata": {},
   "source": [
    "#### Komponenter"
   ]
  },
  {
   "cell_type": "markdown",
   "id": "figured-change",
   "metadata": {},
   "source": [
    "Enkelt design med bare tre classer.."
   ]
  },
  {
   "cell_type": "markdown",
   "id": "compound-promise",
   "metadata": {},
   "source": [
    "##### Panel"
   ]
  },
  {
   "cell_type": "markdown",
   "id": "alleged-customs",
   "metadata": {},
   "source": [
    "Container med layout. Hierarkisk struktur med Rows, Columns og Tabs. Fungerer litt som liste av liste."
   ]
  },
  {
   "cell_type": "markdown",
   "id": "organized-portland",
   "metadata": {},
   "source": [
    "##### Pane"
   ]
  },
  {
   "cell_type": "markdown",
   "id": "environmental-alfred",
   "metadata": {},
   "source": [
    "Har modul pn.pane med mange classer til å rendere ulike typer objekt. Kan eventuelt bruke\n",
    "```python\n",
    "pn.panel(obj, height, width)\n",
    "```\n",
    "som automatisk finner Pane-class til å rendere objektet. Når vi plasserer objekter i Rows eller Columns så blir dette callet under the hood, men kan være greit å gjøre det eksplisitt slik at vi får mer kontroll gjennom kwargs,\n",
    "```python\n",
    "pn.Column(pn.panel('#overskrift med space under', height=100), some_obj)\n",
    "```\n",
    "Merk forøvrig at alle panes har en attributt slik at vi kan få ut det underliggende objektet den rendrer..\n",
    "```python\n",
    "obj = my_pane.object\n",
    "```"
   ]
  },
  {
   "cell_type": "markdown",
   "id": "distinct-estate",
   "metadata": {},
   "source": [
    "##### Widget"
   ]
  },
  {
   "cell_type": "markdown",
   "id": "located-supplier",
   "metadata": {},
   "source": [
    "Gir representasjon av objekter i en layout som kan oppdateres dynamisk. Konstruerer Panel objekt som er container som består av panes og widgets. Panes forsøker å inferre best mulig representasjon av objekt. Widgets påvirker endrer objekt i pane.."
   ]
  },
  {
   "cell_type": "markdown",
   "id": "quiet-pollution",
   "metadata": {},
   "source": [
    "Liste av widgets\n",
    "```python\n",
    "ColorPicker(value=#AA0505') # kan velge farge med mus og få ut hex kode til denne\n",
    "```"
   ]
  },
  {
   "cell_type": "markdown",
   "id": "strong-sweet",
   "metadata": {},
   "source": [
    "#### Launche dashboard"
   ]
  },
  {
   "cell_type": "markdown",
   "id": "understanding-collapse",
   "metadata": {},
   "source": [
    "Kan bruke .show() metode for å få dashboard i egen tab, men i praksis vil jeg launche fra command line. Hvis jeg gjør dette på min egen pc åpner det \"lokal port\" som blir \"url\" i nettleser..\n",
    "\n",
    "Kan bruke .servable() for å indikere at objektet kan launches. Kan da kjøre `panel serve app.ipynb` fra command line for å starte en server på det lokale nettet. får opp url til denne.\n",
    "\n",
    "Poenget med dashboardet er å få det opp på en nettside så andre kan bruke programmet, og for dette bruker jeg Heroku som jeg tror er enklere interface til aws server som håndterer setup."
   ]
  },
  {
   "cell_type": "markdown",
   "id": "legislative-webcam",
   "metadata": {},
   "source": [
    "##### Heroku"
   ]
  },
  {
   "cell_type": "markdown",
   "id": "smaller-exposure",
   "metadata": {},
   "source": [
    "Fungerer litt analog til git.. pusher og comitter til ekstern repo som blir hostet.. klarer ikke huske detaljer, men se:"
   ]
  },
  {
   "cell_type": "markdown",
   "id": "divided-volume",
   "metadata": {},
   "source": [
    "https://github.com/holoviz-demos/minimal-heroku-demo"
   ]
  },
  {
   "cell_type": "markdown",
   "id": "designing-pasta",
   "metadata": {},
   "source": [
    "Viktig at requirements.txt er minimal. kommer altfor mye dritt når jeg freezer environmnetet jeg bruker.\n",
    "\n",
    "Må ha med nbconvert for jupyter .."
   ]
  },
  {
   "cell_type": "markdown",
   "id": "supported-festival",
   "metadata": {},
   "source": [
    "Må spesifisere hvilken app jeg pusher til med\n",
    "\n",
    "- heroku git:remote -a app-navn"
   ]
  },
  {
   "cell_type": "markdown",
   "id": "miniature-payroll",
   "metadata": {},
   "source": [
    "Heroku har problemer med å lese fil utf8 encoding.. eller kan være problemer med encoding generelt. Laste inn tekst med norske bokstaver... vet ikke altså, men sjekk heroku log --tail og se om det er noe feilmelding om encoding der. Et alternativ er å skrive streng direkte i python fil i stedet for å laste fra disk."
   ]
  },
  {
   "cell_type": "markdown",
   "id": "noted-gospel",
   "metadata": {},
   "source": [
    "### Param"
   ]
  },
  {
   "cell_type": "markdown",
   "id": "loving-canal",
   "metadata": {},
   "source": [
    "Kan ha lyst til å definere variabel som Parameter slik at funksjon blir callet dynamisk når variabel endrer verdi uten at variabelverdi er assosiert med noen widget i panel... hacky løsning er å initialisere en widget som jeg aldri viser og lagre variabel som value assosiert med denne\n",
    "\n",
    "```python\n",
    "widget = pn.widgets.IntInput()\n",
    "x = input()\n",
    "widget.value(x)\n",
    "@pn.depends(widget)\n",
    "def func(y):\n",
    "    return y\n",
    "```"
   ]
  },
  {
   "cell_type": "markdown",
   "id": "renewable-instrumentation",
   "metadata": {},
   "source": [
    "### HoloViews"
   ]
  },
  {
   "cell_type": "markdown",
   "id": "trying-charles",
   "metadata": {},
   "source": [
    "Interkative plot for nettleseren. Litt usikker på hvilken relasjon alt dette har til Bokeh... Tror at Holoviews er objekt i python som har en representasjon som andre plottelibraries (inkl bokeh) kan forstå og rendere slik at de får visuell representasjon som interaktivt plott.\n",
    "\n",
    "Kan bruke hv.help(class) for utvidet docstring.."
   ]
  },
  {
   "cell_type": "markdown",
   "id": "every-engineer",
   "metadata": {},
   "source": [
    "#### Objekt"
   ]
  },
  {
   "cell_type": "markdown",
   "id": "seasonal-theater",
   "metadata": {},
   "source": [
    "Kan lage instance av ulike classene direkte gjennom holoviews. Har submoduler, men mange classer er tilgjengelig i øverste nivå så trenger bare å import holoviews as hv. Tror jeg da får ut et såkalt \"element\"...\n",
    "\n",
    "Hvis jeg printer objekt får jeg `type` `[var1, var2]` `(var3)` der variabler i brakkeparentes er `key-dimensjon` som mapper til axes og variabler i parentes er `value-dimensjoner` som mapper til visuell representasjon."
   ]
  },
  {
   "cell_type": "markdown",
   "id": "opposed-slovakia",
   "metadata": {},
   "source": [
    "#### Options"
   ]
  },
  {
   "cell_type": "markdown",
   "id": "professional-heath",
   "metadata": {},
   "source": [
    "Kan endre egenskaper til element gjennom .options() metoden"
   ]
  },
  {
   "cell_type": "markdown",
   "id": "illegal-today",
   "metadata": {},
   "source": [
    "```python\n",
    "element.options(color='var3', # der er poeng at holoviews har tilgang til data så kan spesifisere det gjennom navn \n",
    "                size='var4',  # kan spesifisere til variabler i value-dimensjon\n",
    "                colorbar=True, \n",
    "                aspect='square')\n",
    "```"
   ]
  },
  {
   "cell_type": "markdown",
   "id": "conservative-coalition",
   "metadata": {},
   "source": [
    "### hvPlot"
   ]
  },
  {
   "cell_type": "markdown",
   "id": "corrected-melbourne",
   "metadata": {},
   "source": [
    "Dette er en high-level api som vi kan bruke til å generere HoloView objekt gjennom .hvplot() metode på dataframe i pandas (eller direkte på dask array). Følger samme syntax som native .plot() metode som bruker matplotlib som backend, men har utvidet funksjonalitet.\n",
    "\n",
    "Siden det returnerer HoloViews objekt kan vi bruke gjøre endringer gjennom objekt-orientert syntax dersom api ikke tar oss helt der vi vil."
   ]
  },
  {
   "cell_type": "markdown",
   "id": "numerous-vatican",
   "metadata": {},
   "source": [
    "### Panel"
   ]
  },
  {
   "cell_type": "markdown",
   "id": "subjective-prayer",
   "metadata": {},
   "source": [
    "### Datashader"
   ]
  },
  {
   "cell_type": "markdown",
   "id": "unexpected-gentleman",
   "metadata": {},
   "source": [
    "Vil ha statisk representasjon av data slik at nettleser ikke trenger å håndtere det. Vil ikke at den skal ha ting liggende i minnet fordi den tror at den kan ha behov for å lage hvert punkt individuelt. Kan lage plot som skalerer til store data og samtidig er interaktivt fordi det numeriske blir håndtert gjennom python, mens vi kan endre visuelle ting uten å gjøre kalkuleringer på nytt."
   ]
  },
  {
   "cell_type": "markdown",
   "id": "alive-sleeve",
   "metadata": {},
   "source": [
    "### Colorset"
   ]
  },
  {
   "cell_type": "markdown",
   "id": "mathematical-maldives",
   "metadata": {},
   "source": [
    "Samling av fargekart som forbedrerer det som er tilgjengelig i matplotlib. Det er problem at det kan være vanskelig å skille verdier i en del kontinuerlige fargekart... ikke konstant endring av farge når vi endrer én enhet..."
   ]
  },
  {
   "cell_type": "markdown",
   "id": "shared-report",
   "metadata": {},
   "source": [
    "### Params"
   ]
  },
  {
   "cell_type": "markdown",
   "id": "vocational-knight",
   "metadata": {},
   "source": [
    "Har egentlig ikke noe med plotting å gjøre, men dynamisk oppdatering av parametere til objekt gjennom watcher class.. linke objekter. Hadde vært greit å forstå litt hvordan dette fugerer under the hood.."
   ]
  },
  {
   "cell_type": "markdown",
   "id": "superb-universe",
   "metadata": {},
   "source": [
    "### ipywidgets"
   ]
  },
  {
   "cell_type": "markdown",
   "id": "demonstrated-parliament",
   "metadata": {},
   "source": [
    "```python\n",
    "widgets.HTML(\n",
    "    value=\"Hello <b>World</b>\",\n",
    "    placeholder='Some HTML', # vet ikke hvorfor jeg trenger placeholder og description ...\n",
    "    description='Some HTML',\n",
    ")\n",
    "```"
   ]
  },
  {
   "cell_type": "markdown",
   "id": "unknown-singer",
   "metadata": {},
   "source": [
    "### ipyleaflet"
   ]
  },
  {
   "cell_type": "markdown",
   "id": "labeled-gilbert",
   "metadata": {},
   "source": [
    "#### marker"
   ]
  },
  {
   "cell_type": "markdown",
   "id": "blank-burning",
   "metadata": {},
   "source": [
    "Må legge til popup ved å sette instance av HTML som attributt. Legger til ting som attibutt ved Map istedet for metode på marker som i folium."
   ]
  },
  {
   "cell_type": "markdown",
   "id": "first-quarter",
   "metadata": {},
   "source": [
    "```python\n",
    "from ipyleaflet import Map, Marker\n",
    "from ipywidgets import HTML\n",
    "\n",
    "m = Map(center=[lat,long], zoom=13)\n",
    "marker = Marker(location=[lat, long])\n",
    "marker.popup = text # der text er instace av HTML()\n",
    "m.add_layer(marker)\n",
    "```"
   ]
  },
  {
   "cell_type": "markdown",
   "id": "raising-vienna",
   "metadata": {},
   "source": [
    "#### Interaktivitet"
   ]
  },
  {
   "cell_type": "markdown",
   "id": "middle-wright",
   "metadata": {},
   "source": [
    "```python\n",
    "def handle_click(**kwargs):\n",
    "    do_action()\n",
    "\n",
    "marker.on_click(handle_click)\n",
    "```"
   ]
  },
  {
   "cell_type": "markdown",
   "id": "confused-kinase",
   "metadata": {},
   "source": [
    "#### paths"
   ]
  },
  {
   "cell_type": "markdown",
   "id": "finished-immune",
   "metadata": {},
   "source": [
    "Får bruke for mange libraries for å plotte path mellom to koordinater. Initialiserer en graf som er endelig mengde med nodes, samt kanter mellom nodes. Kan tenke på nodes som en endelig mengde punkter som er plassert rundt på veiene i kartet."
   ]
  },
  {
   "cell_type": "markdown",
   "id": "attended-completion",
   "metadata": {},
   "source": [
    "```python\n",
    "import osmnx as ox\n",
    "import networkx as nx\n",
    "import geopandas as gpd\n",
    "from shapely.geometry import LineString\n",
    "\n",
    "graph = ox.graph_from_point(start, dist=2000, network_type='bike') # initialisere graph\n",
    "nodes, edges = ox.graph_to_gdfs(graph) # representere i GeoDataFrame (geometri til nodes er point, til edge  er linje)\n",
    "orig = ox.get_nearest_node(graph, location=[y0, x0]) # finne id til node som er nærmest gitt koordinat\n",
    "dest = ox.get_nearest_node(graph, location=[y1, x1])\n",
    "route = nx.shortest_path(graph, orig, dest) # finne ordnet følge id til nodes som gir korteste path\n",
    "```"
   ]
  },
  {
   "cell_type": "markdown",
   "id": "several-refund",
   "metadata": {},
   "source": [
    "Har nå liste med node_ids. Kunne laget rette linjer mellom koordinatene til disse, men vi kan gjøre bedre! Det er geometri assosiert med kant mellom nodene som har flere koordinater og fanger opp kurver. "
   ]
  },
  {
   "cell_type": "markdown",
   "id": "dated-stroke",
   "metadata": {},
   "source": [
    "```python\n",
    "x_coords = []\n",
    "y_coords = []\n",
    "for u, v in zip(route, route[1:]):\n",
    "    geom = edges.loc[(u,v)].geometry.values[0]\n",
    "    xs, ys = geom.xy\n",
    "    x_coords.extend(xs.tolist())\n",
    "    y_coords.extend(ys.tolist())\n",
    "    \n",
    "path = gpd.GeoDataFrame([LineString(zip(x_coords,y_coords))], columns=['geometry'])\n",
    "path_layer = GeoData(geo_dataframe=path, style={'color':'black', 'weight':2}) # lage layer fra GeoDataFrame\n",
    "m.add_layer(path_layer)\n",
    "\n",
    "```"
   ]
  },
  {
   "cell_type": "markdown",
   "id": "informal-romania",
   "metadata": {},
   "source": [
    "Føler at jeg burde kunne lage path_layer uten å gå gjennom geopandas, men hmm.."
   ]
  },
  {
   "cell_type": "markdown",
   "id": "wrapped-dress",
   "metadata": {},
   "source": [
    "### Folium"
   ]
  },
  {
   "cell_type": "markdown",
   "id": "terminal-ratio",
   "metadata": {},
   "source": [
    "High level api som bruker leaflet i javascript til å generere html kart. Kommunikasjonen er én vei; kan f.eks. ikke bruke info fra klikk på kartet til å generere verdi til variabel i python.\n",
    "\n",
    "Kan lage kart som inneholdr markers med informasjon om ting som er på ulike steder.\n",
    "\n",
    "Kan også kombinere med geojson som lar meg overlappe ting oppå karter og fargelegge / legge til informasjon... dette er litt mer kompliserert.\n",
    "\n",
    "Tror jeg bruker ipyleaflet i stedet, så dette vil nok sløyfes"
   ]
  },
  {
   "cell_type": "markdown",
   "id": "pressed-junction",
   "metadata": {},
   "source": [
    "```python\n",
    "import folium\n",
    "m = folium.Map(location=[lat,long])\n",
    "```"
   ]
  },
  {
   "cell_type": "markdown",
   "id": "statutory-jefferson",
   "metadata": {},
   "source": [
    "#### Markers"
   ]
  },
  {
   "cell_type": "markdown",
   "id": "numerical-caribbean",
   "metadata": {},
   "source": [
    "Lager individuelle Markers objekt som jeg binder til Map objekt"
   ]
  },
  {
   "cell_type": "markdown",
   "id": "allied-merchant",
   "metadata": {},
   "source": [
    "```python\n",
    "for x, y, val1, val2 in zip(lats, longs, vals1, vals2):\n",
    "    folium.Marker(location=[x,y],\n",
    "                  tooltip=val1, # verdi som vises når musen er over marker\n",
    "                  popup=val2 # vises når klikker på. Kanskje aktuelt å formatere i html...\n",
    "                  ).add_to(m) \n",
    "```"
   ]
  },
  {
   "cell_type": "markdown",
   "id": "chemical-therapy",
   "metadata": {},
   "source": [
    "##### Customize popup"
   ]
  },
  {
   "cell_type": "markdown",
   "id": "romance-faith",
   "metadata": {},
   "source": [
    "Bruker iframe og popup objekt til å lage popup med html formatering ..."
   ]
  },
  {
   "cell_type": "markdown",
   "id": "annual-cambridge",
   "metadata": {},
   "source": [
    "```python\n",
    "html = f'''Antall<br>\n",
    "               Fra: {num_starts}<br>\n",
    "               Til: {num_ends}'''\n",
    "\n",
    "iframe = folium.IFrame(html,width=90, height=80)\n",
    "popup = folium.Popup(iframe,\n",
    "                     max_width=100)\n",
    "```"
   ]
  }
 ],
 "metadata": {
  "kernelspec": {
   "display_name": "Python 3",
   "language": "python",
   "name": "python3"
  },
  "language_info": {
   "codemirror_mode": {
    "name": "ipython",
    "version": 3
   },
   "file_extension": ".py",
   "mimetype": "text/x-python",
   "name": "python",
   "nbconvert_exporter": "python",
   "pygments_lexer": "ipython3",
   "version": "3.7.9"
  },
  "latex_envs": {
   "LaTeX_envs_menu_present": true,
   "autoclose": true,
   "autocomplete": true,
   "bibliofile": "biblio.bib",
   "cite_by": "apalike",
   "current_citInitial": 1,
   "eqLabelWithNumbers": true,
   "eqNumInitial": 1,
   "hotkeys": {
    "equation": "Ctrl-E",
    "itemize": "Ctrl-I"
   },
   "labels_anchors": false,
   "latex_user_defs": false,
   "report_style_numbering": false,
   "user_envs_cfg": false
  },
  "toc": {
   "base_numbering": 1,
   "nav_menu": {},
   "number_sections": true,
   "sideBar": true,
   "skip_h1_title": false,
   "title_cell": "Table of Contents",
   "title_sidebar": "Contents",
   "toc_cell": false,
   "toc_position": {},
   "toc_section_display": true,
   "toc_window_display": true
  }
 },
 "nbformat": 4,
 "nbformat_minor": 5
}
