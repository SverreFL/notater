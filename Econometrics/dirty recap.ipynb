{
 "cells": [
  {
   "cell_type": "markdown",
   "metadata": {},
   "source": [
    "#### "
   ]
  },
  {
   "cell_type": "markdown",
   "metadata": {},
   "source": [
    "Kontrafaktiske utfall\n",
    "$$y_i^1|D_i=0 \\\\ y_i^0|D_i=1$$"
   ]
  },
  {
   "cell_type": "markdown",
   "metadata": {},
   "source": [
    "Kan gjenskape dekomponering fra regresjonsligning, men synes det er litt vanskelig å knytte til korrelasjon\n",
    "\n",
    "$$\n",
    "y_i = \\alpha + \\delta D_i + \\eta \\\\\n",
    "\\implies E[y_i|D=1]-E[y_i|D_i=0] = \\delta + E[\\eta|D_i=1]-E[\\eta|D_i=0]\n",
    "$$"
   ]
  },
  {
   "cell_type": "markdown",
   "metadata": {},
   "source": [
    "Flere problem med eksperiment\n",
    "1. Randomiseringsskjevhet (tilfeldig innad i de som blir med på eksperiment, men kanskje ikke represenativt for relevant pop)\n",
    "2. Compliance (til dels håndteres med IV. Vanskelig hvis kontrollgruppe finne substitutt behandling) og frafall... seleksjonsskjevheter ex-post\n",
    "3. Hawthorne-effekt; oppfører seg annerledes fordi de vet at er med i eksperiment"
   ]
  },
  {
   "cell_type": "markdown",
   "metadata": {},
   "source": [
    "#### "
   ]
  },
  {
   "cell_type": "markdown",
   "metadata": {},
   "source": [
    "Utvide til flere utfall. feit \"cases\"\n",
    "\n",
    "y_i = ..\n",
    "\n",
    "$$\n",
    "y_i^s = f_i(s) \\\\\n",
    "y_i = f_i(s_i)\n",
    "$$"
   ]
  },
  {
   "cell_type": "markdown",
   "metadata": {},
   "source": [
    "#### iv"
   ]
  },
  {
   "cell_type": "markdown",
   "metadata": {},
   "source": [
    "Jeg vil motivere IV som løsning på utelatt variabelproblem som er banen til CIA/selection on observables strategien. I stedet for å finne variabel som er proxy for utelatte ting, så prøver vi å finne noe som __ikke__ er korrelert med de utelatte tingene. Vil ha noe som ikke har noe med den kausale prosessen som bestemmer utfallet bortsett fra gjennom hvordan det påvirker eksponering for behandlingen vi er interessert i. Eventuell relasjon mellom instrument og utfall må derfor skyldes behandling, og vi finner effekten av behandling ved å skalere redusert form. \n",
    "\n",
    "$$\n",
    "cov(z,y) = \\beta cov(z,x)\n",
    "$$"
   ]
  },
  {
   "cell_type": "markdown",
   "metadata": {},
   "source": [
    "Må være relevant og det kan vi teste. Både for at rapportert standardfeil skal være lav nok til at vi kan gjøre inferens, men også fordi teori bygger på store utvalg og med svake instrument må det være veldig stor for at det skal bli tilnærmet korrekt. Hypotesetest i først stage, F-vedi > 10, nye studie viser at må være høyere.\n",
    "\n",
    "Må argumentere for at ikke korrelert med uobserverte variabler. Best dersom eksogen variasjon (instrument bestemt utenfra / gift of nature).. eks: RDD. Eventuelt kan man til dels bygge på CIA strategi (avstand til college korrelert med inntekt/utdanning til foreldre, men når man kontrollerer for det der så er det som om tilfeldig i forhold til resten)\n",
    "\n",
    "Hausaman tester for om IV og OLS konvergerer mot samme parameter (eventuelt overidentifisert i 2sls. Litt usikker på hvordan jeg motiverer 2sls... beste lineære kombinasjon av instrument.. hmm)"
   ]
  },
  {
   "cell_type": "markdown",
   "metadata": {},
   "source": [
    "Kan kun finne effekt på de som blir påvirker at instrument. med heterogene behandlingseffekt er det ikke sikkert at det samvarer med gjennomsnitt i populasjon, så får lokal effekt i stedet for ATT. Må tolke. Bruker potensielle utfall til dette, samt å klargjøre antagelsene... knytte til kausal prosess, kjedereaksjon. Monotonitet blir viktig.\n",
    "\n",
    "Bruke IV på eksperiment med delvis compliance / kun tilbud om behandling. Viktig i seg selv, men også gir analog/intuisjon for annen bruk av IV."
   ]
  },
  {
   "cell_type": "markdown",
   "metadata": {},
   "source": [
    "#### rdd"
   ]
  },
  {
   "cell_type": "markdown",
   "metadata": {},
   "source": [
    "cut-off i running variable. addidativ behandlingseffekt som ikke avhenger av x..\n",
    "\n",
    "$$\n",
    "E[y_i^0|x_i] = \\alpha + \\beta x_i \\\\\n",
    "y_i^1 = y_i^0+\\rho \\\\\n",
    "\\implies y_i = \\alpha +\\beta x + \\rho D_i+ \\eta \\\\\n",
    "\\implies y_i = f(x)+\\rho D_i+ \\eta\n",
    "$$"
   ]
  },
  {
   "cell_type": "markdown",
   "metadata": {},
   "source": [
    "behandlingseffekt identifisert av diskontinuitet,\n",
    "\n",
    "$$\n",
    "\\rho = lim_{x\\to x_0^+} E[y|x] - lim_{x\\to x_0^-} E[y|x]\n",
    "$$"
   ]
  },
  {
   "cell_type": "markdown",
   "metadata": {},
   "source": [
    "I fuzzy rdd er det sånn at sannsynlighet for behandling avhenger av running variable\n",
    "\n",
    "$$\n",
    "P(D=1|x) = \n",
    "\\begin{cases} g_0(x), x < x_0 \\\\\n",
    "g_1(x), x \\geq x_0\n",
    "\\end{cases} \\\\\n",
    "= g_0(x) + I\\{x \\geq x_0\\}[g_1(x)-g_0(x)] \n",
    "$$"
   ]
  },
  {
   "cell_type": "markdown",
   "metadata": {},
   "source": [
    "bruker $T_i := I\\{x \\geq x_0\\}$ som instrument og $P(D=1|x)$ som first stage hmm.. fortsatt litt usikker på implementering i praksis."
   ]
  },
  {
   "cell_type": "markdown",
   "metadata": {},
   "source": [
    "#### DiD"
   ]
  },
  {
   "cell_type": "markdown",
   "metadata": {},
   "source": [
    "care"
   ]
  },
  {
   "cell_type": "markdown",
   "metadata": {},
   "source": [
    "#### panel"
   ]
  },
  {
   "cell_type": "markdown",
   "metadata": {},
   "source": [
    "håndtere tidskonstant utelatt variabel.\n",
    "\n",
    "DiD som special case av panel.. litt usikker på strukturen her m8.\n",
    "\n",
    "rd dersom modellere cef eller har randomisert behandling; ellers ikke. utnytte seriekorrelasjon til å få mer presis estimat.\n",
    "\n",
    "dynamisk panel er hmm"
   ]
  },
  {
   "cell_type": "markdown",
   "metadata": {},
   "source": [
    "#### standardfeil"
   ]
  },
  {
   "cell_type": "markdown",
   "metadata": {},
   "source": [
    "viktig å ha riktig estimat på $se(\\hat{\\beta})$ for inferens,\n",
    "$$\n",
    "t = \\frac{\\hat{\\beta}-\\beta_0}{\\widehat{se(\\hat{\\beta})}}\n",
    "$$"
   ]
  },
  {
   "cell_type": "markdown",
   "metadata": {},
   "source": [
    "robust for hetero... men antar at uavhengige observasjoner... feilledd korrelert innad i grupper, avhengighet fordi felles komponent. kan bruke cluster for å gjøre robust. må ha mange grupper. \n",
    "\n",
    "Spesielt utfordring dersom samme eksponering for behandling innad i gruppe, f.eks. i diff in diff"
   ]
  },
  {
   "cell_type": "markdown",
   "metadata": {},
   "source": [
    "#### stokastisk nytte"
   ]
  },
  {
   "cell_type": "markdown",
   "metadata": {},
   "source": [
    "Underliggende nytteteori modell... knytte observerte størrelser til underliggende latent modell... bruke observerte data til å lære om latent sammenheng. Mikroøkonomisk valgteori.\n",
    "$$\n",
    "u_i = v_i + \\epsilon_i \\\\\n",
    "y_i = I\\{u_i>0\\}\n",
    "$$\n",
    "modeller systematisk komponent av nytte... slags gjennomsnitt i populasjon tror jeg.. hm.. parametrisert funksjon $v_i = E[u_i|x]$...?\n",
    "$$\n",
    "v_i = x_i\\beta\n",
    "$$\n",
    "gjør antagelse om fordeling til feilledd for å se kobling mellom observert og latent.\n",
    "\n",
    "Kan utvide til flere kategorier.\n",
    "$$\n",
    "u_{ij} = v_{ij}+\\epsilon_{ij} \\\\\n",
    "y_i = \\arg\\max_{j \\in \\{1,\\ldots,J\\}}u_{ij}\n",
    "$$"
   ]
  },
  {
   "cell_type": "markdown",
   "metadata": {},
   "source": [
    "1. Conditional logit, $v_{ij}=x_j \\beta$. Egenskap ved kategori. Felles vekt per enhet egenskap. For eksempel pris.\n",
    "2. Multinomial logit, $v_{ij}= x_i \\beta_j$. Egenskap ved individ. Ulik vekting av den egenskap på gjennomsnittlig nytte for de ulike kategoriene, for eksempel kjønn. Må ha baseline kategori $1$ der $\\beta_1=0$ , slik at effekt er relativ til baseline (for identifikasjon)"
   ]
  },
  {
   "cell_type": "markdown",
   "metadata": {},
   "source": [
    "Hvis vi antar at $\\epsilon_{ij} \\sim$ type1 extreme value distribution så kan vi vise at\n",
    "$$\n",
    "P(Y=k|v_{ij}) = \\frac{\\exp(v_{ik})}{\\sum_j \\exp(v_{ij})}\n",
    "$$"
   ]
  },
  {
   "cell_type": "markdown",
   "metadata": {},
   "source": [
    "impliserer at relativ sannsynlighet ikke påvirker av \"irrelevante\" alternativer... ikke alltid en god egenskap ved modellen,\n",
    "$$\n",
    "\\frac{P(y=k|x)}{P(y=j|x)} = exp[x_k\\beta-x_j\\beta]\n",
    "$$"
   ]
  },
  {
   "cell_type": "markdown",
   "metadata": {},
   "source": [
    "Merk  at i conditional logit så kan det variere på inidiv også! men må ha forskjell for hver kategori. egenskap ved kategori (eventuell for hvert individ). Gir estimat per egenskap.. så vurdere nye kategorier med gammel analyse gitt at jeg vet $x_{j}$.. siden allerede har $\\beta$. For multinomial derimot er det har jeg bare egenskap til individ.. kan ikke bruke på nye kategorier.\n",
    "\n",
    "Trenger marginaleffekt for å tolke; ikke direkte fra parametre."
   ]
  },
  {
   "cell_type": "markdown",
   "metadata": {},
   "source": [
    "#### seleksjon"
   ]
  },
  {
   "cell_type": "markdown",
   "metadata": {},
   "source": [
    "eks 1"
   ]
  },
  {
   "cell_type": "markdown",
   "metadata": {},
   "source": [
    "$$\n",
    "w = \\alpha_0 + \\beta ed + \\epsilon \\\\\n",
    "w^r=\\alpha_1 + \\delta ed \\rho m + u \\\\\n",
    "s^* = w^r-w = \\alpha_1-\\alpha_0 + (\\delta-\\beta) ed - \\psi m + (u-\\epsilon) \\\\\n",
    "s^* = \\gamma_0 + \\gamma_1 ed + \\gamma_2 m + v\n",
    "$$"
   ]
  },
  {
   "cell_type": "markdown",
   "metadata": {},
   "source": [
    "Har strukturell ligning i populasjon som vi er ute etter, men vi estimerer betinget av seleksjon."
   ]
  },
  {
   "cell_type": "markdown",
   "metadata": {},
   "source": [
    "$$\n",
    "E[w|ed, s^*>0] = \\alpha_0 + \\beta ed + E[\\epsilon|ed,s^*>0] \\\\\n",
    "= \\alpha_0 + \\beta ed + E[\\epsilon|ed, v > - (\\gamma_0 + \\gamma_1 ed + \\gamma_2 m)] \n",
    "$$"
   ]
  },
  {
   "cell_type": "markdown",
   "metadata": {},
   "source": [
    "for at vi skal estimere dette fra data må $ E[\\epsilon|ed, v > - (\\gamma_0 + \\gamma_1 ed + \\gamma_2 m)] =0$"
   ]
  },
  {
   "cell_type": "markdown",
   "metadata": {},
   "source": [
    "eks 2 : flytting (roy)"
   ]
  },
  {
   "cell_type": "markdown",
   "metadata": {},
   "source": [
    "forskjell på migrant (toppskift 1) og ikke-migrant\n",
    "$$\n",
    "w^1 = \\beta_0^1 + \\beta_1^1ed+\\epsilon^1 \\\\\n",
    "w^0 = \\beta_0^0 + \\beta_1^0ed+\\epsilon^0\n",
    "$$"
   ]
  },
  {
   "cell_type": "markdown",
   "metadata": {},
   "source": [
    "valg om å flytte avhenger av forskjell på lønn + kostnad,\n",
    "$$\n",
    "s^* = w^1-w^0-C \\\\\n",
    "s^* = \\gamma_0 + \\gamma_1 ed + \\epsilon\n",
    "$$"
   ]
  },
  {
   "cell_type": "markdown",
   "metadata": {},
   "source": [
    "hm.. wtf. gamba på at dette ikke er relevant."
   ]
  },
  {
   "cell_type": "markdown",
   "metadata": {},
   "source": [
    "#### heckmannn"
   ]
  },
  {
   "cell_type": "code",
   "execution_count": null,
   "metadata": {},
   "outputs": [],
   "source": []
  }
 ],
 "metadata": {
  "kernelspec": {
   "display_name": "Python 3",
   "language": "python",
   "name": "python3"
  },
  "language_info": {
   "codemirror_mode": {
    "name": "ipython",
    "version": 3
   },
   "file_extension": ".py",
   "mimetype": "text/x-python",
   "name": "python",
   "nbconvert_exporter": "python",
   "pygments_lexer": "ipython3",
   "version": "3.7.9"
  },
  "latex_envs": {
   "LaTeX_envs_menu_present": true,
   "autoclose": false,
   "autocomplete": false,
   "bibliofile": "biblio.bib",
   "cite_by": "apalike",
   "current_citInitial": 1,
   "eqLabelWithNumbers": true,
   "eqNumInitial": 1,
   "hotkeys": {
    "equation": "Ctrl-E",
    "itemize": "Ctrl-I"
   },
   "labels_anchors": false,
   "latex_user_defs": false,
   "report_style_numbering": false,
   "user_envs_cfg": false
  },
  "toc": {
   "base_numbering": 1,
   "nav_menu": {},
   "number_sections": true,
   "sideBar": true,
   "skip_h1_title": false,
   "title_cell": "Table of Contents",
   "title_sidebar": "Contents",
   "toc_cell": false,
   "toc_position": {},
   "toc_section_display": true,
   "toc_window_display": false
  }
 },
 "nbformat": 4,
 "nbformat_minor": 4
}
