{
 "cells": [
  {
   "cell_type": "code",
   "execution_count": 13,
   "metadata": {},
   "outputs": [],
   "source": [
    "import numpy as np\n",
    "import matplotlib.pyplot as plt\n",
    "from sklearn.linear_model import LinearRegression"
   ]
  },
  {
   "cell_type": "markdown",
   "metadata": {},
   "source": [
    "# Eksperimentel ideal.."
   ]
  },
  {
   "cell_type": "markdown",
   "metadata": {},
   "source": [
    "2+2"
   ]
  },
  {
   "cell_type": "code",
   "execution_count": 2,
   "metadata": {},
   "outputs": [
    {
     "data": {
      "text/plain": [
       "4"
      ]
     },
     "execution_count": 2,
     "metadata": {},
     "output_type": "execute_result"
    }
   ],
   "source": [
    "2+2"
   ]
  },
  {
   "cell_type": "markdown",
   "metadata": {},
   "source": [
    "# Kobling mellom matching og regresjon"
   ]
  },
  {
   "cell_type": "markdown",
   "metadata": {},
   "source": [
    "Kan motivere regresjon med lineær kausal modell (konstant behandlingseffekt som er uavhengig av covariates),\n",
    "$$\n",
    "f_i(s) = \\alpha + \\delta s + \\eta\n",
    "$$\n",
    "\n",
    "kunne kanskje dekomponert $\\eta$ for å knytte det til CIA og sånn.. \n",
    "\n",
    "$$\n",
    "f_i(s) = \\alpha + \\delta s + \\gamma a_i + u\n",
    "$$\n",
    "\n",
    "CIA håndterer randomisering betinget av covariates. Tenk at 60% av økonomistudenter og 40% av sosiologi-studenter blir utvalgt til å ta del i eksperiment. Randomisering innadd i gruppen slik at økonomistudent som ikke er med i eksperiment er proxy for økonomistudent i eksperiemnt sitt utfall... det faktum at disse har forskjellig eksponering sier ikke meg noe om deres potensielle utfall. Men hvis jeg aggregerer og ser på hele populasjonen så vil det være skjevhet. Kan jeg kvantifisere for å gjøre dette konkret?"
   ]
  },
  {
   "cell_type": "markdown",
   "metadata": {},
   "source": [
    "Anta at sammenheng kan beskrives med\n",
    "\n",
    "$$\n",
    "Y_i = \\alpha + \\delta D_i + \\gamma SØ_i + u_i\n",
    "$$\n",
    "\n",
    "der $\\gamma>0$ siden sammfunnsøkonomistudenter er smartere."
   ]
  },
  {
   "cell_type": "code",
   "execution_count": 21,
   "metadata": {},
   "outputs": [],
   "source": [
    "N = 1000\n",
    "α, δ, γ = 1,1,1\n",
    "\n",
    "ρ_sø = 0.6\n",
    "ρ_so = 0.3\n",
    "SØ = np.random.binomial(n=1,p=0.4,size=N)\n",
    "D = np.zeros(N)\n",
    "D[SØ==1] = np.random.binomial(n=1,p=ρ_sø,size=len(D[SØ==1]))\n",
    "D[SØ==0] = np.random.binomial(n=1,p=ρ_so,size=len(D[SØ==0]))\n",
    "u = np.random.normal(size=N)\n",
    "\n",
    "y = α + δ*D+γ*SØ + u"
   ]
  },
  {
   "cell_type": "code",
   "execution_count": 23,
   "metadata": {},
   "outputs": [
    {
     "data": {
      "text/plain": [
       "array([0.99871888, 0.84300408])"
      ]
     },
     "execution_count": 23,
     "metadata": {},
     "output_type": "execute_result"
    }
   ],
   "source": [
    "X = np.c_[D,SØ]\n",
    "lin_reg = LinearRegression().fit(np.c_[D,SØ],y)\n",
    "lin_reg.coef_"
   ]
  },
  {
   "cell_type": "code",
   "execution_count": 24,
   "metadata": {},
   "outputs": [
    {
     "data": {
      "text/plain": [
       "1.0441483961583629"
      ]
     },
     "execution_count": 24,
     "metadata": {},
     "output_type": "execute_result"
    }
   ],
   "source": [
    "lin_reg.intercept_"
   ]
  },
  {
   "cell_type": "code",
   "execution_count": 26,
   "metadata": {},
   "outputs": [
    {
     "data": {
      "text/plain": [
       "array([1.30674589])"
      ]
     },
     "execution_count": 26,
     "metadata": {},
     "output_type": "execute_result"
    }
   ],
   "source": [
    "LinearRegression().fit(D[:,None],y).coef_"
   ]
  },
  {
   "cell_type": "markdown",
   "metadata": {},
   "source": [
    "Seleksjonsbias.. overvurdere behandlingseffekt siden større sannsynlighet for at sammfunnsøkonomistudent får behandling og de har bedre utfall uansett."
   ]
  },
  {
   "cell_type": "code",
   "execution_count": 39,
   "metadata": {},
   "outputs": [
    {
     "name": "stdout",
     "output_type": "stream",
     "text": [
      "δ_sø == 1.0345647380298724\n",
      "δ_so == 0.9691380528403215\n"
     ]
    }
   ],
   "source": [
    "δ_sø = y[(D==1) & (SØ==1)].mean() - y[(D==0) & (SØ==1)].mean()\n",
    "δ_so = y[(D==1) & (SØ==0)].mean() - y[(D==0) & (SØ==0)].mean()\n",
    "\n",
    "print(f'δ_sø == {δ_sø}')\n",
    "print(f'δ_so == {δ_so}')"
   ]
  },
  {
   "cell_type": "markdown",
   "metadata": {},
   "source": [
    "Dette gir ATT=ATE innad i hver gruppe. Har konstruert de slik at behandlingseffekten er like store, men slik trenger det ikkje å være. Når de er like store så er det ikke så jævlig farlig hvordan vi vekter... Uansett, anta at vi vil ha ATT=ATE i hele populasjonen."
   ]
  },
  {
   "cell_type": "markdown",
   "metadata": {},
   "source": [
    "\\begin{align}\n",
    "\\delta &= E[y_i^1-y_i^0|D_i=1] \\\\\n",
    "&= E\\{E[y_i^1-y_i^0|D_i=1,SØ] | D_i = 1\\} \\\\\n",
    "&= E\\{\\delta_{sø}|D_i=1\\} \\\\\n",
    "&= \\sum_{sø}\\delta_{sø}P(SØ=sø|D_i=1)\n",
    "\\end{align}"
   ]
  },
  {
   "cell_type": "markdown",
   "metadata": {},
   "source": [
    "Har estimatene på $\\delta_{sø}$ over. Finner innad i hver gruppe okåy. Deretter vekter jeg med betinget sannsynlighet for behandling. Eventuelt bare marginal... tror forskjell blir relevant hvis ulik sannsynlig for behandling og ulik efekt mellom grupper."
   ]
  },
  {
   "cell_type": "code",
   "execution_count": 51,
   "metadata": {},
   "outputs": [],
   "source": [
    "p_sø = len(SØ[(SØ==1) & (D==1)])/len(SØ[(SØ==1)])\n",
    "p_so = len(SØ[(SØ==0) & (D==1)])/len(SØ[(SØ==0)])\n",
    "\n",
    "δ_att = δ_sø*p_sø+δ_so*p_so"
   ]
  },
  {
   "cell_type": "code",
   "execution_count": 52,
   "metadata": {},
   "outputs": [
    {
     "data": {
      "text/plain": [
       "0.9614279181583824"
      ]
     },
     "execution_count": 52,
     "metadata": {},
     "output_type": "execute_result"
    }
   ],
   "source": [
    "δ_att"
   ]
  },
  {
   "cell_type": "code",
   "execution_count": 53,
   "metadata": {},
   "outputs": [],
   "source": [
    "p_sø = len(SØ[(SØ==1)])/len(SØ)\n",
    "p_so = len(SØ[(SØ==0)])/len(SØ)\n",
    "\n",
    "δ_ate = δ_sø*p_sø+δ_so*p_so"
   ]
  },
  {
   "cell_type": "code",
   "execution_count": 54,
   "metadata": {},
   "outputs": [
    {
     "data": {
      "text/plain": [
       "0.9972715274718282"
      ]
     },
     "execution_count": 54,
     "metadata": {},
     "output_type": "execute_result"
    }
   ],
   "source": [
    "δ_ate "
   ]
  },
  {
   "cell_type": "markdown",
   "metadata": {},
   "source": [
    "Kunne gjort dette mer interessant ved å innføre heterogen behandlingseffekt..."
   ]
  }
 ],
 "metadata": {
  "kernelspec": {
   "display_name": "Python 3",
   "language": "python",
   "name": "python3"
  },
  "language_info": {
   "codemirror_mode": {
    "name": "ipython",
    "version": 3
   },
   "file_extension": ".py",
   "mimetype": "text/x-python",
   "name": "python",
   "nbconvert_exporter": "python",
   "pygments_lexer": "ipython3",
   "version": "3.7.9"
  }
 },
 "nbformat": 4,
 "nbformat_minor": 4
}
