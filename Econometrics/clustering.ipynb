{
 "cells": [
  {
   "cell_type": "code",
   "execution_count": 1,
   "metadata": {},
   "outputs": [],
   "source": [
    "import numpy as np\n",
    "import statsmodels.api as sm"
   ]
  },
  {
   "cell_type": "markdown",
   "metadata": {},
   "source": [
    "Jeg vil i utgangspunktet bare vise at korrelasjon i feilleddene innad i grupper gjør at vanlige standardfeil til koeffisientene ikke blir riktig. De antar at observasjonene er iid. Hvis alle blir utstatt for felles sjokk så er observasjon mindre informative tror jeg.\n",
    "\n",
    "Gruppe kan være gjentatte observasjon av individ eller gruppe. Litt usikker på om jeg clustrer standardfeil i panel da eller om de gjør det automatisk"
   ]
  },
  {
   "cell_type": "code",
   "execution_count": 4,
   "metadata": {},
   "outputs": [],
   "source": [
    "N = 1000\n",
    "M = 10 # antall grupper\n",
    "\n",
    "group = np.random.choice(np.arange(M),size=N)\n",
    "x = np.random.uniform(N)"
   ]
  },
  {
   "cell_type": "markdown",
   "metadata": {},
   "source": [
    "hmm er ikke så lett tror jeg.. "
   ]
  },
  {
   "cell_type": "code",
   "execution_count": null,
   "metadata": {},
   "outputs": [],
   "source": []
  }
 ],
 "metadata": {
  "kernelspec": {
   "display_name": "Python 3",
   "language": "python",
   "name": "python3"
  },
  "language_info": {
   "codemirror_mode": {
    "name": "ipython",
    "version": 3
   },
   "file_extension": ".py",
   "mimetype": "text/x-python",
   "name": "python",
   "nbconvert_exporter": "python",
   "pygments_lexer": "ipython3",
   "version": "3.7.9"
  }
 },
 "nbformat": 4,
 "nbformat_minor": 4
}
