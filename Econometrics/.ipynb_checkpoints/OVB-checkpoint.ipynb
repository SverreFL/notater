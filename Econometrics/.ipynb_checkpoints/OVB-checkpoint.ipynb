{
 "cells": [
  {
   "cell_type": "code",
   "execution_count": 29,
   "metadata": {},
   "outputs": [],
   "source": [
    "import numpy as np\n",
    "import matplotlib.pyplot as plt\n",
    "import statsmodels.api as sm\n",
    "from numpy.linalg import inv"
   ]
  },
  {
   "cell_type": "markdown",
   "metadata": {},
   "source": [
    "$$y=\\alpha+\\delta s + \\gamma a + u$$"
   ]
  },
  {
   "cell_type": "code",
   "execution_count": 36,
   "metadata": {},
   "outputs": [],
   "source": [
    "N = 50000\n",
    "δ,γ = 1,1\n",
    "\n",
    "a = np.random.normal(size=N)\n",
    "s = a + np.random.normal(size=N)\n",
    "u = a + np.random.normal(1,size=N)\n",
    "\n",
    "y = δ*s+γ*a+u"
   ]
  },
  {
   "cell_type": "code",
   "execution_count": 37,
   "metadata": {},
   "outputs": [
    {
     "data": {
      "text/plain": [
       "array([[2.03092839, 1.00722288],\n",
       "       [1.00722288, 2.01340641]])"
      ]
     },
     "execution_count": 37,
     "metadata": {},
     "output_type": "execute_result"
    }
   ],
   "source": [
    "np.cov(s,u)"
   ]
  },
  {
   "cell_type": "code",
   "execution_count": 34,
   "metadata": {},
   "outputs": [
    {
     "data": {
      "text/plain": [
       "array([2.00008959, 1.00039606, 1.99938343])"
      ]
     },
     "execution_count": 34,
     "metadata": {},
     "output_type": "execute_result"
    }
   ],
   "source": [
    "X = np.c_[np.ones(N),s,a]\n",
    "b = inv(X.T@X)@X.T@y\n",
    "b"
   ]
  },
  {
   "cell_type": "code",
   "execution_count": 32,
   "metadata": {},
   "outputs": [
    {
     "data": {
      "text/plain": [
       "array([2.00845447])"
      ]
     },
     "execution_count": 32,
     "metadata": {},
     "output_type": "execute_result"
    }
   ],
   "source": [
    "sm.OLS(u+a,a).fit().params"
   ]
  },
  {
   "cell_type": "markdown",
   "metadata": {},
   "source": [
    "Prøver litt freestyle OVB. Vil anta at ability er eneste grunn til at skolegang er korrelert med feilledd, men vil åpne for at ability kan være korrelert med feilledd. Begynner med å beskrive kausal sammenheng.\n",
    "\n",
    "\\begin{align}\n",
    "y_i &= \\rho s_i + \\gamma A_i + \\mathbf{x}'\\beta \\\\\n",
    "&=\\rho s_i + \\gamma A_i + v^u_i \\\\\n",
    "&=E[v^u]+ \\rho s_i + \\gamma A_i + v^u_i-E[v^u] \\\\\n",
    "&= \\alpha +\\rho s_i + \\gamma A_i + v_i\n",
    "\\end{align}\n",
    "\n",
    "Begge parametrene har kausal tolkning og feilledd har konkret tolkning som (avvik fra gjennomsnittlig) kumulativt bidrag på utfall av alle uobservert variabler. Antagelse om at $cov(s_i,v_i)=0$ er tvilsom siden $cov(s_i,A_i) \\neq 0$ og vi ikke vil anta at $cov(A_i,v_i)=0$. \n",
    "\n",
    "Siden vi ikke bryr oss om $\\gamma$ kan vi definere en ny parameter og lage nytt feilledd som per konstruksjon er ukorrelert med $A_i$,\n",
    "\n",
    "\\begin{align}\n",
    "v_i &= \\xi_0+\\xi_1 A_i + (v_i-\\eta A_i) \\\\\n",
    "&= \\xi_0+\\xi_1 A_i + u_i \n",
    "\\end{align}\n",
    "\n",
    "Substituerer det inn i den kausale sammenhengen\n",
    "\\begin{align}\n",
    "y_i&= (\\alpha+\\xi_0) +\\rho s_i + (\\gamma +\\xi) A_i + u_i \\\\\n",
    "&= \\psi +\\rho s_i + \\phi A_i + u_i\n",
    "\\end{align}\n",
    "der det nye feilleddet $u_i$ ikke har en like konkret tolkning. Det er nå ukorrelert med $s_i$ dersom $A_i$ var eneste grunn til at $cov(s_i,v_i)\\neq0$."
   ]
  },
  {
   "cell_type": "code",
   "execution_count": 41,
   "metadata": {},
   "outputs": [
    {
     "data": {
      "text/plain": [
       "1.0038549274450999"
      ]
     },
     "execution_count": 41,
     "metadata": {},
     "output_type": "execute_result"
    }
   ],
   "source": [
    "N = 50000\n",
    "ρ, γ = 2, 2\n",
    "\n",
    "a = np.random.normal(size=N) # ability\n",
    "s = a + np.random.normal(10,size=N) # schooling\n",
    "xβ = a + np.random.normal(1,size=N) # kumulativ bidrag fra andre variabler\n",
    "\n",
    "y = ρ*s +γ*a+xβ # kausal sammenheng"
   ]
  },
  {
   "cell_type": "markdown",
   "metadata": {},
   "source": [
    "Kan sentrere feilledd"
   ]
  },
  {
   "cell_type": "code",
   "execution_count": 45,
   "metadata": {},
   "outputs": [
    {
     "data": {
      "text/plain": [
       "True"
      ]
     },
     "execution_count": 45,
     "metadata": {},
     "output_type": "execute_result"
    }
   ],
   "source": [
    "α = np.mean(xβ)\n",
    "v = xβ-α\n",
    "np.isclose(y, α+ρ*s+γ*a+v).all()"
   ]
  },
  {
   "cell_type": "markdown",
   "metadata": {},
   "source": [
    "Observerer at $cov(s,v) \\neq 0$"
   ]
  },
  {
   "cell_type": "code",
   "execution_count": 48,
   "metadata": {},
   "outputs": [
    {
     "data": {
      "text/plain": [
       "0.9945518282729048"
      ]
     },
     "execution_count": 48,
     "metadata": {},
     "output_type": "execute_result"
    }
   ],
   "source": [
    "np.cov(s,v)[0,1]"
   ]
  },
  {
   "cell_type": "markdown",
   "metadata": {},
   "source": [
    "Prosjekterer $v_i$ ned på $span(1,A_i)$"
   ]
  },
  {
   "cell_type": "code",
   "execution_count": 51,
   "metadata": {},
   "outputs": [],
   "source": [
    "mod = sm.OLS(v,sm.add_constant(a)).fit()\n",
    "ξ = mod.params\n"
   ]
  },
  {
   "cell_type": "code",
   "execution_count": null,
   "metadata": {},
   "outputs": [],
   "source": [
    "mod.res"
   ]
  },
  {
   "cell_type": "code",
   "execution_count": null,
   "metadata": {},
   "outputs": [],
   "source": []
  }
 ],
 "metadata": {
  "kernelspec": {
   "display_name": "Python 3",
   "language": "python",
   "name": "python3"
  },
  "language_info": {
   "codemirror_mode": {
    "name": "ipython",
    "version": 3
   },
   "file_extension": ".py",
   "mimetype": "text/x-python",
   "name": "python",
   "nbconvert_exporter": "python",
   "pygments_lexer": "ipython3",
   "version": "3.7.7"
  }
 },
 "nbformat": 4,
 "nbformat_minor": 4
}
