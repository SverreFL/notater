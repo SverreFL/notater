{
 "cells": [
  {
   "cell_type": "code",
   "execution_count": 3,
   "metadata": {},
   "outputs": [],
   "source": [
    "import numpy as np\n",
    "import matplotlib.pyplot as plt\n",
    "import statsmodels.api as sm"
   ]
  },
  {
   "cell_type": "markdown",
   "metadata": {},
   "source": [
    "Vil anta at ability er eneste grunn til at skolegang er korrelert med feilledd, men vil åpne for at ability kan være korrelert med feilledd. Begynner med å beskrive kausal sammenheng.\n",
    "\n",
    "\\begin{align}\n",
    "y_i &= \\rho s_i + \\gamma A_i + \\mathbf{x}'\\beta \\\\\n",
    "&=\\rho s_i + \\gamma A_i + v^u_i \\\\\n",
    "&=E[v^u]+ \\rho s_i + \\gamma A_i + v^u_i-E[v^u] \\\\\n",
    "&= \\alpha +\\rho s_i + \\gamma A_i + v_i\n",
    "\\end{align}\n",
    "\n",
    "Begge parametrene har kausal tolkning og feilledd har konkret tolkning som (avvik fra gjennomsnittlig) kumulativt bidrag på utfall av alle uobservert variabler. Antagelse om at $cov(s_i,v_i)=0$ er tvilsom siden $cov(s_i,A_i) \\neq 0$ og vi ikke vil anta at $cov(A_i,v_i)=0$. \n",
    "\n",
    "Siden vi ikke bryr oss om $\\gamma$ kan vi definere en ny parameter og lage nytt feilledd som per konstruksjon er ukorrelert med $A_i$,\n",
    "\n",
    "\\begin{align}\n",
    "v_i &= \\xi_0+\\xi_1 A_i + (v_i-(\\xi_0 +\\xi_1A_i)) \\\\\n",
    "&= \\xi_0+\\xi_1 A_i + u_i \n",
    "\\end{align}\n",
    "\n",
    "Substituerer det inn i den kausale sammenhengen\n",
    "\\begin{align}\n",
    "y_i&= (\\alpha+\\xi_0) +\\rho s_i + (\\gamma +\\xi) A_i + u_i \\\\\n",
    "&= \\psi +\\rho s_i + \\phi A_i + u_i\n",
    "\\end{align}\n",
    "der det nye feilleddet $u_i$ ikke har en like konkret tolkning. Det er ukorrelert med $A_i$ per konstruksjon, og dersom $A_i$ var eneste grunn til at $cov(s_i,v_i)\\neq0$ så er det også ukorrelert med $s_i$."
   ]
  },
  {
   "cell_type": "code",
   "execution_count": 74,
   "metadata": {},
   "outputs": [],
   "source": [
    "N = 1000000\n",
    "ρ, γ = 2, 2\n",
    "\n",
    "a = np.random.normal(size=N) # ability\n",
    "s = a + np.random.normal(10,size=N) # schooling er korrelert med ability\n",
    "xβ = a + np.random.normal(1,size=N) # kumulativ bidrag fra andre variabler er korrelert med ability\n",
    "\n",
    "y = ρ*s +γ*a+xβ # kausal sammenheng"
   ]
  },
  {
   "cell_type": "markdown",
   "metadata": {},
   "source": [
    "Kan sentrere feilledd"
   ]
  },
  {
   "cell_type": "code",
   "execution_count": 75,
   "metadata": {},
   "outputs": [
    {
     "data": {
      "text/plain": [
       "True"
      ]
     },
     "execution_count": 75,
     "metadata": {},
     "output_type": "execute_result"
    }
   ],
   "source": [
    "α = np.mean(xβ)\n",
    "v = xβ-α\n",
    "np.isclose(y, α+ρ*s+γ*a+v).all()"
   ]
  },
  {
   "cell_type": "markdown",
   "metadata": {},
   "source": [
    "Observerer at $cov(s,v) \\neq 0$"
   ]
  },
  {
   "cell_type": "code",
   "execution_count": 76,
   "metadata": {},
   "outputs": [
    {
     "data": {
      "text/plain": [
       "0.9942978310294169"
      ]
     },
     "execution_count": 76,
     "metadata": {},
     "output_type": "execute_result"
    }
   ],
   "source": [
    "np.cov(s,v)[0,1]"
   ]
  },
  {
   "cell_type": "markdown",
   "metadata": {},
   "source": [
    "Bruker lineær regresjon til å dekomponere feilledd"
   ]
  },
  {
   "cell_type": "code",
   "execution_count": 77,
   "metadata": {},
   "outputs": [
    {
     "name": "stdout",
     "output_type": "stream",
     "text": [
      "ψ=1.00\n",
      "ρ=2.00\n",
      "ϕ=3.00\n"
     ]
    }
   ],
   "source": [
    "ξ = sm.OLS(v,sm.add_constant(a)).fit().params\n",
    "ψ = α+ξ[0]\n",
    "ϕ = γ+ξ[1]\n",
    "print(f'ψ={ψ:.2f}\\nρ={ρ:.2f}\\nϕ={ϕ:.2f}')"
   ]
  },
  {
   "cell_type": "markdown",
   "metadata": {},
   "source": [
    "Skal se om det er disse parametrene jeg får av regresjon av $y$ på $(s,A)$"
   ]
  },
  {
   "cell_type": "code",
   "execution_count": 78,
   "metadata": {},
   "outputs": [
    {
     "data": {
      "text/plain": [
       "array([1.000279  , 2.00012673, 2.9988348 ])"
      ]
     },
     "execution_count": 78,
     "metadata": {},
     "output_type": "execute_result"
    }
   ],
   "source": [
    "sm.OLS(y,np.c_[np.ones(N),s,a]).fit().params"
   ]
  },
  {
   "cell_type": "markdown",
   "metadata": {},
   "source": [
    "bias i kort regresjon"
   ]
  },
  {
   "cell_type": "code",
   "execution_count": 80,
   "metadata": {},
   "outputs": [
    {
     "data": {
      "text/plain": [
       "array([-13.97241095,   3.49724242])"
      ]
     },
     "execution_count": 80,
     "metadata": {},
     "output_type": "execute_result"
    }
   ],
   "source": [
    "sm.OLS(y,np.c_[np.ones(N),s]).fit().params "
   ]
  },
  {
   "cell_type": "code",
   "execution_count": 83,
   "metadata": {},
   "outputs": [
    {
     "data": {
      "text/plain": [
       "1.4971803137918491"
      ]
     },
     "execution_count": 83,
     "metadata": {},
     "output_type": "execute_result"
    }
   ],
   "source": [
    "ϕ*np.cov(s,a)[0,1]/np.var(s) # tilsvarer differanse i lang og kort"
   ]
  },
  {
   "cell_type": "markdown",
   "metadata": {},
   "source": [
    "## Del 2"
   ]
  },
  {
   "cell_type": "markdown",
   "metadata": {},
   "source": [
    "Kan dekomponere feilledd i del som er kosher og del som ikke er kosher selv i krysseksjon. Del som ikke er kosher fanger opp bidrag fra relevante utelatte variabler. Vil visualisere effekt av disse.\n",
    "\n",
    "Det er poeng at estimat i regresjon avhenger av hvilke variabler vi kontrollere for. I utgangspunktet kan vi tenke at vi vil kontrollere for \"alt\", noe som motiverer kitchen sink metoden. Det er flere problem med dette. Større problem at det ikke er alt vi observerer..."
   ]
  },
  {
   "cell_type": "code",
   "execution_count": 62,
   "metadata": {},
   "outputs": [],
   "source": [
    "N = 14\n",
    "s = np.arange(N)\n",
    "a = 2*np.r_[-np.ones(7),np.ones(7)]+np.random.normal(size=N)\n",
    "u = 2*np.random.normal(size=N)\n",
    "\n",
    "y = s+a+u"
   ]
  },
  {
   "cell_type": "code",
   "execution_count": 75,
   "metadata": {},
   "outputs": [
    {
     "data": {
      "image/png": "[encoded data removed]",
      "text/plain": [
       "<Figure size 576x864 with 3 Axes>"
      ]
     },
     "metadata": {
      "needs_background": "light"
     },
     "output_type": "display_data"
    }
   ],
   "source": [
    "fig,axes = plt.subplots(3,1,figsize=(8,12))\n",
    "axes = axes.flatten()\n",
    "\n",
    "axes[0].plot(s,s,label=r'$\\beta = 1$')\n",
    "axes[0].scatter(s,y)\n",
    "axes[0].vlines(s,s,y,linestyles='dashed',label='$u_i$')\n",
    "axes[0].legend()\n",
    "\n",
    "axes[1].plot(s,s,label=r'$\\beta = 1$')\n",
    "axes[1].plot(s,y,'o')\n",
    "axes[1].vlines(s,s,s+a,linewidth=5,alpha=0.5,label='$a_i$',color='tab:red')\n",
    "axes[1].vlines(s,y-u,y,linestyles='dashed',label='$v_i$')\n",
    "axes[1].legend()\n",
    "\n",
    "params = sm.OLS(y,sm.add_constant(s)).fit().params\n",
    "axes[2].plot(s,params[0]+params[1]*s,label=f'b={params[1]:.2f}')\n",
    "axes[2].scatter(s,y)\n",
    "axes[2].vlines(s,params[0]+params[1]*s,y,linestyles='dashed',label='$\\hat{u}_i$')\n",
    "axes[2].legend()\n",
    "\n",
    "for ax in axes:\n",
    "    ax.grid()\n",
    "    ax.set(xlim=(0-.4,13+.4), ylim=(-3,18))\n",
    "fig.savefig('OVB.pdf')"
   ]
  }
 ],
 "metadata": {
  "kernelspec": {
   "display_name": "Python 3",
   "language": "python",
   "name": "python3"
  },
  "language_info": {
   "codemirror_mode": {
    "name": "ipython",
    "version": 3
   },
   "file_extension": ".py",
   "mimetype": "text/x-python",
   "name": "python",
   "nbconvert_exporter": "python",
   "pygments_lexer": "ipython3",
   "version": "3.7.9"
  }
 },
 "nbformat": 4,
 "nbformat_minor": 4
}
