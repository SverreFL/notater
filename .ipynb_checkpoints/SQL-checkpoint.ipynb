{
 "cells": [
  {
   "cell_type": "markdown",
   "metadata": {},
   "source": [
    "## SQL"
   ]
  },
  {
   "cell_type": "markdown",
   "metadata": {},
   "source": [
    "Databaser består av samling med tabeller. SQL er standardspråk for å kommunisere med databaser for å lage nye tabeller, modifisere innhold, få ut relevant data og kontrollere brukerrettigheter (mm.). Det finnes mange ulike programvarer for å jobbe med databaser. De bruker variasjoner (eller dialekter) av SQL med litt ulike syntax, litt ulik behandling av datatyper og har litt ulike ekstra funksjonaliteter, men de er stort sett konform med SQL-standarden.\n",
    "\n",
    "SQL er et high-level declarative språk der implementajsonsdetaljer i stor grad er skjult og blir håndtert av et *database management system* (dbms). Det blir oversatt til presise instruksjoner som er optimalisert for å utføre instruksjonen på mest mulig effektiv måte. "
   ]
  },
  {
   "cell_type": "markdown",
   "metadata": {},
   "source": [
    "### Kategorisering"
   ]
  },
  {
   "cell_type": "markdown",
   "metadata": {},
   "source": [
    "SQL brukes for å håndtere alle aspekter ved databasen. Det er ikke alle deler av språket som er relevant for alle brukere. Det kan derfor være greit å gjøre litt inndelinger for å få mer oversikt over terrenget."
   ]
  },
  {
   "cell_type": "markdown",
   "metadata": {},
   "source": [
    "#### Inndeling av brukere"
   ]
  },
  {
   "cell_type": "markdown",
   "metadata": {},
   "source": [
    "Ulike brukere forholder seg til SQL og databasen på ulike måter. Tenker vi kan dele inn i fire kategorier:\n",
    "1. Dataingeniør\n",
    "    - Har ansvar for utforming av databasen og innstrøm av nye data. Tror det har noe med pipeline å gjøre\n",
    "    - Tar utgangspunkt i en datamodell (gjerne konseptualisertt gjennom ER-diagram). \n",
    "    - Bestemme hvilke tabeller, hvilke koblinger mellom tabeller, passe på at normalisert\n",
    "2. Databaseadministrator\n",
    "    - Har ansvar for drift, brukerrettigheter, mm.\n",
    "    - Har sikkert rollen til dataingeniør for mindre databaser. Glidende overgang.\n",
    "3. Avansert sluttbruker\n",
    "    - Skriver spørringer i SQL for å få ut konkret informasjon fra databasen\n",
    "    - Kan være ad-hoc/one-off analyser\n",
    "    - Kan også være for rapporter med aggregerte data og nøkkeltall som blir oppdatert ved at de synkroniseres med databsen på jevnlige intervall.\n",
    "4. Mindre tekniske sluttbrukere\n",
    "    - Dette er brukere som ikke skriver SQL direkte, men interagerer med databasen gjennom grafiske brukergrensesnitt som genererer SQL-kode for å modifisere innhold i tabell eller få ut data."
   ]
  },
  {
   "cell_type": "markdown",
   "metadata": {},
   "source": [
    "#### Inndeling av språket"
   ]
  },
  {
   "cell_type": "markdown",
   "metadata": {},
   "source": [
    "Vi kan grovt dele bruke funksjonalitetene i SQL inn i tre områder:\n",
    "1. Datadefinisjon (struktur i tabeller)\n",
    "    - Hvilke kolonner, hvilke domene (datatype og tillate verdier), hvilke nøkler\n",
    "    - Det er noe *schema* og sånne ting som jeg ikke vet hva er\n",
    "    - Hovedkommandoen er `create` som vi bruker til å lage ulike tingene\n",
    "2. Databehandling (endre innhold i tabeller og utføre spørringer)\n",
    "    - Utfører spørring med `select`. Litt usikker på terminologi (klausul, keyword,..)\n",
    "    - Fjerner rad, legger til rad eller modifisere innhold i rad\n",
    "3. Datakontroll (håndtere brukerrettigheter mm)"
   ]
  },
  {
   "cell_type": "markdown",
   "metadata": {},
   "source": [
    "### Databasemodeller"
   ]
  },
  {
   "cell_type": "markdown",
   "metadata": {},
   "source": [
    "Historisk var det hierarkisk- og nettverksmodeller. Hierarkisk var begrenset av at parent-child koblinger ikke kan være mange til én. Nettverk (graf) er mer fleksibel, men også mer komplisert.\n",
    "\n",
    "Relasjonsmodellen er fleksibel abstraherer fra modellen for fysisk lagring. Dette er dominerende siden 80-tallet. Tror vi kan tenke på SQL som slags implementasjon av modellen. I nyere tid har store internettselskaper utviklet egne databasesystem med annen struktur som betegnes som NoSQL. Ikke relevant for meg."
   ]
  },
  {
   "cell_type": "markdown",
   "metadata": {},
   "source": [
    "#### Relasjonsmodellen"
   ]
  },
  {
   "cell_type": "markdown",
   "metadata": {},
   "source": [
    "Hver rad er tuppel. Tabell består av mengde av rader, og er dermed en relasjon. Definerer en algebra på relasjonene med noen ulike operasjoner. Gir det matematisk formalisering. SQL er implementerer denne algebraen. "
   ]
  },
  {
   "cell_type": "markdown",
   "metadata": {},
   "source": [
    "##### Normalform"
   ]
  },
  {
   "cell_type": "markdown",
   "metadata": {},
   "source": [
    "Vi vil at tabellene i databasen skal oppfylle noen ønskede egenskaper som vi betegner som normalformer. Endring av tabeller i samsvar med disse egenskapene kalles *normalisering*.\n",
    "1. Først normalform\n",
    "    - Kun atome data i hver kolonne (for eksemepl ikke liste av barn)\n",
    "2. Andre normalform\n",
    "    - Ingen delvis avhengighet i sammensatte primærnøkler.\n",
    "    - Altså, ingen kolonner som kun har unike verdier for delmengde av kolonnene som utgjør primærnøkkel. \n",
    "    - Det medfører *redundans* som kan føre til *anamoliter* når vi modifiserer tabeller\n",
    "3. Tredje normalform\n",
    "    - Ingen transitiv avhengighet\n",
    "    - Ikke kolonne som har kun har unike verdier for subset av de andre kolonnene i tabellen.\n",
    "    - Ligner på andre normalform, men gjelder ikke bare for sammensatt primærnøkkel."
   ]
  },
  {
   "cell_type": "markdown",
   "metadata": {},
   "source": [
    "### DDL"
   ]
  },
  {
   "cell_type": "markdown",
   "metadata": {},
   "source": [
    "#### Create"
   ]
  },
  {
   "cell_type": "markdown",
   "metadata": {},
   "source": [
    "Kan lage ulike objekter med create.."
   ]
  },
  {
   "cell_type": "markdown",
   "metadata": {},
   "source": [
    "#### Tabell"
   ]
  },
  {
   "cell_type": "markdown",
   "metadata": {},
   "source": [
    "```sql\n",
    "create database test -- vet ikke hvordan ser hvilken som er aktiv; flere databaser på samme server\n",
    "create table test \n",
    "(\n",
    "[firstName] varchar(32) NOT NULL, -- error hvis manglende verdi på den kolonnen\n",
    "[age] int\n",
    ")\n",
    "alter table test add [id] int identity(1,1) primary key -- identity(start, step) generer automatisk verdier \n",
    "\n",
    "insert into test (firstName, age) values ('Sverre', 27) -- tuples som matcher kolonnenavn og verdier\n",
    "```"
   ]
  },
  {
   "cell_type": "markdown",
   "metadata": {},
   "source": [
    "##### Constraints"
   ]
  },
  {
   "cell_type": "markdown",
   "metadata": {},
   "source": [
    "Vanlige constraints:\n",
    "1. NOT NULL - Feilmelding hvis legge til rad med manglende data på gitt kolonne\n",
    "2. UNIQUE - Feilmelding hvis legge til duplikat av annen verdi på kolonnen\n",
    "3. PRIMARY KEY - Kombinerer begrensingene over\n",
    "4. FOREIGN KEY - Subset av primærnøkkel den refererer til\n",
    "5. CHECK - Feilmelding hvis ikke tilfredstiller betingelse vi definerer\n",
    "6. DEFAULT - Hvilken verdi (i stedet for null)  som blir angitt hvis ikke spesifisert\n",
    "7. CREATE INDEX - Kan gjøre spørringer mer effektive ..."
   ]
  },
  {
   "cell_type": "markdown",
   "metadata": {},
   "source": [
    "Ser ut som det litt ulike mulige syntaks... Kan ha eget argument der vi lager navngitte begrensinger eller spesifisere på samme rad som vi definerer navn og datatype på kolonnen. Synes det er litt slitsomt å navngi ting.. finnes sikkert konvensjoner man kan lære.\n",
    "```sql\n",
    "gruppe varchar(20) check (Gruppe in ('personbil', 'varebil', 'lastebil', 'buss'));\n",
    "\n",
    "gruppe varchar(20),\n",
    "add constraint constr_navn check (Gruppe in ('personbil', 'varebil', 'lastebil', 'buss'));\n",
    "```\n",
    "Tror uansett det er *best practice* å legge til rader med `add constraint`"
   ]
  },
  {
   "cell_type": "markdown",
   "metadata": {},
   "source": [
    "##### Primærnøkkel"
   ]
  },
  {
   "cell_type": "markdown",
   "metadata": {},
   "source": [
    "Kan lage sammensatt primærnøkkel ved å legge til navngitt begrensning\n",
    "```sql\n",
    "DROP TABLE IF EXISTS dbo.Bilmodell\n",
    "create table Bilmodell\n",
    "(\n",
    "Bilmerke varchar(32),\n",
    "Bilmodell varchar(32),\n",
    "Gruppe varchar(10),\n",
    "AntallHK smallint,\n",
    "constraint PK_Bilmodell primary key nonclustered (Bilmerke, Bilmodell)\n",
    ")\n",
    "```"
   ]
  },
  {
   "cell_type": "markdown",
   "metadata": {},
   "source": [
    "##### Fremmednøkkel"
   ]
  },
  {
   "cell_type": "markdown",
   "metadata": {},
   "source": [
    "Referrere til primærnøkkel i annen tabell. Hvis sammensatt må de referrere til alle."
   ]
  },
  {
   "cell_type": "markdown",
   "metadata": {},
   "source": [
    "```sql\n",
    "constraint FK_Bilsalg foreign key (Bilmerke, Bilmodell) references Bilmodell(Bilmerke,Bilmodell)\n",
    "```"
   ]
  },
  {
   "cell_type": "markdown",
   "metadata": {},
   "source": [
    "#### Temp table"
   ]
  },
  {
   "cell_type": "markdown",
   "metadata": {},
   "source": [
    "```sql\n",
    "select *\n",
    "into #tester -- tror navn må begynne med #\n",
    "from test2\n",
    "```\n",
    "blir liggende i en tempdb database under system databases"
   ]
  },
  {
   "cell_type": "markdown",
   "metadata": {},
   "source": [
    "```sql\n",
    "-- eksempel\n",
    "select min(a) min_a\n",
    "into #temp_test2\n",
    "from test2\n",
    "group by b;\n",
    "\n",
    "delete from test2\n",
    "where a not in (select min_a from #temp_test2);\n",
    "\n",
    "-- kunne alternativ gjort det med underspørring\n",
    "delete from test2\n",
    "where a not in (\n",
    "\tselect min(a) from test2\n",
    "\tgroup by b\n",
    "\t);\n",
    "```"
   ]
  },
  {
   "cell_type": "markdown",
   "metadata": {},
   "source": [
    "#### Views"
   ]
  },
  {
   "cell_type": "markdown",
   "metadata": {},
   "source": [
    "```sql\n",
    "create view as my_name as \n",
    "select ...\n",
    "```"
   ]
  },
  {
   "cell_type": "markdown",
   "metadata": {},
   "source": [
    "#### Index"
   ]
  },
  {
   "cell_type": "markdown",
   "metadata": {},
   "source": [
    "Lager disse objektene for at spørringene skal gå raskere.."
   ]
  },
  {
   "cell_type": "markdown",
   "metadata": {},
   "source": [
    "#### schema"
   ]
  },
  {
   "cell_type": "markdown",
   "metadata": {},
   "source": [
    "Oversikt over tables, indexer og views... kan ha flere skjema på samme underliggende database ... tror jeg !!"
   ]
  },
  {
   "cell_type": "markdown",
   "metadata": {},
   "source": [
    "#### Alter"
   ]
  },
  {
   "cell_type": "markdown",
   "metadata": {},
   "source": [
    "Kan endra *skjema* som beskriver strukturen til databasen."
   ]
  },
  {
   "cell_type": "markdown",
   "metadata": {},
   "source": [
    "\n",
    "```sql\n",
    "-- legge til kolonne\n",
    "alter table name\n",
    "add colname datatype optional_constraint\n",
    "default default_val\n",
    "\n",
    "-- fjerne kolonne\n",
    "alter table name\n",
    "drop column colname\n",
    "\n",
    "-- endre navn på tabell\n",
    "alter table name\n",
    "rename new_name\n",
    "```"
   ]
  },
  {
   "cell_type": "markdown",
   "metadata": {},
   "source": [
    "#### Datatype"
   ]
  },
  {
   "cell_type": "markdown",
   "metadata": {},
   "source": [
    "Spesifiserer datatype til kolonner når vi lager tabell. Er viktig fordi det bestemmer hva slags type data som kan representeres og hvilke funksjoner som er definert. Atferd avhenger av datatype. Viktig å være bevisst på dette. Også viktig å være bevisst på hvordan sql forsøker å inferre datatype til nye kolonner som blir konstruert som funksjon av gamle.\n",
    "\n",
    "Det er også viktig fordi det påvirker hvor mange bits som blir allokert til å representere data. Kan være fast antall uavhengig av innhold eller avhenge av innhold. Sistnevnte tar mindre plass, men en del operasjoner går tregere."
   ]
  },
  {
   "cell_type": "markdown",
   "metadata": {},
   "source": [
    "##### Numerisk"
   ]
  },
  {
   "cell_type": "markdown",
   "metadata": {},
   "source": [
    "Har presise numeriske representasjoner (big og small ints, desimaltall med gitt presisjon). Har også floats."
   ]
  },
  {
   "cell_type": "markdown",
   "metadata": {},
   "source": [
    "Deler to ints så vil SQL forsøke å caste output til int, runder nedover. Ikke det vi vil ha. Må caste kolonne til float før vi deler\n",
    "\n",
    "```SQL\n",
    "CAST(kol AS Float)\n",
    "```\n",
    "\n",
    "har problem med å caste, kan bruke kolnavn*1.0  for å få det som float\n"
   ]
  },
  {
   "cell_type": "markdown",
   "metadata": {},
   "source": [
    "##### String"
   ]
  },
  {
   "cell_type": "markdown",
   "metadata": {},
   "source": [
    "Kan bruke wildcards til å filtrere\n",
    "```sql\n",
    "WHERE colname LIKE '%substring%' \n",
    "WHERE colname LIKE 'substring%' -- må begynne med denne substring\n",
    "WHERE colname LIKE '__substring_' -- spesifisere nøyaktig hvor mange characters det kan være på sidene \n",
    "```"
   ]
  },
  {
   "cell_type": "markdown",
   "metadata": {},
   "source": [
    "Bruker brackets for å indikere flere substrings..\n",
    "```sql\n",
    "WHERE colname LIKE '[abc]%' -- begynner med enten a, b eller c\n",
    "WHERE colname LIKE '[!abc]%' -- begynner ikke med med verken a, b eller c\n",
    "```"
   ]
  },
  {
   "cell_type": "markdown",
   "metadata": {},
   "source": [
    "Kan concate strings med concat(a,b). For å få whitespace seperator må jeg først konvertere til varchar... litt usikker på hvorfor den ikke klarer å inferre en felles datatype, men hm.\n",
    "```sql\n",
    "select (cast(m.Fornavn as varchar(20)) + ' ' + cast(m.Etternavn as varchar(20))) from dbo.Medlem m\n",
    "```"
   ]
  },
  {
   "cell_type": "markdown",
   "metadata": {},
   "source": [
    "##### Dato"
   ]
  },
  {
   "cell_type": "markdown",
   "metadata": {},
   "source": [
    "Har litt ulike datatyper for å representere tidspunkt. Implementasjoner varierer mellom varianter av sql.\n",
    "- date ('yyyy-mm-dd')\n",
    "- time ('hh:mm:ss[.nnnnnnn]')\n",
    "- datetime ('yyyy-mm-dd hh:mm:ss[.nnnnnnn]')\n",
    "mm\n",
    "\n",
    "har også masse funksjoner \n",
    "- day() gir dag av måneden (dd), tilsvarende med month() og year()\n",
    "- datepart(arg, colname) gir økt fleksibilitet, der arg in (quarter, dayofyear, ...)\n",
    "- dateadd(arg, num, colname) kan brukes til aritmetikk med date, arg in (day, year,..) og num er hvor mange av enhet vi legge til"
   ]
  },
  {
   "cell_type": "markdown",
   "metadata": {},
   "source": [
    "```sql\n",
    "-- eksempel som finner id til dager som er varmere enn dagen før\n",
    "select cur.id from Weather cur\n",
    "join Weather prev\n",
    "on cur.recordDate=dateadd(day,1,prev.recordDate)\n",
    "and cur.temperature > prev.temperature \n",
    "```"
   ]
  },
  {
   "cell_type": "markdown",
   "metadata": {},
   "source": [
    "##### Nulls"
   ]
  },
  {
   "cell_type": "markdown",
   "metadata": {},
   "source": [
    "filtrerer nulls med\n",
    "```sql\n",
    "WHERE colname is null\n",
    "```"
   ]
  },
  {
   "cell_type": "markdown",
   "metadata": {},
   "source": [
    "##### blobs"
   ]
  },
  {
   "cell_type": "markdown",
   "metadata": {},
   "source": [
    "### DML"
   ]
  },
  {
   "cell_type": "markdown",
   "metadata": {},
   "source": [
    "#### Select"
   ]
  },
  {
   "cell_type": "markdown",
   "metadata": {},
   "source": [
    "Bruker select til å velge å konstruere tabeller med angitte kolonner med utgangspunkt i data fra databasen. Har mange opsjonelle klausuler."
   ]
  },
  {
   "cell_type": "markdown",
   "metadata": {},
   "source": [
    "```SQL\n",
    "SELECT [kol1, kol2]\n",
    "    FROM [table1] -- Kan være enkelttabell eller sammensetning av rekker i flere tabeller (joins)\n",
    "    WHERE [(cond1 OR cond2)] -- evaluerer logisk expression og beholder der sann.\n",
    "    AND [cond3]\n",
    "    LIMIT [num] -- antall rekker som returnerers. kan kombineres med offset dersom vi ikke vil ha n første\n",
    "    ORDER BY [kol1] DESC -- har i utgangspunktet vilkårlig rekkefølge, så kan være greit å sortere\n",
    "    \n",
    "```"
   ]
  },
  {
   "cell_type": "markdown",
   "metadata": {},
   "source": [
    "Rekkefølgen clause i statement blir kjørt avhenger av keyword"
   ]
  },
  {
   "cell_type": "markdown",
   "metadata": {},
   "source": [
    "```SQL\n",
    "FROM > WHERE > GROUP BY > HAVING > SELECT > ORDER BY > LIMIT\n",
    "```"
   ]
  },
  {
   "cell_type": "markdown",
   "metadata": {},
   "source": [
    "#### Where"
   ]
  },
  {
   "cell_type": "markdown",
   "metadata": {},
   "source": [
    "Har fem måter å filtrere rader av tabellen som vises. \n",
    "1. Sammenligning\n",
    "2. Medlemskap i intervall\n",
    "3. Medlemskap i i tellbar mengde\n",
    "4. Sjekke om null\n",
    "5. String inneholder substring med angitt mønster\n",
    "\n",
    "Det er predikater som evalueres som enten sann eller usann for hver av radene, og beholder hvis sann. Merk at SQL har treverdi-logikk med nulls som kan være greit å se på."
   ]
  },
  {
   "cell_type": "markdown",
   "metadata": {},
   "source": [
    "Eksempler på ulike måter å sammenligne\n",
    "```SQL\n",
    "WHERE ...\n",
    "> a, = a, <> a, > ALL(a,b), > SOME(a,b) -- bruker <> for !=, bruke some og all for å atom på mengde\n",
    "\n",
    "BETWEEN a AND b -- inclusive\n",
    "IN (a,b,c)\n",
    "IS null\n",
    "```\n",
    "Har wildcards for å matche substrings\n",
    "```SQL\n",
    "col_name = \"string\" -- case sensitive\n",
    "col_name LIKE \"string\" -- case insenstive\n",
    "col_name LIKE \"%st%\" -- matcher alle strings som inneholder `st`\n",
    "col_name LIKE \"st_\" -- matcher alle strings som innehold st og ekstra bokstav, eg `ste`. kan bruke flere _\n",
    "```"
   ]
  },
  {
   "cell_type": "markdown",
   "metadata": {},
   "source": [
    "#### funksjoner"
   ]
  },
  {
   "cell_type": "markdown",
   "metadata": {},
   "source": [
    "Har funksjoner for å lage nye kolonner fra informasjon i eksisterende. Har en del operasjoner som jo egentlig bare er funksjoenr de óg +, -, *, /, %. Hvilke funksjoner som er tilgjengelige og hva de utfører avhenger av datatypene til input-kolonnene. \n",
    "- Har ikke potensfunksjoner; må bruke power(a,b) for a^b\n",
    "- Bruker a % 2 = 0 for å finne partall, modulus som sjekker om rest fra division"
   ]
  },
  {
   "cell_type": "markdown",
   "metadata": {},
   "source": [
    "##### case"
   ]
  },
  {
   "cell_type": "markdown",
   "metadata": {},
   "source": [
    "Vil bruke control flow til å utføre ulike funksjoner på ulike rader ut fra kriterie\n",
    "```sql\n",
    "CASE\n",
    "    WHEN predikat THEN value -- der value også kan være funksjon av noe\n",
    "    ELSE value\n",
    "END AS colname\n",
    "```"
   ]
  },
  {
   "cell_type": "markdown",
   "metadata": {},
   "source": [
    "```sql\n",
    "select \n",
    "\tcase\n",
    "\t\twhen 2021-Fødselsår>=18 then Kjønn+cast(2021-Fødselsår as varchar(3))\n",
    "\t\telse Kjønn\n",
    "\tend as Klasse\n",
    "from dbo.Medlem\n",
    "```"
   ]
  },
  {
   "cell_type": "markdown",
   "metadata": {},
   "source": [
    "##### Aggregeringsfunksjoner"
   ]
  },
  {
   "cell_type": "markdown",
   "metadata": {},
   "source": [
    "Har i utgangspunktet fem aggregeringsfunksjoner (min, max, count, sum, avg)\n",
    "```SQL\n",
    "SELECT AGG(kol1) AS 'agg_kol1', \n",
    "       AGG(DISTINCT kol2) as 'blalba'\n",
    "       FROM [...]\n",
    "       ...\n",
    "```\n",
    "Funksjoner $f:\\mathbb{R}^n\\to\\mathbb{R}$ som reduserer kolonnen til enkelt tall. Blir mer spennende når vi kombinerer med groupby"
   ]
  },
  {
   "cell_type": "markdown",
   "metadata": {},
   "source": [
    "Merk at `count(*)` teller antall rader som tilhører ulike grupper i datasettet, mens `count(colname)` kun teller antall rader med gyldig verdi på angitt kolonne."
   ]
  },
  {
   "cell_type": "markdown",
   "metadata": {},
   "source": [
    "#### group by"
   ]
  },
  {
   "cell_type": "markdown",
   "metadata": {},
   "source": [
    "Grupperer observasjoner med samme verdi på angitt(e) kolonne(r) slik at vi implisitt deler det inn i ulike tabeller. Rekonstruerer en enkelt tabell med de unike verdiene som indeks ved å aggregere innhold i tabell slik at det utgjør enkelt rad."
   ]
  },
  {
   "cell_type": "markdown",
   "metadata": {},
   "source": [
    "```SQL\n",
    "SELECT [idx_col1, idx_col2], -- kolonner i select må enten være angitt i group by klausul\n",
    "    AGG(val_col1) as 'alias1', -- eller være output av aggregeringsfunksjon\n",
    "    AGG(val_col2) as 'alias2',\n",
    "    FROM [table1]\n",
    "    GROUP BY idx_col1, idx_col2\n",
    "    HAVING alias1 > value -- filtrere output i aggregert tabell. som WHERE men evaluert etter group by\n",
    "```"
   ]
  },
  {
   "cell_type": "markdown",
   "metadata": {},
   "source": [
    "```sql\n",
    "-- Finne samlet inntekt i de ulike butikkene\n",
    "select stores.store_name, sum(items.quantity*items.list_price) revenue\n",
    "from sales.stores stores \n",
    "join sales.orders orders\n",
    "on stores.store_id=orders.store_id\n",
    "join sales.order_items items on orders.order_id=items.order_id\n",
    "group by store_name\n",
    "order by revenue desc\n",
    "```"
   ]
  },
  {
   "cell_type": "markdown",
   "metadata": {},
   "source": [
    "#### Delspørring"
   ]
  },
  {
   "cell_type": "markdown",
   "metadata": {},
   "source": [
    "Bruke output fra output fra en spørring som input i en annen. Output er tabell, som i spesialtilfelle kan være rad eller atomisk verdi. Kunne kjørt iterativt og flyttet verdier over manuelt, men mye bedre å bruke output fra en subquery. Underspørring løser i hvertfall to problem med filtrering av rader i WHERE-klausul\n",
    "\n",
    "1. Utfordring at SELECT blir kjørt så jævlig sent så kan ikke bruke konstruerte variabler hefra til å filtrere output\n",
    "2. Kan ikke bruke aggregerte funksjoner i where"
   ]
  },
  {
   "cell_type": "markdown",
   "metadata": {},
   "source": [
    "Bruker exists for å sjekke om resultat av underspørring er ikke-tom (altså om det eksisterer rad)"
   ]
  },
  {
   "cell_type": "markdown",
   "metadata": {},
   "source": [
    "```SQL\n",
    "SELECT Major_category, Major\n",
    "    FROM recent_grads\n",
    "    WHERE Major_category IN (SELECT Major_category\n",
    "                            FROM recent_grads\n",
    "                            GROUP BY Major_category\n",
    "                            ORDER BY SUM(TOTAL) DESC\n",
    "                            LIMIT 3\n",
    "                          );\n",
    "```                          "
   ]
  },
  {
   "cell_type": "markdown",
   "metadata": {},
   "source": [
    "```sql\n",
    "/* Få informasjon om alle dyrene som tilhører zed*/\n",
    "select pet.* from pet\n",
    "where pet.id in (\n",
    "    select person_pet.pet_id from person_pet\n",
    "        join person \n",
    "            on person_pet.person_id=person.id AND person.first_name like \"zed\"\n",
    ")\n",
    "```"
   ]
  },
  {
   "cell_type": "markdown",
   "metadata": {},
   "source": [
    "##### Vekselvirkende"
   ]
  },
  {
   "cell_type": "markdown",
   "metadata": {},
   "source": [
    "Indre spørring avhenger av ytre for de det refererer til kolonne i tabell fra ytre. Litt usikker på når det er nødvendig. Et eller annet om å sjekke eksistens..\n",
    "\n",
    "Tror det er litt analogt til groupby ved at vi internt kun betrakter delmengde av radene om gangen."
   ]
  },
  {
   "cell_type": "markdown",
   "metadata": {},
   "source": [
    "Eksempel der vi finner ansatte med inntekt som tilsvarer den høyeste inntekten til ansatte på sin avdeling. Dette er gjort uten vekselvirkende underspørring, men tror vi kunne brukt det i stedet ..\n",
    "```sql\n",
    "select\n",
    "    d.Name Department,\n",
    "    e.Name Employee,\n",
    "    e.Salary\n",
    "from Employee e join Department d\n",
    "on e.DepartmentId = d.Id\n",
    "join (\n",
    "    select DepartmentId, Max(Salary) Salary\n",
    "from Employee\n",
    "group by DepartmentId\n",
    ") t\n",
    "on e.Salary = t.Salary\n",
    "where e.DepartmentId = t.DepartmentId;\n",
    "```\n"
   ]
  },
  {
   "cell_type": "markdown",
   "metadata": {},
   "source": [
    "#### Joins"
   ]
  },
  {
   "cell_type": "markdown",
   "metadata": {},
   "source": [
    "Lage tabell med data fra flere tabeller. Trenger id-kolonner for å matche rows. Begynner med kartesisk produkt av radene og filtrerer etter betingelse. Har litt ulik syntax vi kan bruke"
   ]
  },
  {
   "cell_type": "markdown",
   "metadata": {},
   "source": [
    "```sql\n",
    "select ... from ... join ..\n",
    "ON a.x=b.x\n",
    "USING x;\n",
    "\n",
    "select ... from ...\n",
    "natural join -- inferrer felles kolonne?\n",
    "where a.x=b.x -- unngå join syntax, tror dette er dårlig \n",
    "\n",
    "\n",
    "```"
   ]
  },
  {
   "cell_type": "markdown",
   "metadata": {},
   "source": [
    "I praksis bruker vi inner og left joins.\n",
    "1. Inner - beholder kun rad med match\n",
    "2. Left - beholder alle rader i venstre, padder attributt fra andre tabell med nulls hvis ikke match\n",
    "3. Right - tilsvarende, men beholder alle i høyre\n",
    "4. Outer - beholder alle rad i begge tabell, padder nulls dersom ikke match"
   ]
  },
  {
   "cell_type": "markdown",
   "metadata": {},
   "source": [
    "Vi bestemmer hvilke kolonner som skal være med, hvilke rekkefølge og under hvilke navn med SELECT i første linje. Dette inkluderer kolonner fra tabeller som vi joiner senere i scriptet. Kan være vanskelig å skrive 100% lineært, men enkelt å gå frem og tilbake. Merk at `select` evalueres sent. Kan være greit å gi være kolonne sin egen linje for at det skal være oversiktelig. Merk også at vi kan filtrere og joine på kolonner som vi ikke selecter"
   ]
  },
  {
   "cell_type": "markdown",
   "metadata": {},
   "source": [
    "```SQL\n",
    "SELECT left.*, \n",
    "       right.kol AS kolnavn\n",
    "FROM left_data AS left\n",
    "INNER JOIN right_data AS right on left.idx = right.index \n",
    "```"
   ]
  },
  {
   "cell_type": "markdown",
   "metadata": {},
   "source": [
    "Nyttig å bruke alias på tabellnavn siden jeg refererrer til kolonnenavn med alias.kolnavn. Bruker wildcard for å velge alle kolonner.\n",
    "\n",
    "Hver tabell har en primary key som er ID som identifiserer unike rekker. I tillegg kan den ha foregin id-keys som mapper til primary keys i andre tabeller."
   ]
  },
  {
   "cell_type": "markdown",
   "metadata": {},
   "source": [
    "Eksempel der jeg har tabell med kjøpsorder. Hver invoice kan bestå av flere transaksjoner. De individuelle transaksjonene er primary key. Består av nøkler som mapper til andre tabeller slik at jeg kan få mer informasjon om kunde eller vare som ble solgt ved behov."
   ]
  },
  {
   "cell_type": "markdown",
   "metadata": {},
   "source": [
    "| invoice_line_id        | invoice_id           | track_id  |\n",
    "| ------------- |:-------------:| -----:|\n",
    "| 1      | 1 | 1600 |\n",
    "| 2      | 1      |   12 |\n",
    "| 3 | 2      |    27 |"
   ]
  },
  {
   "cell_type": "markdown",
   "metadata": {},
   "source": [
    "Kan for eksempel ha en annen tabell med track_id som primary key. Den vil gjerne også inneholde keys slik at vi kan mappe til andre tabeller med informasjon om artisten"
   ]
  },
  {
   "cell_type": "markdown",
   "metadata": {},
   "source": [
    "|track_id|artist_id|track|\n",
    "|-|-|-|\n",
    "| 12 | 23 |\"hit me baby one more time\"|\n",
    "|27|123|\"oompa\"|\n",
    "|1600|666|\"thank u, nxt\"|"
   ]
  },
  {
   "cell_type": "markdown",
   "metadata": {},
   "source": [
    "Vi kan illustrere relasjon mellom tabeller i skjema.. bare liste kolonnenavn og se på koblinger.."
   ]
  },
  {
   "cell_type": "markdown",
   "metadata": {},
   "source": [
    "##### Joins på flere enn to tabeller"
   ]
  },
  {
   "cell_type": "markdown",
   "metadata": {},
   "source": [
    "Legge til informasjon fra flere kolonner på en tabell\n",
    "```sql\n",
    "SELECT\n",
    "    pp.*,\n",
    "    person.first_name person_name,\n",
    "    pet.name pet_name,\n",
    "    pet.age pet_age\n",
    "FROM person_pet pp\n",
    "JOIN person \n",
    "    ON pp.person_id = person.id\n",
    "JOIN pet\n",
    "    ON pp.pet_id=pet.id\n",
    "```"
   ]
  },
  {
   "cell_type": "markdown",
   "metadata": {},
   "source": [
    "Kan eventuelt gjøre det med indre/ytre i stedet for sekvensiell.. hmm.. litt usikker på hva som er best\n",
    "```sql\n",
    "select Ordrelinje.*, OrdreDato, Betegnelse \n",
    "from Vare inner join \n",
    "\t(Ordrelinje\n",
    "\t inner join Ordre \n",
    "\t on Ordrelinje.OrdreNr=Ordre.OrdreNr)\n",
    "on Vare.VNr=Ordrelinje.VNr\n",
    "```"
   ]
  },
  {
   "cell_type": "markdown",
   "metadata": {},
   "source": [
    "##### joins på delspørring"
   ]
  },
  {
   "cell_type": "markdown",
   "metadata": {},
   "source": [
    "```SQL\n",
    "SELECT\n",
    "    ta.album_title album,\n",
    "    ta.artist_name artist,\n",
    "    COUNT(*) tracks_purchased\n",
    "FROM invoice_line il\n",
    "INNER JOIN (\n",
    "            SELECT\n",
    "                t.track_id,\n",
    "                al.title album_title,\n",
    "                ar.name artist_name\n",
    "            FROM track t\n",
    "            INNER JOIN album al ON al.album_id = t.album_id\n",
    "            INNER JOIN artist ar ON ar.artist_id = al.artist_id\n",
    "           ) ta\n",
    "           ON ta.track_id = il.track_id\n",
    "GROUP BY 1, 2\n",
    "ORDER BY 3 DESC LIMIT 5;\n",
    "```"
   ]
  },
  {
   "cell_type": "markdown",
   "metadata": {},
   "source": [
    "```sql\n",
    "select ol.*, OrdreDato, Betegnelse,Totalbeløp from Ordrelinje ol\n",
    "left join Ordre \n",
    "on ol.OrdreNr=Ordre.OrdreNr\n",
    "left join Vare\n",
    "on ol.VNr=Vare.VNr\n",
    "left join (\n",
    "select OrdreNr, sum(PrisPrEnhet*Antall) Totalbeløp from Ordrelinje -- kan ikke bruke alias fra ytre i delspørring\n",
    "group by OrdreNr\n",
    ") sub \n",
    "on ol.OrdreNr=sub.OrdreNr;\n",
    "```"
   ]
  },
  {
   "cell_type": "markdown",
   "metadata": {},
   "source": [
    "##### joins på samme tabell"
   ]
  },
  {
   "cell_type": "markdown",
   "metadata": {},
   "source": [
    "Koble rader fra samme tabell på hverandre..\n",
    "```sql\n",
    "select e1.Name Employee from Employee e1\n",
    "join Employee e2 on e1.ManagerId=e2.Id\n",
    "where e1.Salary > e2.Salary\n",
    "```"
   ]
  },
  {
   "cell_type": "markdown",
   "metadata": {},
   "source": [
    "##### Rekursiv join"
   ]
  },
  {
   "cell_type": "markdown",
   "metadata": {},
   "source": [
    "Kan også gjøre joins innad i samme tabell dersom releasjon mellom kolonnene.. f.eks. student koblet til supervisor, barn til foreldre mm."
   ]
  },
  {
   "cell_type": "markdown",
   "metadata": {},
   "source": [
    "```SQL\n",
    "SELECT\n",
    "    e1.employee_id,\n",
    "    e2.employee_id supervisor_id\n",
    "FROM employee e1\n",
    "INNER JOIN employee e2 on e1.reports_to = e2.employee_id\n",
    "LIMIT 4;\n",
    "```"
   ]
  },
  {
   "cell_type": "markdown",
   "metadata": {},
   "source": [
    "#### Mengdeoperasjoner"
   ]
  },
  {
   "cell_type": "markdown",
   "metadata": {},
   "source": [
    "Kan bruke mengdeoperasjon til å sammenstillere resultar av flere spørringer. Har `union`, `intersect` og `except`.\n",
    "```sql\n",
    "SELECT col FROM table1\n",
    "UNION\n",
    "SELECT col FROM table2\n",
    "```\n",
    "Det forutsetter at spørreresultatene er unionskompatible:\n",
    "1. Lik antall kolonner\n",
    "2. Parvis unionskompatible (samme datatype (og domene?))\n",
    "    - Matcher kolonner etter posisjon"
   ]
  },
  {
   "cell_type": "markdown",
   "metadata": {},
   "source": [
    "### Utledede strukturer"
   ]
  },
  {
   "cell_type": "markdown",
   "metadata": {},
   "source": [
    "Spørringer på databasen kan bli sammensatte. Kan være idé å lagre et mellomresultat og utføre spørringer på disse i stedet. De utledede stukturene blir ikke fysisk lagret noe sted; det er bare representasjoner av informasjon som er lagret i databasen. Det er hensiktsmessig å bruke dette dersom vi trenger å bruke denne representasjonen flere ganger. Et alternativ er såkalt *inline-view*; altså tabeller definert i underspørringer, der vi ikke beholder referanse til representasjonen.\n",
    "\n",
    "Det finnes litt ulike typer utledede strukturer og jeg vet ikke helt forskjellen på dem."
   ]
  },
  {
   "cell_type": "markdown",
   "metadata": {},
   "source": [
    "#### View"
   ]
  },
  {
   "cell_type": "markdown",
   "metadata": {},
   "source": [
    "#### Snapshot"
   ]
  },
  {
   "cell_type": "markdown",
   "metadata": {},
   "source": [
    "Statisk; blir ikke oppdatert når endringer i underliggende data i databasen.."
   ]
  },
  {
   "cell_type": "markdown",
   "metadata": {},
   "source": [
    "#### Common table expressions"
   ]
  },
  {
   "cell_type": "markdown",
   "metadata": {},
   "source": [
    "Mulig jeg flytter det et annet sted siden tabellen kun eksister som del av script. Kan dele opp workflow og kjøre sekvensielt slik at enklere å følge logikk, for eksempel hvis vi vil utføre spørring på output av en group by\n",
    "```sql\n",
    "with class_cte\n",
    "as\n",
    "(select class, count(distinct student) num_students from courses\n",
    "group by class)\n",
    "select class from class_cte\n",
    "where num_students >= 5\n",
    "```"
   ]
  },
  {
   "cell_type": "markdown",
   "metadata": {},
   "source": [
    "### Modifisere tabell"
   ]
  },
  {
   "cell_type": "markdown",
   "metadata": {},
   "source": [
    "#### Legge til"
   ]
  },
  {
   "cell_type": "markdown",
   "metadata": {},
   "source": [
    "Har to måter, avhengig om vi har verdi på alle kolonner eller kun subset. Må i såfall spesifisere hvilke kolonner vi legger til verdier. Ellers er det tilstrekkelig å legge til verdiene i riktig rekkefølge.\n",
    "```sql\n",
    "insert into table_name values (val1, val2)\n",
    "insert into table_name (col2) values (val2)\n",
    "```"
   ]
  },
  {
   "cell_type": "markdown",
   "metadata": {},
   "source": [
    "#### Slette"
   ]
  },
  {
   "cell_type": "markdown",
   "metadata": {},
   "source": [
    "```sql\n",
    "delete from table_name where condition -- sjekk at vi ikke gjør feil ved å ta select statement på samme condition\n",
    "\n",
    "truncate table -- fjerne alle data, men beholde struktur\n",
    "```"
   ]
  },
  {
   "cell_type": "markdown",
   "metadata": {},
   "source": [
    "#### Oppdatere"
   ]
  },
  {
   "cell_type": "markdown",
   "metadata": {},
   "source": [
    "```sql\n",
    "update table \n",
    "set col=new_val \n",
    "where condition\n",
    "```\n",
    "Eksempel:\n",
    "```sql\n",
    "insert into Bilmodell ([Bilmerke], [Bilmodell], [Gruppe], [AntallHK]) \n",
    "values ('Mercedes', 'Benz', 'hm', 350);\n",
    "\n",
    "update Bilmodell set AntallHK=300\n",
    "where Bilmerke='Mercedes' and Bilmodell='Benz';\n",
    "\n",
    "delete from Bilmodell \n",
    "where Bilmerke='Mercedes' and Bilmodell='Benz';\n",
    "```"
   ]
  },
  {
   "cell_type": "markdown",
   "metadata": {},
   "source": [
    "### Diverse"
   ]
  },
  {
   "cell_type": "markdown",
   "metadata": {},
   "source": [
    "Finner duplikate verdier\n",
    "```sql\n",
    "select distinct Email from Person p1\n",
    "where p1.Email in\n",
    "(\n",
    "select Email from Person p2\n",
    "group by p2.Email\n",
    "having count(*) > 1\n",
    ")\n",
    "```"
   ]
  },
  {
   "cell_type": "markdown",
   "metadata": {},
   "source": [
    "Kan ha lyst til å laste inn data fra .csv filer inn i database med angitt skjema. Kan bruke såkalt bulk insert\n",
    "```sql\n",
    "bulk insert table_name\n",
    "from path_to_file\n",
    "    with(\n",
    "        firstrow = 2, -- ikke ta med kolonnenavn\n",
    "        FIELDTERMINATOR = ',', -- Viktig å se på filen i tekst-editor får å undersøke struktur!!\n",
    "        rowterminator = '\\n'    \n",
    "        );\n",
    "```\n",
    "Har mange andre opsjoner som kan bli nødvendig å se på"
   ]
  },
  {
   "cell_type": "markdown",
   "metadata": {},
   "source": [
    "## SQL Server Management Studio (SSMS)"
   ]
  },
  {
   "cell_type": "markdown",
   "metadata": {},
   "source": [
    "Kan lage database diagrams\n",
    "\n",
    "Har lyst på bedre intellisense og autoformatering av kode (upper case og identasjon). Tror jeg må laste ned 3rd party, men var veldig stor fil ..\n",
    "\n",
    "Jeg er veldig lite fornøyd med workflowen, så dette er topprioritert. Trenger å se data som er tilgjengelige i databasen og koblingen mellom tabellene."
   ]
  },
  {
   "cell_type": "markdown",
   "metadata": {},
   "source": [
    "## Databasemodellering "
   ]
  },
  {
   "cell_type": "markdown",
   "metadata": {},
   "source": [
    "Kan bruke *entity-relationship* (ER)-diagram til å representere datamodell visuelt. Finnes litt ulike notasjoner for å vise egenskaper ved koblinger mm.\n",
    "\n",
    "Vi kan betrakte en relasjonsdatabase som en implementering eller realisering av den konseptuelle modellen."
   ]
  },
  {
   "cell_type": "markdown",
   "metadata": {},
   "source": [
    "### Litt terminologi"
   ]
  },
  {
   "cell_type": "markdown",
   "metadata": {},
   "source": [
    "I ER-diagram snakker vi ikke om tabeller og kolonner. Vi betrakter entititer med attributter, hvorav en må være identifiserende. "
   ]
  },
  {
   "cell_type": "markdown",
   "metadata": {},
   "source": [
    "## Representasjon av informasjon"
   ]
  },
  {
   "cell_type": "markdown",
   "metadata": {},
   "source": [
    "Må representere informasjon som bitstrenger."
   ]
  },
  {
   "cell_type": "markdown",
   "metadata": {},
   "source": [
    "### Tallsystem"
   ]
  },
  {
   "cell_type": "markdown",
   "metadata": {},
   "source": [
    "Jeg vil si litt om tallsystem. Vi bruker titallssystem med ti \"grunnleggende\" tall. Kan lage nye tall ved å kombinere disse i en rekkefølge. Vekten vi legger på hver av grunntallene avhenger av plassering. Vekten blir multiplisert med 10 når vi beveger oss én plassering mot venstre. Kan være nyttig å representere det i en liste med omvendt rekkefølge."
   ]
  },
  {
   "cell_type": "code",
   "execution_count": 13,
   "metadata": {},
   "outputs": [
    {
     "name": "stdout",
     "output_type": "stream",
     "text": [
      "2354\n"
     ]
    }
   ],
   "source": [
    "tall = 2354\n",
    "tall_liste = [int(digit) for digit in str(tall)[::-1]]\n",
    "print(sum([tall_liste[k]*10**k for k in range(len(tall_liste))]))"
   ]
  },
  {
   "cell_type": "markdown",
   "metadata": {},
   "source": [
    "Mer generelt så er b-tallsystemet kjennetegnet ved:\n",
    "- base b\n",
    "- siffer 0,1,..,.b-1\n",
    "- vekt b^k, der k er index fra høyre og starter i 0\n",
    "- eks: $(d_2d_1d_0)_b = d_2b^2+d_1b^1+d_0b^0$"
   ]
  },
  {
   "cell_type": "markdown",
   "metadata": {},
   "source": [
    "#### Binært tallsystem"
   ]
  },
  {
   "cell_type": "markdown",
   "metadata": {},
   "source": [
    "Den grunnleggende enheten i datamaskiner er elektriske koblinger. Disse kan enten være av (ingen strøm) eller på (strøm). Maskinen kan 'oppfatte' forskjellen på disse to tilstandene. Vi kan assosiere tallene 0,1 eller (FALSE, TRUE) med tilstandene. Det kalles også for 'logic gates'. Uansett, ved å lage et system som består av flere koblinger kan vi bruke de ulike mulige kombinasjonene til å representere langt flere tilstander. Antallet unike mulige utfall er $2^n$ der $n$ er antall koblinger. Med utgangspunkt i dette kan vi få pc'en til å representere tall. Med sekvens av $n$ bits kan jeg vi representere heltall i $[0,2^N-1]$\n",
    "\n",
    "Totallssystemet fungerer helt analogt til titallssystemet, bare at det er to grunnleggende tall (0,1) og at vekten på hvert siffer ganges med to for hver gang."
   ]
  },
  {
   "cell_type": "code",
   "execution_count": 16,
   "metadata": {},
   "outputs": [
    {
     "name": "stdout",
     "output_type": "stream",
     "text": [
      "75\n"
     ]
    }
   ],
   "source": [
    "tall = 1001011\n",
    "tall_liste = [int(digit) for digit in str(tall)[::-1]]\n",
    "print(sum([tall_liste[k]*2**k for k in range(len(tall_liste))]))"
   ]
  },
  {
   "cell_type": "code",
   "execution_count": 20,
   "metadata": {},
   "outputs": [
    {
     "data": {
      "text/plain": [
       "75"
      ]
     },
     "execution_count": 20,
     "metadata": {},
     "output_type": "execute_result"
    }
   ],
   "source": [
    "int(str(tall),base=2)"
   ]
  },
  {
   "cell_type": "code",
   "execution_count": 21,
   "metadata": {},
   "outputs": [
    {
     "data": {
      "text/plain": [
       "'0b1001011'"
      ]
     },
     "execution_count": 21,
     "metadata": {},
     "output_type": "execute_result"
    }
   ],
   "source": [
    "bin(75) # første to chr indikerer hvilket tallsystem det er"
   ]
  },
  {
   "cell_type": "markdown",
   "metadata": {},
   "source": [
    "#### Twos' complement representation"
   ]
  },
  {
   "cell_type": "markdown",
   "metadata": {},
   "source": [
    "Totallsystemet er ikke det eneste praktiske måten å representere tall for pcen. Kan behandle en sekvens/følge av bits som den grunnleggende enheten. Tror gruppe på 8 bits er byte. Moderne pc'er behandler info i form av bytes. Hver byte kan ha 2^8 tilstander som kan representers med tall [0,255] . Finnes noe annet tallssystem for å jobbe med denne representasjonen (8-tall,16-tall), men dette begynnner å bli ganske perifert."
   ]
  },
  {
   "cell_type": "markdown",
   "metadata": {},
   "source": [
    "Utvidelse av binære tallsystem for å håndtere negative tall. Alt fungere som binær, bortsett fra at først siffer tolkes negativ. Verdien av det sifferet er større enn resten av tallene til sammen, så det er nok til å få negativ tall. Blir ganske umulig å konvertere fra sekvens av bits til 10-tallsystem, men er tilstrekkelig at pcen forstår det."
   ]
  },
  {
   "cell_type": "code",
   "execution_count": 72,
   "metadata": {},
   "outputs": [
    {
     "name": "stdout",
     "output_type": "stream",
     "text": [
      "-2\n"
     ]
    }
   ],
   "source": [
    "tall = 10\n",
    "tall_reversed = str(tall)[::-1]\n",
    "tall_liste = [int(digit) for digit in tall_reversed[:-1]]\n",
    "K = len(tall_liste)\n",
    "print(sum([tall_liste[k]*2**k for k in range(K)])-int(tall_reversed[-1])*2**(K))"
   ]
  },
  {
   "cell_type": "markdown",
   "metadata": {},
   "source": [
    "lavest verdi med $n$ bits er $100..000=-2^{n-1}$ og høyeste verdi er $011\\ldots111 = 2^{n-1}-1$. Begynner å få rar atferd når vi forsøker å få representasjon av tall som ikke har representeres med det gitt antallet bits vi har reservert... Dette kalles integer overflow."
   ]
  },
  {
   "cell_type": "code",
   "execution_count": 94,
   "metadata": {},
   "outputs": [
    {
     "name": "stdout",
     "output_type": "stream",
     "text": [
      "-128\n",
      "-1\n",
      "01111111\n"
     ]
    }
   ],
   "source": [
    "import numpy as np\n",
    "print(np.int8(128)) # høyeste tall vi kan representere er 2^7-1=127\n",
    "print(np.int16(2**16-1))\n",
    "print(np.binary_repr(127,8))"
   ]
  },
  {
   "cell_type": "markdown",
   "metadata": {},
   "source": [
    "I motsetning til native python are numpy integers med fast bredde (antall bits i reprentasjon, leading 0s hvis ikke trenger alle). Må passe på å unngå overflow, men er ikke så veldig reelt problem med 32/64 bit som vi pleier å bruke. Fordelen med fast lengde er at vi slipper overhead til native python integers og at vi kan feede bit representasjonen inn i kode som kan compiles i numerisk programmeringsspråk (type c/fortran)."
   ]
  },
  {
   "cell_type": "markdown",
   "metadata": {},
   "source": [
    "### Representasjon av tekst"
   ]
  },
  {
   "cell_type": "markdown",
   "metadata": {},
   "source": [
    "På samme måte som at vi trener en kobling mellom binær tilstall (0,1) og tall i vårt titallsystem trenger vi også representasjon av symboler i tekst. Vi trenger altså en regel som mapper mellom det pc'en ser og det vi ser. Dette er en såkalt encoding. Kan tenke på det som en dictionary mellom byte og symbol. Litt utfodring at vi trenger med enn 256 symboler.. hm.\n",
    "\n",
    "Mest kjente er ASCII, men har ikke alle. Dersom tekst er laget med hensyn på en gitt encoding og vi laster inn med ASCII, så kan det være bytes som den ikke kjenner. Dette  gir '[?]' i teksten. "
   ]
  },
  {
   "cell_type": "code",
   "execution_count": 37,
   "metadata": {},
   "outputs": [
    {
     "name": "stdout",
     "output_type": "stream",
     "text": [
      "b'sv'\n",
      "<class 'bytes'>\n",
      "115\n",
      "118\n",
      "sv\n"
     ]
    }
   ],
   "source": [
    "encoding = 'sv'.encode('ASCII')\n",
    "print(encoding)\n",
    "print(type(encoding))\n",
    "for byte in encoding:\n",
    "    print(byte)\n",
    "print(encoding.decode('ASCII'))    "
   ]
  },
  {
   "cell_type": "code",
   "execution_count": 35,
   "metadata": {},
   "outputs": [
    {
     "data": {
      "text/plain": [
       "b'sv\\xc3\\xb8'"
      ]
     },
     "execution_count": 35,
     "metadata": {},
     "output_type": "execute_result"
    }
   ],
   "source": [
    "'svø'.encode('utf-8') # når den printer så forsøke å finne representasjon av byte fra ascii.."
   ]
  },
  {
   "cell_type": "markdown",
   "metadata": {},
   "source": [
    "Unicode er dictionary mellom symbol (inkl. emojis og sjit) og såkalte tegnkoder. Det er ikke i seg selv en encoding, men finnes encodinger som tar utgangspunkt i dette for å gi representasjon i form av bytes (UTF-8, UTF-16, UTF-32). Tallet henspiller på antall bits som representer hvert symbol. Nedsiden med høyere bits er at det tar mer lagringsplass, men kan ha flere symboler.."
   ]
  },
  {
   "cell_type": "markdown",
   "metadata": {},
   "source": [
    "Jeg kan\n",
    "1. Forsøke å oppdage encoding med chardet... bruker detect på byte object, with open('...', mode='tb) as f: \n",
    "2. Kan konvertere encoding med å lese inn og skrive på nytt\n",
    "\n",
    "tar dette ved behov"
   ]
  },
  {
   "cell_type": "markdown",
   "metadata": {},
   "source": [
    "### Representasjon av bilde"
   ]
  }
 ],
 "metadata": {
  "kernelspec": {
   "display_name": "Python 3",
   "language": "python",
   "name": "python3"
  },
  "language_info": {
   "codemirror_mode": {
    "name": "ipython",
    "version": 3
   },
   "file_extension": ".py",
   "mimetype": "text/x-python",
   "name": "python",
   "nbconvert_exporter": "python",
   "pygments_lexer": "ipython3",
   "version": "3.7.9"
  },
  "latex_envs": {
   "LaTeX_envs_menu_present": true,
   "autoclose": true,
   "autocomplete": true,
   "bibliofile": "biblio.bib",
   "cite_by": "apalike",
   "current_citInitial": 1,
   "eqLabelWithNumbers": true,
   "eqNumInitial": 1,
   "hotkeys": {
    "equation": "Ctrl-E",
    "itemize": "Ctrl-I"
   },
   "labels_anchors": false,
   "latex_user_defs": false,
   "report_style_numbering": false,
   "user_envs_cfg": false
  },
  "toc": {
   "base_numbering": 1,
   "nav_menu": {},
   "number_sections": true,
   "sideBar": true,
   "skip_h1_title": false,
   "title_cell": "Table of Contents",
   "title_sidebar": "Contents",
   "toc_cell": false,
   "toc_position": {
    "height": "calc(100% - 180px)",
    "left": "10px",
    "top": "150px",
    "width": "279.273px"
   },
   "toc_section_display": true,
   "toc_window_display": true
  }
 },
 "nbformat": 4,
 "nbformat_minor": 4
}
