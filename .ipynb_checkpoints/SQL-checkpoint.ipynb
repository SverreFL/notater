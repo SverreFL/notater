{
 "cells": [
  {
   "cell_type": "markdown",
   "metadata": {},
   "source": [
    "## SQL"
   ]
  },
  {
   "cell_type": "markdown",
   "metadata": {},
   "source": [
    "### syntax"
   ]
  },
  {
   "cell_type": "markdown",
   "metadata": {},
   "source": [
    "Store bokstaver og identation er bare konvensjon for å gjøre mer leselig\n",
    "\n",
    "Hele query er en statement\n",
    "\n",
    "hver linje er clause.\n",
    "\n",
    "har keywords og operators"
   ]
  },
  {
   "cell_type": "markdown",
   "metadata": {},
   "source": [
    "```SQL\n",
    "SELECT [kol1, kol2,...]\n",
    "    FROM [table1, table2, ...]\n",
    "    WHERE [(cond1 OR cond2)]\n",
    "    AND [cond2]\n",
    "    LIMIT [num]\n",
    "    ORDER BY [kol1] DESC\n",
    "    \n",
    "```"
   ]
  },
  {
   "cell_type": "markdown",
   "metadata": {},
   "source": [
    "Rekkefølgen clause i statement blir kjørt avhenger av keyword"
   ]
  },
  {
   "cell_type": "markdown",
   "metadata": {},
   "source": [
    "```SQL\n",
    "FROM > WHERE > GROUP BY > HAVING > SELECT > ORDER BY > LIMIT\n",
    "```"
   ]
  },
  {
   "cell_type": "markdown",
   "metadata": {},
   "source": [
    "### funksjoner"
   ]
  },
  {
   "cell_type": "markdown",
   "metadata": {},
   "source": [
    "Kan kjøre aggregeringsfunksjoner på tabell. Eks: MIN, MAX, COUNT, AVG. Svare på spørsmål om verdiene i kolonnen. Kan spesifisere alias som brukes som kolonnenavn i resten av script + output tabell. Merk at jeg ikek kan bruke de nye aliasene når jeg konstrueker nye kolonne i select, eg kol1+kol2 as ny_kol må bruke navn fra tabell"
   ]
  },
  {
   "cell_type": "markdown",
   "metadata": {},
   "source": [
    "```SQL\n",
    "SELECT AGG(kol1) AS 'agg_kol1', \n",
    "       AGG(DISTINCT kol2) as 'blalba'\n",
    "       FROM [...]\n",
    "       ...\n",
    "```\n",
    "    "
   ]
  },
  {
   "cell_type": "markdown",
   "metadata": {},
   "source": [
    "Har også funksjoner som transformerer hver celle i kolonne og gir ny kolonne. Har litt greier på strings men hmm, "
   ]
  },
  {
   "cell_type": "markdown",
   "metadata": {},
   "source": [
    "```SQL\n",
    "SELECT\n",
    "    CASE\n",
    "    WHEN [kol1] [cond1] THEN [value1]\n",
    "    WHEN [kol1] [cond2] THEN [value2]\n",
    "    ELSE [value3]\n",
    "    END AS [kolnavn]\n",
    "```"
   ]
  },
  {
   "cell_type": "markdown",
   "metadata": {},
   "source": [
    "### group by"
   ]
  },
  {
   "cell_type": "markdown",
   "metadata": {},
   "source": [
    "```SQL\n",
    "SELECT [idx_col1, idx_col2],\n",
    "    AGG(val_col1) as 'alias1',\n",
    "    AGG(val_col2) as 'alias2',\n",
    "    FROM [table1]\n",
    "    GROUP BY idx_col1, idx_col2\n",
    "    HAVING alias1 > value\n",
    "```"
   ]
  },
  {
   "cell_type": "markdown",
   "metadata": {},
   "source": [
    "Litt ukomfortabel med hvordan jeg kombinerer det med aggregeringsfunksjoner.. Tror aggregering må skje i SELECT.. hmhmh."
   ]
  },
  {
   "cell_type": "markdown",
   "metadata": {},
   "source": [
    "### Datatype"
   ]
  },
  {
   "cell_type": "markdown",
   "metadata": {},
   "source": [
    "Deler to ints så vil SQL forsøke å caste output til int, runder nedover. Ikke det vi vil ha. Må caste kolonne til float før vi deler"
   ]
  },
  {
   "cell_type": "markdown",
   "metadata": {},
   "source": [
    "```SQL\n",
    "CAST(kol AS Float)\n",
    "```"
   ]
  },
  {
   "cell_type": "markdown",
   "metadata": {},
   "source": [
    "har problem med å caste, kan bruke kolnavn*1.0  for å få det som float"
   ]
  },
  {
   "cell_type": "markdown",
   "metadata": {},
   "source": [
    "### subquery"
   ]
  },
  {
   "cell_type": "markdown",
   "metadata": {},
   "source": [
    "Bruke output fra output fra en query som input i en annen. Kunne kjørt iterativt og flyttet verdier over manuelt, men mye bedre å bruke output fra en subquery\n",
    "\n",
    "subquery i klausul blir evaluert før resten\n",
    "\n",
    "utfordring at SELECT blir kjørt så jævlig sent så kan ikke bruke konstruerte variabler hefra til å filtrere output"
   ]
  },
  {
   "cell_type": "markdown",
   "metadata": {},
   "source": [
    "```SQL\n",
    "SELECT Major_category, Major\n",
    "    FROM recent_grads\n",
    "    WHERE Major_category IN (SELECT Major_category\n",
    "                            FROM recent_grads\n",
    "                            GROUP BY Major_category\n",
    "                            ORDER BY SUM(TOTAL) DESC\n",
    "                            LIMIT 3\n",
    "                          );\n",
    "```                          "
   ]
  },
  {
   "cell_type": "markdown",
   "metadata": {},
   "source": [
    "### Joins"
   ]
  },
  {
   "cell_type": "markdown",
   "metadata": {},
   "source": [
    "Lage tabell med data fra flere tabeller. Trenger id-kolonne for å matche rows. I praksis bruker vi inner og left joins"
   ]
  },
  {
   "cell_type": "markdown",
   "metadata": {},
   "source": [
    "Vi bestemmer hvilke kolonner som skal være med, hvilke rekkefølge og under hvilke navn med SELECT i første linje. Dette inkluderer kolonner fra tabeller som vi joiner senere i scriptet. Kan være vanskelig å skrive 100% lineært, men enkelt å gå frem og tilbake. Kan være greit å gi være kolonne sin egen linje for at det skal være oversiktelig. Merk også at vi kan filtrere og joine på kolonner som vi ikke selecter"
   ]
  },
  {
   "cell_type": "markdown",
   "metadata": {},
   "source": [
    "```SQL\n",
    "SELECT left.*, \n",
    "       right.kol AS kolnavn\n",
    "FROM left_data AS left\n",
    "INNER JOIN right_data AS right on left.idx = right.index\n",
    "```"
   ]
  },
  {
   "cell_type": "markdown",
   "metadata": {},
   "source": [
    "Nyttig å bruke alias på tabellnavn siden jeg refererrer til kolonnenavn med alias.kolnavn. Bruker wildcard for å velge alle kolonner.\n",
    "\n",
    "Hver tabell har en primary key som er ID som identifiserer unike rekker. I tillegg kan den ha id-keys som mapper til andre tabeller."
   ]
  },
  {
   "cell_type": "markdown",
   "metadata": {},
   "source": [
    "Eksempel der jeg har tabell med kjøpsorder. Hver invoice kan bestå av flere transaksjoner. De individuelle transaksjonene er primary key. Består av nøkler som mapper til andre tabeller slik at jeg kan få mer informasjon om kunde eller vare som ble solgt ved behov."
   ]
  },
  {
   "cell_type": "markdown",
   "metadata": {},
   "source": [
    "| invoice_line_id        | invoice_id           | track_id  |\n",
    "| ------------- |:-------------:| -----:|\n",
    "| 1      | 1 | 1600 |\n",
    "| 2      | 1      |   12 |\n",
    "| 3 | 2      |    27 |"
   ]
  },
  {
   "cell_type": "markdown",
   "metadata": {},
   "source": [
    "Kan for eksempel ha en annen tabell med track_id som primary key. Den vil gjerne også inneholde keys slik at vi kan mappe til andre tabeller med informasjon om artisten"
   ]
  },
  {
   "cell_type": "markdown",
   "metadata": {},
   "source": [
    "|track_id|artist_id|track|\n",
    "|-|-|-|\n",
    "| 12 | 23 |\"hit me baby one more time\"|\n",
    "|27|123|\"oompa\"|\n",
    "|1600|666|\"thank u, nxt\"|"
   ]
  },
  {
   "cell_type": "markdown",
   "metadata": {},
   "source": [
    "Vi kan illustrere relasjon mellom tabeller i skjema.. bare liste kolonnenavn og se på koblinger.."
   ]
  },
  {
   "cell_type": "markdown",
   "metadata": {},
   "source": [
    "Kan også joine på tabell som jeg konstruerer i subquery"
   ]
  },
  {
   "cell_type": "markdown",
   "metadata": {},
   "source": [
    "```SQL\n",
    "SELECT\n",
    "    ta.album_title album,\n",
    "    ta.artist_name artist,\n",
    "    COUNT(*) tracks_purchased\n",
    "FROM invoice_line il\n",
    "INNER JOIN (\n",
    "            SELECT\n",
    "                t.track_id,\n",
    "                al.title album_title,\n",
    "                ar.name artist_name\n",
    "            FROM track t\n",
    "            INNER JOIN album al ON al.album_id = t.album_id\n",
    "            INNER JOIN artist ar ON ar.artist_id = al.artist_id\n",
    "           ) ta\n",
    "           ON ta.track_id = il.track_id\n",
    "GROUP BY 1, 2\n",
    "ORDER BY 3 DESC LIMIT 5;\n",
    "```"
   ]
  },
  {
   "cell_type": "markdown",
   "metadata": {},
   "source": [
    "#### Recurisve join"
   ]
  },
  {
   "cell_type": "markdown",
   "metadata": {},
   "source": [
    "Kan også gjøre joins innad i samme tabell dersom releasjon mellom kolonnene.. f.eks. student koblet til supervisor, barn til foreldre mm."
   ]
  },
  {
   "cell_type": "markdown",
   "metadata": {},
   "source": [
    "```SQL\n",
    "SELECT\n",
    "    e1.employee_id,\n",
    "    e2.employee_id supervisor_id\n",
    "FROM employee e1\n",
    "INNER JOIN employee e2 on e1.reports_to = e2.employee_id\n",
    "LIMIT 4;\n",
    "```"
   ]
  },
  {
   "cell_type": "markdown",
   "metadata": {},
   "source": [
    "### Strings"
   ]
  },
  {
   "cell_type": "markdown",
   "metadata": {},
   "source": [
    "Kan kombinere WHERE klausul med pattern matching dersom jeg kun trenger å matche substring\n",
    "\n",
    "```SQL\n",
    "WHERE kol LIKE \"%pattern%\"\n",
    "```\n",
    "der % matcher med alle strings. Kan ha enten på éne av sidene eller begge.\n",
    "\n",
    "Kan kombinere strings  med || operator ..."
   ]
  },
  {
   "cell_type": "markdown",
   "metadata": {},
   "source": [
    "### Kombinere med python"
   ]
  },
  {
   "cell_type": "markdown",
   "metadata": {},
   "source": [
    "SQL er språk/api (?) for å kommunisere med database... greit. Jeg vil kommunisere med de fra et python script slik at jeg kan få ut csv jeg vil ha. Finnes ulike moduler.\n",
    "\n",
    "1. sqlite3\n",
    "2. mysql\n",
    "3. postgres\n",
    "4. ipython-sql\n",
    "5. SQLAlchemy\n",
    "\n",
    "Kan også bruke ipython-sql.. slags extension i stedet for vanlig python library, loader med %%load_ext sql\n",
    "\n",
    "Kan da hooke opp mot SQLAlchemy url og bruke sql commando %%sql select * .. rett i notebook. Skjønner ingenting.\n",
    "\n",
    "SQLAlchemy er mest high level.. gir meg python-objekt reperesentasjon, mens andre er mer direkte på databaseting..."
   ]
  },
  {
   "cell_type": "markdown",
   "metadata": {},
   "source": [
    "Workflow er sqlite3 er:\n",
    "\n",
    "1. bruke conn = connect('adresse') til å Connection object\n",
    "2. bruke cursor = conn.cursor() til å aktivere cursor\n",
    "\n",
    "... ting skjer gjennom cursor..."
   ]
  },
  {
   "cell_type": "markdown",
   "metadata": {},
   "source": [
    "## Representasjon av informasjon"
   ]
  },
  {
   "cell_type": "markdown",
   "metadata": {},
   "source": [
    "Må representere informasjon som bitstrenger."
   ]
  },
  {
   "cell_type": "markdown",
   "metadata": {},
   "source": [
    "### Tallsystem"
   ]
  },
  {
   "cell_type": "markdown",
   "metadata": {},
   "source": [
    "Jeg vil si litt om tallsystem. Vi bruker titallssystem med ti \"grunnleggende\" tall. Kan lage nye tall ved å kombinere disse i en rekkefølge. Vekten vi legger på hver av grunntallene avhenger av plassering. Vekten blir multiplisert med 10 når vi beveger oss én plassering mot venstre. Kan være nyttig å representere det i en liste med omvendt rekkefølge."
   ]
  },
  {
   "cell_type": "code",
   "execution_count": 13,
   "metadata": {},
   "outputs": [
    {
     "name": "stdout",
     "output_type": "stream",
     "text": [
      "2354\n"
     ]
    }
   ],
   "source": [
    "tall = 2354\n",
    "tall_liste = [int(digit) for digit in str(tall)[::-1]]\n",
    "print(sum([tall_liste[k]*10**k for k in range(len(tall_liste))]))"
   ]
  },
  {
   "cell_type": "markdown",
   "metadata": {},
   "source": [
    "Mer generelt så er b-tallsystemet kjennetegnet ved:\n",
    "- base b\n",
    "- siffer 0,1,..,.b-1\n",
    "- vekt b^k, der k er index fra høyre og starter i 0\n",
    "- eks: $(d_2d_1d_0)_b = d_2b^2+d_1b^1+d_0b^0$"
   ]
  },
  {
   "cell_type": "markdown",
   "metadata": {},
   "source": [
    "#### Binært tallsystem"
   ]
  },
  {
   "cell_type": "markdown",
   "metadata": {},
   "source": [
    "Den grunnleggende enheten i datamaskiner er elektriske koblinger. Disse kan enten være av (ingen strøm) eller på (strøm). Maskinen kan 'oppfatte' forskjellen på disse to tilstandene. Vi kan assosiere tallene 0,1 eller (FALSE, TRUE) med tilstandene. Det kalles også for 'logic gates'. Uansett, ved å lage et system som består av flere koblinger kan vi bruke de ulike mulige kombinasjonene til å representere langt flere tilstander. Antallet unike mulige utfall er $2^n$ der $n$ er antall koblinger. Med utgangspunkt i dette kan vi få pc'en til å representere tall. Med sekvens av $n$ bits kan jeg vi representere heltall i $[0,2^N-1]$\n",
    "\n",
    "Totallssystemet fungerer helt analogt til titallssystemet, bare at det er to grunnleggende tall (0,1) og at vekten på hvert siffer ganges med to for hver gang."
   ]
  },
  {
   "cell_type": "code",
   "execution_count": 16,
   "metadata": {},
   "outputs": [
    {
     "name": "stdout",
     "output_type": "stream",
     "text": [
      "75\n"
     ]
    }
   ],
   "source": [
    "tall = 1001011\n",
    "tall_liste = [int(digit) for digit in str(tall)[::-1]]\n",
    "print(sum([tall_liste[k]*2**k for k in range(len(tall_liste))]))"
   ]
  },
  {
   "cell_type": "code",
   "execution_count": 20,
   "metadata": {},
   "outputs": [
    {
     "data": {
      "text/plain": [
       "75"
      ]
     },
     "execution_count": 20,
     "metadata": {},
     "output_type": "execute_result"
    }
   ],
   "source": [
    "int(str(tall),base=2)"
   ]
  },
  {
   "cell_type": "code",
   "execution_count": 21,
   "metadata": {},
   "outputs": [
    {
     "data": {
      "text/plain": [
       "'0b1001011'"
      ]
     },
     "execution_count": 21,
     "metadata": {},
     "output_type": "execute_result"
    }
   ],
   "source": [
    "bin(75) # første to chr indikerer hvilket tallsystem det er"
   ]
  },
  {
   "cell_type": "markdown",
   "metadata": {},
   "source": [
    "#### Twos' complement representation"
   ]
  },
  {
   "cell_type": "markdown",
   "metadata": {},
   "source": [
    "Totallsystemet er ikke det eneste praktiske måten å representere tall for pcen. Kan behandle en sekvens/følge av bits som den grunnleggende enheten. Tror gruppe på 8 bits er byte. Moderne pc'er behandler info i form av bytes. Hver byte kan ha 2^8 tilstander som kan representers med tall [0,255] . Finnes noe annet tallssystem for å jobbe med denne representasjonen (8-tall,16-tall), men dette begynnner å bli ganske perifert."
   ]
  },
  {
   "cell_type": "markdown",
   "metadata": {},
   "source": [
    "Utvidelse av binære tallsystem for å håndtere negative tall. Alt fungere som binær, bortsett fra at først siffer tolkes negativ. Verdien av det sifferet er større enn resten av tallene til sammen, så det er nok til å få negativ tall. Blir ganske umulig å konvertere fra sekvens av bits til 10-tallsystem, men er tilstrekkelig at pcen forstår det."
   ]
  },
  {
   "cell_type": "code",
   "execution_count": 72,
   "metadata": {},
   "outputs": [
    {
     "name": "stdout",
     "output_type": "stream",
     "text": [
      "-2\n"
     ]
    }
   ],
   "source": [
    "tall = 10\n",
    "tall_reversed = str(tall)[::-1]\n",
    "tall_liste = [int(digit) for digit in tall_reversed[:-1]]\n",
    "K = len(tall_liste)\n",
    "print(sum([tall_liste[k]*2**k for k in range(K)])-int(tall_reversed[-1])*2**(K))"
   ]
  },
  {
   "cell_type": "markdown",
   "metadata": {},
   "source": [
    "lavest verdi med $n$ bits er $100..000=-2^{n-1}$ og høyeste verdi er $011\\ldots111 = 2^{n-1}-1$. Begynner å få rar atferd når vi forsøker å få representasjon av tall som ikke har representeres med det gitt antallet bits vi har reservert... Dette kalles integer overflow."
   ]
  },
  {
   "cell_type": "code",
   "execution_count": 94,
   "metadata": {},
   "outputs": [
    {
     "name": "stdout",
     "output_type": "stream",
     "text": [
      "-128\n",
      "-1\n",
      "01111111\n"
     ]
    }
   ],
   "source": [
    "import numpy as np\n",
    "print(np.int8(128)) # høyeste tall vi kan representere er 2^7-1=127\n",
    "print(np.int16(2**16-1))\n",
    "print(np.binary_repr(127,8))"
   ]
  },
  {
   "cell_type": "markdown",
   "metadata": {},
   "source": [
    "I motsetning til native python are numpy integers med fast bredde (antall bits i reprentasjon, leading 0s hvis ikke trenger alle). Må passe på å unngå overflow, men er ikke så veldig reelt problem med 32/64 bit som vi pleier å bruke. Fordelen med fast lengde er at vi slipper overhead til native python integers og at vi kan feede bit representasjonen inn i kode som kan compiles i numerisk programmeringsspråk (type c/fortran)."
   ]
  },
  {
   "cell_type": "markdown",
   "metadata": {},
   "source": [
    "### Representasjon av tekst"
   ]
  },
  {
   "cell_type": "markdown",
   "metadata": {},
   "source": [
    "På samme måte som at vi trener en kobling mellom binær tilstall (0,1) og tall i vårt titallsystem trenger vi også representasjon av symboler i tekst. Vi trenger altså en regel som mapper mellom det pc'en ser og det vi ser. Dette er en såkalt encoding. Kan tenke på det som en dictionary mellom byte og symbol. Litt utfodring at vi trenger med enn 256 symboler.. hm.\n",
    "\n",
    "Mest kjente er ASCII, men har ikke alle. Dersom tekst er laget med hensyn på en gitt encoding og vi laster inn med ASCII, så kan det være bytes som den ikke kjenner. Dette  gir '[?]' i teksten. "
   ]
  },
  {
   "cell_type": "code",
   "execution_count": 37,
   "metadata": {},
   "outputs": [
    {
     "name": "stdout",
     "output_type": "stream",
     "text": [
      "b'sv'\n",
      "<class 'bytes'>\n",
      "115\n",
      "118\n",
      "sv\n"
     ]
    }
   ],
   "source": [
    "encoding = 'sv'.encode('ASCII')\n",
    "print(encoding)\n",
    "print(type(encoding))\n",
    "for byte in encoding:\n",
    "    print(byte)\n",
    "print(encoding.decode('ASCII'))    "
   ]
  },
  {
   "cell_type": "code",
   "execution_count": 35,
   "metadata": {},
   "outputs": [
    {
     "data": {
      "text/plain": [
       "b'sv\\xc3\\xb8'"
      ]
     },
     "execution_count": 35,
     "metadata": {},
     "output_type": "execute_result"
    }
   ],
   "source": [
    "'svø'.encode('utf-8') # når den printer så forsøke å finne representasjon av byte fra ascii.."
   ]
  },
  {
   "cell_type": "markdown",
   "metadata": {},
   "source": [
    "Unicode er dictionary mellom symbol (inkl. emojis og sjit) og såkalte tegnkoder. Det er ikke i seg selv en encoding, men finnes encodinger som tar utgangspunkt i dette for å gi representasjon i form av bytes (UTF-8, UTF-16, UTF-32). Tallet henspiller på antall bits som representer hvert symbol. Nedsiden med høyere bits er at det tar mer lagringsplass, men kan ha flere symboler.."
   ]
  },
  {
   "cell_type": "markdown",
   "metadata": {},
   "source": [
    "Jeg kan\n",
    "1. Forsøke å oppdage encoding med chardet... bruker detect på byte object, with open('...', mode='tb) as f: \n",
    "2. Kan konvertere encoding med å lese inn og skrive på nytt\n",
    "\n",
    "tar dette ved behov"
   ]
  },
  {
   "cell_type": "markdown",
   "metadata": {},
   "source": [
    "### Representasjon av bilde"
   ]
  }
 ],
 "metadata": {
  "kernelspec": {
   "display_name": "Python 3",
   "language": "python",
   "name": "python3"
  },
  "language_info": {
   "codemirror_mode": {
    "name": "ipython",
    "version": 3
   },
   "file_extension": ".py",
   "mimetype": "text/x-python",
   "name": "python",
   "nbconvert_exporter": "python",
   "pygments_lexer": "ipython3",
   "version": "3.7.9"
  },
  "latex_envs": {
   "LaTeX_envs_menu_present": true,
   "autoclose": true,
   "autocomplete": true,
   "bibliofile": "biblio.bib",
   "cite_by": "apalike",
   "current_citInitial": 1,
   "eqLabelWithNumbers": true,
   "eqNumInitial": 1,
   "hotkeys": {
    "equation": "Ctrl-E",
    "itemize": "Ctrl-I"
   },
   "labels_anchors": false,
   "latex_user_defs": false,
   "report_style_numbering": false,
   "user_envs_cfg": false
  },
  "toc": {
   "base_numbering": 1,
   "nav_menu": {},
   "number_sections": true,
   "sideBar": true,
   "skip_h1_title": false,
   "title_cell": "Table of Contents",
   "title_sidebar": "Contents",
   "toc_cell": false,
   "toc_position": {},
   "toc_section_display": true,
   "toc_window_display": true
  }
 },
 "nbformat": 4,
 "nbformat_minor": 4
}
