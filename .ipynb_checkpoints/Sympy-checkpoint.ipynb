{
 "cells": [
  {
   "cell_type": "markdown",
   "id": "floating-republic",
   "metadata": {},
   "source": [
    "### Innledning"
   ]
  },
  {
   "cell_type": "markdown",
   "id": "hybrid-joseph",
   "metadata": {},
   "source": [
    "Symbolsk manipulering der symbolene er abstrakte placeholdere istedet for å ha konkret verdi. Det gjør at vi kan manipulere uttrykkene på generell form og eventuelt substituere inn gitte verdier etter hvert..."
   ]
  },
  {
   "cell_type": "markdown",
   "id": "caring-fields",
   "metadata": {},
   "source": [
    "Symbols manipulering er veldig nyttig. Hvis jeg har et uttrykk så kan jeg evaluere det numerisk. Men da er det ikke mulig å manipulere det videre. Så greit å kunne beholde den symbolske representasjonen for å gjøre ting.\n",
    "\n",
    "Symbol class. Konstruere med symbols('string'). Hvis mellomrom kan jeg lage tuple, symbols('a b'). Det er immutable slik at jeg må binde på nytt.\n",
    "\n",
    "Ser også at det er en funksjon var('x')\n",
    "\n",
    "merk at det kan være lurt å presisere informasjon om symbol... for eksempel om positive=true, fordi ting som er sant for positiv tall ikke nødvendigvis er sant generelt.\n",
    "\n",
    "Må unngå å bruke native python floats! Bruke sympy floats med S(1.0)... eller rasjonelle tall. Litt usikker på om sympy float er tilstrekkelig for å unngå stygge uttryk. \n",
    "\n",
    "hvert tall {0,...,9} har egen objekttype.\n",
    "\n",
    "tror den har innebygde matematiske funksjoner som kan evaulueres med .evalf(antall desimal)"
   ]
  },
  {
   "cell_type": "markdown",
   "id": "humanitarian-replacement",
   "metadata": {},
   "source": [
    "1. Bruker metoden subs (substitute) for å erstatte alle instances av symbol med tall. Gjør det for å evualuere størrelsen numerisk. expr.subs(var,tall) eller expr.subs([(var1,tall1),(var2,tall2)])\n",
    "\n",
    "2. .evalf(antall desimal)\n",
    "\n",
    "3. lambdify\n",
    "\n",
    "Algebra: Vil ofte ønske å finne ekvivalent representasjon av uttryk som er litt enklere. Main wrapper er simplify(expr) som prøver ulike metoder og se hvilke resultat som gir enklest uttrykk. Det er også mange andre funksjoner dersom vi vet hva vi ønsker å gjøre. \n",
    "\n",
    "For å teste om to utrykk er ekvivalent, a=b, så utnytter vi at dette er ekvivalent med a-b=0 og bruker (a-b).simplify() for å sjekke om dette faktisk er 0.\n",
    "\n",
    "Annet:\n",
    "\n",
    "1. bruker exp(blabla) for e^(blabla),\n",
    "2. bruker ** istedet for ^ i utforming av expression, selv uten strings\n",
    "3. .doit() er generell funksjon som evaluerer uevaluerte størrelse \n",
    "4. Kan importere symboler fra sympy.abc i steder for å definere de eksplistt.. feks hvis jeg vil bruke x,i,k, .."
   ]
  },
  {
   "cell_type": "markdown",
   "id": "approved-steering",
   "metadata": {},
   "source": [
    "Kan konstruere objekter direkte med class constructor, eg:\n",
    "```python\n",
    "x = Symbol('x', hint) # eks: positive=True, finite=True, integer=True, \n",
    "f = Function('f')\n",
    "```\n",
    "Alternativ kan jeg bruke symbols() og spesifisere cls (tar Symbol som default)\n",
    "```python\n",
    "x = symbols('x')\n",
    "f = sumbols('x', cls=Function)\n",
    "```"
   ]
  },
  {
   "cell_type": "markdown",
   "id": "enabling-magnet",
   "metadata": {},
   "source": [
    "### Funksjoner"
   ]
  },
  {
   "cell_type": "markdown",
   "id": "external-conclusion",
   "metadata": {},
   "source": [
    "Finnes en funksjonsklasse. Finnes mange spesielle innebygde funksjoner som inheriter fra denne klassen. \n",
    "\n",
    "Jeg kan bruke dette til å definere mine egne funksjoner.\n",
    "\n",
    "1. f = Function('f')\n",
    "2. f = symbols('f', cls=Function)\n",
    "\n",
    "Dette blir udefinerte funksjoner som jeg ikke kan evaluere eller gjøre så mye med. Må i så fall definere egenskapene til funksjonen... litt usikker på hvordan jeg gjør dette og hvorfor jeg skal ha lyst. Funksjonen har en expression og jeg kan jo jobbe med expression direkte. Uansett så er f(x) meningsfult selv om f ikke har spesifisert innhold og vi kan skrive f(x).diff(x). Tror det blir relevant å jobbe med funksjonsobjekter i differensialligninger."
   ]
  },
  {
   "cell_type": "markdown",
   "id": "objective-stability",
   "metadata": {},
   "source": [
    "Kan også lage Lambda-funksjoner,\n",
    "```python\n",
    "f = Lambda(*symbols, expr)\n",
    "f(*symbols)\n",
    "```"
   ]
  },
  {
   "cell_type": "markdown",
   "id": "american-internship",
   "metadata": {},
   "source": [
    "### kalkulus"
   ]
  },
  {
   "cell_type": "markdown",
   "id": "biblical-trinidad",
   "metadata": {},
   "source": [
    "#### Differensiering"
   ]
  },
  {
   "cell_type": "markdown",
   "id": "neither-average",
   "metadata": {},
   "source": [
    "```python\n",
    "diff(expr, symbol) # funksjon\n",
    "\n",
    "expr.diff(symbol) # metode\n",
    "expr.diff(x,2) # andre orden\n",
    "expr.diff(x,2,y,2)\n",
    "```"
   ]
  },
  {
   "cell_type": "markdown",
   "id": "changing-washer",
   "metadata": {},
   "source": [
    "#### Integral"
   ]
  },
  {
   "cell_type": "markdown",
   "id": "entitled-bonus",
   "metadata": {},
   "source": [
    "```python\n",
    "integrate(expr,var) # ubestemt\n",
    "integrate(expr,(var,low,upper)) # bestemt, returner ikke integreringskonstant\n",
    "```"
   ]
  },
  {
   "cell_type": "markdown",
   "id": "orange-supplement",
   "metadata": {},
   "source": [
    "#### Grenser"
   ]
  },
  {
   "cell_type": "markdown",
   "id": "radio-chase",
   "metadata": {},
   "source": [
    "```python\n",
    "limit(expr, # en expression der var inngår\n",
    "      var, # symbol som vi varierer. Resten av blir behandlet som konstant\n",
    "      value, # verdi av var der vi undersøker grenseverdi til expr\n",
    "      retning # '+-' hvis begge retninger, '+' hvis fra høyre, '-' fra venstre\n",
    "     ) \n",
    "```"
   ]
  },
  {
   "cell_type": "markdown",
   "id": "noticed-washer",
   "metadata": {},
   "source": [
    "### Vektorer"
   ]
  },
  {
   "cell_type": "markdown",
   "id": "angry-mozambique",
   "metadata": {},
   "source": [
    "### Matriser"
   ]
  },
  {
   "cell_type": "markdown",
   "id": "ordered-diana",
   "metadata": {},
   "source": [
    "Kan konstruere generiske matriser med \n",
    "\n",
    "Matrixsymbol('X', n, m)\n",
    "\n",
    "men da er det på en måte representert med X og vet ikke om jeg har tilgang til individuelle element.\n",
    "\n",
    "kan også bruke symarray() som gir en numpy av array med sympy symboler med generiske navn x_0, x_1,.., slik at jeg ikke trenger å konstruere de explisitt før jeg plasserer de i array"
   ]
  },
  {
   "cell_type": "markdown",
   "id": "neither-grade",
   "metadata": {},
   "source": [
    "konstruerer med sy.Matrix([[...],[...]]). Kan også bruke til å konstruere kolonnevektor.\n",
    "\n",
    "indexing A.row(num), A.col(num)\n",
    "\n",
    "Kan også indexe med [], får da ut liste som jeg kan konvertere til matrix med eks Matrix(A[1,:])\n",
    "\n",
    "slette row/col, A.row_del(),A.col_del()\n",
    "\n",
    "legge til: A.row.insert(), A.col_insert()\n",
    "\n",
    "Har jo litt basic operasjon, rekke-reduksjon, nullspace, determinant, columnspace, eigenvects, diagonalize,"
   ]
  },
  {
   "cell_type": "markdown",
   "id": "artistic-hydrogen",
   "metadata": {},
   "source": [
    "### Ligninger"
   ]
  },
  {
   "cell_type": "markdown",
   "id": "dried-blond",
   "metadata": {},
   "source": [
    "```python\n",
    "sy.solve(eqs,[x,y,z]) # løse hvis det er flere variabler... merk at eqs er liste med symboler.\n",
    "\n",
    "sy.solveset(eq,x)\n",
    "```"
   ]
  },
  {
   "cell_type": "markdown",
   "id": "opening-fluid",
   "metadata": {},
   "source": [
    "### Differensialligninger"
   ]
  },
  {
   "cell_type": "markdown",
   "id": "further-escape",
   "metadata": {},
   "source": [
    "```python\n",
    "from sympy import Symbol, Function, classify_ode, dsolve\n",
    "\n",
    "t = Symbol('t')\n",
    "y = Function('y')\n",
    "\n",
    "diff_eq = y(t)-y(t).diff() # vil ha expression der alt er på samme side.. eller kan eventuelt spesifesere Eq(lhs, rhs)\n",
    "print(classify_ode(diff_eq))\n",
    "sol = dsolve(diff_eq)\n",
    "```"
   ]
  },
  {
   "cell_type": "markdown",
   "id": "damaged-horror",
   "metadata": {},
   "source": [
    "Fremgangsmåte for å lage retningsdiagram:\n",
    "```python\n",
    "# lambdifisert funksjon av derivert\n",
    "diff_eq = ...\n",
    "y_diff = solve(diff_eq,y(t).diff(t))[0]\n",
    "lam_y_diff = lambdify(args=[t,y(t)],expr=y_diff)\n",
    "\n",
    "# lage grid, går ut i fra at t bør begynne i 0, litt usikker på optimalt valg av grid\n",
    "tt, yy = np.mgrid[0.1:20:1,0:15:.5]\n",
    "U = np.ones(shape=tt.shape)\n",
    "V = lam_y_diff(tt,yy)\n",
    "\n",
    "# normaliserer lengde på vektor\n",
    "length = np.sqrt(U**2 + V**2)\n",
    "U = U/length\n",
    "V = V/length\n",
    "\n",
    "# angles='xy' er nødvendig for at blir riktig. vet ikek hvorfor\n",
    "fig, ax = plt.subplots(figsize=(12,8))\n",
    "ax.quiver(tt,yy,U,V,headaxislength=0, units='width', angles='xy') \n",
    "```"
   ]
  },
  {
   "cell_type": "markdown",
   "id": "cosmetic-database",
   "metadata": {},
   "source": [
    "Er generelt litt usikker på hvordan jeg håndterer andre ordens differensialligninger."
   ]
  },
  {
   "cell_type": "markdown",
   "id": "aboriginal-baghdad",
   "metadata": {},
   "source": [
    "### Plotting"
   ]
  },
  {
   "cell_type": "markdown",
   "id": "structured-platinum",
   "metadata": {},
   "source": [
    "Kan bruke plot() for convinience\n",
    "```python\n",
    "plot(expr, (symbol,min,max))\n",
    "plot(x, x**2, x**3, (x, -5, 5)) # flere funksjoner i samme figur\n",
    "```\n",
    "Kan også lage enkle 3d plots\n",
    "```python\n",
    "from sympy.plotting import plot3d\n",
    "plot3d(expr,(x,a,b), (y,c,d))\n",
    "```\n",
    "Kan bruke lambdify til å evaluere funksjon på grid, slik at jeg får (xvals,yvals) som jeg kan feede inn i matplotlib\n",
    "```python\n",
    "grid = np.linspace()\n",
    "lam_f = lambdify(x,f)\n",
    "yvals = lam_f(grid)\n",
    "plt.plot(grid, yvals)\n",
    "```"
   ]
  },
  {
   "cell_type": "markdown",
   "id": "incomplete-classic",
   "metadata": {},
   "source": [
    "Det kan være utfordring med at numpy sliter med å tolke innholdet i sympy funksjonen. Da kan vi istedet konverete expr til Lambda funksjon og evaluere denne med list comprehension og konverte til float som matplotlib kan tolke\n",
    "```python\n",
    "func = Lambda(x, expr)\n",
    "x_grid = np.linspace(-4,6)\n",
    "plt.plot(x_grid, [float(func(x).evalf()) for x in x_grid])\n",
    "\n",
    "```"
   ]
  },
  {
   "cell_type": "markdown",
   "id": "going-israel",
   "metadata": {},
   "source": [
    "### Indexed objekter"
   ]
  },
  {
   "cell_type": "markdown",
   "id": "driving-hazard",
   "metadata": {},
   "source": [
    "Har tre objekttyper,IndexedBase, Indexed, and Idx, som kan representere M[i, j], gitt element av matrise med størrelse som kan variere. Arrays er bare special case av matrise.\n",
    "\n",
    "1. Indexed : hele objektet\n",
    "2. IndexedBase : Representere array M (bruke for convienent creation av Indexed objekt.\n",
    "3. Idx : Representere indexene (i,j),"
   ]
  },
  {
   "cell_type": "markdown",
   "id": "recovered-census",
   "metadata": {},
   "source": [
    "```python\n",
    "M = IndexedBase('M')\n",
    "i, j = symbols('i j', cls=Idx)\n",
    "M[i, j] # Indexed-objekt. Tror ikke jeg binder til variabelnavn; intuitivt å referere til hele objektet med M[i,j]..\n",
    "\n",
    "```"
   ]
  },
  {
   "cell_type": "markdown",
   "id": "laden-festival",
   "metadata": {},
   "source": [
    "Kan spesifisere shape i konstruksjon av IndexedBase"
   ]
  },
  {
   "cell_type": "markdown",
   "id": "standing-child",
   "metadata": {},
   "source": [
    "```python\n",
    "N, M = symbols('N M ', integer=True)\n",
    "A = IndexedBase('A', shape=(N, M))\n",
    "i, j = symbols('i j', cls=Idx)\n",
    "A[i, j].shape == (N, M)\n",
    "```"
   ]
  },
  {
   "cell_type": "markdown",
   "id": "adaptive-douglas",
   "metadata": {},
   "source": [
    "Eller spesifiesere den gjennom konstruksjon av Idx"
   ]
  },
  {
   "cell_type": "markdown",
   "id": "fatty-brooks",
   "metadata": {},
   "source": [
    "```python\n",
    "N, M = symbols('N M', integer=True)\n",
    "i = Idx('i', N) # får litt annen representasjon av Indexed-objekt når jeg konstruerer Idx på denne måten ... rart\n",
    "j = Idx('j', M)\n",
    "M[i, j].shape == (N,M)\n",
    "```"
   ]
  },
  {
   "cell_type": "markdown",
   "id": "complex-davis",
   "metadata": {},
   "source": [
    "### Summering"
   ]
  },
  {
   "cell_type": "markdown",
   "id": "forced-pepper",
   "metadata": {},
   "source": [
    "Vi har sett på symbolsk representasjon av arrays med ubestemt og potensielt uendelig størrelse. Vi kan nå representere summen av leddene i arrayen.\n",
    "$$\n",
    "\\sum_{i=1}^n f(x_i)\n",
    "$$"
   ]
  },
  {
   "cell_type": "markdown",
   "id": "coordinate-finnish",
   "metadata": {},
   "source": [
    "Hvis verdi av hvert ledd er konstant uavhengig av i så kan vi representere det med:\n",
    "```python\n",
    "x, i, n = symbols('x i n')\n",
    "Sum(x, (i, lower, n)) # der x kan være en mer generell expression. Hvis vi evaluerer summen får vi n*x\n",
    "```\n",
    "Kan enkelt utvide til tilfelle der verdi av index inngår i expression\n",
    "```python\n",
    "Sum(i*expr+i, (i,lower,n)) # skalering og addering av expr\n",
    "Sum(expr.subs(x,i),(i,lower,upper)) # mer generelle funksjoner\n",
    "```"
   ]
  },
  {
   "cell_type": "markdown",
   "id": "dynamic-walter",
   "metadata": {},
   "source": [
    "Det er vanskeligere dersom følgen består (transformasjoner) av elementer i array $[x_1,x_2,\\dots]$ der verdi av $x_i$ ikke har like direkte sammenheng med $i$. Vi må da få en symbolsk representasjon av denne arrayen.\n",
    "```python\n",
    "x = IndexedBase('x')\n",
    "i = symbols('i',integer=True)\n",
    "```\n",
    "Hvis hvert ledd bare korresponderer med element i array:\n",
    "```python\n",
    "Sum(x[i],(i,1,N))\n",
    "```\n",
    "Hvis vi vil transformere hvert element i array med en funksjon $f$, eks: $log(\\cdot)$\n",
    "```python\n",
    "Sum(log(x[i]),(i,1,N) \n",
    "```\n",
    "Alternativt kan jeg konstruere expression med element i array, men dette ser litt stygt ut\n",
    "```python\n",
    "Sum((1-x[i])*3x[i], (i,1,N) \n",
    "```"
   ]
  },
  {
   "cell_type": "markdown",
   "id": "accompanied-dressing",
   "metadata": {},
   "source": [
    "#### Substituere inn numerisk array"
   ]
  },
  {
   "cell_type": "markdown",
   "id": "numerous-scale",
   "metadata": {},
   "source": [
    "Dette gir en veldig generell representasjon for vilkårlige arrayer x. Kan evaluere de ved å spesifisere innhold i arrayen."
   ]
  },
  {
   "cell_type": "markdown",
   "id": "severe-quick",
   "metadata": {},
   "source": [
    "```python\n",
    "x, i = symbols(\"x i\")\n",
    "s = Sum(Indexed('x',i),(i,0,3)) # har bare generisk x-input. Hvert element er en funksjon av x(n), så n->x(n)->g(x(n))\n",
    "f = lambdify(x, s)\n",
    "b = np.array([1, 2, 3, 4])\n",
    "f(b)\n",
    "```"
   ]
  },
  {
   "cell_type": "markdown",
   "id": "cheap-spelling",
   "metadata": {},
   "source": [
    "Kan håndtere summering opp til symbolsk N hvis vi substituerer inn lengden på array... må jobbe fra 0 til N-1 for å være konsistent med python arrays\n",
    "```python\n",
    "x = IndexedBase('x')\n",
    "n, N = symbols('n N',integer=True)\n",
    "s = Sum(x[n], (n,0,N-1))\n",
    "\n",
    "b = [1,2,3]\n",
    "f = lambdify(x,s.subs(N,len(b)))\n",
    "f(b)\n",
    "```"
   ]
  },
  {
   "cell_type": "markdown",
   "id": "fluid-blade",
   "metadata": {},
   "source": [
    "Kan substituere inn fra array inn i symbolsk expression med sum dersom jeg først evaluerer den med doit() slik at jeg får tilgang til individuelle komponent i summene,\n",
    "```python\n",
    "expr = a*x[n]**2\n",
    "prod = Product(expr,(n, 0, len(array)-1)).doit()\n",
    "prod = prod.subs([(x[n], array[n]) for n in range(len(array))])\n",
    "```"
   ]
  },
  {
   "cell_type": "markdown",
   "id": "fundamental-olive",
   "metadata": {},
   "source": [
    "#### Konvergens"
   ]
  },
  {
   "cell_type": "markdown",
   "id": "theoretical-immunology",
   "metadata": {},
   "source": [
    "Kan sjekke konvergens med is_convergent,\n",
    "```python\n",
    "Sum(1/i,(i,1,oo)).is_convergent() # False\n",
    "Sum(1/i**1.1,(i,1,oo)).is_convergent() # True\n",
    "```"
   ]
  },
  {
   "cell_type": "markdown",
   "id": "single-focus",
   "metadata": {},
   "source": [
    "#### Product"
   ]
  },
  {
   "cell_type": "markdown",
   "id": "proof-rapid",
   "metadata": {},
   "source": [
    "Kan også ta produktet av mange ledd på analog ganske analog måte."
   ]
  },
  {
   "cell_type": "markdown",
   "id": "surrounded-season",
   "metadata": {},
   "source": [
    "```python\n",
    "x, i, n = symbols('x i n')\n",
    "Product(x, (i, 1, n)) # der x kan være en mer generell expression. Hvis vi evaluerer summen får vi x^n\n",
    "```"
   ]
  },
  {
   "cell_type": "markdown",
   "id": "advised-thought",
   "metadata": {},
   "source": [
    "### simplification"
   ]
  },
  {
   "cell_type": "markdown",
   "id": "appreciated-sport",
   "metadata": {},
   "source": [
    "Har .simplify() som tester ulike simplifiseringsmetoder og bruker heuristic til å finne enkleste representasjon. dette er en arbeidshest når vi bare vil ha enklere uttrykk\n",
    "\n",
    "Dersom det ikke gir ønsket representasjon og vi har litt idé om hva vi ønsker å gjøre kan vi bruke andre simplifiseringsmetoder\n",
    "\n",
    "1. powsimp() får slår sammen multiplikasjon av uttrykk med samme base\n",
    "2. together() får alt opp på felles brøk.\n",
    "3. expand() ..\n",
    "4. factor() .. "
   ]
  },
  {
   "cell_type": "markdown",
   "id": "conventional-sister",
   "metadata": {},
   "source": [
    "### Optimering"
   ]
  },
  {
   "cell_type": "markdown",
   "id": "creative-casino",
   "metadata": {},
   "source": [
    "#### Ubetinget optimering"
   ]
  },
  {
   "cell_type": "markdown",
   "id": "labeled-distribution",
   "metadata": {},
   "source": [
    "Får et lukket intervall [a,b] kan vi finne min/max verdi slik:"
   ]
  },
  {
   "cell_type": "raw",
   "id": "pregnant-thinking",
   "metadata": {},
   "source": [
    "x = symbols(x,real=True)\n",
    "lb, ub = a,b \n",
    "\n",
    "f = ...\n",
    "fprime = diff(f,x)\n",
    "zeros = solveset(fprime,x,domain=Interval(lb,ub))\n",
    "ans = Max(f.subs(x,lb),f.subs(x,ub),*[f.subs(x,num) for num in zeros])"
   ]
  },
  {
   "cell_type": "markdown",
   "id": "operating-corps",
   "metadata": {},
   "source": [
    "Tror vi kan løse dersom jeg har utrykk for gradient. Setter den lik null og får ligningssystem. Kan ha flere løsninger, men kan i prinsippet evaluerer alle og finne største verdi."
   ]
  },
  {
   "cell_type": "markdown",
   "id": "permanent-passion",
   "metadata": {},
   "source": [
    "#### Betinget optimering"
   ]
  },
  {
   "cell_type": "markdown",
   "id": "polished-guinea",
   "metadata": {},
   "source": [
    "Bruker lagrangian\n",
    "\n",
    "max f() gitt g(x)-c=0\n",
    "\n",
    "L = f+lambda*(g(x)-c)\n",
    "\n",
    "finn gradient til L\n",
    "\n",
    "sammen med g(x)-c gir det ligningssystem. Finner (x,y,lambda) der hver ligning er = 0 slik at vi har stasjonære punkt\n",
    "\n",
    "evauluere f() i punktene for å finne global maximum."
   ]
  },
  {
   "cell_type": "markdown",
   "id": "adolescent-reservation",
   "metadata": {},
   "source": [
    "### stats"
   ]
  },
  {
   "cell_type": "markdown",
   "id": "consistent-restriction",
   "metadata": {},
   "source": [
    "#### Interface"
   ]
  },
  {
   "cell_type": "markdown",
   "id": "regulation-scoop",
   "metadata": {},
   "source": [
    "```python\n",
    "from sympy.stats import P, E, variance\n",
    "\n",
    "P(condition, # både condition og given er instance av class i sympy.core.relational der RandomSymbol inngår\n",
    "  given, # hvis jeg vil ha likhet (for diskret variabel) så må jeg bruke Eq(X, value)\n",
    "  numsamples, # antall samples hvis jeg vil evaluere med simulering\n",
    " )\n",
    "\n",
    "E(expr, given) # Kan finne optionally finne betinget forventning og varians\n",
    "variance(expr, given)\n",
    "\n",
    "given(expr, condition) # kan alternativt eksplisitt lage nytt PSpace... returnerer RandomSymbol med opdater pdf og set\n",
    "where(condition, given_condition) # returnerer set der condition er sann\n",
    "\n",
    "covariance(X,Y, condition) # kan også finne momenter i simultanfordeling.. hmhm\n",
    "correlation(X,Y, condition)\n",
    "```  "
   ]
  },
  {
   "cell_type": "markdown",
   "id": "major-magnitude",
   "metadata": {},
   "source": [
    "##### expressions"
   ]
  },
  {
   "cell_type": "markdown",
   "id": "bottom-organ",
   "metadata": {},
   "source": [
    "Input til interface kan være expressions som består av kombinasjoner av RandomSymbol\n",
    "\n",
    "```python\n",
    "X = Normal('X',0,1)\n",
    "Y = X**2\n",
    "```\n",
    "Sympy behandler ikke Y som et nytt RandomSymbol. Vi kan likevel bruke det i interface, men når vi bruker density() så får vi ikke ut objekt med fordeling... Vi får ut en Lambdafunksjon med pdf som vi kan evaluere.. tror jeg. Har metoder og sånn, men tror jeg synes det er enklere å jobbe med vanlig expression. Når jeg har expression kan jeg jobbe med dette direkte for å finne cdf med integrasjon, ellers kan jeg bruke det til å eksplisitt lage et RandomSymbol\n",
    "```python\n",
    "y = Symbol('y', positive=True)\n",
    "Y_pdf = density(Y)(y)\n",
    "Y = ContinuousRV(y,Y_pdf, Interval(0,oo))\n",
    "Y_dist = density(Y)\n",
    "Y_cdf = Y_dist.cdf(y)\n",
    "```"
   ]
  },
  {
   "cell_type": "markdown",
   "id": "dominant-denmark",
   "metadata": {},
   "source": [
    "Litt usikker på hvordan jeg håndterer verdimengde til transformasjonene på en god måte.. Må alltid huske å definere hvilke intervall mine RandomSymbols er definert på"
   ]
  },
  {
   "cell_type": "markdown",
   "id": "balanced-reader",
   "metadata": {},
   "source": [
    "#### Lage random variables"
   ]
  },
  {
   "cell_type": "markdown",
   "id": "ahead-information",
   "metadata": {},
   "source": [
    "##### Bult-in"
   ]
  },
  {
   "cell_type": "markdown",
   "id": "featured-catalog",
   "metadata": {},
   "source": [
    "Alle de vanlige parametriske familiene har egne classer som ligger i statsmodulen. Kan instansiere objekt med\n",
    "\n",
    "```python\n",
    "from sympy.stats import Normal\n",
    "X = Normal('X', mean, std)\n",
    "```\n",
    "der jeg kan bruke spesifikke verdier eller symboler til å representere parametrene. X er et RandomSymbol-objekt. Vi skal se at vi kan bruke dette som argument i high-level interface funksjoner. RandomSymbol har en verdimengde (RandomDomain) og sannsynlighetsfordeling på denne verdimengden. Til sammen utgjør dette variabelens PSpace.\n",
    "\n",
    "For å få ut flere egenskaper til den tilfeldige variabelen må vi bruke\n",
    "```python\n",
    "from sympy.stats import density\n",
    "X_dist = density(X) # crv_types.NormalDistribution(mean,std)\n",
    "X_pdf = X_dist.pdf(x) # deterministisk expression\n",
    "X_cdf = X_dist.cdf(x)\n",
    "X_range = X_dist.set \n",
    "```"
   ]
  },
  {
   "cell_type": "markdown",
   "id": "floral-elite",
   "metadata": {},
   "source": [
    "##### Homemade"
   ]
  },
  {
   "cell_type": "markdown",
   "id": "colonial-symphony",
   "metadata": {},
   "source": [
    "Kan eventuelt konstruere mine egne RandomSymbol-objekt ved å spesifisere PSpace gjennom pdf + range\n",
    "```python\n",
    "X = ContinuousRV(x,\n",
    "                 density, # en expression der x inngår\n",
    "                 set=Interval(a,b) # \n",
    "                )\n",
    "```\n",
    "Kan også konstruere fordelingen direkte uten å lagene RandomSymbol... vet ikke hvorfor jeg vil gjøre dette når jeg uansett kan få det ut med density(X), men uansett:\n",
    "```python\n",
    "X_dist = ContinuousDistributionHandmade(density, set)\n",
    "```\n",
    "Fungerer som superclass for de andre built-in fordelingene.. der det er spesifisert flere egenskaper."
   ]
  },
  {
   "cell_type": "markdown",
   "id": "compound-money",
   "metadata": {},
   "source": [
    "##### Simultanfordeling"
   ]
  },
  {
   "cell_type": "markdown",
   "id": "proper-spain",
   "metadata": {},
   "source": [
    "```python\n",
    "JointRV('x',\n",
    "        pdf=\n",
    "       )\n",
    "```"
   ]
  },
  {
   "cell_type": "markdown",
   "id": "minute-syndicate",
   "metadata": {},
   "source": [
    "#### sympy.stats.rv"
   ]
  },
  {
   "cell_type": "markdown",
   "id": "million-psychology",
   "metadata": {},
   "source": [
    "Finnes en egen modul med utvidet funksjonaliter, blant annet:\n",
    "\n",
    "- sympy.stats.rv.RandomIndexedSymbol(Indexed('x',i),st.Bernoulli('x',ρ).pspace))\n",
    "\n",
    "det er nå en gang sånn at RandomSymbol er representasjon av et probability space. Spesifiserer et domain de tar verdi og sannsynlighet for ulike verdier. Kan få det ut med .pspace propoety.\n",
    "\n",
    "Vet ikke hvordan jeg skal bruke RandomIndexedSymbol til å gjøre noe som helst.. Blir litt knyttet til stokastisk prossess, og jeg kan betrakte sample som dette.. så er jo nyttig, men bare vet ikke hvordan det fungerer.\n",
    "\n"
   ]
  },
  {
   "cell_type": "code",
   "execution_count": null,
   "id": "portuguese-springer",
   "metadata": {},
   "outputs": [],
   "source": []
  }
 ],
 "metadata": {
  "kernelspec": {
   "display_name": "Python 3",
   "language": "python",
   "name": "python3"
  },
  "language_info": {
   "codemirror_mode": {
    "name": "ipython",
    "version": 3
   },
   "file_extension": ".py",
   "mimetype": "text/x-python",
   "name": "python",
   "nbconvert_exporter": "python",
   "pygments_lexer": "ipython3",
   "version": "3.7.9"
  },
  "latex_envs": {
   "LaTeX_envs_menu_present": true,
   "autoclose": true,
   "autocomplete": true,
   "bibliofile": "biblio.bib",
   "cite_by": "apalike",
   "current_citInitial": 1,
   "eqLabelWithNumbers": true,
   "eqNumInitial": 1,
   "hotkeys": {
    "equation": "Ctrl-E",
    "itemize": "Ctrl-I"
   },
   "labels_anchors": false,
   "latex_user_defs": false,
   "report_style_numbering": false,
   "user_envs_cfg": false
  },
  "toc": {
   "base_numbering": 1,
   "nav_menu": {},
   "number_sections": true,
   "sideBar": true,
   "skip_h1_title": false,
   "title_cell": "Table of Contents",
   "title_sidebar": "Contents",
   "toc_cell": false,
   "toc_position": {},
   "toc_section_display": true,
   "toc_window_display": true
  }
 },
 "nbformat": 4,
 "nbformat_minor": 5
}
