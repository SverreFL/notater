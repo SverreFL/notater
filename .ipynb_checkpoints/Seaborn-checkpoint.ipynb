{
 "cells": [
  {
   "cell_type": "markdown",
   "id": "structural-value",
   "metadata": {},
   "source": [
    "### Innledning"
   ]
  },
  {
   "cell_type": "markdown",
   "id": "altered-exchange",
   "metadata": {},
   "source": [
    "Seaborn gjør det enkelt å lage mange standard plot med utgangspunkt i dataframe med en high-level api. Bruker matplotlib under the hood og jeg kan få tilgang til ax-objektene for å gjøre endringer manuelt med matplotlib syntax. \n",
    "\n",
    "Den har flat namespace der alle funksjonene er tilgjengelig på øverste nivået, men koden er organisert i moduler ut i fra hva slags type plot det er (relational, distributions, categorical). Hver modul har en rekke axes-level plots som fungerer analogt til custom matplotlib plot jeg kunne laget selv. Disse bruker ax=plt.gca() under hood for å koble på state, men vi kan også spesifisere ax=ax explisitt. I tillegg har hver modul en figure-level plot som returnerer FacetGrid objekt. Spesifiserer hvilken axes-level funksjon som skal brukes på hver subplot med kind=.\n",
    "\n",
    "I utgangspunktet bruker jeg figure level. Det har fin api og håndterer subplot grid på god måte. Nedsiden er at alle argumentene er listet i funksjonscallen, så må ha kjennskap til disse fra axes-level plots i modulen. Det har også litt annen måte å spesifisere figsize enn matplotlib: spesifisere hight=inches, aspect=ratio. \n",
    "\n",
    "Unntaket er dersom jeg vil lage en figur med ulike typer plot på ulike subplots. I såfall bør jeg sette opp grid i matplotlib og kjøre axes-level funksjon separat på hver ax. \n",
    "\n",
    "Figure-level plotsene fra modulene over gir en wrapper til FacetGrid objektet. Litt usikker på om det blir aktuelt å jobbe med dette direkte. Dessuten finnes det to andre objekt for grids som ikke bare duplikere samme type plot på ulike subplots i rektangulær grid: vi har også jointplot og pairplot som kombinerer bivariat og marginal sammenheng i samme figur for henholdsvis én kombinasjon av variabler og samtlige kombinasjoner. "
   ]
  },
  {
   "cell_type": "markdown",
   "id": "amazing-berlin",
   "metadata": {},
   "source": [
    "Merk at vi ofte må gjøre litt preprocessing på dataframe vi sender inn for å få akkurat den visualiseringen vi vil ha. Spesielt hvis det er betingede fordelinger... må da bruke groupby. Kan ikke få gjort alt gjennom seaborn api.\n",
    "\n",
    "Merk også at seaborn er laget for å bruke dataframe. Hvis vi må gjøre transformasjoner/subsetting, så konstruer alltid dataframe med innholdet i stedet for å jobbe eksplisitt med numerisk array."
   ]
  },
  {
   "cell_type": "markdown",
   "id": "provincial-underground",
   "metadata": {},
   "source": [
    "### Figure level plots"
   ]
  },
  {
   "cell_type": "markdown",
   "id": "encouraging-republic",
   "metadata": {},
   "source": [
    "Har felles api\n",
    "\n",
    "I tillegg til å skille observasjon med ulik verdi med fysisk plassering i plottet kan vi også kommunisere informasjon om verdi av andre variabler med tre såkalte semantics: hue, style og size. Kan bruke flere sematnics på sammen variabel. Den prøver å inferre et godt valg, men kan overkjøre valget manuelt."
   ]
  },
  {
   "cell_type": "markdown",
   "id": "fresh-bernard",
   "metadata": {},
   "source": [
    "```python\n",
    "g = figure_plot(data=df,\n",
    "                x='x', y='y', # bestemme geometrisk plassering \n",
    "                hue=, # farge, hvilken colormap avhenger om rent kategorisk eller ordered/numerisk\n",
    "                style=, # ulik marker\n",
    "                size=, # ulik størrelse, bruker normalisert i stedet for proposjonal\n",
    "                col=, # eget facet med subset av observasjon med ulik verdi av col\n",
    "                col_wrap=, # maks antall facets på rad\n",
    "                row=, # tilsvarer col_wrap=1, kan subsette etter både verdi på col og row.\n",
    "                height=, # høyde til hver facet\n",
    "                aspect=, # default er 1 (kvadrat)\n",
    "               )\n",
    "```"
   ]
  },
  {
   "cell_type": "markdown",
   "id": "conceptual-amazon",
   "metadata": {},
   "source": [
    "### Relational"
   ]
  },
  {
   "cell_type": "markdown",
   "id": "opened-satellite",
   "metadata": {},
   "source": [
    "```python\n",
    "relplot(x='x', y='y',\n",
    "        kind= # scatter eller line\n",
    "        )\n",
    "```"
   ]
  },
  {
   "cell_type": "markdown",
   "id": "appropriate-pepper",
   "metadata": {},
   "source": [
    "```python\n",
    "scatterplot(x='x',y='y',\n",
    "            ... # kan bruke semantics til å identifisere subsets av data\n",
    "           )\n",
    "```"
   ]
  },
  {
   "cell_type": "markdown",
   "id": "modified-liberty",
   "metadata": {},
   "source": [
    "```python\n",
    "lineplot(x='x', y='y', # sorterer x\n",
    "        ..., # kan få flere linjer ved å velge semantics\n",
    "        estimator='mean', # kan velge hvilket sammendragsmål av y for hver x hvis flere verdier\n",
    "        ci=None, # som default estimerer den standardfeil til estimator\n",
    "        err_style='band' # kan enten ta band eller bars.. kommer litt ann på om x er diskret eller kont?\n",
    "        )\n",
    "```"
   ]
  },
  {
   "cell_type": "markdown",
   "id": "exclusive-pierce",
   "metadata": {},
   "source": [
    "#### Regresjon"
   ]
  },
  {
   "cell_type": "markdown",
   "id": "banned-leadership",
   "metadata": {},
   "source": [
    "Vi kan bruke modellering av E[y|x] til å visualisere releasjon. Dette er spesielt nyttig dersom vi har masse data. lmplot gir interface til FacetGrid slik at vi kan plotte regplots på ulike subsets på ulike facets"
   ]
  },
  {
   "cell_type": "markdown",
   "id": "central-luxury",
   "metadata": {},
   "source": [
    "```python\n",
    "lmplot(x='x',y='y',\n",
    "       ... # mye samme argument som regplot\n",
    "       cols= # mye samme argument som andre FacetGrid wrappers\n",
    "      )\n",
    "```"
   ]
  },
  {
   "cell_type": "markdown",
   "id": "speaking-characteristic",
   "metadata": {},
   "source": [
    "```python\n",
    "regplot(x='x',y='y',\n",
    "        x_bins, # har litt alternativer til scatter vi kan bruke hvis x er diskret\n",
    "        order=2, # har alternative for ikke-lineær cef. order=2 gir polynom, eller så kan vi bruke\n",
    "        lower=True, # lokal vektet regresjon (merk at ikke estimerer ci)\n",
    "        ci=None, # alternativt en int i [0,100]\n",
    "        logistic=True, # y må være 1/0 eller True/False. Ikke tilstrekkelig med ordered category.. burde vært.\n",
    "        n_boot # kan være greit å spesifisere lavere verdi dersom logistisk med mye data.\n",
    "        )\n",
    "```"
   ]
  },
  {
   "cell_type": "markdown",
   "id": "floral-alpha",
   "metadata": {},
   "source": [
    "### Distributions"
   ]
  },
  {
   "cell_type": "markdown",
   "id": "applied-zealand",
   "metadata": {},
   "source": [
    "Fordel med empirisk kumulative distribusjon at den ikke trenger noen smoothing parameter (binwidth i kde/hist). Nedsiden er at det ikke er like lett å se sentraltends og spredning til fordelingen.\n"
   ]
  },
  {
   "cell_type": "markdown",
   "id": "valued-insert",
   "metadata": {},
   "source": [
    "```python\n",
    "distplot(...,\n",
    "         rug= # spesifisere om vi vil ha rug til å visualisere individuelle observasjon\n",
    "        )\n",
    "```"
   ]
  },
  {
   "cell_type": "markdown",
   "id": "provincial-guyana",
   "metadata": {},
   "source": [
    "```python\n",
    "histplot(x='x', y='y', # kan bruke til å visualisere to dimensjonal density, men bruker nok ikke i praksis\n",
    "         stat=, # count er default, kan bruke density for å få samme skala som kde. tror ikke andre er relevant\n",
    "         bins=, # antall, har litt andre måter å kontrollere også ...\n",
    "         multiple=, # layer er default. Føler at dodge må ha diskret data. stack kan være relevant: fylle opp univariat \n",
    "         element=, # bars er default, men kan ta step for å gjøre tydelig at tetthetsestimator\n",
    "         fill=, # kan fjerne fill hvis bruker step\n",
    "         )\n",
    "```"
   ]
  },
  {
   "cell_type": "markdown",
   "id": "remarkable-knowing",
   "metadata": {},
   "source": [
    "```python\n",
    "kdeplot(x='x', y='y',\n",
    "        ... # multiple, fill er samme som i histplot\n",
    "        clip = (c0, c1), # påvirker bare hvor density blir plottet, ikke selve estimeringen.\n",
    "        common_norm = False # Hvis jeg vil at areal under hver kurve er lik 1\n",
    "        )\n",
    "```"
   ]
  },
  {
   "cell_type": "markdown",
   "id": "international-prescription",
   "metadata": {},
   "source": [
    "```python\n",
    "ecdfplot(x='x',\n",
    "         ... # tror ikke har noen relevante argument\n",
    "        )\n",
    "```"
   ]
  },
  {
   "cell_type": "markdown",
   "id": "christian-cattle",
   "metadata": {},
   "source": [
    "### Categorical"
   ]
  },
  {
   "cell_type": "markdown",
   "id": "coral-intelligence",
   "metadata": {},
   "source": [
    "Vi kan ha lyst til å visualisere betinget fordeling av en kontinuerlig variabel for hvert nivå av den kategoriske variabelen. For dette har vi to fremgangsmåter:\n",
    "1. Variasjoner av scatterplot for hvert nivå av kategorisk\n",
    "2. Variasjoner av boxplot for hvert nivå av kategorisk\n",
    "\n",
    "Andre ganger vil jeg vise egenskap til fordeling av y i hvert bin. Bruker pointplot. Skjønner ikke hva jeg skal med bar.\n",
    "\n",
    "Andre ganger vil ha univariat fordeling av den kategoriske.. bruker countplot. Litt usikker på hvordan jeg normaliserer til andel.\n",
    "\n"
   ]
  },
  {
   "cell_type": "markdown",
   "id": "moved-annotation",
   "metadata": {},
   "source": [
    "```python\n",
    "catplot(x='x', y='y',\n",
    "        order = [...]) # rekkefølge av verdi til kategorisk x. \n",
    "```"
   ]
  },
  {
   "cell_type": "markdown",
   "id": "recreational-broad",
   "metadata": {},
   "source": [
    "```python\n",
    "stripplot(x='x',y='y', # kan brukes i kombinasjon med boxplot for å plotte underliggende punkt\n",
    "          orient = [..], # kan spesifisere rekkefølge nivå av kategorisk blir plassert\n",
    "          jitter=, # flytte litt horsiontalt slik at ikke overlapper\n",
    "          size=\n",
    "          )\n",
    "```"
   ]
  },
  {
   "cell_type": "markdown",
   "id": "loved-johnston",
   "metadata": {},
   "source": [
    "```python\n",
    "swarmplot(x='x',y='y', # ligner på stripplot, men punkt overlapper ikke. \n",
    "          ... # lignende args. Merk at metoden skalerer veldig dårlig til mange observer\n",
    "          )\n",
    "```"
   ]
  },
  {
   "cell_type": "markdown",
   "id": "guided-exhibition",
   "metadata": {},
   "source": [
    "```python\n",
    "boxplot(x='x', y='y',\n",
    "       orient= # spesifiser 'h' eller 'v'. Må koordinere med valg av x og y variabel\n",
    "       )\n",
    "```"
   ]
  },
  {
   "cell_type": "markdown",
   "id": "skilled-stamp",
   "metadata": {},
   "source": [
    "```python\n",
    "violinplot(x='x', y='y', # alternativ måte å visualisere kernel density estimat\n",
    "          ...)\n",
    "```"
   ]
  },
  {
   "cell_type": "markdown",
   "id": "retired-hours",
   "metadata": {},
   "source": [
    "```python\n",
    "pointplot(x='x', y='y', # estimat av egenskap til betinget fordeling av y (f.eks sentraltendens) for hver nivå av x\n",
    "          estimator=, # kan spesifisere funksjon. default=np.mean()\n",
    "          ci=, # spesifisere størrelse på konf.intervall. default=0.95. Bruker bootstrap til å estimere\n",
    "          ... # har litt params knyttet til bootstrapping\n",
    "          )\n",
    "```"
   ]
  },
  {
   "cell_type": "markdown",
   "id": "chemical-expression",
   "metadata": {},
   "source": [
    "```python\n",
    "barplot(x='x', y='y', # virker analog til pointplot, men viser hel fuckings bar opp til y verdi... \n",
    "       ...\n",
    "       )\n",
    "```"
   ]
  },
  {
   "cell_type": "markdown",
   "id": "wound-soviet",
   "metadata": {},
   "source": [
    "```python\n",
    "countplot('x', # kan spesifiere y i stedet, men må da sette orient='h'\n",
    "          ... # vise count i hver bin. kan tenke på som histogram for kategorisk/diskret fordeling\n",
    "         )\n",
    "```    "
   ]
  },
  {
   "cell_type": "markdown",
   "id": "placed-division",
   "metadata": {},
   "source": [
    "### jointplot"
   ]
  },
  {
   "cell_type": "markdown",
   "id": "distributed-reading",
   "metadata": {},
   "source": [
    "Interface til JointGrid objekt så gjør at vi kan visualisere bivariat fordeling og marginale fordelinger i samme figur."
   ]
  },
  {
   "cell_type": "markdown",
   "id": "duplicate-conference",
   "metadata": {},
   "source": [
    "```python\n",
    "jointplot(x='x',y='y',\n",
    "         kind=\n",
    "         'scatter' # scatterplot + histogram\n",
    "         'kde' # konturlinjer av bivariat kde + univariat kde\n",
    "         'hist' # bivariat hist + univariat hist\n",
    "         )\n",
    "```"
   ]
  },
  {
   "cell_type": "markdown",
   "id": "mobile-interstate",
   "metadata": {},
   "source": [
    "### pairplot"
   ]
  },
  {
   "cell_type": "markdown",
   "id": "becoming-accordance",
   "metadata": {},
   "source": [
    "Interface til PairGrid objekt for visualisering av parvise bivariate fordelinger"
   ]
  },
  {
   "cell_type": "markdown",
   "id": "resistant-quantum",
   "metadata": {},
   "source": [
    "```python\n",
    "pairplot(vars=cols, # som default tar den alle numerisk kolonner i df\n",
    "         x_vars, y_vars, # tror alternativt jeg kan spesifisere x og y.. ikke-kvadratisk\n",
    "         diag_kind, # default er 'auto' (avhengig av hue), alt: 'hist' og 'kde'\n",
    "```"
   ]
  },
  {
   "cell_type": "markdown",
   "id": "scheduled-algebra",
   "metadata": {},
   "source": [
    "### Grids"
   ]
  },
  {
   "cell_type": "markdown",
   "id": "infinite-prevention",
   "metadata": {},
   "source": [
    "Har sett på mange wrapper-funksjoner som jobber med ulike grids internt, men kan kanskje ha lyst til å jobbe med de direkte."
   ]
  },
  {
   "cell_type": "markdown",
   "id": "stuck-adapter",
   "metadata": {},
   "source": [
    "Kan bruke til å lage lattice-plot; mange gjentagelser av samme plot for ulike subset av data. Kan tydeliggjøre avvik fra mønster på god måte. "
   ]
  },
  {
   "cell_type": "markdown",
   "id": "electric-grace",
   "metadata": {},
   "source": [
    "```python\n",
    "g = sns.FacetGrid(col=, col_wrap=) # diskret/kategorisk variabel. Kan eventuelt kombineres med row\n",
    "\n",
    "g.map(func, *args, **kwargs) # kan ikke bruke x='x' av en eller annen grunn..\n",
    "```"
   ]
  },
  {
   "cell_type": "markdown",
   "id": "behind-stick",
   "metadata": {},
   "source": [
    "Vet ikke om det er aktuelt å jobbe med JointGrid og PairGrid eksplisitt."
   ]
  },
  {
   "cell_type": "markdown",
   "id": "handy-antenna",
   "metadata": {},
   "source": [
    "### Annet"
   ]
  },
  {
   "cell_type": "markdown",
   "id": "disabled-preservation",
   "metadata": {},
   "source": [
    "#### Heatmap"
   ]
  },
  {
   "cell_type": "markdown",
   "id": "specific-enterprise",
   "metadata": {},
   "source": [
    "Korrelasjon reduserer scatterplot mellom to variabler til et enkelt tall. Kan bruke heatmap til å visualisere ved å gi det farge. Heatmap er egentlig en mer generell måte å visualisere 2d histogram. Gir oss et raskt overblikk over sammenheng mellom numeriske data... spesielt interessert i marginal sammenheng mellom uavhengige variabler og min avhengige. Etter å ha sett på heatmap hadde det vært greit å lage alle de marginale scatterplottene, men vet ikke hva som er best practice for å konstruere disse... tror det blir matplotlib eller pandas.plot api."
   ]
  },
  {
   "cell_type": "markdown",
   "id": "offshore-savings",
   "metadata": {},
   "source": [
    "Kan også brukes til å visualisere confusion matrix i klassifisering"
   ]
  },
  {
   "cell_type": "markdown",
   "id": "described-wisconsin",
   "metadata": {},
   "source": [
    "```python\n",
    "sns.heatmap(data, # 2d array, i praksis ofte df.corr()\n",
    "            annot=True, # kan alternativT sende inn array med samme størrelse som data.corr() for å annotere\n",
    "            fmt='.2g', # spesifere decimal i annot\n",
    "            vmin=-1, # default så inferres limits fra verdier i data. Kan alternativ spesifisere range med vmin, vmax\n",
    "            vmax=1,\n",
    "            center=0, # default cmap av om vi spesifiserer center. Bruker i så fall diverging. \n",
    "            cmap='coolwarm' # navn på innebygd cmap eller konstruere eget cmap-objekt\n",
    "           )\n",
    "\n",
    "cmap = sns.diverging_palette(230, 20, as_cmap=True)\n",
    "sns.heatmap(df.corr(), cmap=cmap)\n",
    "```"
   ]
  },
  {
   "cell_type": "markdown",
   "id": "greenhouse-billy",
   "metadata": {},
   "source": [
    "Litt usikker på hvilken heatmap jeg liker best. "
   ]
  },
  {
   "cell_type": "markdown",
   "id": "comparative-department",
   "metadata": {},
   "source": [
    "### Style"
   ]
  },
  {
   "cell_type": "markdown",
   "id": "ordered-digit",
   "metadata": {},
   "source": [
    "Seaborn gir et high-level interface til matplotlib parametre."
   ]
  },
  {
   "cell_type": "markdown",
   "id": "bottom-amplifier",
   "metadata": {},
   "source": [
    "Style:\n",
    "1. axes_style() , gir ut dict med aktive parametre\n",
    "2. set_style(), [darkgrid, whitegrid, dark, white, ticks], kan eventuelt overkjøre noen parametre\n",
    "\n",
    "Scale:\n",
    "1. plotting_context()\n",
    "2. set_context(), [paper, notebook, talk, poster], poeng at jeg må ha større font/ticks hvis figur skal skaleres....\n"
   ]
  },
  {
   "cell_type": "markdown",
   "id": "residential-settlement",
   "metadata": {},
   "source": [
    "```python\n",
    "sns.despine(fig, # som default tar den topp og høyre og andre args er optional\n",
    "            top=True, right=True, # kan spesifiseres eksplisitt hvis jeg vil fjerne andre\n",
    "            trim=True # kan være aktuelt i noen plot.. hmm.\n",
    "            )\n",
    "            \n",
    "```"
   ]
  },
  {
   "cell_type": "markdown",
   "id": "faced-portland",
   "metadata": {},
   "source": [
    "Kan endre parametre midlertidig ved å kombinere med with .."
   ]
  },
  {
   "cell_type": "markdown",
   "id": "fatty-therapist",
   "metadata": {},
   "source": [
    "### palette"
   ]
  },
  {
   "cell_type": "markdown",
   "id": "incomplete-ocean",
   "metadata": {},
   "source": [
    "Kan bestemme palette globalt med sns.set_palette(\"...\") som tar litt ulike strings. Det er variasjoner av default palette:\n",
    "deep, muted, pastel, bright, dark, and colorblind.\n",
    "\n",
    "Har i tillegg såkalte COLOR BREWER PALETTES\n",
    "\n",
    "sequential, divergent, .. hvis ordinal inndeling så vil jeg gjerne at det skal indikere rangeringen. Hvis ren kategorisk data trenger det ikek være mønster i farge."
   ]
  },
  {
   "cell_type": "markdown",
   "id": "level-notice",
   "metadata": {},
   "source": [
    "### Eksempler"
   ]
  },
  {
   "cell_type": "markdown",
   "id": "expected-chart",
   "metadata": {},
   "source": [
    "Barplot med fraksjon for hver kategori"
   ]
  },
  {
   "cell_type": "markdown",
   "id": "independent-thanks",
   "metadata": {},
   "source": [
    "```python\n",
    "df = sns.load_dataset('titanic')\n",
    "\n",
    "g = (df.groupby('class')['survived'].\n",
    "      value_counts(normalize=True). # merk at .value_counts er series method..\n",
    "      mul(100).\n",
    "      rename('percent').\n",
    "      reset_index().\n",
    "      pipe((sns.catplot,'data'), x=x,y='percent',hue=y,kind='bar')) # merk at 'data' er keyword som tar element fra gb\n",
    "\n",
    "g.ax.set_ylim(0,100)\n",
    "\n",
    "for p in g.ax.patches:\n",
    "    txt = str(p.get_height().round(2)) + '%'\n",
    "    txt_x = p.get_x() \n",
    "    txt_y = p.get_height()\n",
    "    g.ax.text(txt_x,txt_y,txt)\n",
    "```"
   ]
  }
 ],
 "metadata": {
  "kernelspec": {
   "display_name": "Python 3",
   "language": "python",
   "name": "python3"
  },
  "language_info": {
   "codemirror_mode": {
    "name": "ipython",
    "version": 3
   },
   "file_extension": ".py",
   "mimetype": "text/x-python",
   "name": "python",
   "nbconvert_exporter": "python",
   "pygments_lexer": "ipython3",
   "version": "3.7.9"
  },
  "latex_envs": {
   "LaTeX_envs_menu_present": true,
   "autoclose": true,
   "autocomplete": true,
   "bibliofile": "biblio.bib",
   "cite_by": "apalike",
   "current_citInitial": 1,
   "eqLabelWithNumbers": true,
   "eqNumInitial": 1,
   "hotkeys": {
    "equation": "Ctrl-E",
    "itemize": "Ctrl-I"
   },
   "labels_anchors": false,
   "latex_user_defs": false,
   "report_style_numbering": false,
   "user_envs_cfg": false
  },
  "toc": {
   "base_numbering": 1,
   "nav_menu": {},
   "number_sections": true,
   "sideBar": true,
   "skip_h1_title": false,
   "title_cell": "Table of Contents",
   "title_sidebar": "Contents",
   "toc_cell": false,
   "toc_position": {},
   "toc_section_display": true,
   "toc_window_display": true
  }
 },
 "nbformat": 4,
 "nbformat_minor": 5
}
