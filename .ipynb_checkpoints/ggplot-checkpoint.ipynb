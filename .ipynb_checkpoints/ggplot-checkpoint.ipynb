{
 "cells": [
  {
   "cell_type": "markdown",
   "id": "f7965786",
   "metadata": {},
   "source": [
    "### Grammar of Graphics"
   ]
  },
  {
   "cell_type": "markdown",
   "id": "2d481ea6",
   "metadata": {},
   "source": [
    "Begrepet er fra Wilkinson (1999) og senere utviklet og popularisert av [Wickham (2008)](https://ggplot2-book.org/). Denne gramatikken lar oss tenke litt systematisk på sammenhengen mellom underliggende data og den grafiske representasjonen i figurer. Merk at vi også her skiller mellom syntaks og semantikk; det er fullt mulig å konstruere grafiske representasjoner som er grammatisk korrekte, men som er stygge eller meningsløse. \n",
    "\n",
    "Figuren inneholder ulike geometrisk objekter (sirkler, linjer, barer, mm). Det er en mapping mellom data og de ulike estetiske egenskapene til objektene (plassering, størrelse, form, farge). Vi kan representere data direkte, men i praksis vil vi gjøre transformasjoner som enten gir aggregerte mål (sum/antall) eller sammendragsmål (sentraltendens/spredning). Innholdet i mappingen er angitt ved en *scale*. Figuren må inneholde en *guide* som litt uformelt angir den inverse av scale. Vi konstruerer figuren ved å legge på geometriske objekter lagvis.\n",
    "\n",
    "Jeg skal nå gi en *high-level* oversikt over hvordan grammatikken er implementert i ggplot"
   ]
  },
  {
   "cell_type": "markdown",
   "id": "9e629656",
   "metadata": {},
   "source": [
    "#### Geometrier"
   ]
  },
  {
   "cell_type": "markdown",
   "id": "751a382c",
   "metadata": {},
   "source": [
    "I praksis kunne vi hatt én *geomfunksjon* der vi spesifiserer hele mappingen mellom data og estetiske egenskaper til geometri, som kunne sett omtrent slik ut\n",
    "```R\n",
    "ggplot(data) +\n",
    "    geom(object='bar', aes(x='col'), height='col_y', stat='count', width=.., ..)\n",
    "```\n",
    "Dette blir veldig verbost! Derfor er det i stedet en lang rekke ulike geomfunksjoner som har defaultverdier på omtrent alle egenskapene. Det eneste vi trenger å spesifiserer er estetisk mapping. Merk at hver geom korresponderer med en default statistisk transformasjon (og omvendt). Merk også at det ulike geomfunksjoner som bruker samme geometrisk objekt, men ulik statistisk transformasjon (eks barplot og histogram ?).\n",
    "\n",
    "Vi kan sette egenskaper\n",
    "1. Gjennom mapping fra data til estetikk, altså inni aes()\n",
    "2. Gjennom å sette attributt utenfor aes(); har da konstant verdi (eg: farge) som ikke avhenger av data\n",
    "\n",
    "Mye av arbeidet blir gjort gjennom geomfunksjoner, men ikke alt. Skal nå se på andre funksjoner som håndterer andre aspekter av grammatikken."
   ]
  },
  {
   "cell_type": "markdown",
   "id": "cd46b7b8",
   "metadata": {},
   "source": [
    "#### Posisjon"
   ]
  },
  {
   "cell_type": "markdown",
   "id": "6d6470f4",
   "metadata": {},
   "source": [
    "Vi må ha regel for hvordan vi skal håndtere overlapp mellom geometriske objekter i figuren, for eksempel at barer blir mappet til samme x-koordinat. Har fem ulike strategier\n",
    "1. Jitter (legge på litt støy, aktuelt for scatterplot)\n",
    "2. Dodge (plassere ved siden av hverandre)\n",
    "3. Stack (plassere oppå hverandre)\n",
    "4. Fill (plassere oppå hverandre og normalisere høyde slik at konstant)\n",
    "5. Identitet (ikke gjøre noe)"
   ]
  },
  {
   "cell_type": "markdown",
   "id": "1769704d",
   "metadata": {},
   "source": [
    "#### Scale"
   ]
  },
  {
   "cell_type": "markdown",
   "id": "49f388ff",
   "metadata": {},
   "source": [
    "Scale spesifiserer innholdet i mappingen fra *datarommet* til *estetikkrommet*. Utledning av scale består av tre steg\n",
    "1. Transformasjon: f.eks. log(x)\n",
    "2. Trening: må lære definisjonsmengden av mapping (min og maks for kontinuerlig, mulige verdier for diskret)\n",
    "3. Mapping: hmm..\n",
    "\n",
    "Skjønte ikke poenget der. Uansett, har i hovedsak tre typer scales som vi kan spesifisere\n",
    "1. Position: scale_x_continious() ...\n",
    "2. Farge: scale_colour()\n",
    "3. Manuell: hmm...\n",
    "\n",
    "Hvis jeg f.eks. vil ha log transformasjon av axis eller få kontroll over fargevalg så tror jeg at jeg gjør det med scale-funksjon.."
   ]
  },
  {
   "cell_type": "markdown",
   "id": "e51aa71c",
   "metadata": {},
   "source": [
    "##### Guide"
   ]
  },
  {
   "cell_type": "markdown",
   "id": "e5af7449",
   "metadata": {},
   "source": [
    "Vi kan tenke på *guide* som samlebetgnelse på informasjon i figuren som angir det inverse av scale; hvordan vi mapper tilbake fra estetisk egenskap til data. Dette blir i stor grad håndtert automatisk og det finnes ikke noe eget axis-objekt eller legend-objekt der vi eksplisitt angir verdier."
   ]
  },
  {
   "cell_type": "markdown",
   "id": "561cb3ef",
   "metadata": {},
   "source": [
    "#### Facet"
   ]
  },
  {
   "cell_type": "markdown",
   "id": "ad658234",
   "metadata": {},
   "source": [
    "Vi kan lage samme type plot på ulike subset av data. Dette er alternativ til å gruppere data med estetisk egenskap og er strategi for å håndtere overlapp. Gjør det enklere å se på trend innad i gruppe, men kan være vanskelig å sammenligne små forskjeller mellom grupper. Har to funksjoner\n",
    "1. facet_grid: subset definert av to variabler, verdi ut fra plassering i 2d grid\n",
    "2. facet_wrap subset definert av én variabel, 1d array lagt ut i 2d grid der plassering ikke har betydning"
   ]
  },
  {
   "cell_type": "markdown",
   "id": "997bf73b",
   "metadata": {},
   "source": [
    "#### Theme"
   ]
  },
  {
   "cell_type": "markdown",
   "id": "6a3772de",
   "metadata": {},
   "source": [
    "I ggplot skilles det mellom ting som er knyttet til grammatikk (mapping mellom data og grafikk) og semantikk (det som kun påvirker visuelle)... ikke helt presist..\n",
    "\n",
    "Uansett, håndtere alt som har med tekst (font og størrelse), plassering av legend, bakgrunnsgrid og sånn gjennom theme.\n",
    "\n",
    "Vil ha det stilrent og elegant! Kan bruke ferdiglagde themes som har konsistent stilvalg, eller så kan jeg fikle argumentene selv. Merk: default er veldig stygg!!!"
   ]
  },
  {
   "cell_type": "markdown",
   "id": "7aa70023",
   "metadata": {},
   "source": [
    "### ggplot2"
   ]
  },
  {
   "cell_type": "markdown",
   "id": "0d5254aa",
   "metadata": {},
   "source": [
    "Skal nå se litt mer konkret på implementeringen"
   ]
  },
  {
   "cell_type": "markdown",
   "id": "2c97137f",
   "metadata": {},
   "source": [
    "```R\n",
    "ggplot(data = <DATA>) + \n",
    "    <GEOM_FUNCTION>(\n",
    "        mapping = aes(<MAPPINGS>),\n",
    "        stat = <STAT>, \n",
    "        position = <POSITION>\n",
    "                   ) +\n",
    "    <COORDINATE_FUNCTION> +\n",
    "    <FACET_FUNCTION> +\n",
    "    labs(\n",
    "        title=, \n",
    "        x=,\n",
    "        y=\n",
    "        ) +\n",
    "    xlim(min, max) +\n",
    "    theme(\n",
    "        param=param_value\n",
    "         )\n",
    "```"
   ]
  },
  {
   "cell_type": "markdown",
   "id": "20632a15",
   "metadata": {},
   "source": [
    "I praksis må vi bare spesifisere data, geom og mapping siden ggplot håndterer det andre under the hood.\n",
    "Kan spesifisere global data og mapping i ggplot. Denne kan overkjøres av lokal som spesifiseres inni geom.\n",
    "Det er også vesentlig poeng at vi kan legge geomer oppå hverandre.\n",
    "\n",
    "Det er også poeng at ggplot tar ting fra dataframe.. Hvis vi vil endre på ting kan vi derfor enten endre dataframen eller gjøre endringer inne i ggplottet. Og veldig viktig at variablene har riktig datatype (factor/numerisk) for at plot skal fungere !\n",
    "\n",
    "Noen ganger vil jeg konstruere data for plottet. Det er ikke noe problem å organisere data som dataframe for at det skal ha riktig format, bare gjør \n",
    "```R\n",
    "tibble(x=sec) %>% mutate(y=f(x)) %>%  ggplot() \n",
    "```"
   ]
  },
  {
   "cell_type": "markdown",
   "id": "c028376d",
   "metadata": {},
   "source": [
    "Verdi fra andre kolonner. Dytter det inn i aes()\n",
    "- group = \n",
    "- fill = \n",
    "- shape = \n",
    "- lty = "
   ]
  },
  {
   "cell_type": "markdown",
   "id": "9c4aa153",
   "metadata": {},
   "source": [
    "Vi må overkjøre defaults lagsvis... "
   ]
  },
  {
   "cell_type": "markdown",
   "id": "e132c0c1",
   "metadata": {},
   "source": [
    "```R\n",
    "ggplot(data) +\n",
    "    geom_(aes(x=,y=,lty=z,color=v)) +\n",
    "    scale_color_() + # kan kjøre manualt, men har masse funksjoner\n",
    "    scale_linetype_()\n",
    "```"
   ]
  },
  {
   "cell_type": "markdown",
   "id": "1fe99554",
   "metadata": {},
   "source": [
    "#### Geomer"
   ]
  },
  {
   "cell_type": "markdown",
   "id": "927bfb17",
   "metadata": {},
   "source": [
    "##### Relasjoner"
   ]
  },
  {
   "cell_type": "markdown",
   "id": "b4f34a98",
   "metadata": {},
   "source": [
    "Visulisere relasjon mellom to kontinuerlige variabler:\n",
    "- geom_point(, shape=\"open circle\" eller shape=2)\n",
    "- geom_smooth (linje fittet med lokal reg, LOESS. Kan spesifisere method=\"lm\" hvis jeg vil ha lineær reg)\n"
   ]
  },
  {
   "cell_type": "markdown",
   "id": "ad66ecb6",
   "metadata": {},
   "source": [
    "##### Fordelinger"
   ]
  },
  {
   "cell_type": "markdown",
   "id": "4f8e9bdf",
   "metadata": {},
   "source": [
    "- geom_histogram(aes(x=)\n",
    "- geom_density(aes(x=), fill=)\n",
    "- geom_boxplot(aes(x=discrete,y=kontinuerlig)) # kan eventuelt ha det horisontalt\n",
    "- geom_violin(aes(x=discrete,y=kontinuerlig)) # gir litt mer detaljert beskrivelse av tetthet.\n"
   ]
  },
  {
   "cell_type": "markdown",
   "id": "b1626154",
   "metadata": {},
   "source": [
    "##### Kategorisk"
   ]
  },
  {
   "cell_type": "markdown",
   "id": "5dbe0f0a",
   "metadata": {},
   "source": [
    "- geom_bar(aes(x)) (antall med hver verdi av x) <- kan spesifisere position=\"fill\" hvis vil vise andel\n",
    "- geom_col(aes(x,y))  bruker count av y for hver x til å bestemme høyde\n",
    "- geom_count(aes(x,y)) (tror den tar gjsnitt y for hver x men idk)\n"
   ]
  },
  {
   "cell_type": "markdown",
   "id": "2e97b3bb",
   "metadata": {},
   "source": [
    "#### Posisjon"
   ]
  },
  {
   "cell_type": "markdown",
   "id": "947e2363",
   "metadata": {},
   "source": [
    "hm"
   ]
  },
  {
   "cell_type": "markdown",
   "id": "44c52951",
   "metadata": {},
   "source": [
    "#### Scale"
   ]
  },
  {
   "cell_type": "markdown",
   "id": "c972fbe2",
   "metadata": {},
   "source": [
    "#### Koordinat"
   ]
  },
  {
   "cell_type": "markdown",
   "id": "a59639b6",
   "metadata": {},
   "source": [
    "- kan ønske å endre måleenhet på akse, _scale__x_continious(trans=\"..\") eller scale_x_log10\n",
    "- scale_x_continious(limits=,breaks=) # kan sette begge lik NULL for å ikke vise y akse\n",
    "\n",
    "Andre scales:\n",
    "- tror legend som angir farger, størrelse og sånt kalles for scales\n",
    "- scale_size()\n",
    "- scale_x_date()\n",
    "- scales pakke som gir meg litt options for formatering i tekst (ie ticks, labels mm.), kan få prosent, dollartegn, spesifisere formatering med punktum i tall. ikke så lett å jobbe med strings i dette programmet.\n"
   ]
  },
  {
   "cell_type": "markdown",
   "id": "572dba9f",
   "metadata": {},
   "source": [
    "#### Farge"
   ]
  },
  {
   "cell_type": "markdown",
   "id": "1d3b1055",
   "metadata": {},
   "source": [
    "Kan spesifisere indivduelle farger, men i praksis er det mest aktuelt å finne en fin palette\n",
    "- scale_color_brewer()\n",
    "- scale_color_gradientn(colours = rainbow(100)) # litt usikker på når dette er mer relevant\n"
   ]
  },
  {
   "cell_type": "markdown",
   "id": "a4ac6ff8",
   "metadata": {},
   "source": [
    "#### facet"
   ]
  },
  {
   "cell_type": "markdown",
   "id": "47cfe16c",
   "metadata": {},
   "source": [
    "Lage subplots med masse lingnede plots\n",
    "\n",
    "- facet_wrap lager separat plot for hvert nivå av kategorisk z, facet_wrap(~z) \n",
    "- facet_grid lager separat hvor hver kombinasjon av (z,w), facet_grid(w\\~z). Tenker z er kolonne og w er rekke. Hvis jeg bare vil ha én variabel så setter jeg facet_grid(.\\~z)..\n"
   ]
  },
  {
   "cell_type": "markdown",
   "id": "d047aa09",
   "metadata": {},
   "source": [
    "```R\n",
    "ggplot() +\n",
    "    geom_(mapping=aes()) +\n",
    "    facet_grid(\n",
    "               rows=,\n",
    "               cols=,\n",
    "               )\n",
    "```"
   ]
  },
  {
   "cell_type": "markdown",
   "id": "83ff7eec",
   "metadata": {},
   "source": [
    "#### Tekst"
   ]
  },
  {
   "cell_type": "markdown",
   "id": "94fde133",
   "metadata": {},
   "source": [
    "- geom_text(x,y,label). Kan enten gjøre på spesifikk punkt med labed=\"blabla\" eller bruke ting fra dataframe\n",
    "- geom_text_repel() fra ggrepel gjør mye av arbeidet under the hood. gir meg automatiske offsets som ser bra ut\n"
   ]
  },
  {
   "cell_type": "markdown",
   "id": "9031860a",
   "metadata": {},
   "source": [
    "#### Theme"
   ]
  },
  {
   "cell_type": "markdown",
   "id": "c9def37e",
   "metadata": {},
   "source": [
    "- theme() funksjon er ganske fleksibel for å velge ting som er spesifisert theme.\n",
    "- theme(legend.position=\"top\"),theme(legend.position=\"none\") m.m\n",
    "- theme(panel.grid = element_blank()) hvis jeg vil fjerne grid\n",
    "- kan spesifisere disse tingene selv eller velge et premade theme, f.eks. laste inn fra pakken ggthemes\n",
    "\n",
    "Bruker blant annet til å håndtere tekststørrelse og font på labels og sånn\n",
    "```R\n",
    "theme(text = element_text(size=20))\n",
    "```\n"
   ]
  },
  {
   "cell_type": "markdown",
   "id": "91a285b6",
   "metadata": {},
   "source": [
    "#### Annet"
   ]
  },
  {
   "cell_type": "markdown",
   "id": "45ed5af3",
   "metadata": {},
   "source": [
    "- geom_errorbar(x, ymin, ymax) gir meg barer så jeg kan vise konfidensintervall til punktestimat. må få disse inn i en dataframe først.\n",
    "\n",
    "- geom_hline(yintercept)\n",
    "- geom_vline(xintercept)\n",
    "- ggsave(filename) # lagrer siste displayet plot som default\n",
    "- fortify(mod) # ggplot bruker dataframe, bruker fortify() på fittet modell til å få relevant output (residual, yhat, mm) inn i dataframe slik at jeg kan bruke ggplot til å visualisere. \n"
   ]
  },
  {
   "cell_type": "markdown",
   "id": "c836bda3",
   "metadata": {},
   "source": [
    "### cowplot"
   ]
  },
  {
   "cell_type": "markdown",
   "id": "7e0c60f7",
   "metadata": {},
   "source": [
    "### ggrepel"
   ]
  },
  {
   "cell_type": "markdown",
   "id": "fafa087c",
   "metadata": {},
   "source": [
    "### ggforce"
   ]
  },
  {
   "cell_type": "markdown",
   "id": "97439a39",
   "metadata": {},
   "source": [
    "### Eksempler"
   ]
  },
  {
   "cell_type": "markdown",
   "id": "f6bf0cf0",
   "metadata": {},
   "source": [
    "```R\n",
    "ggplot(murders, aes(population/10**6,total)) +\n",
    "    geom_point(aes(color=region),size=3) +\n",
    "    geom_smooth(method=\"lm\", se=F, color=\"darkgrey\", lty=2) +\n",
    "    geom_text_repel(aes(label=abb)) +\n",
    "    scale_x_log10() +\n",
    "    scale_y_log10() + \n",
    "    scale_color_discrete(name=\"Region\") +\n",
    "    theme_economist() +\n",
    "    xlab(\"Populations in millions (log scale)\") + \n",
    "    ylab(\"Total number of murders (log scale)\") +\n",
    "    ggtitle(\"US Gun Murders in 2010\")\n",
    "\n",
    "```"
   ]
  },
  {
   "cell_type": "markdown",
   "id": "5191d81a",
   "metadata": {},
   "source": [
    "```R\n",
    "  ggplot(aes(x=wage_st,y=freq,fill=state)) +\n",
    "    geom_col(position=position_dodge2(preserve = \"single\")) +\n",
    "    scale_x_continuous(breaks=seq(4.25,5.55,by=.1))+\n",
    "    scale_fill_discrete(name=\"\",labels=c(\"Pennsylvania\",\"New Jersey\")) +\n",
    "    xlab(\"Begynnerlønn i $\") +\n",
    "    ylab(\"\")+\n",
    "    ggtitle(\"Februar 1992\") +\n",
    "    theme_economist()\n",
    "```"
   ]
  }
 ],
 "metadata": {
  "kernelspec": {
   "display_name": "R",
   "language": "R",
   "name": "ir"
  },
  "language_info": {
   "codemirror_mode": "r",
   "file_extension": ".r",
   "mimetype": "text/x-r-source",
   "name": "R",
   "pygments_lexer": "r",
   "version": "4.0.3"
  },
  "latex_envs": {
   "LaTeX_envs_menu_present": true,
   "autoclose": true,
   "autocomplete": true,
   "bibliofile": "biblio.bib",
   "cite_by": "apalike",
   "current_citInitial": 1,
   "eqLabelWithNumbers": true,
   "eqNumInitial": 1,
   "hotkeys": {
    "equation": "Ctrl-E",
    "itemize": "Ctrl-I"
   },
   "labels_anchors": false,
   "latex_user_defs": false,
   "report_style_numbering": false,
   "user_envs_cfg": false
  },
  "toc": {
   "base_numbering": 1,
   "nav_menu": {},
   "number_sections": true,
   "sideBar": true,
   "skip_h1_title": false,
   "title_cell": "Table of Contents",
   "title_sidebar": "Contents",
   "toc_cell": false,
   "toc_position": {},
   "toc_section_display": true,
   "toc_window_display": true
  }
 },
 "nbformat": 4,
 "nbformat_minor": 5
}
