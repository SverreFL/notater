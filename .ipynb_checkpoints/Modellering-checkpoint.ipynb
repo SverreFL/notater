{
 "cells": [
  {
   "cell_type": "markdown",
   "id": "major-trace",
   "metadata": {},
   "source": [
    "## Statsmodels"
   ]
  },
  {
   "cell_type": "markdown",
   "id": "brief-alpha",
   "metadata": {},
   "source": [
    "Bruker import statsmodels.api as sm for å få tak i ulike modeller vi kan bruke til å estimere\n",
    "\n",
    "modell = sm.OLS(y,x)    -- modellobjekt\n",
    "\n",
    "result = modell.fit(cov_type='HC0') -- results wrapper med robust estimering av covariansmatrise\n",
    "\n",
    "print(estimat.summary())\n",
    "\n",
    "1. lage modell\n",
    "2. estimere modell\n",
    "3. printe resultat av estimering\n",
    " \n",
    "kan få ut attributter til resultatet, f.eks\n",
    "\n",
    "-  result.params\n",
    "-  result.summary().tables[1]\n",
    "-  result.fittedvalues\n",
    "-  Kan også bruke metode result.predict(exog), uten argument får vi samme verdier som fittedvalues. Kan bruke dette til å finne hvilken verdi modellen predikerer for gitt observasjon x1,x2..,xk."
   ]
  },
  {
   "cell_type": "markdown",
   "id": "disturbed-pattern",
   "metadata": {},
   "source": [
    "### Formler (patsy)"
   ]
  },
  {
   "cell_type": "markdown",
   "id": "selected-administrator",
   "metadata": {},
   "source": [
    "bruker patsy til å bruke r-style formulas til å spesifisere modell i sm. Må da bruke df som input og bruke kolonnenavn som argument. Har en del shorthand for å bruke polynom, interaksjonsledd mm. Tenker at det er mer lesbart enn å operere direkte på matriser.\n",
    "\n",
    "import statsmodels.formula.api as smf\n",
    "\n",
    "det er en klar fordel å jobbe med formler siden det lar oss bruker kategoriske variabler (ie. data lagret som strings), gjør litt arbeid under the hood i stedet for å eksplisitt måtte konvertere alt til tall. \n",
    "\n",
    "Kategorisk/factor: C(variabel) <- lager dummies under hood\n",
    "\n",
    "Interaksjon: var1:var2 gir bare interaksjonsledd, var1*var2 gir også de inviduelle leddene"
   ]
  },
  {
   "cell_type": "markdown",
   "id": "subject-victim",
   "metadata": {},
   "source": [
    "### Flere modeller"
   ]
  },
  {
   "cell_type": "markdown",
   "id": "bronze-friend",
   "metadata": {},
   "source": [
    "Ofte har vi lyst til å kjøre flere regresjoner på ulike subset av de eksogene variablene. En grei måte å organisere dette på er\n",
    "\n",
    "-  X1 = [const, kol1]\n",
    "-  X2 = [const, kol1, kol2,..]\n",
    "-  X3 = [...]\n",
    "\n",
    "Deretter fitte moddel for hvert subset\n",
    "\n",
    "-  reg1 = sm....OLS(endog=y,exog=df[X1]).fit()\n",
    "-  reg2= ..OLS(..,exog=df[X2]..\n",
    "\n",
    "Deretter presentere resultatene i en tabell. For å gjøre dette kan vi bruke\n",
    "\n",
    "-  from statsmodels.iolib.summary2 import summary_col\n",
    "\n",
    "#TODO finne ut hvordan den fungerer lol"
   ]
  },
  {
   "cell_type": "markdown",
   "id": "pharmaceutical-preparation",
   "metadata": {},
   "source": [
    "### grafikk"
   ]
  },
  {
   "cell_type": "markdown",
   "id": "legislative-button",
   "metadata": {},
   "source": [
    "kan bruke sm.graphics til å finne funksjoner som tar result som input og generer plot assosiert ved fittet modell. Kan bruke dette til visuell diagnostisering. Legger til mer her når jeg finner funksjoner som virker relevante."
   ]
  },
  {
   "cell_type": "markdown",
   "id": "governing-repository",
   "metadata": {},
   "source": [
    "### Logistisk regresjon"
   ]
  },
  {
   "cell_type": "markdown",
   "id": "prescribed-chapter",
   "metadata": {},
   "source": [
    "##### Logit/probit i statsmodels\n",
    "\n",
    "merk at fittede verdier gir bare ut XB. For å få predicted values må jeg kjøre XB inn i F().\n",
    "\n",
    "Kan også bruke .predict(X) i stedet for fittedvalues, men litt usikker på om dette fungerer med patsy"
   ]
  },
  {
   "cell_type": "markdown",
   "id": "cubic-emerald",
   "metadata": {},
   "source": [
    "### GLM"
   ]
  },
  {
   "cell_type": "markdown",
   "id": "collaborative-collector",
   "metadata": {},
   "source": [
    "### Tidserier"
   ]
  },
  {
   "cell_type": "markdown",
   "id": "cross-print",
   "metadata": {},
   "source": [
    "Hovedmodul er statsmodels.tsa\n",
    "\n",
    "finner ulike modeller i submoduler.. men tror de har objekt i .tsa"
   ]
  },
  {
   "cell_type": "markdown",
   "id": "incident-cameroon",
   "metadata": {},
   "source": [
    "#### stattools"
   ]
  },
  {
   "cell_type": "markdown",
   "id": "split-concert",
   "metadata": {},
   "source": [
    "##### deskriptivt"
   ]
  },
  {
   "cell_type": "markdown",
   "id": "developed-multiple",
   "metadata": {},
   "source": [
    "Vil ha litt deskriptiv beskrivelse at tidsserien\n",
    "\n",
    "```python\n",
    "from statsmodels.tsa.stattools import acf\n",
    "\n",
    "# kan få ut rå tall, men vil i praksis visualisere dette. finnes innebygde rutiner\n",
    "````"
   ]
  },
  {
   "cell_type": "markdown",
   "id": "remarkable-article",
   "metadata": {},
   "source": [
    "##### tester"
   ]
  },
  {
   "cell_type": "markdown",
   "id": "funded-posting",
   "metadata": {},
   "source": [
    "Finnes ulike tester for stasjonaritet eller om tidsserie har enhetsrot"
   ]
  },
  {
   "cell_type": "markdown",
   "id": "oriented-diversity",
   "metadata": {},
   "source": [
    "```python\n",
    "adfuller(data, # augmented dick fuller test på data for å se om det har enhetsrot (??)\n",
    "         autolag, # ??\n",
    "         regression  # ?? se mer på slike ting senere ...\n",
    "        )\n",
    "```"
   ]
  },
  {
   "cell_type": "markdown",
   "id": "possible-venue",
   "metadata": {},
   "source": [
    "#### graphics"
   ]
  },
  {
   "cell_type": "markdown",
   "id": "foreign-collectible",
   "metadata": {},
   "source": [
    "```python\n",
    "from statsmodels.graphics.tsaplots import plot_acf\n",
    "from statsmodels.graphics.tsaplots import plot_pacf\n",
    "```"
   ]
  },
  {
   "cell_type": "markdown",
   "id": "handed-sister",
   "metadata": {},
   "source": [
    "ACF Shape\t| Indicated Model |\n",
    " -- | -- |\n",
    "Exponential, decaying to zero |\tAutoregressive model. Use the partial autocorrelation plot to identify the order of the autoregressive model |\n",
    "Alternating positive and negative, decaying to zero\tAutoregressive model. |  Use the partial autocorrelation plot to help identify the order. |\n",
    "One or more spikes, rest are essentially zero | Moving average model, order identified by where plot becomes zero. |\n",
    "Decay, starting after a few lags |\tMixed autoregressive and moving average (ARMA) model. | \n",
    "All zero or close to zero | Data are essentially random. |\n",
    "High values at fixed intervals | Include seasonal autoregressive term. |\n",
    "No decay to zero |\tSeries is not stationary |"
   ]
  },
  {
   "cell_type": "markdown",
   "id": "spatial-editing",
   "metadata": {},
   "source": [
    "#### Seasonal"
   ]
  },
  {
   "cell_type": "markdown",
   "id": "secondary-attachment",
   "metadata": {},
   "source": [
    "Vil dekomponere i trend, gjentagende seasonality mønster + residual.\n",
    "\n",
    "Kan ha la lyst til å modellere residual for å ikke tape info om avhengighetsstrukturen der.\n",
    "\n",
    "Enkelt å modellere trend (ols, lineær eller kvadratisk). Litt vanskeligere med sesong; vil jeg åpne for at sesongvariasjon er endret over tid? Tror uansett jeg ikke kommer så langt med ols her. Kan bruke filter/ikke-parametrisk for å ta noe lokalt gjennomsnitt hvis mange observasjoner innad i sesong (eks daglig). Kan eventuelt bruke gjentagnede funksjon som param*sin(param), men kan ikke bruke OLS til å fitte siden den ikke er lineær."
   ]
  },
  {
   "cell_type": "markdown",
   "id": "light-money",
   "metadata": {},
   "source": [
    "```python\n",
    "from statsmodels.tsa.seasonal import STL # season-trend dekomposisjon, grafisk med lokal regresjon\n",
    "res = STL(y, period=4).fit()\n",
    "fig = res.plot()\n",
    "```"
   ]
  },
  {
   "cell_type": "markdown",
   "id": "responsible-copyright",
   "metadata": {},
   "source": [
    "Alternativ naiv tilnærming med enten multiplikativ eller addidativ effekt av sesong...\n",
    "\n",
    "```python\n",
    "from statsmodels.tsa.seasonal import seasonal_decompose\n",
    "decomposition = seasonal_decompose(data, model = 'multiplicative')\n",
    "trend = decomposition.trend # kan få ut dataframe med trend, season, residual fra properties og lage egne plot\n",
    "\n",
    "fig = decomposition.plot(); # wrapper som lager basic plot med de ulike størrelsene\n",
    "```\n",
    "\n"
   ]
  },
  {
   "cell_type": "markdown",
   "id": "previous-grill",
   "metadata": {},
   "source": [
    "#### Transformasjoner"
   ]
  },
  {
   "cell_type": "markdown",
   "id": "short-latino",
   "metadata": {},
   "source": [
    "Tror jeg bruker andre libraries for dette, så denne seksjonen vil sløyfes og jeg må skrive om dette andre steder. Må bearbeide rå data serie med andre metoder slik at jeg sitter igjen med statsjonær komponent som jeg kan modellere med tidsserie modeller.\n",
    "\n",
    "The Box-Cox transformation is a family of power transformations indexed by a parameter lambda. Whenever you use it the parameter needs to be estimated from the data. \n"
   ]
  },
  {
   "cell_type": "markdown",
   "id": "quantitative-riding",
   "metadata": {},
   "source": [
    "#### Modeller"
   ]
  },
  {
   "cell_type": "markdown",
   "id": "sunrise-saver",
   "metadata": {},
   "source": [
    "Analog api til vanlig regresjon... har .fittedvalues og sånn. Må ofte gjøre transformasjoner på data for at det skal bli stasjonært, så må huske å konvertere tilbake for å få mine faktiske prediksjoner ...\n",
    "\n",
    "ARIMA er brød og smør. Forholdsvis enkel modell og det er mulig å lære masse teoretiske egenskaper om den. Dessuten har den god performance på tidsserier med lavt antall observasjoner. Litt analogt til lineær regresjon i krysseksjon, bortsett fra at det er langt mindre intuitivt og det er vanskelig å tolke de estimerte koeffisientene. \n",
    "\n",
    "Føler at det blir litt skarpt skille mellom ARIMA og dekomponering for EDA/forståelse. Hadde vært greit om selve modelleringen var mer informativ enn bare å spytte ut predikerte verdier. Jeg tror at det finnes alternative fremgangsmåter som er strukturelle/state-space ting som kan være mer informative. Dessuten vil ønske å integrere det mer inn i machine learning workflow og bruke informasjon fra andre variabler.."
   ]
  },
  {
   "cell_type": "markdown",
   "id": "french-north",
   "metadata": {},
   "source": [
    "State-space models are models that use state variables to describe a system by a set of first-order differential or difference equations, rather than by one or more nth-order differential or difference equations. State variables x(t) can be reconstructed from the measured input-output data, but are not themselves measured during an experiment.\n",
    "\n",
    "State består av diverse egenskaper som beskriver tilstand til systemet på ulike tidspunkt. State-space er rommet der egenskapene tar verdi. Kan analysere systemet i dette rommet i stedet for 'fyskisk/observerbar resultat' av systemet på ulike tidspunkt, selv om det kanskje er det vi er interessert i. Tror det også er poeng at 'State' kan være skjult/uobserverbart slik at det blir enda mer abstrakt. "
   ]
  },
  {
   "cell_type": "markdown",
   "id": "egyptian-scope",
   "metadata": {},
   "source": [
    "##### AutoReg"
   ]
  },
  {
   "cell_type": "markdown",
   "id": "indian-creek",
   "metadata": {},
   "source": [
    "Tror ikke jeg trenger å jobbe med AR direkte siden det uansett er special case av ARIMA"
   ]
  },
  {
   "cell_type": "markdown",
   "id": "perceived-annual",
   "metadata": {},
   "source": [
    "```python\n",
    "from statsmodels.tsa.ar_model import AutoReg\n",
    "\n",
    "mod = AutoReg(endog, # Series \n",
    "              lags, # enten p som gir lags 1,2,...,p eller velge spesifikke lag som [1,3]\n",
    "              trend, # konstant, tid, konstant + tid\n",
    "              seasonal # litt usikker på hvordan fungere i praksis...\n",
    "             ).fit(cov_type='HC0)\n",
    "\n",
    "mod.plot_predict()\n",
    "mod.plot_graphics() # ...                   \n",
    "```"
   ]
  },
  {
   "cell_type": "markdown",
   "id": "known-hormone",
   "metadata": {},
   "source": [
    "##### ARIMA"
   ]
  },
  {
   "cell_type": "markdown",
   "id": "swedish-cutting",
   "metadata": {},
   "source": [
    "Spesifisere antall ledd i AR, MA og antall differensiering.. Må forsøke å lære dette fra data på en eller annen måte.."
   ]
  },
  {
   "cell_type": "markdown",
   "id": "subject-forum",
   "metadata": {},
   "source": [
    "Kan generere sample fra arma"
   ]
  },
  {
   "cell_type": "markdown",
   "id": "eleven-glenn",
   "metadata": {},
   "source": [
    "```python\n",
    "from statsmodels.tsa.arima_process import arma_generate_sample\n",
    "p = 0.5\n",
    "u = arma_generate_sample(ar=[1,-p], ma=[1], nsample=T) # må inkludere 0'te lag som er 1... vet ikke hvorfor negativ\n",
    "```"
   ]
  },
  {
   "cell_type": "markdown",
   "id": "unsigned-chicken",
   "metadata": {},
   "source": [
    "##### SARIMA "
   ]
  },
  {
   "cell_type": "markdown",
   "id": "included-funeral",
   "metadata": {},
   "source": [
    "Seasonal arima."
   ]
  },
  {
   "cell_type": "markdown",
   "id": "competent-latin",
   "metadata": {},
   "source": [
    "```python\n",
    "from statsmodels.tsa.statespace.sarimax import SARIMAX\n",
    "```"
   ]
  },
  {
   "cell_type": "markdown",
   "id": "breeding-singing",
   "metadata": {},
   "source": [
    "##### Unobserved component"
   ]
  },
  {
   "cell_type": "markdown",
   "id": "single-sessions",
   "metadata": {},
   "source": [
    "Model som dekomponerer i trend, samt muligens sesong og syklisk komponenent. Litt usikker på hvilken relasjon det har til STL og seasonal_decompose() i .seasonal pakken ... de bruker jeg uansett mest til å plotte, men her kan jeg bruke fullverdig modell til prediksjon og sånt."
   ]
  },
  {
   "cell_type": "markdown",
   "id": "forced-barrier",
   "metadata": {},
   "source": [
    "```python\n",
    "from statsmodels import tsa\n",
    "model = {'level': 'smooth trend',\n",
    "         'cycle': False,\n",
    "         'seasonal': None, \n",
    "        }\n",
    "\n",
    "res = tsa.UnobservedComponent(data, **model).fit()\n",
    "fig = res.plot_components()\n",
    "predict_res = res.get_prediction(start, # hm\n",
    "                                 end, # hm\n",
    "                                 dynamic # hm\n",
    "                                )\n",
    "```"
   ]
  },
  {
   "cell_type": "markdown",
   "id": "vulnerable-butler",
   "metadata": {},
   "source": [
    "### Forecasting"
   ]
  },
  {
   "cell_type": "markdown",
   "id": "loving-tradition",
   "metadata": {},
   "source": [
    "Kan bruke metrics fra sklearn til å evaluere forecast.\n",
    "\n",
    "Kan splitte i trening og validering.. eller bruke informasjonskriterie. Hadde vært greit å få ting inn i lignende workflow som sklearn, men usikker..\n",
    "\n",
    "kan splitte med \n",
    "\n",
    "```python\n",
    "train_range = df[df.period < '2014-01-01'].index\n",
    "test_range = df[df.period >= '2014-01-01'].index\n",
    "...\n",
    "```"
   ]
  },
  {
   "cell_type": "markdown",
   "id": "contemporary-rwanda",
   "metadata": {},
   "source": [
    "```python\n",
    "result = model().fit()\n",
    "forecast = result.get_forecast()\n",
    "yhat_test = np.exp(forecast.predicted_mean).values # må transformere tilbake ...\n",
    "```"
   ]
  },
  {
   "cell_type": "markdown",
   "id": "facial-improvement",
   "metadata": {},
   "source": [
    "## linearmodel"
   ]
  },
  {
   "cell_type": "markdown",
   "id": "accessible-productivity",
   "metadata": {},
   "source": [
    "Utvidelse av statsmodels som har funksjonalitet for panel data, instrumental variabeler og noe finans/asset pricing sjit"
   ]
  },
  {
   "cell_type": "markdown",
   "id": "viral-creek",
   "metadata": {},
   "source": [
    "### IV"
   ]
  },
  {
   "cell_type": "markdown",
   "id": "challenging-marina",
   "metadata": {},
   "source": [
    "Tror intuisjon bak IV er at vi bruker variasjon i D som er forårsaket av Z->D til å isolere kausal effekt av D->Y\n",
    "\n",
    "lm.IV2sl(dependent, exog, endog, instrument)\n",
    "\n",
    "merk: bare send inn dataframe med relevante greier, trenger ikke inkludere exog i instrument f.eks.\n"
   ]
  },
  {
   "cell_type": "markdown",
   "id": "productive-hacker",
   "metadata": {},
   "source": [
    "```python\n",
    "data = wage.load()\n",
    "dependent = np.log(data.wage)\n",
    "exog = sm.add_constant(data.exper)\n",
    "endog = data.educ\n",
    "instruments = data.sibs\n",
    "\n",
    "mod = IV2SLS(dependent, exog, endog, instruments)\n",
    "res = mod.fit(cov_type='robust')\n",
    "```"
   ]
  },
  {
   "cell_type": "markdown",
   "id": "accredited-generator",
   "metadata": {},
   "source": [
    "### Likningssytem"
   ]
  },
  {
   "cell_type": "markdown",
   "id": "stable-accuracy",
   "metadata": {},
   "source": [
    "Kan betrakte paneldata som system av likninger; én likning for hver t. Konseptuelt er det veldg forskjellig fra ligningsystem i krysseksjon, men jeg har et felles rammeverk for å utlede egenskaper til estimatorer som er helt analogt til enkel ligning.\n",
    "\n",
    "$y_i=X_i\\beta +u_i$. Stacker alle y'ene som tilhører observasjon $i$ i en vektor $y_i$ og konstruere $X_i$ osv slik at det holder\n",
    "\n",
    "deretter kan jeg behandle det analogt til spesialtilfelle der $y_i$ er skalar og $X_i$ er vektor.\n",
    "\n",
    "Ser da også at jeg kan bruke GLS til å få mer effektiv estimator dersom jeg gjør litt antagelser om struktur til betinget covariansmatrise til $u$... og dette har noe med random effects model.\n",
    "\n",
    "Gir meg pooled OLS dersom jeg antar samme likning i hver t. Får fixed effect hvis jeg tar med state-dummy/within transformasjon. Kan eventuelt også ta med tidsdummyer."
   ]
  },
  {
   "cell_type": "markdown",
   "id": "charitable-drinking",
   "metadata": {},
   "source": [
    "#### Seemingly unrelated regressions SUR"
   ]
  },
  {
   "cell_type": "markdown",
   "id": "informal-warehouse",
   "metadata": {},
   "source": [
    "Tror det er likningssytem som har helt egen koeffisientvektor i hver lignign; parametere inngår ikke i de andre ligningene. Kanskje i kontrast til simultane ligningssytem.\n",
    "\n",
    "I enkleste form blir det ekvivalent med å finne parameterene for én ligning om gangen, men kan vise at vi kan gjøre det i én stack. Deretter kan vi utvide til å se på relasjon mellom ligninger..\n",
    "\n",
    "SUR er special case av 3sls der ingen endogene variabler."
   ]
  },
  {
   "cell_type": "raw",
   "id": "labeled-timothy",
   "metadata": {},
   "source": [
    "Eksempler:\n",
    "lm.SUR({\"eq1\":(endog,exog),\"eq2\":(endog,exog)}).fit()\n",
    "lm.SUR.multivariate_ls(endogs,commong_exogs).fit()"
   ]
  },
  {
   "cell_type": "markdown",
   "id": "stock-hierarchy",
   "metadata": {},
   "source": [
    "tenker det blir veldig spennende å utvide de greiene her. Mer generelt framework med én ligning som special case."
   ]
  },
  {
   "cell_type": "markdown",
   "id": "focal-comparison",
   "metadata": {},
   "source": [
    "### Paneldata"
   ]
  },
  {
   "cell_type": "markdown",
   "id": "adjacent-distributor",
   "metadata": {},
   "source": [
    "Entity fixed effects (Intercept for hver entity): $y_{it} = \\beta_1x_{it}+\\alpha_i+u_{it}$\n",
    "\n",
    "Entity og time fixed effects: $y_{it} = \\beta_1x_{it}+\\alpha_i+\\lambda_t+u_{it}$\n",
    "\n",
    "Kan få entity effects fra within estimator, litt usikker på time fixed..\n",
    "\n",
    "Clustered standardfeil for å ta hensyn til korrelasjon innad i entity.. lav en periode så sannsynlig at lav neste (etterspørselsjokk mm)\n",
    "\n",
    "Merker oss at vi ikke kan finne parameter til variabler uten variasjon innad i entity. Fixed effects eliminerer effect fra konstanter. Med random effects tror jeg vi kan estimere ut fra variasjon i krysseksjon på hver t. Synes det er litt rart at jeg kan estimere konstant i FE.. det er konstant + gjennomsnitt av entity fixed effects..\n",
    "\n",
    "Mister konstantledd med within transfomartion, tror jeg kan få det ut med dummies.\n",
    "\n",
    "Merk at panel er statisk dersom det i hver $t$ bare inneholder covariates som får realisert verdi i $t$. Dersom vi tar med info om ting som har skjedd før (lagget variabel fra $t-k$) så er det dynamisk panel."
   ]
  },
  {
   "cell_type": "markdown",
   "id": "verified-groove",
   "metadata": {},
   "source": [
    "Bruker dataframe med multiindex\n",
    "\n",
    "lm.PanelOLS(y,x,entity_effects=True)\n",
    "\n",
    "litt poeng at time effects tilsvarer å inkludere time dummies"
   ]
  },
  {
   "cell_type": "markdown",
   "id": "together-religious",
   "metadata": {},
   "source": [
    "## Pystan / pymc3 ?"
   ]
  },
  {
   "cell_type": "markdown",
   "id": "final-russia",
   "metadata": {},
   "source": [
    "Kunne vært greit å fått inn noe bayse greier for å utvide fra enkel regresjon / ting i sklearn"
   ]
  }
 ],
 "metadata": {
  "kernelspec": {
   "display_name": "Python 3",
   "language": "python",
   "name": "python3"
  },
  "language_info": {
   "codemirror_mode": {
    "name": "ipython",
    "version": 3
   },
   "file_extension": ".py",
   "mimetype": "text/x-python",
   "name": "python",
   "nbconvert_exporter": "python",
   "pygments_lexer": "ipython3",
   "version": "3.7.9"
  },
  "latex_envs": {
   "LaTeX_envs_menu_present": true,
   "autoclose": true,
   "autocomplete": true,
   "bibliofile": "biblio.bib",
   "cite_by": "apalike",
   "current_citInitial": 1,
   "eqLabelWithNumbers": true,
   "eqNumInitial": 1,
   "hotkeys": {
    "equation": "Ctrl-E",
    "itemize": "Ctrl-I"
   },
   "labels_anchors": false,
   "latex_user_defs": false,
   "report_style_numbering": false,
   "user_envs_cfg": false
  },
  "toc": {
   "base_numbering": 1,
   "nav_menu": {},
   "number_sections": true,
   "sideBar": true,
   "skip_h1_title": false,
   "title_cell": "Table of Contents",
   "title_sidebar": "Contents",
   "toc_cell": false,
   "toc_position": {},
   "toc_section_display": true,
   "toc_window_display": true
  }
 },
 "nbformat": 4,
 "nbformat_minor": 5
}
