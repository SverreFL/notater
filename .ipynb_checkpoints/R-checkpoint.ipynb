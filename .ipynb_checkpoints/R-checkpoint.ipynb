{
 "cells": [
  {
   "cell_type": "markdown",
   "metadata": {},
   "source": [
    "## Praktiske ting"
   ]
  },
  {
   "cell_type": "markdown",
   "metadata": {},
   "source": [
    "Nyttige shortcuts:\n",
    "- Script\n",
    "    - kjøre hele: ctrl-shift-enter\n",
    "    - kjøre utvalgte linjer: ctrl-enter\n",
    "\n",
    "- Notebook\n",
    "    - kjøre alle chunks: ctrl-alt-r\n",
    "    - knit: ctrl-shift-k\n",
    "\n",
    "Nyttige ting for å få hjelp:\n",
    "\n",
    "- Liste alle packages: search()\n",
    "- Få utfyllende info om package: library(help=\"package\")\n",
    "- Få liste over funksjoner: lsf.str(\"package:package\") eller package:: + auto_complete\n",
    "- typeof() gir litt overordnet objekttype\n",
    "- class() gir mer spesifikk\n",
    "\n",
    "Annet nyttig:\n",
    "- Bruker haven til å laste statafiler (ikke foreign)\n",
    "- Finner og endrer working directory med getwd(),setwd()"
   ]
  },
  {
   "cell_type": "markdown",
   "metadata": {},
   "source": [
    "Litt om workflow:\n",
    "- Definerer workspace som er en root folder som ligger på disken et eller annet sted. Setter dette til working directory.\n",
    "- Alle paths er relativ til denne root; kan kjøres dersom andre kopierer hele workspace\n",
    "- Alle script, data, figurer og andre resultat er lagret i (subfolders) av workspace\n",
    "- Kan definere prosjekt som initialiesere en .Rproj fil i workspace. Vet ikke hva det lagrer eller hvorfor dette er nødvendig.\n",
    "- Kombinerer med versjonskontroll med git. Vet ikke om Rstudio har relevante verktøy for dette."
   ]
  },
  {
   "cell_type": "markdown",
   "metadata": {},
   "source": [
    "## Base R"
   ]
  },
  {
   "cell_type": "markdown",
   "metadata": {},
   "source": [
    "- data(..) laster inn dataset som er tilgjengelig fra packages. uten argument viser den liste over tilgjengelige. merk at jeg ikke binde direkte til nytt navn som er litt rart... df <- data(..) funker ikke\n",
    "- write.csv(x=df,file=\"filename\") larger dataframe som csv\n",
    "- seq(from, to, lenght.out) tilsvarer range()\n",
    "- rep(x,n) kan bruke til å lage vektor. har jeg bedre måte å initialisere vektorer?\n",
    "- cut(x, breaks = a:b, right=False) konverter numerisk til faktor, lager nivå avhengig av hvilke intervall en kontinuerlig variabel faller inn i right=T -> (c,d], right=F -> [c,d). Spesifise hvilken side som skal være inklusiv.\n",
    "- factor er base.. kategoriske variabler. "
   ]
  },
  {
   "cell_type": "markdown",
   "metadata": {},
   "source": [
    "### Løkke"
   ]
  },
  {
   "cell_type": "markdown",
   "metadata": {},
   "source": [
    "```R\n",
    "for (val in sequence)\n",
    "{\n",
    "statement\n",
    "}\n",
    "```"
   ]
  },
  {
   "cell_type": "markdown",
   "metadata": {},
   "source": [
    "Kan legge til verdier i vektor med indeksverdier som er høyere enn lengden på vektoren.. padder manglenede verdier med nans\n",
    "```R\n",
    "x = c()\n",
    "for (i in 1:10){\n",
    "    x[i] = 2*sqrt(i)\n",
    "}\n",
    "```"
   ]
  },
  {
   "cell_type": "markdown",
   "metadata": {},
   "source": [
    "### Formula"
   ]
  },
  {
   "cell_type": "markdown",
   "metadata": {},
   "source": [
    "```R\n",
    "lm(y~x+I(x**2), data)\n",
    "```\n",
    "bruker `I` rundt transformasjon ..."
   ]
  },
  {
   "cell_type": "markdown",
   "metadata": {},
   "source": [
    "## Objektorientert"
   ]
  },
  {
   "cell_type": "markdown",
   "metadata": {},
   "source": [
    "har generiske funksjoner som har ulik innhold avhengig av type objekt\n",
    "- str() for struktur\n",
    "- summary() for sammendrag\n",
    "- names() gir navn på element\n",
    "- plot() \n",
    "- coef()\n",
    "- predict() <- tror litt av opplegget er at det tar hensyn til usikkerhet om både individuell observasjon og den modellen vi har estimert.\n",
    "- fitted() <- gir fitte verdier til modell\n"
   ]
  },
  {
   "cell_type": "markdown",
   "metadata": {},
   "source": [
    "## Markdown"
   ]
  },
  {
   "cell_type": "markdown",
   "metadata": {},
   "source": [
    "Har lyst til å få en workflow slik at jeg kan lage hele dokumentet inne i rstudio. Bruker markup språk til å kontrollere utforming og inkludere andre ting enn plain tekst. Selve markup blir ikke vist. Finnes mange ulike, men jeg ser mest på latex, html og markdown. html er mer fleksibelt, men mindre intuitivt og krever mer kode. Markdown er enkelt og har noe av samme funksjonalitet.\n",
    "\n",
    "Har kontroll over format og utforming av dokument gjennom ting jeg plasserer i preamble. Dette er er skrevet i yaml (\"yaml ain't markup language\").\n",
    "\n",
    "For statiske dokumenter er pdf best og jeg kan i prinsipp lage dokumentet med latex. Dersom dokumentet skal leses på pc (type enten som en fil som man laster ned eller jeg kan hoste på nettside) er det merk fleksibilitet med html format. Kan få inn funksjonalitet fra ting skrevet i javascript gjennom R pakker."
   ]
  },
  {
   "cell_type": "markdown",
   "metadata": {},
   "source": [
    "```R\n",
    "title: \"Teste markdown-funksjonalitet\"\n",
    "author: 'Sverre'\n",
    "date: 'i dag'\n",
    "output: \n",
    "    pdf_document:\n",
    "        toc: true\n",
    "        toc_depth: 2\n",
    "        number_sections: true\n",
    "```"
   ]
  },
  {
   "cell_type": "markdown",
   "metadata": {},
   "source": [
    "code options som jeg kan legge inn i chunk:\n",
    "- message=F (supress drit fra package import)\n",
    "- results=\"asis\", \"hide\" \n",
    "- echo=F, supress codebox men vis output\n",
    "- echo=T,results=\"hide\" # vis kode men surpress output\n",
    "- include=F, supress hele driten\n",
    "- out.width = 80%\n",
    "\n",
    "Annen markdown funksjonalitet:\n",
    "- _kursiv_, __bold__\n",
    "- bruker tall eller - for å lage liste. Bruker identasjon for å lage sublister\n",
    "- [tekst](www.nettsted.no) for å lage hyperlink. \n",
    "- ![bilde](bilde.png eller nettsted){width=50%}, siste er opsjon som pandoc compiler forstår, men fungerer ikke for alle markdown compilers.\n",
    "- bruker > for å lage sitatboks\n"
   ]
  },
  {
   "cell_type": "markdown",
   "metadata": {},
   "source": [
    "### Shiny"
   ]
  },
  {
   "cell_type": "markdown",
   "metadata": {},
   "source": [
    "lage web apps. Altså, hvis det uansett skal bli lest av en dude på pc som jobber med tingen interaktivt, så kan det like greit ligge på nettet..\n",
    "\n",
    "bruk runtime: shiny i preamble\n",
    "\n",
    "Kan blant annet gjøre plot interaktivt. Kjører R i bakgrunnen som oppdaterer output ut fra valg til bruker. Forutsetter at det er en live R-session.. i motsetning til html-widgets som viser statiske greier.\n",
    "\n",
    "Lager først input-widget som bestemmer hvilke egenskaper ved plot som kan justeres interaktivt:\n",
    "selectInput(inputid='..',label = '..', choices=c('..','..',selected=initial),...)\n",
    "numericInput(inputid,label,value,min,max,step)  # enklere hvis numerisk\n",
    "\n",
    "Bruker input$inputid til å få tak i verdi som jeg bruker som argument i funksjon under. Label er det som vises på frontend. I tillegg til meny over verdi så har jeg også litt funksjonalitet for å bestemme hvordan inputmenyen skal se ut\n",
    "\n",
    "Deretter kan jeg gjøre et plot interaktivt ved å wrappe det inni renderPlot. Først argument er expr som er wrapped i curly braces.\n",
    "\n",
    "renderPlot({\n",
    "  data = df$input\n",
    "  \n",
    "  ggplot(data) + geom_hist()\n",
    "}\n",
    "  )\n",
    "\n",
    "\n",
    "Lage web-applikasjon:\n",
    "Så langt har jeg brukt shiny som del av mitt vanlige html dokument fra .rmd fil. Hvis jeg vil hoste det på nettet må jeg lage en .R fil med basic struktur:\n",
    "ui <- fluidPage(\n",
    "server <- function(input, output, session) { ..}\n",
    "shinyApp(ui, server)\n"
   ]
  },
  {
   "cell_type": "markdown",
   "metadata": {},
   "source": [
    "## Tidyverse"
   ]
  },
  {
   "cell_type": "markdown",
   "metadata": {},
   "source": [
    "Et eller annet med tidy evaluation. Kan bruke navn fra dataframe uten å bruke strings. Har hjelpefunksjoner\n",
    "\n",
    "- aes()\n",
    "- vars()\n",
    "\n",
    "som jeg ikke skjønner 100%\n",
    "\n",
    "bruker tibbles som er videreutvikling av native dataframe"
   ]
  },
  {
   "cell_type": "markdown",
   "metadata": {},
   "source": [
    "`Most dplyr functions use lazyeval internally. And the character method for lazyeval::as.lazy cannot handle spaces.` hmm. Må bruke string hvis whitespace"
   ]
  },
  {
   "cell_type": "markdown",
   "metadata": {},
   "source": [
    "### dplyr"
   ]
  },
  {
   "cell_type": "markdown",
   "metadata": {},
   "source": [
    "piping workflow, g(f(x)) f(x) %>% g(). Kommer egentlig fra annen pakke, men veldig sweet workflow i kombinasjon med workhorse verbs. tvang gir frihet.\n",
    "\n",
    "Introduserer tbl (tibble) som er utvidelse og forbedring av base data.frame. Finnes også noe som heter data.table som har bedre performance på store data.\n",
    "\n",
    "Kan vi bruke funksjoner som ikke har dataframe som første input når vi piper?\n",
    "- Ja, bare si data=.\n"
   ]
  },
  {
   "cell_type": "markdown",
   "metadata": {},
   "source": [
    "#### Mutate"
   ]
  },
  {
   "cell_type": "markdown",
   "metadata": {},
   "source": [
    "Kan bruke mutate_at/mutate_if hvis jeg har lyst til å gjøre samme sjiten på mange kolonner. Bruker vars() som funksjon til å velge kolonner. Merk at jeg kan sette - foran for å droppe de nevnte kolonnene fra det jeg vil selektere. Dertetter er det bare å spesifisere hvilken funksjon som skal påføres mine utvalgte kolonner\n",
    "\n",
    "eks: df <- mutate_at(df, vars(-aar, -alder, -postint2, -preint, -km), as.factor)\n",
    "\n",
    "Bruker ifelse(condition, 1,0) til å få int fra bool arrays\n",
    "\n",
    "mutate(ifelse(is.na(x),y,z))"
   ]
  },
  {
   "cell_type": "markdown",
   "metadata": {},
   "source": [
    "#### Select"
   ]
  },
  {
   "cell_type": "markdown",
   "metadata": {},
   "source": [
    "- rename(newname=oldname)\n",
    "- select(a:b) for alle kolonner mellom a og b, der a og b kan være tall eller kolonnenavn\n",
    "- select(-c(..)) hvis vi vil droppe noen kolonner\n",
    "\n",
    "tror select og sånn lager bool array under the hood. for å hjelpe med dette bruke vi vars(..) rundt hjelpefunksjoner som velger kolonner\n",
    "\n",
    "- select_at(vars(ends_with(\"score\")))\n"
   ]
  },
  {
   "cell_type": "markdown",
   "metadata": {},
   "source": [
    "#### Filter"
   ]
  },
  {
   "cell_type": "markdown",
   "metadata": {},
   "source": []
  },
  {
   "cell_type": "markdown",
   "metadata": {},
   "source": [
    "#### Arrange"
   ]
  },
  {
   "cell_type": "markdown",
   "metadata": {},
   "source": []
  },
  {
   "cell_type": "markdown",
   "metadata": {},
   "source": [
    "#### Group_by"
   ]
  },
  {
   "cell_type": "markdown",
   "metadata": {},
   "source": [
    "Vil dele opp data i flere mindre dataframes ut i fra verdi på én eller flere kolonner. Etterpå kunne jeg sett på hele fordelingen til variabler innad i hver dataframe, som da vil være betingede fordelinger. I praksis så vil vi oppsummere fordelingen med noen sammendragsmål og presentere disse. Denne workflowen kalles gjerne split-apply-combine og gjøres operativt med group_by() og summarise()"
   ]
  },
  {
   "cell_type": "markdown",
   "metadata": {},
   "source": [
    "```R\n",
    "df %>% \n",
    "  groupby(col) %>%  \n",
    "  summarise(col1 = func1(col),\n",
    "            col2 = func2(col))\n",
    "```"
   ]
  },
  {
   "cell_type": "markdown",
   "metadata": {},
   "source": [
    "#### Summarise"
   ]
  },
  {
   "cell_type": "markdown",
   "metadata": {},
   "source": [
    "#### Joins"
   ]
  },
  {
   "cell_type": "markdown",
   "metadata": {},
   "source": [
    "Enkleste er bind_cols()/bind_rows() som er litt analog til å binde matriser bortsett fra at håndtere index slik at kobler riktige observasjoner.\n",
    "\n",
    "Kan ofte ha lyst til å koble datasett på annen måte..\n",
    "- left_join()\n",
    "- right_join()\n",
    "- kan spesifisere hvilke kolonner jeg vil ha med med by=c()\n",
    "- hvis det er kolonner med samme navn i begge datasettet får de suffix .x eller .y; kan også spesifisere egne suffix\n"
   ]
  },
  {
   "cell_type": "markdown",
   "metadata": {},
   "source": [
    "### tidyr"
   ]
  },
  {
   "cell_type": "markdown",
   "metadata": {},
   "source": [
    "Vil ha data i tidy format før jeg gjøre analyse med dplyr. Vil at hver rekke skal inneholde én observasjon og at kolonne er dimensjon og innhold er verdi..\n",
    "\n",
    "expand(df,col1,col2) returnerer en tibble med alle kombinasjoner av verdier fra de to kolonnene. For hver verdi av col1 får jeg full range av verdier fra col2 selv om ikke alle kombinasjonene eksisterer i datasettet. Litt usikker på om det finnes analog i python.. tror jeg ville bruke combinations() til å konstruere\n",
    "\n",
    "nesting lager liste av dataframes... merk at group_by lager dataframer som består av alle observasjonene med unike verdier langs en kolonne. dette skjer under the hood. nesting gir oss tilgang til disse dataframene..Eksempel:\n",
    "\n",
    "group_by(continent) %>%\n",
    "  nest()\n"
   ]
  },
  {
   "cell_type": "markdown",
   "metadata": {},
   "source": [
    "```R\n",
    "pivot_longer(data,\n",
    "             cols,\n",
    "             names_to\n",
    "            )\n",
    "```"
   ]
  },
  {
   "cell_type": "markdown",
   "metadata": {},
   "source": [
    "### broom"
   ]
  },
  {
   "cell_type": "markdown",
   "metadata": {},
   "source": [
    "Bruker broom til å få tidy output fra lm og andre modeller slik at jeg kan bruke det videre (bruke i ggplot mm). Har tre generiske funksjoner\n",
    "1. tidy\n",
    "2. augment\n",
    "3. glance"
   ]
  },
  {
   "cell_type": "markdown",
   "metadata": {},
   "source": [
    "## Økonometri"
   ]
  },
  {
   "cell_type": "markdown",
   "metadata": {},
   "source": [
    "workhorse er lm og glm fra base.."
   ]
  },
  {
   "cell_type": "markdown",
   "metadata": {},
   "source": [
    "Når jeg utvider til funksjon E[y|x] != h(x)'b så kan jeg ikke lenger fitte med ols. Bruker i praksis mle. Finnes stor mengde av modeller som kan beskrives som E[y|x] = h(x'b) der feilledd er medlem av eksponentialfamilien. Disse har litt felles egenskaper.. eller kan ihvertfall beskrives innenfor samme rammeverk. Link-funksjonen er invers av h. Det sikrer at E[y|x] har verdier som er meningsfulle for gitte modell (eks. i (0,1)  eller >0).\n",
    "\n",
    "Utforming: bruker glm() med ekstra argument for family\n",
    "- probit: glm(formula, data, family=binomial(link=\"probit\"))\n",
    "- logit: glm(formula, data, family=binomial(link=\"logit\"))\n",
    "- poisson: glm(formula, data, family=poisson(link=\"log))\n"
   ]
  },
  {
   "cell_type": "markdown",
   "metadata": {},
   "source": [
    "### Stargazer"
   ]
  },
  {
   "cell_type": "markdown",
   "metadata": {},
   "source": [
    "Lager tabell med summary statistics fra dataframe eller output fra reg modeller.\n",
    "\n",
    "1. stargazer(df, type=c(\"html\",\"text\", \"latex\"), out=)\n",
    "2. stargazer(reg1,reg2,...)\n",
    "\n",
    "spesifiserer fil den skriver ut til, kan deretter få det inn i mitt latex script på en eller annen måte. Tror det går ann å inkludere i markdown workflow; lage alt inne i r, men dette må jeg se på annen gang.. tror jeg. integrere inn i knitr workflow...\n",
    "\n",
    "Det er også poeng å bare bruke \"text\" for å se kosn tabellen ser ut inne i r. Det er masse options slik at jeg kan påvirke output. Alternativ er å spikke på det inne i latex."
   ]
  },
  {
   "cell_type": "markdown",
   "metadata": {},
   "source": [
    "```R\n",
    "rob_se <- list(sqrt(diag(vcovHC(mod1, type = \"HC1\"))),\n",
    "               sqrt(diag(vcovHC(mod2, type = \"HC1\"))),\n",
    "               sqrt(diag(vcovHC(mod3, type = \"HC1\"))))\n",
    "\n",
    "# alternativ\n",
    "hc1 <- function(mod) vcovHC(mod,type=\"HC1\") \n",
    "rob_se <- list(sqrt(diag(hc1(mod1))),\n",
    "               sqrt(diag(hc1(mod2))),\n",
    "               sqrt(diag(hc1(mod3))))\n",
    "\n",
    "stargazer(mod1,mod2,mod3, se = rob_se, \n",
    "          omit.stat = c('f','rsq','ser'),\n",
    "          covariate.labels =  c('lab1','lab2',...),\n",
    "          intercept.bottom=FALSE)\n",
    "```"
   ]
  },
  {
   "cell_type": "markdown",
   "metadata": {},
   "source": [
    "### lmtest"
   ]
  },
  {
   "cell_type": "markdown",
   "metadata": {},
   "source": [
    "Tror ikke jeg kan få robuste standardfeil inn i modell-objektet mitt som kommer fra lm, men kan jeg ta modellobjektet som argument i nye funksjoner fra f.eks. lmtest og kalkuere ny covariansmatrise fra vcovHC i sandwich. Kan dermed bruke dette til å gjøre ymse statistiske tester o lign og bare drite i det opprinnelgie modell-objektet.\n",
    "\n",
    "eks: coeftest(mod,vcov = vcovHC(mod, type=\"HC1\"))\n",
    "\n",
    "- coefci()\n",
    "- coeftest()\n",
    "- bptest(), breuch pagan bruker r2 av reg av kvadrert residual på covariates. Hvis det er slik at covariates forklarer størrelse på forventet avvik (varians..) så må det være hetero.\n",
    "- dwtest(), durbin watson for autokorrelasjon. Tror den bruker info fra reg av residual på lagged residual.\n"
   ]
  },
  {
   "cell_type": "markdown",
   "metadata": {},
   "source": [
    "### sandwich"
   ]
  },
  {
   "cell_type": "markdown",
   "metadata": {},
   "source": [
    "### AER (IV)"
   ]
  },
  {
   "cell_type": "markdown",
   "metadata": {},
   "source": [
    "bruker ivreg() fra AER\n",
    "\n",
    "ivreg(y ~ x | z, data=data), der eksogene blir med i z (instrument for seg selv). Må huske å spesifisere data=.. eksplisitt (som ikke er nødvendig i lm)\n",
    "\n",
    "Kan få diagnostics med summary(ivreg_mod, diagnostics=T)\n",
    "1) F test på weak instrument\n",
    "2) Wu-Hausman som tester om OLS er consistent (gitt at vi antar at iv'en vår er konsistent)\n",
    "3) Sargan's J test om minst én av restriksjonene ikke stemmer, gitt at k-1 restriksjon gir oss konsistent.\n"
   ]
  },
  {
   "cell_type": "markdown",
   "metadata": {},
   "source": [
    "### plm (Panel)"
   ]
  },
  {
   "cell_type": "markdown",
   "metadata": {},
   "source": [
    "Fordelen med å observere samme enheter over tid ... eller ulike enheter innad i kategori ... \n",
    "\n",
    "plm er vår pakke for lineære modeller for panel data. Bruker lm() men gjør transformeringer av data under the hood så jeg slipper å gjøre det eksplisitt. tilsvarer xtset i stata.\n",
    "\n",
    "plm(formula, data, index=(id, tid), model=\"within\", effect=\"twoway\")\n",
    "\n",
    "Opsjoner:\n",
    "model = within (fe), between, pooling, fd (first difference), random\n",
    "effect = time, twoways .. \n",
    "\n",
    "Den har masse default options så det kjører uansett, men tror det er greit å være litt eksplisitt så det blir riktig. Merk at twoway = entity + time fixed effects.\n",
    "\n",
    "Merker at:\n",
    "- hver index verdi må være unik for at plm skal kjøre.\n",
    "- Kan ikke kjøre på group_by. Må ta ungroup() først\n",
    "\n",
    "Kan konvertere til pdata.frame med explisitt index, vet ikke helt om dette er noe jeg vil bruke\n",
    "\n",
    "pdata.frame(df, index=\"group\")\n",
    "- lage tidsvariabel automatisk\n",
    "- gitt at balansert med stacked tidsserier er det tilstrekkelig å spesifisere antallet obs; kan lage selv om jeg ikke har id til hver gruppe.\n"
   ]
  },
  {
   "cell_type": "markdown",
   "metadata": {},
   "source": [
    "### Tidsserie"
   ]
  },
  {
   "cell_type": "markdown",
   "metadata": {},
   "source": [
    "- Kan være aktuelt å dekomponere trend og støy i en tidsserie.\n",
    "- har en egen datatype for timeseries :o\n",
    "- Noen funksjoner krever at tidsserie er univariat. Da må jeg kjøre råtall inn i ts() i stedet for å feede kolonne fra df. \n",
    "\n",
    "Kan bruke tidsserie til å forutse verdi av en variabel i fremtiden. Til nå har jeg brukt x_t til å predikere y_t, men hjelper meg ikke så mye til å predikere y_(t+T). Måtte i så fall predikere x'ene først og da er jeg like langt.\n",
    "\n",
    "Andre ting jeg vil gjøre med mine tidsserier er\n",
    "\n",
    "1. filtrering; oppdatere min prediksjon om fremtid gitt ny info.\n",
    "2. Dekomponere trend (langsiktig/sekular, seasonal og residual).\n",
    "\n",
    "Det kan la meg få ut signal fra støy... tror jeg kan modellere støy som stasjonnær, så må få ut mønster først (ting som avhengig av t..). Har litt ulike måter å modellere avhengighet mellom observasjon over tid\n",
    "\n",
    "1. AR(1), y_t=p*y_(t-1)+e_t, støy forplanter seg over lang tid\n",
    "2. MA(1), y_t=u+e_t+e_(t-1), støy påvirker bare k nestene periode\n",
    "3. ARMA, blanding av AR og MA."
   ]
  },
  {
   "cell_type": "markdown",
   "metadata": {},
   "source": [
    "##### Autokorrelasjon"
   ]
  },
  {
   "cell_type": "markdown",
   "metadata": {},
   "source": [
    "Korrelasjon av feilledd over tid. Hvis realisert verdi er mindre enn fitted verdi i t, så er det sannsynlig at feil er negativ neste t også... kanskje fordi bidrag fra relevant utelatt variabel er persistent?\n",
    "\n",
    "Moving average MA():\n",
    "\n",
    "Autoregressiv AR():\n",
    "y = x'b+e, e=p*e-1+v\n",
    "\n",
    "Kan estimere p ved å kjøre reg på e=p*e-1+v\n",
    "Kan utlede form på covariansmatrise til feil.. ikke lenger o2I som i GM. Kan i prinsippet bruke dette til å finne mer effektiv estimator, men tror OLS er konsistent uansett... litt parallel med hetero her.\n",
    "\n",
    "Autokorrelasjon er ofte tegn på feilspesifikasjon (utelatt variabel). Det kan for eksempel være at lagged variabel fra en covariate gir info.. eksmepl: salg av iskrem forrige dag reduserer salg neste dag, alt annet likt. \n"
   ]
  },
  {
   "cell_type": "code",
   "execution_count": 1,
   "metadata": {},
   "outputs": [
    {
     "name": "stderr",
     "output_type": "stream",
     "text": [
      "\n",
      "Attaching package: 'dplyr'\n",
      "\n",
      "\n",
      "The following objects are masked from 'package:stats':\n",
      "\n",
      "    filter, lag\n",
      "\n",
      "\n",
      "The following objects are masked from 'package:base':\n",
      "\n",
      "    intersect, setdiff, setequal, union\n",
      "\n",
      "\n"
     ]
    }
   ],
   "source": [
    "library('ggplot2')\n",
    "library('dplyr')\n",
    "library('tidyr')\n",
    "df <- mtcars"
   ]
  },
  {
   "cell_type": "code",
   "execution_count": 2,
   "metadata": {},
   "outputs": [
    {
     "data": {
      "text/html": [
       "<table class=\"dataframe\">\n",
       "<caption>A data.frame: 6 × 11</caption>\n",
       "<thead>\n",
       "\t<tr><th></th><th scope=col>mpg</th><th scope=col>cyl</th><th scope=col>disp</th><th scope=col>hp</th><th scope=col>drat</th><th scope=col>wt</th><th scope=col>qsec</th><th scope=col>vs</th><th scope=col>am</th><th scope=col>gear</th><th scope=col>carb</th></tr>\n",
       "\t<tr><th></th><th scope=col>&lt;dbl&gt;</th><th scope=col>&lt;dbl&gt;</th><th scope=col>&lt;dbl&gt;</th><th scope=col>&lt;dbl&gt;</th><th scope=col>&lt;dbl&gt;</th><th scope=col>&lt;dbl&gt;</th><th scope=col>&lt;dbl&gt;</th><th scope=col>&lt;dbl&gt;</th><th scope=col>&lt;dbl&gt;</th><th scope=col>&lt;dbl&gt;</th><th scope=col>&lt;dbl&gt;</th></tr>\n",
       "</thead>\n",
       "<tbody>\n",
       "\t<tr><th scope=row>Mazda RX4</th><td>21.0</td><td>6</td><td>160</td><td>110</td><td>3.90</td><td>2.620</td><td>16.46</td><td>0</td><td>1</td><td>4</td><td>4</td></tr>\n",
       "\t<tr><th scope=row>Mazda RX4 Wag</th><td>21.0</td><td>6</td><td>160</td><td>110</td><td>3.90</td><td>2.875</td><td>17.02</td><td>0</td><td>1</td><td>4</td><td>4</td></tr>\n",
       "\t<tr><th scope=row>Datsun 710</th><td>22.8</td><td>4</td><td>108</td><td> 93</td><td>3.85</td><td>2.320</td><td>18.61</td><td>1</td><td>1</td><td>4</td><td>1</td></tr>\n",
       "\t<tr><th scope=row>Hornet 4 Drive</th><td>21.4</td><td>6</td><td>258</td><td>110</td><td>3.08</td><td>3.215</td><td>19.44</td><td>1</td><td>0</td><td>3</td><td>1</td></tr>\n",
       "\t<tr><th scope=row>Hornet Sportabout</th><td>18.7</td><td>8</td><td>360</td><td>175</td><td>3.15</td><td>3.440</td><td>17.02</td><td>0</td><td>0</td><td>3</td><td>2</td></tr>\n",
       "\t<tr><th scope=row>Valiant</th><td>18.1</td><td>6</td><td>225</td><td>105</td><td>2.76</td><td>3.460</td><td>20.22</td><td>1</td><td>0</td><td>3</td><td>1</td></tr>\n",
       "</tbody>\n",
       "</table>\n"
      ],
      "text/latex": [
       "A data.frame: 6 × 11\n",
       "\\begin{tabular}{r|lllllllllll}\n",
       "  & mpg & cyl & disp & hp & drat & wt & qsec & vs & am & gear & carb\\\\\n",
       "  & <dbl> & <dbl> & <dbl> & <dbl> & <dbl> & <dbl> & <dbl> & <dbl> & <dbl> & <dbl> & <dbl>\\\\\n",
       "\\hline\n",
       "\tMazda RX4 & 21.0 & 6 & 160 & 110 & 3.90 & 2.620 & 16.46 & 0 & 1 & 4 & 4\\\\\n",
       "\tMazda RX4 Wag & 21.0 & 6 & 160 & 110 & 3.90 & 2.875 & 17.02 & 0 & 1 & 4 & 4\\\\\n",
       "\tDatsun 710 & 22.8 & 4 & 108 &  93 & 3.85 & 2.320 & 18.61 & 1 & 1 & 4 & 1\\\\\n",
       "\tHornet 4 Drive & 21.4 & 6 & 258 & 110 & 3.08 & 3.215 & 19.44 & 1 & 0 & 3 & 1\\\\\n",
       "\tHornet Sportabout & 18.7 & 8 & 360 & 175 & 3.15 & 3.440 & 17.02 & 0 & 0 & 3 & 2\\\\\n",
       "\tValiant & 18.1 & 6 & 225 & 105 & 2.76 & 3.460 & 20.22 & 1 & 0 & 3 & 1\\\\\n",
       "\\end{tabular}\n"
      ],
      "text/markdown": [
       "\n",
       "A data.frame: 6 × 11\n",
       "\n",
       "| <!--/--> | mpg &lt;dbl&gt; | cyl &lt;dbl&gt; | disp &lt;dbl&gt; | hp &lt;dbl&gt; | drat &lt;dbl&gt; | wt &lt;dbl&gt; | qsec &lt;dbl&gt; | vs &lt;dbl&gt; | am &lt;dbl&gt; | gear &lt;dbl&gt; | carb &lt;dbl&gt; |\n",
       "|---|---|---|---|---|---|---|---|---|---|---|---|\n",
       "| Mazda RX4 | 21.0 | 6 | 160 | 110 | 3.90 | 2.620 | 16.46 | 0 | 1 | 4 | 4 |\n",
       "| Mazda RX4 Wag | 21.0 | 6 | 160 | 110 | 3.90 | 2.875 | 17.02 | 0 | 1 | 4 | 4 |\n",
       "| Datsun 710 | 22.8 | 4 | 108 |  93 | 3.85 | 2.320 | 18.61 | 1 | 1 | 4 | 1 |\n",
       "| Hornet 4 Drive | 21.4 | 6 | 258 | 110 | 3.08 | 3.215 | 19.44 | 1 | 0 | 3 | 1 |\n",
       "| Hornet Sportabout | 18.7 | 8 | 360 | 175 | 3.15 | 3.440 | 17.02 | 0 | 0 | 3 | 2 |\n",
       "| Valiant | 18.1 | 6 | 225 | 105 | 2.76 | 3.460 | 20.22 | 1 | 0 | 3 | 1 |\n",
       "\n"
      ],
      "text/plain": [
       "                  mpg  cyl disp hp  drat wt    qsec  vs am gear carb\n",
       "Mazda RX4         21.0 6   160  110 3.90 2.620 16.46 0  1  4    4   \n",
       "Mazda RX4 Wag     21.0 6   160  110 3.90 2.875 17.02 0  1  4    4   \n",
       "Datsun 710        22.8 4   108   93 3.85 2.320 18.61 1  1  4    1   \n",
       "Hornet 4 Drive    21.4 6   258  110 3.08 3.215 19.44 1  0  3    1   \n",
       "Hornet Sportabout 18.7 8   360  175 3.15 3.440 17.02 0  0  3    2   \n",
       "Valiant           18.1 6   225  105 2.76 3.460 20.22 1  0  3    1   "
      ]
     },
     "metadata": {},
     "output_type": "display_data"
    }
   ],
   "source": [
    "head(df)"
   ]
  },
  {
   "cell_type": "markdown",
   "metadata": {},
   "source": [
    "## Annet"
   ]
  },
  {
   "cell_type": "markdown",
   "metadata": {},
   "source": [
    "Mange objekter (fittede modeller fra lm og sånn) er i praktisk named lists med output. Har tekstrepresentasjon når jeg refererer til objektet. Kan få andre representasjoner med generiske funksjoner (str/summary/..)Kan få ut de ulike størrelsene/egenskapene ved å `obj$navn`. Problem at output ofte er ganske stygt og upraktisk å jobbe med. Bruker broom til å få det i tibble."
   ]
  },
  {
   "cell_type": "code",
   "execution_count": null,
   "metadata": {},
   "outputs": [],
   "source": []
  }
 ],
 "metadata": {
  "kernelspec": {
   "display_name": "Python 3",
   "language": "python",
   "name": "python3"
  },
  "language_info": {
   "codemirror_mode": {
    "name": "ipython",
    "version": 3
   },
   "file_extension": ".py",
   "mimetype": "text/x-python",
   "name": "python",
   "nbconvert_exporter": "python",
   "pygments_lexer": "ipython3",
   "version": "3.7.9"
  },
  "latex_envs": {
   "LaTeX_envs_menu_present": true,
   "autoclose": true,
   "autocomplete": true,
   "bibliofile": "biblio.bib",
   "cite_by": "apalike",
   "current_citInitial": 1,
   "eqLabelWithNumbers": true,
   "eqNumInitial": 1,
   "hotkeys": {
    "equation": "Ctrl-E",
    "itemize": "Ctrl-I"
   },
   "labels_anchors": false,
   "latex_user_defs": false,
   "report_style_numbering": false,
   "user_envs_cfg": false
  },
  "toc": {
   "base_numbering": 1,
   "nav_menu": {},
   "number_sections": true,
   "sideBar": true,
   "skip_h1_title": false,
   "title_cell": "Table of Contents",
   "title_sidebar": "Contents",
   "toc_cell": false,
   "toc_position": {},
   "toc_section_display": true,
   "toc_window_display": true
  }
 },
 "nbformat": 4,
 "nbformat_minor": 4
}
