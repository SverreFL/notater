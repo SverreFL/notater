{
 "cells": [
  {
   "cell_type": "markdown",
   "metadata": {},
   "source": [
    "### syntax"
   ]
  },
  {
   "cell_type": "markdown",
   "metadata": {},
   "source": [
    "Store bokstaver og identation er bare konvensjon for å gjøre mer leselig\n",
    "\n",
    "Hele query er en statement\n",
    "\n",
    "hver linje er clause.\n",
    "\n",
    "har keywords og operators"
   ]
  },
  {
   "cell_type": "markdown",
   "metadata": {},
   "source": [
    "```SQL\n",
    "SELECT [kol1, kol2,...]\n",
    "    FROM [table1, table2, ...]\n",
    "    WHERE [(cond1 OR con2)]\n",
    "    AND [cond2]\n",
    "    LIMIT [num]\n",
    "    ORDER BY [kol1] DESC\n",
    "    \n",
    "```"
   ]
  },
  {
   "cell_type": "markdown",
   "metadata": {},
   "source": [
    "Rekkefølgen clause i statement blir kjørt avhenger av keyword"
   ]
  },
  {
   "cell_type": "markdown",
   "metadata": {},
   "source": [
    "```SQL\n",
    "FROM > WHERE > GROUP BY > HAVING > SELECT > ORDER BY > LIMIT\n",
    "```"
   ]
  },
  {
   "cell_type": "markdown",
   "metadata": {},
   "source": [
    "### funksjoner"
   ]
  },
  {
   "cell_type": "markdown",
   "metadata": {},
   "source": [
    "Kan kjøre aggregeringsfunksjoner på tabell. Eks: MIN, MAX, COUNT, AVG. Svare på spørsmål om verdiene i kolonnen. Kan spesifisere alias som brukes som kolonnenavn i resten av script + output tabell. Merk at jeg ikek kan bruke de nye aliasene når jeg konstrueker nye kolonne i select, eg kol1+kol2 as ny_kol må bruke navn fra tabell"
   ]
  },
  {
   "cell_type": "markdown",
   "metadata": {},
   "source": [
    "```SQL\n",
    "SELECT AGG(kol1) AS 'agg_kol1', \n",
    "       AGG(DISTINCT kol2) as 'blalba'\n",
    "       FROM [...]\n",
    "       ...\n",
    "```\n",
    "    "
   ]
  },
  {
   "cell_type": "markdown",
   "metadata": {},
   "source": [
    "Har også funksjoner som transformerer hver celle i kolonne og gir ny kolonne. Har litt greier på strings men hmm, "
   ]
  },
  {
   "cell_type": "markdown",
   "metadata": {},
   "source": [
    "```SQL\n",
    "SELECT\n",
    "    CASE\n",
    "    WHEN [kol1] [cond1] THEN [value1]\n",
    "    WHEN [kol1] [cond2] THEN [value2]\n",
    "    ELSE [value3]\n",
    "    END AS [kolnavn]\n",
    "```"
   ]
  },
  {
   "cell_type": "markdown",
   "metadata": {},
   "source": [
    "### group by"
   ]
  },
  {
   "cell_type": "markdown",
   "metadata": {},
   "source": [
    "```SQL\n",
    "SELECT [idx_col1, idx_col2],\n",
    "    AGG(val_col1) as 'alias1',\n",
    "    AGG(val_col2) as 'alias2',\n",
    "    FROM [table1]\n",
    "    GROUP BY idx_col1, idx_col2\n",
    "    HAVING alias1 > value\n",
    "```"
   ]
  },
  {
   "cell_type": "markdown",
   "metadata": {},
   "source": [
    "### Datatype"
   ]
  },
  {
   "cell_type": "markdown",
   "metadata": {},
   "source": [
    "Deler to ints så vil SQL forsøke å caste output til int, runder nedover. Ikke det vi vil ha. Må caste kolonne til float før vi deler"
   ]
  },
  {
   "cell_type": "markdown",
   "metadata": {},
   "source": [
    "```SQL\n",
    "CAST(kol AS Float)\n",
    "```"
   ]
  },
  {
   "cell_type": "markdown",
   "metadata": {},
   "source": [
    "har problem med å caste, kan bruke kolnavn*1.0  for å få det som float"
   ]
  },
  {
   "cell_type": "markdown",
   "metadata": {},
   "source": [
    "### subquery"
   ]
  },
  {
   "cell_type": "markdown",
   "metadata": {},
   "source": [
    "Bruke output fra output fra en query som input i en annen. Kunne kjørt iterativt og flyttet verdier over manuelt, men mye bedre å bruke output fra en subquery\n",
    "\n",
    "subquery i klausul blir evaluert før resten\n",
    "\n",
    "utfordring at SELECT blir kjørt så jævlig sent så kan ikke bruke konstruerte variabler hefra til å filtrere output"
   ]
  },
  {
   "cell_type": "markdown",
   "metadata": {},
   "source": [
    "```SQL\n",
    "SELECT Major_category, Major\n",
    "    FROM recent_grads\n",
    "    WHERE Major_category IN (SELECT Major_category\n",
    "                            FROM recent_grads\n",
    "                            GROUP BY Major_category\n",
    "                            ORDER BY SUM(TOTAL) DESC\n",
    "                            LIMIT 3\n",
    "                          );\n",
    "```                          "
   ]
  },
  {
   "cell_type": "markdown",
   "metadata": {},
   "source": [
    "### Joins"
   ]
  },
  {
   "cell_type": "markdown",
   "metadata": {},
   "source": [
    "Lage tabell med data fra flere tabeller. Trenger id-kolonne for å matche rows. I praksis bruker vi inner og left joins"
   ]
  },
  {
   "cell_type": "markdown",
   "metadata": {},
   "source": [
    "```SQL\n",
    "SELECT left.*, right.kol AS kolnavn\n",
    "    FROM left_data AS left\n",
    "    INNER JOIN right_data AS right on left.idx = right.index\n",
    "```"
   ]
  },
  {
   "cell_type": "markdown",
   "metadata": {},
   "source": [
    "Nyttig å bruke alias på tabellnavn siden jeg refererrer til kolonnenavn med alias.kolnavn. Bruker wildcard for å velge alle kolonner"
   ]
  },
  {
   "cell_type": "code",
   "execution_count": 2,
   "metadata": {},
   "outputs": [],
   "source": [
    "import pandas as pd\n",
    "import numpy as np"
   ]
  },
  {
   "cell_type": "code",
   "execution_count": 16,
   "metadata": {},
   "outputs": [],
   "source": [
    "df = pd.DataFrame([[1,1],[0,0]])"
   ]
  },
  {
   "cell_type": "code",
   "execution_count": 17,
   "metadata": {},
   "outputs": [
    {
     "data": {
      "text/html": [
       "<div>\n",
       "<style scoped>\n",
       "    .dataframe tbody tr th:only-of-type {\n",
       "        vertical-align: middle;\n",
       "    }\n",
       "\n",
       "    .dataframe tbody tr th {\n",
       "        vertical-align: top;\n",
       "    }\n",
       "\n",
       "    .dataframe thead th {\n",
       "        text-align: right;\n",
       "    }\n",
       "</style>\n",
       "<table border=\"1\" class=\"dataframe\">\n",
       "  <thead>\n",
       "    <tr style=\"text-align: right;\">\n",
       "      <th></th>\n",
       "      <th>0</th>\n",
       "      <th>1</th>\n",
       "    </tr>\n",
       "  </thead>\n",
       "  <tbody>\n",
       "    <tr>\n",
       "      <th>0</th>\n",
       "      <td>1</td>\n",
       "      <td>1</td>\n",
       "    </tr>\n",
       "    <tr>\n",
       "      <th>1</th>\n",
       "      <td>0</td>\n",
       "      <td>0</td>\n",
       "    </tr>\n",
       "  </tbody>\n",
       "</table>\n",
       "</div>"
      ],
      "text/plain": [
       "   0  1\n",
       "0  1  1\n",
       "1  0  0"
      ]
     },
     "execution_count": 17,
     "metadata": {},
     "output_type": "execute_result"
    }
   ],
   "source": [
    "df"
   ]
  },
  {
   "cell_type": "code",
   "execution_count": 18,
   "metadata": {},
   "outputs": [
    {
     "data": {
      "text/plain": [
       "2"
      ]
     },
     "execution_count": 18,
     "metadata": {},
     "output_type": "execute_result"
    }
   ],
   "source": [
    "len(df[df == 1])"
   ]
  },
  {
   "cell_type": "code",
   "execution_count": null,
   "metadata": {},
   "outputs": [],
   "source": []
  },
  {
   "cell_type": "code",
   "execution_count": null,
   "metadata": {},
   "outputs": [],
   "source": []
  }
 ],
 "metadata": {
  "kernelspec": {
   "display_name": "Python 3",
   "language": "python",
   "name": "python3"
  },
  "language_info": {
   "codemirror_mode": {
    "name": "ipython",
    "version": 3
   },
   "file_extension": ".py",
   "mimetype": "text/x-python",
   "name": "python",
   "nbconvert_exporter": "python",
   "pygments_lexer": "ipython3",
   "version": "3.7.9"
  },
  "latex_envs": {
   "LaTeX_envs_menu_present": true,
   "autoclose": true,
   "autocomplete": true,
   "bibliofile": "biblio.bib",
   "cite_by": "apalike",
   "current_citInitial": 1,
   "eqLabelWithNumbers": true,
   "eqNumInitial": 1,
   "hotkeys": {
    "equation": "Ctrl-E",
    "itemize": "Ctrl-I"
   },
   "labels_anchors": false,
   "latex_user_defs": false,
   "report_style_numbering": false,
   "user_envs_cfg": false
  },
  "toc": {
   "base_numbering": 1,
   "nav_menu": {},
   "number_sections": true,
   "sideBar": true,
   "skip_h1_title": false,
   "title_cell": "Table of Contents",
   "title_sidebar": "Contents",
   "toc_cell": false,
   "toc_position": {},
   "toc_section_display": true,
   "toc_window_display": true
  }
 },
 "nbformat": 4,
 "nbformat_minor": 4
}
