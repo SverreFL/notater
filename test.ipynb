{
 "cells": [
  {
   "cell_type": "code",
   "execution_count": 1,
   "id": "e0aeca16-d857-4e5b-9f99-f11d291f830f",
   "metadata": {},
   "outputs": [],
   "source": [
    "import numpy as np\n",
    "import pandas as pd\n",
    "import altair as alt"
   ]
  },
  {
   "cell_type": "code",
   "execution_count": 2,
   "id": "238e9898-63e7-42c1-8e6a-f1c068bbfbba",
   "metadata": {},
   "outputs": [],
   "source": [
    "N = 10\n",
    "\n",
    "x = np.arange(N)\n",
    "y = x**2\n",
    "z = np.random.randint(0,2, size=N)"
   ]
  },
  {
   "cell_type": "code",
   "execution_count": 190,
   "id": "e2780a51-476c-4243-8173-303947ab756d",
   "metadata": {},
   "outputs": [],
   "source": [
    "df = pd.DataFrame(np.c_[x,y,z], columns=['x','y','z'])\n",
    "c = alt.Chart(df)\n",
    "menu = alt.selection_single(fields=['z'],\n",
    "                            bind=alt.binding_radio(options=df.z.unique(), name='test'))"
   ]
  },
  {
   "cell_type": "code",
   "execution_count": 191,
   "id": "ca8a49ec-e844-43ff-a76b-86b42a1fb7d3",
   "metadata": {},
   "outputs": [],
   "source": [
    "c1 =alt.Chart(df).transform_calculate(\n",
    "    y1 = \"sqrt(datum.y)\"\n",
    ").add_selection(menu).transform_filter(menu).mark_point().encode(\n",
    "    x='x:Q',\n",
    "    y='y1:Q'\n",
    ")"
   ]
  },
  {
   "cell_type": "code",
   "execution_count": 192,
   "id": "e01b2fd6-a4ac-492f-9aa6-1d21378b1be5",
   "metadata": {},
   "outputs": [],
   "source": [
    "c2 = c.mark_text(align='left', fontSize=12).encode(\n",
    "    y=alt.value(30),\n",
    "    x=alt.value(30),\n",
    "    text='label:N'\n",
    ").transform_filter(menu).transform_aggregate(\n",
    "    num_obs = \"count(z)\"\n",
    ").transform_calculate(\n",
    "    label=\"'Antall observasjoner: ' + datum.num_obs\"\n",
    ")"
   ]
  },
  {
   "cell_type": "code",
   "execution_count": 215,
   "id": "29cc2c1f-73b5-4377-a86b-4ba335595eae",
   "metadata": {},
   "outputs": [
    {
     "data": {
      "text/html": [
       "\n",
       "<div id=\"altair-viz-9a24501741f8405bbd589eabf60f97e5\"></div>\n",
       "<script type=\"text/javascript\">\n",
       "  (function(spec, embedOpt){\n",
       "    let outputDiv = document.currentScript.previousElementSibling;\n",
       "    if (outputDiv.id !== \"altair-viz-9a24501741f8405bbd589eabf60f97e5\") {\n",
       "      outputDiv = document.getElementById(\"altair-viz-9a24501741f8405bbd589eabf60f97e5\");\n",
       "    }\n",
       "    const paths = {\n",
       "      \"vega\": \"https://cdn.jsdelivr.net/npm//vega@5?noext\",\n",
       "      \"vega-lib\": \"https://cdn.jsdelivr.net/npm//vega-lib?noext\",\n",
       "      \"vega-lite\": \"https://cdn.jsdelivr.net/npm//vega-lite@4.8.1?noext\",\n",
       "      \"vega-embed\": \"https://cdn.jsdelivr.net/npm//vega-embed@6?noext\",\n",
       "    };\n",
       "\n",
       "    function loadScript(lib) {\n",
       "      return new Promise(function(resolve, reject) {\n",
       "        var s = document.createElement('script');\n",
       "        s.src = paths[lib];\n",
       "        s.async = true;\n",
       "        s.onload = () => resolve(paths[lib]);\n",
       "        s.onerror = () => reject(`Error loading script: ${paths[lib]}`);\n",
       "        document.getElementsByTagName(\"head\")[0].appendChild(s);\n",
       "      });\n",
       "    }\n",
       "\n",
       "    function showError(err) {\n",
       "      outputDiv.innerHTML = `<div class=\"error\" style=\"color:red;\">${err}</div>`;\n",
       "      throw err;\n",
       "    }\n",
       "\n",
       "    function displayChart(vegaEmbed) {\n",
       "      vegaEmbed(outputDiv, spec, embedOpt)\n",
       "        .catch(err => showError(`Javascript Error: ${err.message}<br>This usually means there's a typo in your chart specification. See the javascript console for the full traceback.`));\n",
       "    }\n",
       "\n",
       "    if(typeof define === \"function\" && define.amd) {\n",
       "      requirejs.config({paths});\n",
       "      require([\"vega-embed\"], displayChart, err => showError(`Error loading script: ${err.message}`));\n",
       "    } else if (typeof vegaEmbed === \"function\") {\n",
       "      displayChart(vegaEmbed);\n",
       "    } else {\n",
       "      loadScript(\"vega\")\n",
       "        .then(() => loadScript(\"vega-lite\"))\n",
       "        .then(() => loadScript(\"vega-embed\"))\n",
       "        .catch(showError)\n",
       "        .then(() => displayChart(vegaEmbed));\n",
       "    }\n",
       "  })({\"config\": {\"view\": {\"continuousWidth\": 400, \"continuousHeight\": 300}}, \"data\": {\"name\": \"data-cd1bb9d9a4f8fa6270848b04b40eb8bc\"}, \"mark\": \"bar\", \"encoding\": {\"x\": {\"type\": \"ordinal\", \"field\": \"x_bin\"}, \"y\": {\"type\": \"quantitative\", \"aggregate\": \"mean\", \"field\": \"y\"}}, \"transform\": [{\"bin\": {\"maxbins\": 5}, \"field\": \"x\", \"as\": \"x_bin\"}], \"$schema\": \"https://vega.github.io/schema/vega-lite/v4.8.1.json\", \"datasets\": {\"data-cd1bb9d9a4f8fa6270848b04b40eb8bc\": [{\"x\": 0, \"y\": 0, \"z\": 0}, {\"x\": 1, \"y\": 1, \"z\": 0}, {\"x\": 2, \"y\": 4, \"z\": 1}, {\"x\": 3, \"y\": 9, \"z\": 0}, {\"x\": 4, \"y\": 16, \"z\": 1}, {\"x\": 5, \"y\": 25, \"z\": 1}, {\"x\": 6, \"y\": 36, \"z\": 1}, {\"x\": 7, \"y\": 49, \"z\": 1}, {\"x\": 8, \"y\": 64, \"z\": 1}, {\"x\": 9, \"y\": 81, \"z\": 0}]}}, {\"mode\": \"vega-lite\"});\n",
       "</script>"
      ],
      "text/plain": [
       "alt.Chart(...)"
      ]
     },
     "execution_count": 215,
     "metadata": {},
     "output_type": "execute_result"
    }
   ],
   "source": [
    "alt.Chart(df).mark_bar().transform_bin('x_bin', field='x', bin=alt.Bin(maxbins=5)).encode(\n",
    "    x='x_bin:O',\n",
    "    y='mean(y)'\n",
    ")"
   ]
  },
  {
   "cell_type": "code",
   "execution_count": 222,
   "id": "0324e0fb-4251-4dd2-930a-5fe50266f893",
   "metadata": {},
   "outputs": [
    {
     "data": {
      "text/html": [
       "\n",
       "<div id=\"altair-viz-71898cfd3b3d41d0b25043a705b95cea\"></div>\n",
       "<script type=\"text/javascript\">\n",
       "  (function(spec, embedOpt){\n",
       "    let outputDiv = document.currentScript.previousElementSibling;\n",
       "    if (outputDiv.id !== \"altair-viz-71898cfd3b3d41d0b25043a705b95cea\") {\n",
       "      outputDiv = document.getElementById(\"altair-viz-71898cfd3b3d41d0b25043a705b95cea\");\n",
       "    }\n",
       "    const paths = {\n",
       "      \"vega\": \"https://cdn.jsdelivr.net/npm//vega@5?noext\",\n",
       "      \"vega-lib\": \"https://cdn.jsdelivr.net/npm//vega-lib?noext\",\n",
       "      \"vega-lite\": \"https://cdn.jsdelivr.net/npm//vega-lite@4.8.1?noext\",\n",
       "      \"vega-embed\": \"https://cdn.jsdelivr.net/npm//vega-embed@6?noext\",\n",
       "    };\n",
       "\n",
       "    function loadScript(lib) {\n",
       "      return new Promise(function(resolve, reject) {\n",
       "        var s = document.createElement('script');\n",
       "        s.src = paths[lib];\n",
       "        s.async = true;\n",
       "        s.onload = () => resolve(paths[lib]);\n",
       "        s.onerror = () => reject(`Error loading script: ${paths[lib]}`);\n",
       "        document.getElementsByTagName(\"head\")[0].appendChild(s);\n",
       "      });\n",
       "    }\n",
       "\n",
       "    function showError(err) {\n",
       "      outputDiv.innerHTML = `<div class=\"error\" style=\"color:red;\">${err}</div>`;\n",
       "      throw err;\n",
       "    }\n",
       "\n",
       "    function displayChart(vegaEmbed) {\n",
       "      vegaEmbed(outputDiv, spec, embedOpt)\n",
       "        .catch(err => showError(`Javascript Error: ${err.message}<br>This usually means there's a typo in your chart specification. See the javascript console for the full traceback.`));\n",
       "    }\n",
       "\n",
       "    if(typeof define === \"function\" && define.amd) {\n",
       "      requirejs.config({paths});\n",
       "      require([\"vega-embed\"], displayChart, err => showError(`Error loading script: ${err.message}`));\n",
       "    } else if (typeof vegaEmbed === \"function\") {\n",
       "      displayChart(vegaEmbed);\n",
       "    } else {\n",
       "      loadScript(\"vega\")\n",
       "        .then(() => loadScript(\"vega-lite\"))\n",
       "        .then(() => loadScript(\"vega-embed\"))\n",
       "        .catch(showError)\n",
       "        .then(() => displayChart(vegaEmbed));\n",
       "    }\n",
       "  })({\"config\": {\"view\": {\"continuousWidth\": 400, \"continuousHeight\": 300}}, \"data\": {\"name\": \"data-cd1bb9d9a4f8fa6270848b04b40eb8bc\"}, \"mark\": \"line\", \"encoding\": {\"x\": {\"type\": \"quantitative\", \"field\": \"x\"}}, \"transform\": [{\"density\": \"x\", \"as\": [\"x1\", \"tetthet\"]}], \"$schema\": \"https://vega.github.io/schema/vega-lite/v4.8.1.json\", \"datasets\": {\"data-cd1bb9d9a4f8fa6270848b04b40eb8bc\": [{\"x\": 0, \"y\": 0, \"z\": 0}, {\"x\": 1, \"y\": 1, \"z\": 0}, {\"x\": 2, \"y\": 4, \"z\": 1}, {\"x\": 3, \"y\": 9, \"z\": 0}, {\"x\": 4, \"y\": 16, \"z\": 1}, {\"x\": 5, \"y\": 25, \"z\": 1}, {\"x\": 6, \"y\": 36, \"z\": 1}, {\"x\": 7, \"y\": 49, \"z\": 1}, {\"x\": 8, \"y\": 64, \"z\": 1}, {\"x\": 9, \"y\": 81, \"z\": 0}]}}, {\"mode\": \"vega-lite\"});\n",
       "</script>"
      ],
      "text/plain": [
       "alt.Chart(...)"
      ]
     },
     "execution_count": 222,
     "metadata": {},
     "output_type": "execute_result"
    }
   ],
   "source": [
    "alt.Chart(df).mark_line().transform_density(density='x', as_=['x1', 'tetthet']).encode(\n",
    "    x='x'\n",
    ")"
   ]
  },
  {
   "cell_type": "code",
   "execution_count": 223,
   "id": "329c71b7-6505-415a-818d-b46844846692",
   "metadata": {},
   "outputs": [
    {
     "data": {
      "text/html": [
       "\n",
       "<div id=\"altair-viz-af832b659b604746b560ad59ae46568d\"></div>\n",
       "<script type=\"text/javascript\">\n",
       "  (function(spec, embedOpt){\n",
       "    let outputDiv = document.currentScript.previousElementSibling;\n",
       "    if (outputDiv.id !== \"altair-viz-af832b659b604746b560ad59ae46568d\") {\n",
       "      outputDiv = document.getElementById(\"altair-viz-af832b659b604746b560ad59ae46568d\");\n",
       "    }\n",
       "    const paths = {\n",
       "      \"vega\": \"https://cdn.jsdelivr.net/npm//vega@5?noext\",\n",
       "      \"vega-lib\": \"https://cdn.jsdelivr.net/npm//vega-lib?noext\",\n",
       "      \"vega-lite\": \"https://cdn.jsdelivr.net/npm//vega-lite@4.8.1?noext\",\n",
       "      \"vega-embed\": \"https://cdn.jsdelivr.net/npm//vega-embed@6?noext\",\n",
       "    };\n",
       "\n",
       "    function loadScript(lib) {\n",
       "      return new Promise(function(resolve, reject) {\n",
       "        var s = document.createElement('script');\n",
       "        s.src = paths[lib];\n",
       "        s.async = true;\n",
       "        s.onload = () => resolve(paths[lib]);\n",
       "        s.onerror = () => reject(`Error loading script: ${paths[lib]}`);\n",
       "        document.getElementsByTagName(\"head\")[0].appendChild(s);\n",
       "      });\n",
       "    }\n",
       "\n",
       "    function showError(err) {\n",
       "      outputDiv.innerHTML = `<div class=\"error\" style=\"color:red;\">${err}</div>`;\n",
       "      throw err;\n",
       "    }\n",
       "\n",
       "    function displayChart(vegaEmbed) {\n",
       "      vegaEmbed(outputDiv, spec, embedOpt)\n",
       "        .catch(err => showError(`Javascript Error: ${err.message}<br>This usually means there's a typo in your chart specification. See the javascript console for the full traceback.`));\n",
       "    }\n",
       "\n",
       "    if(typeof define === \"function\" && define.amd) {\n",
       "      requirejs.config({paths});\n",
       "      require([\"vega-embed\"], displayChart, err => showError(`Error loading script: ${err.message}`));\n",
       "    } else if (typeof vegaEmbed === \"function\") {\n",
       "      displayChart(vegaEmbed);\n",
       "    } else {\n",
       "      loadScript(\"vega\")\n",
       "        .then(() => loadScript(\"vega-lite\"))\n",
       "        .then(() => loadScript(\"vega-embed\"))\n",
       "        .catch(showError)\n",
       "        .then(() => displayChart(vegaEmbed));\n",
       "    }\n",
       "  })({\"config\": {\"view\": {\"continuousWidth\": 400, \"continuousHeight\": 300}}, \"data\": {\"name\": \"data-cd1bb9d9a4f8fa6270848b04b40eb8bc\"}, \"mark\": \"line\", \"encoding\": {\"x\": {\"type\": \"quantitative\", \"field\": \"x\"}}, \"$schema\": \"https://vega.github.io/schema/vega-lite/v4.8.1.json\", \"datasets\": {\"data-cd1bb9d9a4f8fa6270848b04b40eb8bc\": [{\"x\": 0, \"y\": 0, \"z\": 0}, {\"x\": 1, \"y\": 1, \"z\": 0}, {\"x\": 2, \"y\": 4, \"z\": 1}, {\"x\": 3, \"y\": 9, \"z\": 0}, {\"x\": 4, \"y\": 16, \"z\": 1}, {\"x\": 5, \"y\": 25, \"z\": 1}, {\"x\": 6, \"y\": 36, \"z\": 1}, {\"x\": 7, \"y\": 49, \"z\": 1}, {\"x\": 8, \"y\": 64, \"z\": 1}, {\"x\": 9, \"y\": 81, \"z\": 0}]}}, {\"mode\": \"vega-lite\"});\n",
       "</script>"
      ],
      "text/plain": [
       "alt.Chart(...)"
      ]
     },
     "execution_count": 223,
     "metadata": {},
     "output_type": "execute_result"
    }
   ],
   "source": [
    "alt.Chart(df).mark_line().encode(\n",
    "    x='x'\n",
    ")"
   ]
  },
  {
   "cell_type": "code",
   "execution_count": null,
   "id": "70fd73eb-1275-4fc8-9f53-b84785d1345e",
   "metadata": {},
   "outputs": [],
   "source": []
  }
 ],
 "metadata": {
  "kernelspec": {
   "display_name": "Python 3",
   "language": "python",
   "name": "python3"
  },
  "language_info": {
   "codemirror_mode": {
    "name": "ipython",
    "version": 3
   },
   "file_extension": ".py",
   "mimetype": "text/x-python",
   "name": "python",
   "nbconvert_exporter": "python",
   "pygments_lexer": "ipython3",
   "version": "3.7.9"
  }
 },
 "nbformat": 4,
 "nbformat_minor": 5
}
