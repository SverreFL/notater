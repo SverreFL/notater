{
 "cells": [
  {
   "cell_type": "markdown",
   "metadata": {},
   "source": [
    "Vil tegne retningsdiagram. For hvert punkt i en grid av $tx$-diagrammet vil jeg tegne et linjestykke med enhetslengde og helning gitt ved $\\frac{d}{dt}x = f(t,x)$.\n",
    "\n",
    "Deretter vil jeg tegne inn eksakt løsning som jeg finner analytisk (eventuelt med litt hjelp fra sympy) samt en numerisk løsning som jeg finner iterativt ved\n",
    "\n",
    "$$\n",
    "x(t)=x(t-1)+\\frac{d}{dt}x\\Delta t\n",
    "$$\n",
    "og der jeg har en eller annen initialbetingelse $x(0)=C$ slik at jeg kan begynne den iterative simuleringen."
   ]
  },
  {
   "cell_type": "code",
   "execution_count": 1,
   "metadata": {},
   "outputs": [],
   "source": [
    "import numpy as np\n",
    "import matplotlib.pyplot as plt\n",
    "from sympy import *"
   ]
  },
  {
   "cell_type": "markdown",
   "metadata": {},
   "source": [
    "Begynner med separerbar differensialligning slik at jeg i prinsippet kan løse den numerisk.\n",
    "\n",
    "\\begin{align}\n",
    "\\dot{x}&=f(t)g(x) \\\\\n",
    "\\dot{x}&=tx^2\n",
    "\\end{align}"
   ]
  },
  {
   "cell_type": "code",
   "execution_count": 2,
   "metadata": {},
   "outputs": [],
   "source": [
    "t = Symbol('t')\n",
    "x = Function('x')\n",
    "sol = dsolve(Eq(x(t).diff(t), t*x(t)**2))"
   ]
  },
  {
   "cell_type": "code",
   "execution_count": 5,
   "metadata": {},
   "outputs": [
    {
     "data": {
      "text/latex": [
       "$\\displaystyle x{\\left(t \\right)} = - \\frac{2}{C_{1} + t^{2}}$"
      ],
      "text/plain": [
       "Eq(x(t), -2/(C1 + t**2))"
      ]
     },
     "execution_count": 5,
     "metadata": {},
     "output_type": "execute_result"
    }
   ],
   "source": [
    "dsolve(x(t).diff(t)- t*x(t)**2,x(t))"
   ]
  },
  {
   "cell_type": "code",
   "execution_count": 56,
   "metadata": {},
   "outputs": [
    {
     "data": {
      "text/latex": [
       "$\\displaystyle x{\\left(t \\right)} = - \\frac{2}{C_{1} + t^{2}}$"
      ],
      "text/plain": [
       "Eq(x(t), -2/(C1 + t**2))"
      ]
     },
     "execution_count": 56,
     "metadata": {},
     "output_type": "execute_result"
    }
   ],
   "source": [
    "sol"
   ]
  },
  {
   "cell_type": "markdown",
   "metadata": {},
   "source": [
    "Vil nå lage retningsdiagram. Tenker at én mulighet er å lage linjestykke som er sentrert i $t$-verdi jeg evaluerer den deriverte, men jeg velger i stedet å bruke vektorer... med enhetslengde."
   ]
  },
  {
   "cell_type": "code",
   "execution_count": 60,
   "metadata": {},
   "outputs": [],
   "source": [
    "def x_diff(t,x):\n",
    "    return t*x**2\n",
    "\n",
    "sol_func = Lambda(t,sol.args[1].subs('C1',1))\n",
    "Δt = 0.1\n",
    "grid = np.arange(0,3,Δt)\n",
    "\n",
    "\n",
    "tt, xx = np.mgrid[0:3:.2, -3:3:.5]\n",
    "U = np.ones(shape=tt.shape)\n",
    "V = x_diff(tt,xx)\n",
    "\n",
    "length = np.sqrt(U**2 + V**2)\n",
    "U = U\n",
    "V = V/length"
   ]
  },
  {
   "cell_type": "markdown",
   "metadata": {},
   "source": [
    "Numerisk løsning med eulers metode"
   ]
  },
  {
   "cell_type": "code",
   "execution_count": 69,
   "metadata": {},
   "outputs": [],
   "source": [
    "t0 = 0\n",
    "x0 = -2\n",
    "Δt = 0.2\n",
    "t_grid = np.arange(0,3,Δt)\n",
    "x_grid = np.empty(len(t_grid))\n",
    "x_grid[0] = x0\n",
    "\n",
    "def x_diff(t,x):\n",
    "    return t*x**2\n",
    "\n",
    "for i in range(1,len(t_grid)):\n",
    "    diff = x_diff(t_grid[i-1], x_grid[i-1])*Δt\n",
    "    x_grid[i] = x_grid[i-1]+diff\n",
    "    \n",
    "    \n"
   ]
  },
  {
   "cell_type": "code",
   "execution_count": 6,
   "metadata": {},
   "outputs": [
    {
     "ename": "NameError",
     "evalue": "name 'tt' is not defined",
     "output_type": "error",
     "traceback": [
      "\u001b[1;31m---------------------------------------------------------------------------\u001b[0m",
      "\u001b[1;31mNameError\u001b[0m                                 Traceback (most recent call last)",
      "\u001b[1;32m<ipython-input-6-1f8029d3e5f7>\u001b[0m in \u001b[0;36m<module>\u001b[1;34m\u001b[0m\n\u001b[1;32m----> 1\u001b[1;33m \u001b[0mplt\u001b[0m\u001b[1;33m.\u001b[0m\u001b[0mquiver\u001b[0m\u001b[1;33m(\u001b[0m\u001b[0mtt\u001b[0m\u001b[1;33m,\u001b[0m\u001b[0mxx\u001b[0m\u001b[1;33m,\u001b[0m\u001b[0mU\u001b[0m\u001b[1;33m,\u001b[0m\u001b[0mV\u001b[0m\u001b[1;33m,\u001b[0m\u001b[0mheadaxislength\u001b[0m\u001b[1;33m=\u001b[0m\u001b[1;36m0\u001b[0m\u001b[1;33m,\u001b[0m \u001b[0munits\u001b[0m\u001b[1;33m=\u001b[0m\u001b[1;34m'width'\u001b[0m\u001b[1;33m,\u001b[0m \u001b[0mangles\u001b[0m\u001b[1;33m=\u001b[0m\u001b[1;34m\"xy\"\u001b[0m \u001b[1;33m)\u001b[0m\u001b[1;33m\u001b[0m\u001b[1;33m\u001b[0m\u001b[0m\n\u001b[0m\u001b[0;32m      2\u001b[0m \u001b[0mplt\u001b[0m\u001b[1;33m.\u001b[0m\u001b[0mplot\u001b[0m\u001b[1;33m(\u001b[0m\u001b[0mgrid\u001b[0m\u001b[1;33m,\u001b[0m \u001b[1;33m[\u001b[0m\u001b[0msol_func\u001b[0m\u001b[1;33m(\u001b[0m\u001b[0mv\u001b[0m\u001b[1;33m)\u001b[0m \u001b[1;32mfor\u001b[0m \u001b[0mv\u001b[0m \u001b[1;32min\u001b[0m \u001b[0mgrid\u001b[0m\u001b[1;33m]\u001b[0m\u001b[1;33m)\u001b[0m\u001b[1;33m\u001b[0m\u001b[1;33m\u001b[0m\u001b[0m\n\u001b[0;32m      3\u001b[0m \u001b[0mplt\u001b[0m\u001b[1;33m.\u001b[0m\u001b[0mplot\u001b[0m\u001b[1;33m(\u001b[0m\u001b[0mt_grid\u001b[0m\u001b[1;33m,\u001b[0m \u001b[0mx_grid\u001b[0m\u001b[1;33m)\u001b[0m\u001b[1;33m\u001b[0m\u001b[1;33m\u001b[0m\u001b[0m\n",
      "\u001b[1;31mNameError\u001b[0m: name 'tt' is not defined"
     ]
    }
   ],
   "source": [
    "plt.quiver(tt,xx,U,V,headaxislength=0, units='width', angles=\"xy\" )\n",
    "plt.plot(grid, [sol_func(v) for v in grid])\n",
    "plt.plot(t_grid, x_grid)"
   ]
  },
  {
   "cell_type": "markdown",
   "metadata": {},
   "source": [
    "Numeriske løsningen fungerte i hvert fall..."
   ]
  },
  {
   "cell_type": "code",
   "execution_count": null,
   "metadata": {},
   "outputs": [],
   "source": []
  }
 ],
 "metadata": {
  "kernelspec": {
   "display_name": "Python 3",
   "language": "python",
   "name": "python3"
  },
  "language_info": {
   "codemirror_mode": {
    "name": "ipython",
    "version": 3
   },
   "file_extension": ".py",
   "mimetype": "text/x-python",
   "name": "python",
   "nbconvert_exporter": "python",
   "pygments_lexer": "ipython3",
   "version": "3.7.9"
  },
  "toc": {
   "base_numbering": 1,
   "nav_menu": {},
   "number_sections": true,
   "sideBar": true,
   "skip_h1_title": false,
   "title_cell": "Table of Contents",
   "title_sidebar": "Contents",
   "toc_cell": false,
   "toc_position": {},
   "toc_section_display": true,
   "toc_window_display": false
  }
 },
 "nbformat": 4,
 "nbformat_minor": 4
}
