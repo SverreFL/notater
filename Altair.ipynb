{
 "cells": [
  {
   "cell_type": "markdown",
   "id": "equipped-bicycle",
   "metadata": {
    "toc": true
   },
   "source": [
    "<h1>Table of Contents<span class=\"tocSkip\"></span></h1>\n",
    "<div class=\"toc\"><ul class=\"toc-item\"><li><span><a href=\"#Design\" data-toc-modified-id=\"Design-1\"><span class=\"toc-item-num\">1&nbsp;&nbsp;</span>Design</a></span></li><li><span><a href=\"#Charts\" data-toc-modified-id=\"Charts-2\"><span class=\"toc-item-num\">2&nbsp;&nbsp;</span>Charts</a></span><ul class=\"toc-item\"><li><span><a href=\"#Data\" data-toc-modified-id=\"Data-2.1\"><span class=\"toc-item-num\">2.1&nbsp;&nbsp;</span>Data</a></span></li><li><span><a href=\"#Flere-charts-i-samme-figur\" data-toc-modified-id=\"Flere-charts-i-samme-figur-2.2\"><span class=\"toc-item-num\">2.2&nbsp;&nbsp;</span>Flere charts i samme figur</a></span><ul class=\"toc-item\"><li><span><a href=\"#Compound\" data-toc-modified-id=\"Compound-2.2.1\"><span class=\"toc-item-num\">2.2.1&nbsp;&nbsp;</span>Compound</a></span></li><li><span><a href=\"#Concatination\" data-toc-modified-id=\"Concatination-2.2.2\"><span class=\"toc-item-num\">2.2.2&nbsp;&nbsp;</span>Concatination</a></span></li><li><span><a href=\"#repeat\" data-toc-modified-id=\"repeat-2.2.3\"><span class=\"toc-item-num\">2.2.3&nbsp;&nbsp;</span>repeat</a></span></li></ul></li></ul></li><li><span><a href=\"#Marks\" data-toc-modified-id=\"Marks-3\"><span class=\"toc-item-num\">3&nbsp;&nbsp;</span>Marks</a></span><ul class=\"toc-item\"><li><span><a href=\"#punkter\" data-toc-modified-id=\"punkter-3.1\"><span class=\"toc-item-num\">3.1&nbsp;&nbsp;</span>punkter</a></span></li><li><span><a href=\"#Rektangler\" data-toc-modified-id=\"Rektangler-3.2\"><span class=\"toc-item-num\">3.2&nbsp;&nbsp;</span>Rektangler</a></span></li><li><span><a href=\"#Linjer\" data-toc-modified-id=\"Linjer-3.3\"><span class=\"toc-item-num\">3.3&nbsp;&nbsp;</span>Linjer</a></span></li><li><span><a href=\"#Tekst\" data-toc-modified-id=\"Tekst-3.4\"><span class=\"toc-item-num\">3.4&nbsp;&nbsp;</span>Tekst</a></span></li><li><span><a href=\"#Annet\" data-toc-modified-id=\"Annet-3.5\"><span class=\"toc-item-num\">3.5&nbsp;&nbsp;</span>Annet</a></span></li></ul></li><li><span><a href=\"#Encoding\" data-toc-modified-id=\"Encoding-4\"><span class=\"toc-item-num\">4&nbsp;&nbsp;</span>Encoding</a></span><ul class=\"toc-item\"><li><span><a href=\"#Spesifisere-encoding\" data-toc-modified-id=\"Spesifisere-encoding-4.1\"><span class=\"toc-item-num\">4.1&nbsp;&nbsp;</span>Spesifisere encoding</a></span></li><li><span><a href=\"#Ulike-typer-encoding\" data-toc-modified-id=\"Ulike-typer-encoding-4.2\"><span class=\"toc-item-num\">4.2&nbsp;&nbsp;</span>Ulike typer encoding</a></span><ul class=\"toc-item\"><li><span><a href=\"#Posisjon\" data-toc-modified-id=\"Posisjon-4.2.1\"><span class=\"toc-item-num\">4.2.1&nbsp;&nbsp;</span>Posisjon</a></span></li><li><span><a href=\"#Farge\" data-toc-modified-id=\"Farge-4.2.2\"><span class=\"toc-item-num\">4.2.2&nbsp;&nbsp;</span>Farge</a></span></li><li><span><a href=\"#Andre-estetiske-egenskaper\" data-toc-modified-id=\"Andre-estetiske-egenskaper-4.2.3\"><span class=\"toc-item-num\">4.2.3&nbsp;&nbsp;</span>Andre estetiske egenskaper</a></span></li><li><span><a href=\"#Annet\" data-toc-modified-id=\"Annet-4.2.4\"><span class=\"toc-item-num\">4.2.4&nbsp;&nbsp;</span>Annet</a></span></li></ul></li><li><span><a href=\"#Transformasjoner\" data-toc-modified-id=\"Transformasjoner-4.3\"><span class=\"toc-item-num\">4.3&nbsp;&nbsp;</span>Transformasjoner</a></span></li><li><span><a href=\"#Aggregering\" data-toc-modified-id=\"Aggregering-4.4\"><span class=\"toc-item-num\">4.4&nbsp;&nbsp;</span>Aggregering</a></span></li><li><span><a href=\"#binning\" data-toc-modified-id=\"binning-4.5\"><span class=\"toc-item-num\">4.5&nbsp;&nbsp;</span>binning</a></span><ul class=\"toc-item\"><li><span><a href=\"#Histogram\" data-toc-modified-id=\"Histogram-4.5.1\"><span class=\"toc-item-num\">4.5.1&nbsp;&nbsp;</span>Histogram</a></span></li><li><span><a href=\"#Fargekart\" data-toc-modified-id=\"Fargekart-4.5.2\"><span class=\"toc-item-num\">4.5.2&nbsp;&nbsp;</span>Fargekart</a></span></li><li><span><a href=\"#Binning-med-tid\" data-toc-modified-id=\"Binning-med-tid-4.5.3\"><span class=\"toc-item-num\">4.5.3&nbsp;&nbsp;</span>Binning med tid</a></span></li></ul></li><li><span><a href=\"#facets\" data-toc-modified-id=\"facets-4.6\"><span class=\"toc-item-num\">4.6&nbsp;&nbsp;</span>facets</a></span></li></ul></li><li><span><a href=\"#Seleksjon\" data-toc-modified-id=\"Seleksjon-5\"><span class=\"toc-item-num\">5&nbsp;&nbsp;</span>Seleksjon</a></span><ul class=\"toc-item\"><li><span><a href=\"#Typer-seleksjon\" data-toc-modified-id=\"Typer-seleksjon-5.1\"><span class=\"toc-item-num\">5.1&nbsp;&nbsp;</span>Typer seleksjon</a></span></li><li><span><a href=\"#Conditional-encodings\" data-toc-modified-id=\"Conditional-encodings-5.2\"><span class=\"toc-item-num\">5.2&nbsp;&nbsp;</span>Conditional encodings</a></span></li><li><span><a href=\"#Filter\" data-toc-modified-id=\"Filter-5.3\"><span class=\"toc-item-num\">5.3&nbsp;&nbsp;</span>Filter</a></span></li><li><span><a href=\"#Scales\" data-toc-modified-id=\"Scales-5.4\"><span class=\"toc-item-num\">5.4&nbsp;&nbsp;</span>Scales</a></span></li><li><span><a href=\"#Domain\" data-toc-modified-id=\"Domain-5.5\"><span class=\"toc-item-num\">5.5&nbsp;&nbsp;</span>Domain</a></span></li></ul></li><li><span><a href=\"#Configuration\" data-toc-modified-id=\"Configuration-6\"><span class=\"toc-item-num\">6&nbsp;&nbsp;</span>Configuration</a></span><ul class=\"toc-item\"><li><span><a href=\"#Properties\" data-toc-modified-id=\"Properties-6.1\"><span class=\"toc-item-num\">6.1&nbsp;&nbsp;</span>Properties</a></span></li><li><span><a href=\"#Legend\" data-toc-modified-id=\"Legend-6.2\"><span class=\"toc-item-num\">6.2&nbsp;&nbsp;</span>Legend</a></span></li></ul></li></ul></div>"
   ]
  },
  {
   "cell_type": "markdown",
   "id": "explicit-steal",
   "metadata": {},
   "source": [
    "### Design"
   ]
  },
  {
   "cell_type": "markdown",
   "id": "local-attitude",
   "metadata": {},
   "source": [
    "High level api som generer vega-lite spesifikasjon. Med andre ord så lager det json som kan bli renderet av frontend. \n",
    "\n",
    "Bygger på grammar of graphics, så er litt analog til ggplot"
   ]
  },
  {
   "cell_type": "markdown",
   "id": "unsigned-court",
   "metadata": {},
   "source": [
    "Kan kjøre flere encodes, kan være måte å spare kode"
   ]
  },
  {
   "cell_type": "markdown",
   "id": "fewer-minimum",
   "metadata": {},
   "source": [
    "Må generelt bruke masse funksjoner (ikke strings direkte som argument) fordi den prøver å inferre alle strings som kolonnenavn"
   ]
  },
  {
   "cell_type": "markdown",
   "id": "lesser-words",
   "metadata": {},
   "source": [
    "```python\n",
    "alt.Chart(data).mark_point().encode(\n",
    "    encoding_1='column_1',\n",
    "    encoding_2=alt.function('column_2', *args)\n",
    "    ...\n",
    ").properties( # lurer på om jeg kan sette dette som argumneter i mark-funksjonen\n",
    "    height,\n",
    "    width,\n",
    "    ...\n",
    ").configure_axis(\n",
    "    labelFontSize,\n",
    "    titleFontSize\n",
    ").configure_legend(\n",
    "    orient\n",
    ").configure_point(\n",
    "    size\n",
    ")\n",
    "```"
   ]
  },
  {
   "cell_type": "markdown",
   "id": "constitutional-month",
   "metadata": {},
   "source": [
    "### Charts"
   ]
  },
  {
   "cell_type": "markdown",
   "id": "filled-addition",
   "metadata": {},
   "source": [
    "Objekt som lage json dictionary som kan renderes av vega-lite library i js"
   ]
  },
  {
   "cell_type": "markdown",
   "id": "greek-inclusion",
   "metadata": {},
   "source": [
    "compound med + "
   ]
  },
  {
   "cell_type": "markdown",
   "id": "outstanding-integration",
   "metadata": {},
   "source": [
    "#### Data"
   ]
  },
  {
   "cell_type": "markdown",
   "id": "clinical-cinema",
   "metadata": {},
   "source": [
    "Merk at encoder data i Chart (output til json). Har derfor lagt inn begrensning om maks 5000 observasjoner. Hvis jobber med større datasett så bør jeg aggregere før jeg sender inn inn i Chart\n",
    "\n",
    "Merk også at det er designet for å jobbe med url-basert data der det ikke går gjennom pandas. Må da spesifisere variabeltype eksplisitt.\n",
    "\n",
    "Merk at den bare jobber med kolonner; ikke indeks. Må eksplisitt legge index til som kolonne."
   ]
  },
  {
   "cell_type": "markdown",
   "id": "structural-miniature",
   "metadata": {},
   "source": [
    "#### Flere charts i samme figur "
   ]
  },
  {
   "cell_type": "markdown",
   "id": "forward-korea",
   "metadata": {},
   "source": [
    "Litt usikker på terminologi. Også litt ukomofortabel med at det ikke er eksplisitt grid; føler jeg mangler litt kontroll på layout."
   ]
  },
  {
   "cell_type": "markdown",
   "id": "specialized-wallet",
   "metadata": {},
   "source": [
    "##### Compound"
   ]
  },
  {
   "cell_type": "markdown",
   "id": "hybrid-cleaner",
   "metadata": {},
   "source": [
    "Legge charts oppå hverandre. Har to måter\n",
    "\n",
    "```python\n",
    "alt.layer(chart1, chart2)\n",
    "chart1 + chart\n",
    "```\n",
    "Hvis vi f.eks. vil ha samme encoding men to forskjellige markers (linje og punkt), så kan vi utnytte fleksibel api for å gjenbruke kode\n",
    "```python\n",
    "base = alt.Chart(data).encode(x,y)\n",
    "base.mark_line() + base.mark_point()\n",
    "```"
   ]
  },
  {
   "cell_type": "markdown",
   "id": "focal-drove",
   "metadata": {},
   "source": [
    "##### Concatination"
   ]
  },
  {
   "cell_type": "markdown",
   "id": "classical-gentleman",
   "metadata": {},
   "source": [
    "Kan lage figur med flere subplots(?) ved å enten legge charts oppå eller ved siden av hverandre\n",
    "\n",
    "```python\n",
    "# ved siden\n",
    "alt.hconcat(chart1, chart2)\n",
    "chart1 | chart2\n",
    "\n",
    "# oppå\n",
    "alt.vconcat(chart1, chart2)\n",
    "chart1 & chart2\n",
    "```"
   ]
  },
  {
   "cell_type": "markdown",
   "id": "spatial-granny",
   "metadata": {},
   "source": [
    "##### repeat"
   ]
  },
  {
   "cell_type": "markdown",
   "id": "promising-symphony",
   "metadata": {},
   "source": [
    "Kan bruke repeat-funksjonen for å lage parvis scatterplot..\n",
    "```python\n",
    "fields = ['petalLength', 'petalWidth', 'sepalLength', 'sepalWidth']\n",
    "\n",
    "alt.Chart(iris).mark_point().encode(\n",
    "    alt.X(alt.repeat(\"column\"), type='quantitative'),\n",
    "    alt.Y(alt.repeat(\"row\"), type='quantitative'),\n",
    "    color='species'\n",
    ").properties(\n",
    "    width=150,\n",
    "    height=150\n",
    ").repeat(\n",
    "    row=fields,\n",
    "    column=fields\n",
    ")\n",
    "```"
   ]
  },
  {
   "cell_type": "markdown",
   "id": "female-ambassador",
   "metadata": {},
   "source": [
    "### Marks"
   ]
  },
  {
   "cell_type": "markdown",
   "id": "taken-reply",
   "metadata": {},
   "source": [
    "Tilsvarer geom i ggplot2, de ulike geometriske objektene i plottet."
   ]
  },
  {
   "cell_type": "markdown",
   "id": "sustainable-policy",
   "metadata": {},
   "source": [
    "#### punkter"
   ]
  },
  {
   "cell_type": "markdown",
   "id": "pressing-space",
   "metadata": {},
   "source": [
    "```python\n",
    "mark_point()\n",
    "mark_circle()\n",
    "mark_square()\n",
    "mark_tick()\n",
    "```"
   ]
  },
  {
   "cell_type": "markdown",
   "id": "certified-hazard",
   "metadata": {},
   "source": [
    "#### Rektangler"
   ]
  },
  {
   "cell_type": "markdown",
   "id": "valid-sarah",
   "metadata": {},
   "source": [
    "```python\n",
    "mark_bar()\n",
    "mark_rect()\n",
    "```"
   ]
  },
  {
   "cell_type": "markdown",
   "id": "complete-crack",
   "metadata": {},
   "source": [
    "#### Linjer"
   ]
  },
  {
   "cell_type": "markdown",
   "id": "about-waters",
   "metadata": {},
   "source": [
    "```python\n",
    "mark_line()\n",
    "```"
   ]
  },
  {
   "cell_type": "markdown",
   "id": "earlier-kruger",
   "metadata": {},
   "source": [
    "#### Tekst"
   ]
  },
  {
   "cell_type": "markdown",
   "id": "handmade-blond",
   "metadata": {},
   "source": [
    "```python\n",
    "mark_text().encode(\n",
    "    x,\n",
    "    y,\n",
    "    text\n",
    ")\n",
    "```\n",
    "kan kombineres med annen Chart og legge opp for å f.eks. få tall på toppen av bar plot"
   ]
  },
  {
   "cell_type": "markdown",
   "id": "weighted-involvement",
   "metadata": {},
   "source": [
    "#### Annet"
   ]
  },
  {
   "cell_type": "markdown",
   "id": "executed-relaxation",
   "metadata": {},
   "source": [
    "```python\n",
    "mark_boxplot()\n",
    "```"
   ]
  },
  {
   "cell_type": "markdown",
   "id": "personal-berkeley",
   "metadata": {},
   "source": [
    "### Encoding"
   ]
  },
  {
   "cell_type": "markdown",
   "id": "entitled-gazette",
   "metadata": {},
   "source": [
    "Spesifiserer mapping fra variabel til Marks ulike estetiske egenskaper\n",
    "\n",
    "Tolker scale (innhold i mapping mellom dataspace og estetikkspace) ut fra datatype\n",
    "1. Quantitative (Q)\n",
    "2. Ordinal (O)\n",
    "3. Nominal (N)\n",
    "4. Tid (T)\n",
    "\n",
    "Skal sjå litt på ulike typer encodings"
   ]
  },
  {
   "cell_type": "markdown",
   "id": "portuguese-topic",
   "metadata": {},
   "source": [
    "#### Spesifisere encoding"
   ]
  },
  {
   "cell_type": "markdown",
   "id": "trying-project",
   "metadata": {},
   "source": [
    "Det er fleksibel api der vi kan spesifisere på ulike måter. En mulighet er å bruke shorthand, som er en string som angir field (kolonnenavn) og eventuelt datatype og aggregate. Tre ulike måter å spesifisere samme encoding:\n",
    "```python\n",
    "chart.encode(\n",
    "    x='mean(colname):Q')\n",
    "\n",
    "chart.encode(\n",
    "    alt.X(shorthand='mean(colname):Q'))\n",
    "\n",
    "chart.encode(\n",
    "    alt.X(field='colname',aggregate='mean', type='quantitative))\n",
    "\n",
    "```\n",
    "de ulike funksjonene har flere argument enn de som kan angis gjennom shorthand, så får mer fleksibilitet gjennom å eksplisitt bruke funksjonene"
   ]
  },
  {
   "cell_type": "markdown",
   "id": "stylish-owner",
   "metadata": {},
   "source": [
    "#### Ulike typer encoding"
   ]
  },
  {
   "cell_type": "markdown",
   "id": "intermediate-venezuela",
   "metadata": {},
   "source": [
    "##### Posisjon"
   ]
  },
  {
   "cell_type": "markdown",
   "id": "varying-quest",
   "metadata": {},
   "source": [
    "Hvordan jeg ønsker å håndtere dette avhenger litt av om direkte tolkning av plassering som numerisk verdi eller kun ordinal/nominal distinksjon mellom objekt"
   ]
  },
  {
   "cell_type": "markdown",
   "id": "chubby-scene",
   "metadata": {},
   "source": [
    "```python\n",
    "chart.encode(\n",
    "    alt.X('column',\n",
    "        scale=alt.Scale(domain=(5, 20)), # kan sette axis limits\n",
    "        axis=alt.Axis(...) # må i hvertfall spesifisere title (axis label)\n",
    ")          \n",
    "```\n",
    "\n",
    "```python\n",
    "alt.Axis(\n",
    "    title, # axis label\n",
    "    labels,\n",
    "    ticks,\n",
    "    format='%-d/%-m/%Y' # kontrollere hvis tid\n",
    ")\n",
    "```"
   ]
  },
  {
   "cell_type": "markdown",
   "id": "white-accident",
   "metadata": {},
   "source": [
    "##### Farge"
   ]
  },
  {
   "cell_type": "markdown",
   "id": "honey-generator",
   "metadata": {},
   "source": [
    "Får mer kontroll over fargevalg ved å kombinere alt.Color() med et Scale-objekt\n",
    "\n",
    "\n",
    "```python\n",
    "\n",
    "custom_scale = alt.Scale(domain=['val0', 'val1',...], range=['color0', 'color1',...])\n",
    "builtin_scale = alt.Scale(scheme='dark2)\n",
    "\n",
    "chart.encode(\n",
    "    alt.Color('column:N', scale=custom_scale # eller builtin_scale .. \n",
    ")\n",
    "```"
   ]
  },
  {
   "cell_type": "markdown",
   "id": "active-badge",
   "metadata": {},
   "source": [
    "##### Andre estetiske egenskaper"
   ]
  },
  {
   "cell_type": "markdown",
   "id": "pursuant-paradise",
   "metadata": {},
   "source": [
    "- opacity\n",
    "- shape\n",
    "- size"
   ]
  },
  {
   "cell_type": "markdown",
   "id": "incomplete-premium",
   "metadata": {},
   "source": [
    "##### Annet"
   ]
  },
  {
   "cell_type": "markdown",
   "id": "affecting-bottle",
   "metadata": {},
   "source": [
    "- tooltip"
   ]
  },
  {
   "cell_type": "markdown",
   "id": "sapphire-recipient",
   "metadata": {},
   "source": [
    "#### Transformasjoner"
   ]
  },
  {
   "cell_type": "markdown",
   "id": "baking-figure",
   "metadata": {},
   "source": [
    "Kan spesifiserer transformasjon av variabel,\n",
    "```python\n",
    "chart.encode(\n",
    "    attribute='mean(colname)'\n",
    ")\n",
    "```\n",
    "Kan også bruke\n",
    "```python\n",
    "chart.encode(\n",
    "    x='colname',\n",
    "    y='count()\n",
    ")\n",
    "```\n",
    "for at plassering i y-retning avhenger av antall observasjoner som encodet på gitt plassering i x-retning"
   ]
  },
  {
   "cell_type": "code",
   "execution_count": null,
   "id": "external-peninsula",
   "metadata": {},
   "outputs": [],
   "source": []
  },
  {
   "cell_type": "markdown",
   "id": "finished-lottery",
   "metadata": {},
   "source": [
    "#### Aggregering"
   ]
  },
  {
   "cell_type": "markdown",
   "id": "exterior-application",
   "metadata": {},
   "source": [
    "Kan gjøre eksplisitt med transform_ funksjon\n",
    "\n",
    "```python\n",
    "chart.encode(\n",
    "    x='colname',\n",
    "    y='agg_field_name' # eks 'mean_of_colname2'\n",
    ").transform_aggregate(\n",
    "    agg_field_name='mean(colname2)', #  tar variabelnavn som ble angitt i encoding som argument ... hmhm\n",
    "    groupby=['colname'] # må være array\n",
    ")\n",
    "```"
   ]
  },
  {
   "cell_type": "markdown",
   "id": "protective-bottle",
   "metadata": {},
   "source": [
    "Kan eventuelt gjøre det gjennom encoding i stedet for å transformere ex-post\n",
    "```python\n",
    "chart.encode(\n",
    "    x='colname',\n",
    "    y='mean(colname2)' # skjønner at groupby colname ..\n",
    ")\n",
    "```\n"
   ]
  },
  {
   "cell_type": "markdown",
   "id": "australian-glossary",
   "metadata": {},
   "source": [
    "#### binning"
   ]
  },
  {
   "cell_type": "markdown",
   "id": "organizational-final",
   "metadata": {},
   "source": [
    "##### Histogram"
   ]
  },
  {
   "cell_type": "markdown",
   "id": "julian-temperature",
   "metadata": {},
   "source": [
    "Partisjonering av utfallsmengden til variabel... behandle observasjonene som faller inn i hver av delmengdene som ulike grupper. Blir en måte å konstruere slags diskret variabel som vi deretter kan kjøre groupby på og finne aggegert mål på hver gruppe (feks sum). På denne måten kan vi (blant annet?) lage histogram. Merk at vi må representere bredde på intervall i delmengdene, så bredde på bar er ikke lenger vilkårlig (i motsetning til barplot som egentlig kun representer et punkt (x,y))"
   ]
  },
  {
   "cell_type": "markdown",
   "id": "previous-capture",
   "metadata": {},
   "source": [
    "Kan enten spesifisere at bin=True eller initialisere Bin-objekt som gir oss flere arguemnt\n",
    "```python\n",
    "chart.encode(\n",
    "    x=alt.X('Miles_per_Gallon', bin=alt.Bin(maxbins=20)),\n",
    "    y='count()'\n",
    ")\n",
    "```\n",
    "Bin har litt ulike argumenter, men i praksis vil bare bruke maxbins siden den prøver å utlede en god partisjonering (splitte på heltall)\n"
   ]
  },
  {
   "cell_type": "markdown",
   "id": "abstract-contributor",
   "metadata": {},
   "source": [
    "##### Fargekart"
   ]
  },
  {
   "cell_type": "markdown",
   "id": "broad-lover",
   "metadata": {},
   "source": [
    "Tilsvarer egentlig histogram, bortsett fra at vi bruker farge til å indikere verdi i hver bin i stedet for lengde på bar i y-retning.\n",
    "```python\n",
    "alt.Chart(data).mark_rect().encode(\n",
    "    alt.X('col_x', bin=True),\n",
    "    alt.Y('col_y', bin=True),\n",
    "    color='count():O'\n",
    ")\n",
    "```"
   ]
  },
  {
   "cell_type": "markdown",
   "id": "european-fusion",
   "metadata": {},
   "source": [
    "##### Binning med tid"
   ]
  },
  {
   "cell_type": "markdown",
   "id": "polar-research",
   "metadata": {},
   "source": [
    "Har ulike funksjoner for å binne data med tidsdimensjon\n",
    "```python\n",
    "chart.encode(\n",
    "    x='day(time_var):O', # alternativer: hours, month, year (mer? sikkert minutter og sekunder..)\n",
    "    y='mean(some_var)'\n",
    ")\n",
    "```"
   ]
  },
  {
   "cell_type": "markdown",
   "id": "beginning-forest",
   "metadata": {},
   "source": [
    "#### facets"
   ]
  },
  {
   "cell_type": "markdown",
   "id": "superior-circular",
   "metadata": {},
   "source": [
    "Kan også bruke encoding til å legge ut plot på subset av observasjoner i grid\n",
    "- row\n",
    "- column"
   ]
  },
  {
   "cell_type": "markdown",
   "id": "resistant-candle",
   "metadata": {},
   "source": [
    "### Seleksjon"
   ]
  },
  {
   "cell_type": "markdown",
   "id": "plastic-validity",
   "metadata": {},
   "source": [
    "Workflow:\n",
    "1. Initialisere seleksjonsobjekt\n",
    "2. Legge til seleksjonsobjekt til chart med .add_selection()\n",
    "3. Bruke alt.condition() på attribut i encode-funksjonen for å gjøre ting avhengig av seleksjon"
   ]
  },
  {
   "cell_type": "markdown",
   "id": "convertible-spelling",
   "metadata": {},
   "source": [
    "#### Typer seleksjon"
   ]
  },
  {
   "cell_type": "markdown",
   "id": "swedish-advisory",
   "metadata": {},
   "source": [
    "Har tre typer seleksjonsobjeter"
   ]
  },
  {
   "cell_type": "markdown",
   "id": "suburban-tennessee",
   "metadata": {},
   "source": [
    "```python\n",
    "alt.selection_interval(\n",
    "    encodings, # ['x'] hvis kun intervall på x-akse. Default er ['x','y'] som gir rektangel\n",
    "    bind # 'scales' gir basically samme som interact.. kan konstruere zoom gjennom bind på intervall..\n",
    ")    \n",
    "```"
   ]
  },
  {
   "cell_type": "markdown",
   "id": "antique-initial",
   "metadata": {},
   "source": [
    "```python\n",
    "alt.selection_single(\n",
    "    on, # 'click', 'mouseover'\n",
    "    nearest, # bør være True hvis on='mouseover'\n",
    "    encodings # velge alle marks med samme egenskap av encoding, eks ['color']\n",
    ")\n",
    "```"
   ]
  },
  {
   "cell_type": "markdown",
   "id": "celtic-joseph",
   "metadata": {},
   "source": [
    "```python\n",
    "alt.selection_multi(\n",
    "\n",
    ")\n",
    "```"
   ]
  },
  {
   "cell_type": "markdown",
   "id": "paperback-intermediate",
   "metadata": {},
   "source": [
    "#### Conditional encodings"
   ]
  },
  {
   "cell_type": "markdown",
   "id": "cardiac-poland",
   "metadata": {},
   "source": [
    "```python\n",
    "alt.condition(predicate=selection_obj,\n",
    "              if_true=mapping, # i praksis kolonnenavn.. hva den mapper fra.\n",
    "              if_false=some_value) # eller kanskje annen mapping\n",
    "```\n",
    "\n",
    "Bruker én mapping fra data til visuell egenskap for observasjon/objekt som er valgt og annen mapping for resten. Bruker condition-funksjon som argument for egenskap i encode, eks:\n",
    "```python\n",
    "chart.encode(x,y,\n",
    "    color=alt.condition(interval, 'species', alt.value('lightgray'))\n",
    ").add_selection(interval)\n",
    "```"
   ]
  },
  {
   "cell_type": "markdown",
   "id": "arctic-feeding",
   "metadata": {},
   "source": [
    "#### Filter"
   ]
  },
  {
   "cell_type": "markdown",
   "id": "increasing-following",
   "metadata": {},
   "source": [
    "Bruker\n",
    "```python\n",
    "chart.transform_filter(selection_obj)\n",
    "```\n",
    "for å subsette observasjoner som brukes til å lage marks i chart. Synes det er litt problematisk at axis blir oppdater automatisk slik at akkurat får inn alle observasjonene.. bør finne en måte å gjøre dette statisk."
   ]
  },
  {
   "cell_type": "markdown",
   "id": "corrected-princeton",
   "metadata": {},
   "source": [
    "#### Scales"
   ]
  },
  {
   "cell_type": "markdown",
   "id": "asian-method",
   "metadata": {},
   "source": [
    "#### Domain"
   ]
  },
  {
   "cell_type": "markdown",
   "id": "suffering-copper",
   "metadata": {},
   "source": [
    "Kan bruke seleksjon i én chart til å definere domain i annen chart slik at vi i praksis zoomer inn på angitt intervall."
   ]
  },
  {
   "cell_type": "markdown",
   "id": "sought-spectrum",
   "metadata": {},
   "source": [
    "```python\n",
    "chart = base.encode(x=alt.X('date:T', scale=alt.Scale(domain=interval.ref())))\n",
    "view = base.add_selection(interval)\n",
    "chart & view                    \n",
    "```\n",
    "Har samme x encoding, men på chart er domenet til x angitt av interval som vi bestemmer i view"
   ]
  },
  {
   "cell_type": "markdown",
   "id": "concrete-suite",
   "metadata": {},
   "source": [
    "### Configuration"
   ]
  },
  {
   "cell_type": "markdown",
   "id": "annual-rescue",
   "metadata": {},
   "source": [
    "Har tre nivåer der vi kan spesifisere egenskaper ved utseendet til chart\n",
    "\n",
    "```python\n",
    "# 'red'>'blue'>'green' fordi encode>local>global\n",
    "alt.Chart(data).mark_point(color='blue').encode( \n",
    "    x,y,\n",
    "    color=alt.value('red') # må bruke alt.value for at den ikke skal tro det er kolonnenavn\n",
    ").configure_point(color='green') \n",
    "```"
   ]
  },
  {
   "cell_type": "markdown",
   "id": "independent-smile",
   "metadata": {},
   "source": [
    "#### Properties"
   ]
  },
  {
   "cell_type": "markdown",
   "id": "female-roads",
   "metadata": {},
   "source": [
    "Kan sette en del egenskaper gjennom .properties metoden .."
   ]
  },
  {
   "cell_type": "markdown",
   "id": "attempted-antibody",
   "metadata": {},
   "source": [
    "#### Legend"
   ]
  },
  {
   "cell_type": "markdown",
   "id": "pregnant-length",
   "metadata": {},
   "source": [
    "Kontrollerer gjennom encoding..\n",
    "\n",
    "```python\n",
    "chart.encode(\n",
    "    ...,\n",
    "    alt.Color('colname', legend=alt.Legend(...)) # encoding som generer legend\n",
    ")\n",
    "```\n",
    "\n",
    "```python\n",
    "alt.Legend(\n",
    "    title, # None hvis supress\n",
    "    titleFontSize,\n",
    "    labelFontSize\n",
    ")\n",
    "```"
   ]
  },
  {
   "cell_type": "code",
   "execution_count": null,
   "id": "fourth-startup",
   "metadata": {},
   "outputs": [],
   "source": []
  }
 ],
 "metadata": {
  "kernelspec": {
   "display_name": "Python 3",
   "language": "python",
   "name": "python3"
  },
  "language_info": {
   "codemirror_mode": {
    "name": "ipython",
    "version": 3
   },
   "file_extension": ".py",
   "mimetype": "text/x-python",
   "name": "python",
   "nbconvert_exporter": "python",
   "pygments_lexer": "ipython3",
   "version": "3.7.9"
  },
  "latex_envs": {
   "LaTeX_envs_menu_present": true,
   "autoclose": true,
   "autocomplete": true,
   "bibliofile": "biblio.bib",
   "cite_by": "apalike",
   "current_citInitial": 1,
   "eqLabelWithNumbers": true,
   "eqNumInitial": 1,
   "hotkeys": {
    "equation": "Ctrl-E",
    "itemize": "Ctrl-I"
   },
   "labels_anchors": false,
   "latex_user_defs": false,
   "report_style_numbering": false,
   "user_envs_cfg": false
  },
  "toc": {
   "base_numbering": 1,
   "nav_menu": {},
   "number_sections": true,
   "sideBar": true,
   "skip_h1_title": false,
   "title_cell": "Table of Contents",
   "title_sidebar": "Contents",
   "toc_cell": true,
   "toc_position": {},
   "toc_section_display": true,
   "toc_window_display": true
  }
 },
 "nbformat": 4,
 "nbformat_minor": 5
}
