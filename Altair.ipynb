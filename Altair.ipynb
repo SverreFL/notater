{
 "cells": [
  {
   "cell_type": "markdown",
   "id": "favorite-macro",
   "metadata": {},
   "source": [
    "## Design"
   ]
  },
  {
   "cell_type": "markdown",
   "id": "invisible-joshua",
   "metadata": {},
   "source": [
    "High level api i Python som generer Vega-lite spesifikasjon i JSON-format som compiler til en Vega-spesifikasjon. Dette kan bli compilet til HTML-fil som kan bli renderet av frontend. \n",
    "\n",
    "Det har en low-level API med et hierarki av python-objekter som korresponderer én-til-én med objekter i \"scheme\" (..) i vega-lite. Koden for disse er generert automatisk. Dessuten er det en high-level API som gjør at vi kan konstruere spesifikasjoner på en mindre verbos måte.\n",
    "\n",
    "Vega-lite (og dermed Altair) er bygget på *grammar of graphics* og utvider dette med en interaksjonsgrammatikk. \n",
    "\n",
    "Altair er *declarative* i betydningen at hvis spesifiserer *hva* vi ønsker å oppnå, men ikke detaljene om *hvordan* det skal gjøres. Maskinen må riktignok vite *hva* den skal gjøre; denne ambiguiteten blir håndtert gjennom smarte regler for valg av defaults. Dette kan stort sett overkjøres ved behov. "
   ]
  },
  {
   "cell_type": "markdown",
   "id": "dietary-petroleum",
   "metadata": {},
   "source": [
    "### Charts"
   ]
  },
  {
   "cell_type": "markdown",
   "id": "major-image",
   "metadata": {},
   "source": [
    "Det grunnleggende objektet. Hver chart er assosiert med ett datasett og én mark."
   ]
  },
  {
   "cell_type": "markdown",
   "id": "egyptian-round",
   "metadata": {},
   "source": [
    "#### Data"
   ]
  },
  {
   "cell_type": "markdown",
   "id": "3f54764a-ceaa-438b-8d48-1cf2fd523238",
   "metadata": {},
   "source": [
    "Må være tidy; hver rekke korresponderer med én observasjon og verdi i kolonne angir egenskap til observasjonene langs en dimensjon.\n",
    "\n",
    "Output fra altair er en spesifikasjon/instruksjon for mapping av data til grafisk element; ikke en figur representert ved bitmap eller noe vector-format. For at det skal være gyldig må spesifikasjon innehold informasjon om dataene. En mulighet er å embedde data i selve spesifikasjonen. Dette gjør spesifikasjonen mindre ryddig og det skalerer dårlig. Det er bedre å kun inkludere adresse til hvor data befinner seg (enten url eller på lokalt filsystem). Nedsiden med denne tilnærmingen er at det forutsetter at adressen må fortsette å være korrekt for at det skal være mulig for frontend å generere figuren. "
   ]
  },
  {
   "cell_type": "markdown",
   "id": "60c45a63-d6c5-4f58-b2cb-b79c5fb6c272",
   "metadata": {},
   "source": [
    "##### Data Transformers"
   ]
  },
  {
   "cell_type": "markdown",
   "id": "28067e8b-466d-48c6-b108-67eeeba18211",
   "metadata": {},
   "source": [
    "Det er noe greier med hvordan data blir behandlet før det inngår i chart... har ikke noe med transform_* ... kan for eksempel bruke\n",
    "```python\n",
    "alt.data_transformers.enable()\n",
    "```\n",
    "for å automatisk lagre json-fil av data på disk å peke på den i spesifikasjonen. Har ikke fått dette til å fungere og synes uansett det er lite ryddig. Siden jeg så langt er tvunget til å embedde data, så er dirty løsning\n",
    "```python\n",
    "alt.data_transformers.disable_max_rows()\n",
    "```"
   ]
  },
  {
   "cell_type": "markdown",
   "id": "demonstrated-richards",
   "metadata": {},
   "source": [
    "#### Compound charts"
   ]
  },
  {
   "cell_type": "markdown",
   "id": "returning-progress",
   "metadata": {},
   "source": [
    "Litt usikker på terminologi. Det er noe top-level greirer. Også litt ukomofortabel med at det ikke er eksplisitt grid; føler jeg mangler litt kontroll på layout, men default ser stort sett greit ut.\n",
    "\n"
   ]
  },
  {
   "cell_type": "markdown",
   "id": "7715121d-0cc9-4281-ad39-d8712476e067",
   "metadata": {},
   "source": [
    "```python\n",
    "resolve_scale()\n",
    "resolve_axis()\n",
    "resolve_legend()\n",
    "```"
   ]
  },
  {
   "cell_type": "markdown",
   "id": "paperback-hebrew",
   "metadata": {},
   "source": [
    "##### Layer"
   ]
  },
  {
   "cell_type": "markdown",
   "id": "sixth-drive",
   "metadata": {},
   "source": [
    "Legge charts oppå hverandre. Har to måter\n",
    "\n",
    "```python\n",
    "alt.layer(chart1, chart2)\n",
    "chart1 + chart\n",
    "```\n",
    "Hvis vi f.eks. vil ha samme encoding men to forskjellige markers (linje og punkt), så kan vi utnytte fleksibilitet i rekkefølger metoder blir callet; vi kan lage encoding uten å spesifisere mark (som i seg selv gir ugyldig spesifikasjon) og deretter sette på marks til dette base plottet\n",
    "```python\n",
    "base = alt.Chart(data).encode(x,y)\n",
    "base.mark_line() + base.mark_point()\n",
    "```\n",
    "Kan ha to ulike scales i y-retning\n",
    "```python\n",
    "alt.layer(line1, line2).resolve_scale(y='independent')\n",
    "```"
   ]
  },
  {
   "cell_type": "markdown",
   "id": "superb-poetry",
   "metadata": {},
   "source": [
    "##### Concatination"
   ]
  },
  {
   "cell_type": "markdown",
   "id": "final-advisory",
   "metadata": {},
   "source": [
    "Kan lage figur med flere subplots(?) ved å enten legge charts oppå eller ved siden av hverandre\n",
    "\n",
    "```python\n",
    "# ved siden\n",
    "alt.hconcat(chart1, chart2)\n",
    "chart1 | chart2\n",
    "\n",
    "# oppå\n",
    "alt.vconcat(chart1, chart2)\n",
    "chart1 & chart2\n",
    "```"
   ]
  },
  {
   "cell_type": "markdown",
   "id": "buried-alloy",
   "metadata": {},
   "source": [
    "##### Facets"
   ]
  },
  {
   "cell_type": "markdown",
   "id": "expired-editor",
   "metadata": {},
   "source": [
    "Dupliserer samme plott på subset derfinert av unike verdier på en kolonne. Spesifiserer det gjennom encoding,\n",
    "```python\n",
    "chart.encode(\n",
    "    columns='fieldname1',\n",
    "    rows='fieldname2'\n",
    ").properties(\n",
    "    height, width # må spesifisere for at samlet figur ikke skal bli for stor. \n",
    ")    \n",
    "```\n",
    "Litt usikker på om jeg kan ha én field og spre det utover både rows og columns.. Neida, går fint det.\n",
    "\n",
    "```python\n",
    "chart.encode(\n",
    "    facet=alt.Facets('fieldname', columns=2)\n",
    ")    \n",
    "```"
   ]
  },
  {
   "cell_type": "markdown",
   "id": "respective-liverpool",
   "metadata": {},
   "source": [
    "##### Repeat"
   ]
  },
  {
   "cell_type": "markdown",
   "id": "coordinated-lebanon",
   "metadata": {},
   "source": [
    "Kan bruke repeat-funksjonen for å lage parvis scatterplot..\n",
    "```python\n",
    "fields = ['petalLength', 'petalWidth', 'sepalLength', 'sepalWidth']\n",
    "\n",
    "alt.Chart(iris).mark_point().encode(\n",
    "    alt.X(alt.repeat(\"column\"), type='quantitative'),\n",
    "    alt.Y(alt.repeat(\"row\"), type='quantitative'),\n",
    "    color='species'\n",
    ").properties(\n",
    "    width=150,\n",
    "    height=150\n",
    ").repeat(\n",
    "    row=fields,\n",
    "    column=fields\n",
    ")\n",
    "```"
   ]
  },
  {
   "cell_type": "markdown",
   "id": "charitable-refund",
   "metadata": {},
   "source": [
    "### Marks"
   ]
  },
  {
   "cell_type": "markdown",
   "id": "postal-spanking",
   "metadata": {},
   "source": [
    "Tilsvarer geom i ggplot2, de ulike geometriske objektene i plottet."
   ]
  },
  {
   "cell_type": "markdown",
   "id": "caring-updating",
   "metadata": {},
   "source": [
    "#### punkter"
   ]
  },
  {
   "cell_type": "markdown",
   "id": "academic-admission",
   "metadata": {},
   "source": [
    "```python\n",
    "mark_point()\n",
    "mark_circle()\n",
    "mark_square()\n",
    "```"
   ]
  },
  {
   "cell_type": "markdown",
   "id": "assured-wildlife",
   "metadata": {},
   "source": [
    "Kan bruke ticks til å gi visuell representasjon av empirisk fordeling... kan kombinere med kde eller annet.\n",
    "```python\n",
    "mark_tick()\n",
    "```"
   ]
  },
  {
   "cell_type": "markdown",
   "id": "collaborative-fairy",
   "metadata": {},
   "source": [
    "#### Rektangler"
   ]
  },
  {
   "cell_type": "markdown",
   "id": "promising-kruger",
   "metadata": {},
   "source": [
    "Kan lage barer for å gi bedre representering av punkt i (x,y)-diagram. Brukes gjerne når ene kolonnen er kategorisk slik at posisjon ikke har numerisk tolkning. I praksis er det ofte bedre å ha horisontale barer siden det er enklere å lese horisontal labels. Hvis vi vil vise flere verdier for hver verdi av den kategoriske kolonnen så vil barene i utgangspunktet overlappe hverandre. Kan sette de ved siden av hverandre eller oppå hverandre. Hvis jeg setter oppå hverandre og normaliserer høyde til 1 så vil hver bar utgjøre andel.\n",
    "```python\n",
    "chart.mark_bar().encode(\n",
    "    y='colname:N',\n",
    "    x=alt.X('*:Q', aggregate='count', stack='normalize', sort='descending'), #sortere hvis ulike kategorier er ordinal\n",
    "    color='colname:N'\n",
    ")\n",
    "```"
   ]
  },
  {
   "cell_type": "markdown",
   "id": "understood-sodium",
   "metadata": {},
   "source": [
    "Andre ganger vil vi ha rektangler med gitt størrelse... og bruke farge til å angi verdi. Kan også bruke det til å fargelegge bakgrunn for å indikere hendelse i lineplot"
   ]
  },
  {
   "cell_type": "markdown",
   "id": "integrated-nelson",
   "metadata": {},
   "source": [
    "```python\n",
    "mark_rect()\n",
    "```"
   ]
  },
  {
   "cell_type": "markdown",
   "id": "parallel-congo",
   "metadata": {},
   "source": [
    "#### Linjer"
   ]
  },
  {
   "cell_type": "markdown",
   "id": "patient-substance",
   "metadata": {},
   "source": [
    "```python\n",
    "mark_line(\n",
    "    color, # definerer groupby\n",
    "    detail, # hvis vi vil gruppere etter annen variabel og få flere linjer med samme farge\n",
    ")\n",
    "```"
   ]
  },
  {
   "cell_type": "markdown",
   "id": "mexican-mystery",
   "metadata": {},
   "source": [
    "Litt hacky måte å få finere legend i lineplot er å legge på mark_point() med opacity=alt.value(0)"
   ]
  },
  {
   "cell_type": "markdown",
   "id": "ancient-paint",
   "metadata": {},
   "source": [
    "Area plot er litt sånn som linje plots, bare at farglegger under. Da må y-akse begynne på 0. \n",
    "```python\n",
    "mark_area().encode(\n",
    "    x, \n",
    "    alt.Y('count()', stack='normalize') # normalisere slik at høyde = 1 og gir andel for hver delkategori\n",
    "    color \n",
    ")\n",
    "```"
   ]
  },
  {
   "cell_type": "markdown",
   "id": "european-acquisition",
   "metadata": {},
   "source": [
    "#### Tekst"
   ]
  },
  {
   "cell_type": "markdown",
   "id": "c35f7758-4c7c-4dc4-b7bc-7854fc5cb31c",
   "metadata": {},
   "source": [
    "Kan ha tekst assosierte med de ulike markene i figuren. Da vil vi gjerne at plassering til tekst skal ha sammenheng med plassering til mark og vi bruker samme encoding av x og y kanalene. "
   ]
  },
  {
   "cell_type": "markdown",
   "id": "cardiovascular-choice",
   "metadata": {},
   "source": [
    "```python\n",
    "mark_text().encode(\n",
    "    x,\n",
    "    y,\n",
    "    text=alt.Text(tekst, format='.2f') # format følger d3\n",
    ").configure_text(\n",
    "    stroke='white', # kan gi det bakgrunn slik at tekst ikke overlapper med andre objekt\n",
    "    strokeWidth,\n",
    "    align='left',\n",
    "    dx, dy,\n",
    ")    \n",
    "```\n",
    "kan kombineres med annen Chart og legge opp for å f.eks. få tall på toppen av bar plot"
   ]
  },
  {
   "cell_type": "markdown",
   "id": "8806bed9-80c9-404d-b832-545571c0617c",
   "metadata": {},
   "source": [
    "En alternativ bruk av tekst er å ha den på fast plassering og at verdi avhenger av data. Brukter da alt.value() til å spesifisere plasseringen og må konstruere text i label gjennom transfomeringer"
   ]
  },
  {
   "cell_type": "markdown",
   "id": "f5857a77-750f-4c93-bbb7-0a00aad93bc3",
   "metadata": {},
   "source": [
    "```python\n",
    "mark_text().encode(\n",
    "    x=alt.value(20), # offset fra øverste venstre hjørne i antall pixler\n",
    "    y=alt.value(20),\n",
    "    text='label:N' # label som vi eksplisitt konstruerer nedenfor\n",
    ").transform_aggregate( # bruker aggregate til å få noe sammendragsmål\n",
    "    num_obs = \"count(z)\"\n",
    ").transform_calculate( # bruker calculate til å eksplisitt konstuere stringen\n",
    "    label = \"'Antall: ' + datum.num_obs\n",
    ")    \n",
    "```"
   ]
  },
  {
   "cell_type": "markdown",
   "id": "frank-cycling",
   "metadata": {},
   "source": [
    "#### Annet"
   ]
  },
  {
   "cell_type": "markdown",
   "id": "applicable-rouge",
   "metadata": {},
   "source": [
    "```python\n",
    "mark_boxplot()\n",
    "```\n",
    "Horisontal eller vertikal linje som spanner hele figur.\n",
    "```python\n",
    "mark_rule()\n",
    "```"
   ]
  },
  {
   "cell_type": "markdown",
   "id": "unique-allen",
   "metadata": {},
   "source": [
    "### Encoding"
   ]
  },
  {
   "cell_type": "markdown",
   "id": "moving-value",
   "metadata": {},
   "source": [
    "Spesifiserer mapping fra variabel til Marks ulike estetiske egenskaper\n",
    "\n",
    "Tolker scale (innhold i mapping mellom dataspace og estetikkspace) ut fra datatype\n",
    "1. Quantitative (Q)\n",
    "2. Ordinal (O)\n",
    "3. Nominal (N)\n",
    "4. Tid (T)\n",
    "\n",
    "Skal sjå litt på ulike typer encodings"
   ]
  },
  {
   "cell_type": "markdown",
   "id": "alien-poetry",
   "metadata": {},
   "source": [
    "#### Spesifisere encoding"
   ]
  },
  {
   "cell_type": "markdown",
   "id": "caroline-connecticut",
   "metadata": {},
   "source": [
    "Det er fleksibel api der vi kan spesifisere på ulike måter. En mulighet er å bruke shorthand, som er en string som angir field (kolonnenavn) og eventuelt datatype og aggregate. Tre ulike måter å spesifisere samme encoding:\n",
    "```python\n",
    "chart.encode(\n",
    "    x='mean(colname):Q')\n",
    "\n",
    "chart.encode(\n",
    "    alt.X(shorthand='mean(colname):Q'))\n",
    "\n",
    "chart.encode(\n",
    "    alt.X(field='colname',aggregate='mean', type='quantitative))\n",
    "\n",
    "```\n",
    "de ulike funksjonene har flere argument enn de som kan angis gjennom shorthand, så får mer fleksibilitet gjennom å eksplisitt bruke funksjonene"
   ]
  },
  {
   "cell_type": "markdown",
   "id": "canadian-graphic",
   "metadata": {},
   "source": [
    "#### Ulike typer encoding"
   ]
  },
  {
   "cell_type": "markdown",
   "id": "auburn-athletics",
   "metadata": {},
   "source": [
    "Ulike kanaler for å mappe mellom data og mark. Hver har et `scale` argument der vi kan spesifiserer detaljer ved mapping."
   ]
  },
  {
   "cell_type": "markdown",
   "id": "dental-frame",
   "metadata": {},
   "source": [
    "##### Posisjon"
   ]
  },
  {
   "cell_type": "markdown",
   "id": "photographic-tokyo",
   "metadata": {},
   "source": [
    "Hvordan jeg ønsker å håndtere dette avhenger litt av om direkte tolkning av plassering som numerisk verdi eller kun ordinal/nominal distinksjon mellom objekt"
   ]
  },
  {
   "cell_type": "markdown",
   "id": "streaming-creek",
   "metadata": {},
   "source": [
    "```python\n",
    "chart.encode(\n",
    "    alt.X('column',\n",
    "        scale=alt.Scale(domain=(5, 20), # kan sette axis limits\n",
    "                        zero=False, # inferrer domain (med litt padding) uten begrensing om at den må starte på 0\n",
    "                        clamp=True)), # observasjon som utenfor view blir \"clampet\" til margen\n",
    "        axis=alt.Axis(title='..',\n",
    "                      titleFontSize=14,\n",
    "                      format='%Y', # har verktøy for formatering av datetime kolonne\n",
    "                      format='%', # ganger verdi på akse med 100 og legger til % slik at 0.01 -> 1%\n",
    "                      labelAngle=0, # kan justere vinkel til tick labels\n",
    "                      ticks=False, # kan være aktuelt å fjerne ticks for en del typer plot \n",
    "                      tickCount, # én måte å kontrollere ticks (og dermed grid)\n",
    "                      \n",
    "                      ) \n",
    "        sort=alt.EncodingSortField(field='other_col', # sortere etter numerisk verdi til annen kolonne\n",
    "                                   order='descending',\n",
    "                                   op) # aggregeringsfunksjon som er nødvendig hvis flere verdier for hver encoding..\n",
    ")          \n",
    "```\n",
    "\n",
    "```python\n",
    "alt.Axis(\n",
    "    title, # axis label\n",
    "    labels,\n",
    "    ticks,\n",
    "    format='%-d/%-m/%Y' # kontrollere hvis tid\n",
    ")\n",
    "```"
   ]
  },
  {
   "cell_type": "markdown",
   "id": "finite-brain",
   "metadata": {},
   "source": [
    "##### Farge"
   ]
  },
  {
   "cell_type": "markdown",
   "id": "generic-clerk",
   "metadata": {},
   "source": [
    "Får mer kontroll over fargevalg ved å kombinere alt.Color() med et Scale-objekt\n",
    "\n",
    "Trenger litt oversikt over schemes og built-in farger.. hvis man bruker vanilje blå, rød osv. så er det kjempestygt. \n",
    "```python\n",
    "\n",
    "custom_scale = alt.Scale(domain=['val0', 'val1',...], range=['color0', 'color1',...])\n",
    "builtin_scale = alt.Scale(scheme='dark2)\n",
    "\n",
    "chart.encode(\n",
    "    alt.Color('column:N',\n",
    "              scale=alt.Scale(scheme, # bruke built-in mapping\n",
    "                              domain, # spesifiere custom gjennom domain og range\n",
    "                              range, # domain=[val1, val2], range=['color1', 'color2']. \n",
    "              sort, # liste av verdier i column eller alt.EncodingSortField(..), bruke til å kontrollere legend,\n",
    "              legend, # farge vil dukke opp i legend, konfiguerer her.\n",
    "             )\n",
    "```"
   ]
  },
  {
   "cell_type": "markdown",
   "id": "broken-ecuador",
   "metadata": {},
   "source": [
    "##### Size"
   ]
  },
  {
   "cell_type": "markdown",
   "id": "fossil-access",
   "metadata": {},
   "source": [
    "```python\n",
    "chart.encode(\n",
    "    alt.size('column', \n",
    "             scale=alt.Scale(range([a,b]) # justere hvor store og små markene kan blir\n",
    ")    \n",
    "```"
   ]
  },
  {
   "cell_type": "markdown",
   "id": "consistent-cambridge",
   "metadata": {},
   "source": [
    "##### Opacity"
   ]
  },
  {
   "cell_type": "markdown",
   "id": "varied-english",
   "metadata": {},
   "source": [
    "Kan justere opacity hvis mange overlappene objekt, f.eks. i scatterplot eller lineplot. Har sett at vi kan fremheve noen punkter ved å gjør farge til alle grå. Alternativ måte er å justere opacity. Kan f.eks. ha mange svake linjer, en sterk linje som viser gjennomsnittet og så kan man fremheve ulike linjer ved å holde musen over.\n",
    "```python\n",
    "hover = alt.selection_single(on='mouseover', nearest=True, fields=['state'], empty='none')\n",
    "chart.mark_line().encode(\n",
    "    x,y,\n",
    "    opacity=alt.condition(hover, alt.value(1.0), alt.value(0.1))\n",
    ")    \n",
    "```"
   ]
  },
  {
   "cell_type": "markdown",
   "id": "responsible-messaging",
   "metadata": {},
   "source": [
    "##### Order"
   ]
  },
  {
   "cell_type": "markdown",
   "id": "hired-force",
   "metadata": {},
   "source": [
    "Kan spesifiserer rekkefølge... for eksempel i stacked bar chart.. litt usikker på hvordan jeg bruker i praksis. vil bruke sort=alt.EncodingSortField() for å sortere rekkefølge på samme måte som jeg sortere farger, men får det ikke til.\n",
    "\n",
    "Kan også bruke til å bestemme rekkefølge i scatterplot med ulik størrelse, slik at større sirkler blir tegnet først og jeg kan få tilgang til mindre sirkler med mus for å få ut tooltip ..\n",
    "```python\n",
    "chart.encode(\n",
    "    x,y,color='colname',\n",
    "    order=alt.Order('colname',sort='descending') # ... \n",
    ")    \n",
    "```"
   ]
  },
  {
   "cell_type": "markdown",
   "id": "endangered-entrance",
   "metadata": {},
   "source": [
    "##### Shape\n"
   ]
  },
  {
   "cell_type": "markdown",
   "id": "static-queensland",
   "metadata": {},
   "source": [
    "##### Tooltip"
   ]
  },
  {
   "cell_type": "markdown",
   "id": "handled-accommodation",
   "metadata": {},
   "source": [
    "Bestemme hvilken tekst som vises når musen hoverer over markør.\n",
    "```python\n",
    "chart.encode(\n",
    "    tooltip = [col_names], # fungerer, men vet ikke hvordan jeg får annen tittel enn colname label\n",
    "    tooltip = alt.Tooltip()\n",
    ")\n",
    "```"
   ]
  },
  {
   "cell_type": "markdown",
   "id": "durable-serial",
   "metadata": {},
   "source": [
    "### Transformasjoner"
   ]
  },
  {
   "cell_type": "markdown",
   "id": "virgin-compiler",
   "metadata": {},
   "source": [
    "Har mye verktøy for å gjøre transformasjoner/aggregeringer internt. Om mulig så er det ofte greiere å gjøre dette i pandas, men kan være at jeg trenger ulike views av data for sammensatte figurer eller at jeg jobber direkte med data gjennom url.\n",
    "\n",
    "Merk uansett at den kan ta begrenset med data (default øvre grense er 5000), så for mange datasett har jeg ikke annet valg enn å aggregere/filtrere ex-ante.\n"
   ]
  },
  {
   "cell_type": "markdown",
   "id": "continued-deputy",
   "metadata": {},
   "source": [
    "Kan spesifiserer transformasjon av variabel,\n",
    "```python\n",
    "chart.encode(\n",
    "    attribute='mean(colname)'\n",
    ")\n",
    "```\n",
    "Kan også bruke\n",
    "```python\n",
    "chart.encode(\n",
    "    x='colname',\n",
    "    y='count()\n",
    ")\n",
    "```\n",
    "for at plassering i y-retning avhenger av antall observasjoner som encodet på gitt plassering i x-retning"
   ]
  },
  {
   "cell_type": "markdown",
   "id": "satisfactory-stress",
   "metadata": {},
   "source": [
    "#### filter"
   ]
  },
  {
   "cell_type": "markdown",
   "id": "alike-improvement",
   "metadata": {},
   "source": [
    "```python\n",
    "chart.transform_filter(\n",
    "    selector1 | selector2, # kan ha logisk condition med enten union eller snitt av selectors..\n",
    "    \n",
    ")\n",
    "```"
   ]
  },
  {
   "cell_type": "markdown",
   "id": "billion-banking",
   "metadata": {},
   "source": [
    "#### aggregate"
   ]
  },
  {
   "cell_type": "markdown",
   "id": "dynamic-kenya",
   "metadata": {},
   "source": [
    "Har i hvert fall tre måter jeg kan gjøre aggegering på:"
   ]
  },
  {
   "cell_type": "markdown",
   "id": "frank-prague",
   "metadata": {},
   "source": [
    "1. Kan gjøre eksplisitt med transform_ funksjon slik at jeg få nye field i mitt data. \n",
    "\n",
    "```python\n",
    "chart.transform_aggregate(\n",
    "    agg_field_name='mean(colname2)', # alt.AggregatedFieldDef, må ha `op` (aggfunksjon), fieldname (arg i `op`) og `as` \n",
    "    groupby=['colname'] # må være array\n",
    ").encode(\n",
    "    x='colname',\n",
    "    y='agg_field_name' # eks 'mean_of_colname2'\n",
    ")\n",
    "```"
   ]
  },
  {
   "cell_type": "markdown",
   "id": "friendly-credits",
   "metadata": {},
   "source": [
    "2.  Kan eventuelt gjøre det gjennom encoding i stedet for å transformere ex-post\n",
    "\n",
    "```python\n",
    "chart.encode(\n",
    "    x='colname',\n",
    "    y='mean(colname2)' # skjønner at groupby colname .. kan eventuelle kombinere med binning hvis colname er kvantiativ\n",
    ")\n",
    "```\n"
   ]
  },
  {
   "cell_type": "markdown",
   "id": "loved-label",
   "metadata": {},
   "source": [
    "3. Gjøre med eksplisitt objekt i encoding i stedet for bare shorthand\n",
    "\n",
    "```python\n",
    "chart.encode(\n",
    "    x='colname',\n",
    "    y=alt.Y('colname2:', aggregate='mean')\n",
    ")    \n",
    "```"
   ]
  },
  {
   "cell_type": "markdown",
   "id": "assisted-variety",
   "metadata": {},
   "source": [
    "#### binning"
   ]
  },
  {
   "cell_type": "markdown",
   "id": "ahead-perfume",
   "metadata": {},
   "source": [
    "Aggegere med utgangspunkt i delmengder (intervaller) av kontinuerlig variabel. Blir en måte å konstruere slags diskret variabel som vi deretter kan kjøre groupby på og finne aggegert mål på hver gruppe. Kjører altså binning og grouping i ett. Vanlig å bruke `count()` for å lage histogram, men ingenting i veien for å bruke andre aggregeringsfunksjoner\n",
    "\n",
    "Kan lage hist ved å telle antall observasjon i hver bin, men kan også lage andre ting."
   ]
  },
  {
   "cell_type": "markdown",
   "id": "enormous-train",
   "metadata": {},
   "source": [
    "##### Histogram"
   ]
  },
  {
   "cell_type": "markdown",
   "id": "identified-fifteen",
   "metadata": {},
   "source": [
    "Kan enten spesifisere at bin=True eller initialisere Bin-objekt som gir oss flere arguemnt\n",
    "```python\n",
    "chart.encode(\n",
    "    x=alt.X('Miles_per_Gallon', bin=alt.Bin(maxbins=20)),\n",
    "    y='count()'\n",
    ")\n",
    "```\n",
    "Bin har litt ulike argumenter, men i praksis vil bare bruke maxbins siden den prøver å utlede en god partisjonering (splitte på heltall)."
   ]
  },
  {
   "cell_type": "markdown",
   "id": "underlying-sheep",
   "metadata": {},
   "source": [
    "Hvis jeg vil bruke gruppene i flere chart komponenter så kan jeg eksplisitt lage ny kolonne som inneholder binning (som jeg deretter kan referere til ved navn på andre komponenter,\n",
    "```python\n",
    "chart.encode(\n",
    "    x='x_binned:O',\n",
    "    y='count()'\n",
    ").transform_bin('x_binned', field=x)    \n",
    "```"
   ]
  },
  {
   "cell_type": "markdown",
   "id": "prime-sierra",
   "metadata": {},
   "source": [
    "Kan også lage histogram der vi bruker bruker farge til å indikere verdi i hver bin i stedet for lengde på bar i y-retning.\n",
    "```python\n",
    "alt.Chart(data).mark_rect().encode(\n",
    "    alt.X('col_x', bin=True),\n",
    "    alt.Y('col_y', bin=True),\n",
    "    color='count():O'\n",
    ")\n",
    "```"
   ]
  },
  {
   "cell_type": "markdown",
   "id": "august-insulation",
   "metadata": {},
   "source": [
    "##### Binning med tid"
   ]
  },
  {
   "cell_type": "markdown",
   "id": "french-significance",
   "metadata": {},
   "source": [
    "Har ulike funksjoner for å binne data med tidsdimensjon. Aggregert mål på observasjoner innenfor diskret tidsintervall.\n",
    "```python\n",
    "chart.encode(\n",
    "    x='day(time_var):O', # alternativer: hours, month, year (mer? sikkert minutter og sekunder..)\n",
    "    y='mean(some_var)'\n",
    ")\n",
    "```"
   ]
  },
  {
   "cell_type": "markdown",
   "id": "00a916b9-05de-4fd6-b560-d84d7239c46d",
   "metadata": {},
   "source": [
    "#### density"
   ]
  },
  {
   "cell_type": "markdown",
   "id": "b4c51164-ac2e-44b0-9f8c-942919cc719f",
   "metadata": {},
   "source": [
    "Vi kan alternativt bruker kde til å estimere tettheten til fordeling"
   ]
  },
  {
   "cell_type": "markdown",
   "id": "3a8dd572-e994-447e-bfd1-539b0dcd2440",
   "metadata": {},
   "source": [
    "```python\n",
    "chart.mark_area().transform_density(\n",
    "    density='col',\n",
    "    as_= ['col', 'tetthet']\n",
    ").encode(\n",
    "    x='col:Q',\n",
    "    y='tetthet:Q'\n",
    ")\n",
    "```"
   ]
  },
  {
   "cell_type": "markdown",
   "id": "beautiful-candle",
   "metadata": {},
   "source": [
    "#### calculate"
   ]
  },
  {
   "cell_type": "markdown",
   "id": "typical-microwave",
   "metadata": {},
   "source": [
    "Kan ha lyst til å konstruere nye kolonner fra funksjon på de eksisterende. Kan bruke stringfunksjon som blir parset, eller være mer eksplisitt og pythonisk med funksjoner fra alt.expr modulen\n",
    "```python\n",
    "chart.transform_calculate(\n",
    "    new_col = \"func(datum.old_col)\", # må bruke datum. for å få tilgang til kolonne\n",
    "    new_col = alt.expr.max(datum.old_col) # finnes matematiske funksjoner, ting som er definert på arrays mm.\n",
    ")    \n",
    "```"
   ]
  },
  {
   "cell_type": "markdown",
   "id": "0f8e95b5-b94b-412a-9769-3efdef563b2a",
   "metadata": {},
   "source": [
    "#### pivot"
   ]
  },
  {
   "cell_type": "markdown",
   "id": "50caad8f-a21b-48da-b18d-e3b5b29c88ec",
   "metadata": {},
   "source": [
    "Omforme fra long til wide. Må spesfisiere\n",
    "1. index (hvilken kolonne som identifiserer unike observasjoner)\n",
    "2. column (hvilke kolonne hvorav de unike verdiene vil være navn på kolonne i wide-format)\n",
    "3. value (hvilken kolonne der verdiene fyller opp (index, column)-par.\n",
    "\n",
    "```python\n",
    "alt.Chart(df).transform_pivot(\n",
    "    'type', # unike verdier herfra gir nye field names\n",
    "    groupby=['country'], # unike verdier herfra er index\n",
    "    value='count'\n",
    ")\n",
    "```"
   ]
  },
  {
   "cell_type": "markdown",
   "id": "28712683-b4bf-4cdd-aeb0-1ecd0f2053de",
   "metadata": {},
   "source": [
    "#### timeunit"
   ]
  },
  {
   "cell_type": "markdown",
   "id": "d2d8188b-6047-4cff-99c7-429bac8d2324",
   "metadata": {},
   "source": [
    "Kan trekke ut egenskap fra tids-kolonne og gruppere alle observasjoner som deler den egenskaper. Kan være adskilt i tid.. hvis grupperer på egenskaper som vokser monotont. Ellers kan vi dele inn etter egenskap som er syklisk (dag, måned) og få annen type gruppering.\n",
    "\n",
    "```python\n",
    "chart.transform_timeunit(\n",
    "    month=\"month(time)\"\n",
    ").encode(\n",
    "    x = 'month:O',\n",
    "    y = 'mean(temp):Q'\n",
    ")    \n",
    "```"
   ]
  },
  {
   "cell_type": "markdown",
   "id": "czech-being",
   "metadata": {},
   "source": [
    "### Seleksjon"
   ]
  },
  {
   "cell_type": "markdown",
   "id": "fatal-accountability",
   "metadata": {},
   "source": [
    "Workflow:\n",
    "1. Initialisere seleksjonsobjekt (som eventuelt er bundet til slider, meny, buttons eller legend\n",
    "2. Legge til seleksjonsobjekt til chart med .add_selection()\n",
    "3. Bruke alt.condition() på attribut i encode-funksjonen for å gjøre ting avhengig av seleksjon\n",
    "4. Eller filter/scales/domain"
   ]
  },
  {
   "cell_type": "markdown",
   "id": "split-guitar",
   "metadata": {},
   "source": [
    "#### Typer seleksjon"
   ]
  },
  {
   "cell_type": "markdown",
   "id": "independent-banks",
   "metadata": {},
   "source": [
    "Har tre typer seleksjonsobjeter"
   ]
  },
  {
   "cell_type": "markdown",
   "id": "alternative-harvest",
   "metadata": {},
   "source": [
    "```python\n",
    "alt.selection_interval(\n",
    "    encodings, # ['x'] hvis kun intervall på x-akse. Default er ['x','y'] som gir rektangel\n",
    "    bind, # 'scales' gir basically samme som interact.. kan konstruere zoom gjennom bind på intervall..\n",
    "    empty, # enten 'all' eller 'none'. om de på default regnes for å være inni seleksjon eller ikke.\n",
    "    resolve, # default er global slik at all filtrering på én seleksjon, men kan spesifisere union for å få flere ...\n",
    "    \n",
    ")    \n",
    "```"
   ]
  },
  {
   "cell_type": "markdown",
   "id": "allied-framework",
   "metadata": {},
   "source": [
    "```python\n",
    "alt.selection_single(\n",
    "    on, # 'click', 'mouseover'\n",
    "    nearest, # bør være True hvis on='mouseover'\n",
    "    encodings, # velge alle marks med samme egenskap av encoding, eks ['color']\n",
    "    fields, # i stedet for encoding (posisjon/farge) kan vi også velge alle med samme verdi i field direkte..\n",
    "    init, # {'fieldname':value}\n",
    "    bind, # kan binde til alt.binding_range(min,max,step) for å få slider..\n",
    "    \n",
    ")\n",
    "```"
   ]
  },
  {
   "cell_type": "markdown",
   "id": "republican-edinburgh",
   "metadata": {},
   "source": [
    "```python\n",
    "alt.selection_multi(\n",
    "\n",
    ")\n",
    "```"
   ]
  },
  {
   "cell_type": "markdown",
   "id": "protective-columbia",
   "metadata": {},
   "source": [
    "##### Flere bindinger på samme selection-objekt"
   ]
  },
  {
   "cell_type": "markdown",
   "id": "substantial-scenario",
   "metadata": {},
   "source": [
    "```python\n",
    "alt.selection(\n",
    "    fields=['field1', 'field2'],\n",
    "    bind={'field1': alt.binding(...), 'field2': alt.bidning(...)}\n",
    ")    \n",
    "```"
   ]
  },
  {
   "cell_type": "markdown",
   "id": "bacterial-automation",
   "metadata": {},
   "source": [
    "#### Typer binding"
   ]
  },
  {
   "cell_type": "markdown",
   "id": "beneficial-george",
   "metadata": {},
   "source": [
    "I stedet for at seleksjon får input fra mus på selve figuren, kan jeg lage binding-objekt og binde verdi av seleksjonsobjekt til input fra dette objektet.\n",
    "\n",
    "```python\n",
    "alt.binding_range(\n",
    "    \n",
    ")    \n",
    "```\n",
    "```python\n",
    "alt.binding_select(\n",
    "    \n",
    ")\n",
    "```\n"
   ]
  },
  {
   "cell_type": "markdown",
   "id": "binary-tunnel",
   "metadata": {},
   "source": [
    "```python\n",
    "alt.binding_radio(\n",
    "    \n",
    ")\n",
    "```\n",
    "```python\n",
    "alt.binding_checkbox(\n",
    "    \n",
    ")\n",
    "```"
   ]
  },
  {
   "cell_type": "markdown",
   "id": "opposed-active",
   "metadata": {},
   "source": [
    "#### Typer av interaktivitet"
   ]
  },
  {
   "cell_type": "markdown",
   "id": "improving-appointment",
   "metadata": {},
   "source": [
    "Skal nå se på måter vi kan endre figuren gjennom verdi til selection objektt"
   ]
  },
  {
   "cell_type": "markdown",
   "id": "preliminary-scout",
   "metadata": {},
   "source": [
    "##### Conditional encodings"
   ]
  },
  {
   "cell_type": "markdown",
   "id": "sized-hazard",
   "metadata": {},
   "source": [
    "```python\n",
    "alt.condition(predicate=selection_obj,\n",
    "              if_true=mapping, # i praksis kolonnenavn.. hva den mapper fra.\n",
    "              if_false=some_value) # eller kanskje annen mapping\n",
    "```\n",
    "\n",
    "Bruker én mapping fra data til visuell egenskap for observasjon/objekt som er valgt og annen mapping for resten. Bruker condition-funksjon som argument for egenskap i encode, eks:\n",
    "```python\n",
    "chart.encode(x,y,\n",
    "    color=alt.condition(interval, 'species', alt.value('lightgray'))\n",
    ").add_selection(interval)\n",
    "```"
   ]
  },
  {
   "cell_type": "markdown",
   "id": "irish-union",
   "metadata": {},
   "source": [
    "##### Filter"
   ]
  },
  {
   "cell_type": "markdown",
   "id": "a9ae93d0-c26d-431e-a875-0ee40dcadc62",
   "metadata": {},
   "source": [
    "```python\n",
    "chart.transform_filter(\n",
    "    selection_obj\n",
    ").transform_filter(\n",
    "    \"datum.colname == selection_obj.colname\"\n",
    ")    \n",
    "```"
   ]
  },
  {
   "cell_type": "markdown",
   "id": "chemical-athens",
   "metadata": {},
   "source": [
    "##### Scales"
   ]
  },
  {
   "cell_type": "markdown",
   "id": "binding-nirvana",
   "metadata": {},
   "source": [
    "##### Domain"
   ]
  },
  {
   "cell_type": "markdown",
   "id": "statewide-council",
   "metadata": {},
   "source": [
    "Kan bruke seleksjon i én chart til å definere domain i annen chart slik at vi i praksis zoomer inn på angitt intervall."
   ]
  },
  {
   "cell_type": "markdown",
   "id": "union-basement",
   "metadata": {},
   "source": [
    "```python\n",
    "chart = base.encode(x=alt.X('date:T', scale=alt.Scale(domain=interval.ref()))) # litt usikker på hva .ref() gjør\n",
    "view = base.add_selection(interval)\n",
    "chart & view                    \n",
    "```\n",
    "Har samme x encoding, men på chart er domenet til x angitt av interval som vi bestemmer i view"
   ]
  },
  {
   "cell_type": "markdown",
   "id": "reflected-developer",
   "metadata": {},
   "source": [
    "### Configuration"
   ]
  },
  {
   "cell_type": "markdown",
   "id": "pacific-chess",
   "metadata": {},
   "source": [
    "Har smarte defaults, men det vil ofte være lurt å spikke på plottet. Har tre ulike nivåer vi kan konfiguerer egenskaper til element i chart. Mer lokalt har forkjørsrett. Hvis jeg spesifiserer top-level konfigurering, så kan ikke denne charten inngå i compound. \n",
    "\n",
    "Kan spesifisere global i python session gjennom *theme* (analogt til ggplot2)\n",
    "\n",
    "Har tre nivåer der vi kan spesifisere egenskaper ved utseendet til chart\n",
    "\n",
    "```python\n",
    "# 'red'>'blue'>'green' fordi encode>local>global\n",
    "alt.Chart(data).mark_point(color='blue').encode( \n",
    "    x,y,\n",
    "    color=alt.value('red') # må bruke alt.value for at den ikke skal tro det er kolonnenavn\n",
    ").configure_point(color='green') \n",
    "```\n",
    "Best practice er å spesifisere på så lavt/lokalt nivå som mulig."
   ]
  },
  {
   "cell_type": "markdown",
   "id": "35ce6cbd-615a-4603-a963-39c979c8a320",
   "metadata": {},
   "source": [
    "Eksempler på konfiguereringer"
   ]
  },
  {
   "cell_type": "markdown",
   "id": "33deb48e-d28a-4127-ae2d-f3d31a5fdccc",
   "metadata": {},
   "source": [
    "```python\n",
    "alt.Chart(data).mark_point().encode(\n",
    "    encoding_1='column_1',\n",
    "    encoding_2=alt.function('column_2', *args)\n",
    "    ...\n",
    ").properties(\n",
    "    height,\n",
    "    width,\n",
    "    ...\n",
    ").configure_axis(\n",
    "    labelFontSize,\n",
    "    titleFontSize\n",
    ").configure_legend(\n",
    "    orient\n",
    ").configure_point(\n",
    "    size\n",
    ")\n",
    "```"
   ]
  },
  {
   "cell_type": "markdown",
   "id": "extensive-creativity",
   "metadata": {},
   "source": [
    "#### Argumenter"
   ]
  },
  {
   "cell_type": "markdown",
   "id": "hispanic-george",
   "metadata": {},
   "source": [
    "```python\n",
    ").configure_mark(\n",
    "    align, # vanligvis vil den sentrere mark på (x,y), men kan spesifisere 'left' eller 'right'. Relevant for tekst\n",
    "    dx, dy, # hvis vi vil manuelt dytte det litt for å skape offset slik at det ikke overlapper\n",
    "    baseline, # hm..\n",
    "    \n",
    "    \n",
    ")    \n",
    "```"
   ]
  },
  {
   "cell_type": "markdown",
   "id": "roman-transcription",
   "metadata": {},
   "source": [
    "#### Properties"
   ]
  },
  {
   "cell_type": "markdown",
   "id": "neutral-norfolk",
   "metadata": {},
   "source": [
    "Kan sette en del egenskaper gjennom .properties metoden .."
   ]
  },
  {
   "cell_type": "markdown",
   "id": "printable-silicon",
   "metadata": {},
   "source": [
    "#### Legend"
   ]
  },
  {
   "cell_type": "markdown",
   "id": "systematic-festival",
   "metadata": {},
   "source": [
    "Kontrollerer gjennom encoding..\n",
    "\n",
    "```python\n",
    "chart.encode(\n",
    "    ...,\n",
    "    alt.Color('colname', legend=alt.Legend(...)) # encoding som generer legend. Spesifiere legend=None hvis supress.\n",
    ")\n",
    "```\n",
    "her er argumentene\n",
    "```python\n",
    "alt.Legend(\n",
    "    title, # None hvis supress\n",
    "    titleFontSize,\n",
    "    labelFontSize,\n",
    "    orient, # 'bottom' hvis jeg vil ha under plottet\n",
    "    titleOrient, # 'left' hvis legend er under plottet\n",
    "    symbolStrokeWidth, # må forstørre hvis jeg bruke lineplot\n",
    "    \n",
    ")\n",
    "```"
   ]
  },
  {
   "cell_type": "markdown",
   "id": "lonely-dietary",
   "metadata": {},
   "source": [
    "Viktig å kontrollere legend slik at enkelt å mappe til figur. Vil kontrollere rekkefølgen. Litt lite intuitivt, men gjør dette gjennom å sortere farge fordi \n",
    "1. det er en rekkefølge av farger i cmap som jeg bruker\n",
    "2. rekkefølge av labels i legend tilsvarer rekken av farger\n",
    "\n",
    "så må derfor endre hvilke labels som korresponderer med hvilke farger!"
   ]
  },
  {
   "cell_type": "markdown",
   "id": "static-distinction",
   "metadata": {},
   "source": [
    "##### Interaktiv legend"
   ]
  },
  {
   "cell_type": "markdown",
   "id": "experienced-maldives",
   "metadata": {},
   "source": [
    "Kan lage interaktiv legend ved å binde selection.. litt begrenset funksjonalitet tror jeg.\n",
    "```python\n",
    "click = alt.selection_single(encodings=['color'], bind='legend')\n",
    "chart.encode(\n",
    "    opacity=alt.condition(click, alt.value(1), alt.value(0.2))\n",
    ").add_selection(click)\n",
    "```"
   ]
  },
  {
   "cell_type": "markdown",
   "id": "palestinian-russian",
   "metadata": {},
   "source": [
    "### Subset filtrering histogram"
   ]
  },
  {
   "cell_type": "markdown",
   "id": "english-validity",
   "metadata": {},
   "source": [
    "Betinget histogram for andre fordelinger for angitt subset av en fordeling. Består av to layers: 1. vanilje hist med brush 2. hist filtrert på observasjon med annen farge. Repeater dette for alle kolonner vi er interessert i.\n",
    "\n",
    "Vil ha to forbedringer: vil at seleksjon skal ta hele barer i histogram og vil ha har grid med både rekke og kolonne..\n",
    "```python\n",
    "brush = alt.selection_interval(encodings=['x'], empty='none')\n",
    "base = alt.Chart(cars).mark_bar().encode(\n",
    "    alt.X(alt.repeat('column'), type='quantitative', bin=alt.Bin(maxbins=20)),\n",
    "    alt.Y('count()')\n",
    ").properties(\n",
    "    width=300, height=200\n",
    ")\n",
    "\n",
    "base_background = base.properties(selection=brush)\n",
    "base_highlight = base.encode(\n",
    "    color=alt.value('goldenrod')\n",
    ").transform_filter(\n",
    "    brush.ref()\n",
    ")\n",
    "\n",
    "alt.layer(base_background, base_highlight).repeat(column=['Miles_per_Gallon', 'Displacement'])\n",
    "```"
   ]
  },
  {
   "cell_type": "markdown",
   "id": "labeled-nancy",
   "metadata": {},
   "source": [
    "### Subset filtrering scatter"
   ]
  },
  {
   "cell_type": "markdown",
   "id": "color-universe",
   "metadata": {},
   "source": [
    "```python\n",
    "brush = alt.selection_interval(encodings=['x', 'y'], empty='none')\n",
    "base = alt.Chart(cars).mark_point().encode(\n",
    "    color=alt.condition(brush, alt.value('red'), alt.value('lightblue'))\n",
    ").add_selection(brush)\n",
    "\n",
    "points1 = base.encode(alt.X('Miles_per_Gallon'), alt.Y('Horsepower'))\n",
    "points2 = base.encode(x='Weight_in_lbs', y='Displacement')\n",
    "alt.hconcat(points1, points2)\n",
    "```"
   ]
  },
  {
   "cell_type": "markdown",
   "id": "conceptual-equation",
   "metadata": {},
   "source": [
    "## Vega-lite"
   ]
  },
  {
   "cell_type": "markdown",
   "id": "annual-network",
   "metadata": {},
   "source": [
    "Altair genererer en vega-lite-spesifikasjon i json-format som compiler til vega-spesifikasjon. Det er altså strengt tatt bare en api i Python, og den underliggende strukturen kommer fra vega-lite som det derfor er greit å sette seg inn i."
   ]
  },
  {
   "cell_type": "markdown",
   "id": "automatic-thursday",
   "metadata": {},
   "source": [
    "### Grafisk grammatikk"
   ]
  },
  {
   "cell_type": "markdown",
   "id": "imperial-photographer",
   "metadata": {},
   "source": [
    "Enhetsplott består av tuppelen (data, transformations, mark-type, encodings, seleksjon), der\n",
    "- data er tabulær og hver rekke angir verdier til én observasjon langs navngitte egenskaper (såkalt tidy data)\n",
    "- transformasjon kan være enhetstransformasjon, men også blant annet filtrering, binning og aggregering\n",
    "- mark-type er geometrisk objekt; kun én type per enhetsplot\n",
    "- encoding spesifiserer mapping fra data til visuelle kanaler (estetiske egenskaper) ved mark. Kan være flere encodings på samme mark fordi den har flere kanaler.\n",
    "- seleksjon kan være enhetseleksjon, men kan også åpne for interaktivitet. se under."
   ]
  },
  {
   "cell_type": "markdown",
   "id": "matched-hybrid",
   "metadata": {},
   "source": [
    "Mer formelt kan vi si hver encoding består av tuppelen (channel, field, data-type, value, function, scale, guide), der\n",
    "- channel er visuelle egenskaper som plassering, farge, størrelse og form, samt rekkefølge (order)..\n",
    "- field er navn på kolonne i data. \n",
    "- data-type er nominal, ordinal, kvantiativ eller temporal\n",
    "- value vil som default være verdier fra kolonnen som er angitt i field, men kan også bruke konstant verdier\n",
    "- function ... er jeg litt usikker på.\n",
    "- scale spesifiserer den eksakte mappingen mellom data-space og visuell-space... Eks hvilken verdi som korresponderer med hvilken farge.\n",
    "- guide beskriver invers av transformasjon så vi kan mappe tilbake fra visuell til data, gjennom legends og sånn."
   ]
  },
  {
   "cell_type": "markdown",
   "id": "intimate-brown",
   "metadata": {},
   "source": [
    "Merk at vega-lite (og altair) automatisk genererer scale og guide ut fra channel og data-type i henhold til best practices (ordinal vs kontinuerlig fargeskala mm)."
   ]
  },
  {
   "cell_type": "markdown",
   "id": "great-tunnel",
   "metadata": {},
   "source": [
    "### Algebra for komposisjoner"
   ]
  },
  {
   "cell_type": "markdown",
   "id": "automatic-hypothesis",
   "metadata": {},
   "source": [
    "Gjør poeng ut av at det er er view algebra i stedet for table algebra ? uansett, så håndterer det alignment, valg av scale og unngår unødvendig duplisering av guide (legend) automatisk. Har fire operasjoner\n",
    "1. Layer, hver argument må være enhetsplot i motsetning til andre som bare trenger view... hm.\n",
    "2. Concat\n",
    "3. Facet, samme plot på subset av data\n",
    "4. Repeeat, hele data på hver\n",
    "\n",
    "Har resolve-egenskap som sier hvordan det skal håndtere scales.."
   ]
  },
  {
   "cell_type": "markdown",
   "id": "cleared-layer",
   "metadata": {},
   "source": [
    "### Interaksjonsgrammatikk"
   ]
  },
  {
   "cell_type": "markdown",
   "id": "searching-company",
   "metadata": {},
   "source": [
    "Seleksjon består av tuppelen (name, type, predicate, domain eller range, event, init, transformation, resolve), der innhold på hver enkelt blir litt low-level for meg foreløbig. Har tre ulike typer\n",
    "1. Single point\n",
    "2. List of points\n",
    "3. Interval"
   ]
  },
  {
   "cell_type": "markdown",
   "id": "urban-eagle",
   "metadata": {},
   "source": [
    "Finnes også transformasjoner av seleksjonsobjekt... manipulere innhold."
   ]
  },
  {
   "cell_type": "markdown",
   "id": "a70a1e86-0677-4e80-9710-50863944e629",
   "metadata": {},
   "source": [
    "## Eksempler"
   ]
  },
  {
   "cell_type": "markdown",
   "id": "409316f6-d2e9-4375-8f3a-5430e23573d7",
   "metadata": {},
   "source": [
    "Tekst annotation på multiline graf. \n",
    "```python\n",
    "from vega_datasets import data\n",
    "cars = data.cars()\n",
    "\n",
    "nearest = alt.selection(type='single', nearest=True, on='mouseover',\n",
    "                        fields=['Year'], empty='none')\n",
    "\n",
    "line = alt.Chart(cars).mark_line().encode(\n",
    "    x='Year:T',\n",
    "    y='mean(Horsepower):Q',\n",
    "    color='Origin'\n",
    ")\n",
    "\n",
    "points = line.mark_point().encode(\n",
    "    opacity=alt.condition(nearest, alt.value(1), alt.value(0))\n",
    ").add_selection(nearest)\n",
    "\n",
    "rule = alt.Chart(cars).transform_filter(nearest).mark_rule().encode(\n",
    "    x='Year:T',\n",
    "    color=alt.value('gray')\n",
    ")\n",
    "\n",
    "text = line.mark_text(strokeWidth=6,align='left', dx=5, dy=-10).encode(\n",
    "    text=alt.condition(nearest, 'mean(Horsepower):Q' ,alt.value(' '))\n",
    ")\n",
    "\n",
    "line + points + rule + text\n",
    "```"
   ]
  },
  {
   "cell_type": "markdown",
   "id": "ac15ef4a-59f5-453d-a155-663a006200e6",
   "metadata": {},
   "source": [
    "Alternativ til tekst annotation er å lage multiline tooltip. Må passe på at rekkefølge samsvarer med rekkefølge i legend.\n",
    "```python\n",
    "source = data.stocks()\n",
    "selection = alt.selection_single(\n",
    "    fields=['date'], nearest=True, on='mouseover', empty='none', clear='mouseout')\n",
    "\n",
    "base = alt.Chart(source).encode(x='date:T')\n",
    "\n",
    "lines = base.mark_line().encode(\n",
    "    y='price',\n",
    "    color='symbol'\n",
    ")\n",
    "\n",
    "points = lines.mark_point().transform_filter(selection) # kun visuell, kunne brukt opacity\n",
    "\n",
    "rule = base.transform_pivot(\n",
    "    'symbol', groupby=['date'], value='price'\n",
    ").mark_rule().encode(\n",
    "    opacity=alt.condition(selection, alt.value(0.3), alt.value(0)),\n",
    "    tooltip=[alt.Tooltip(c, type='quantitative') for c in sorted(source.symbol)]\n",
    ").add_selection(selection)\n",
    "\n",
    "lines + points + rule\n",
    "```"
   ]
  }
 ],
 "metadata": {
  "kernelspec": {
   "display_name": "Python 3",
   "language": "python",
   "name": "python3"
  },
  "language_info": {
   "codemirror_mode": {
    "name": "ipython",
    "version": 3
   },
   "file_extension": ".py",
   "mimetype": "text/x-python",
   "name": "python",
   "nbconvert_exporter": "python",
   "pygments_lexer": "ipython3",
   "version": "3.7.9"
  },
  "latex_envs": {
   "LaTeX_envs_menu_present": true,
   "autoclose": true,
   "autocomplete": true,
   "bibliofile": "biblio.bib",
   "cite_by": "apalike",
   "current_citInitial": 1,
   "eqLabelWithNumbers": true,
   "eqNumInitial": 1,
   "hotkeys": {
    "equation": "Ctrl-E",
    "itemize": "Ctrl-I"
   },
   "labels_anchors": false,
   "latex_user_defs": false,
   "report_style_numbering": false,
   "user_envs_cfg": false
  },
  "toc": {
   "base_numbering": 1,
   "nav_menu": {},
   "number_sections": true,
   "sideBar": true,
   "skip_h1_title": false,
   "title_cell": "Table of Contents",
   "title_sidebar": "Contents",
   "toc_cell": false,
   "toc_position": {},
   "toc_section_display": true,
   "toc_window_display": true
  },
  "toc-autonumbering": false,
  "toc-showcode": false,
  "toc-showmarkdowntxt": false
 },
 "nbformat": 4,
 "nbformat_minor": 5
}
