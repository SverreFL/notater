{
 "cells": [
  {
   "cell_type": "markdown",
   "metadata": {},
   "source": [
    "Vil forsøke å få bedre forståelse for integrasjon. Har et enkelt bilde med areal under graf, men vil forsøke å utvide perspektivet.\n",
    "\n",
    "Kan generelt bruke til å finne areal av mengder. Kan utvide til å finne volum."
   ]
  },
  {
   "cell_type": "code",
   "execution_count": 66,
   "metadata": {},
   "outputs": [],
   "source": [
    "from sympy import * \n",
    "import matplotlib.pyplot as plt\n",
    "import numpy as np\n",
    "import seaborn as sns"
   ]
  },
  {
   "cell_type": "markdown",
   "metadata": {},
   "source": [
    "Begynner med et enhetskvadrat"
   ]
  },
  {
   "cell_type": "code",
   "execution_count": 24,
   "metadata": {},
   "outputs": [],
   "source": [
    "from sympy import plotting"
   ]
  },
  {
   "cell_type": "code",
   "execution_count": 26,
   "metadata": {},
   "outputs": [],
   "source": [
    "x, y = symbols('x y')"
   ]
  },
  {
   "cell_type": "markdown",
   "metadata": {},
   "source": [
    "Vil finne areal definert innenfor fire kurver"
   ]
  },
  {
   "cell_type": "code",
   "execution_count": 36,
   "metadata": {},
   "outputs": [],
   "source": [
    "g_1 = 0.1*x\n",
    "g_2 = 1-0.1*x\n",
    "\n",
    "h_1 = 0.1*y\n",
    "h_2 = 1-0.1*y"
   ]
  },
  {
   "cell_type": "code",
   "execution_count": 47,
   "metadata": {},
   "outputs": [
    {
     "data": {
      "text/plain": [
       "[<matplotlib.lines.Line2D at 0x23c77cd8888>]"
      ]
     },
     "execution_count": 47,
     "metadata": {},
     "output_type": "execute_result"
    },
    {
     "data": {
      "image/png": "[encoded data removed]",
      "text/plain": [
       "<Figure size 432x288 with 1 Axes>"
      ]
     },
     "metadata": {
      "needs_background": "light"
     },
     "output_type": "display_data"
    }
   ],
   "source": [
    "x_grid = y_grid = np.linspace(0,1)\n",
    "plt.plot(x_grid, lambdify(x,g_1)(x_grid), c='b')\n",
    "plt.plot(x_grid, lambdify(x,g_2)(x_grid),c='b')\n",
    "plt.plot(lambdify(x,g_1)(x_grid),x_grid,c='b')\n",
    "plt.plot(lambdify(x,g_2)(x_grid),x_grid,c='b')"
   ]
  },
  {
   "cell_type": "code",
   "execution_count": 52,
   "metadata": {},
   "outputs": [
    {
     "data": {
      "text/latex": [
       "$\\displaystyle 0.001 x^{2} - 0.2 x - 0.1 \\left(1 - 0.1 x\\right)^{2} + 1.0$"
      ],
      "text/plain": [
       "0.001*x**2 - 0.2*x - 0.1*(1 - 0.1*x)**2 + 1.0"
      ]
     },
     "execution_count": 52,
     "metadata": {},
     "output_type": "execute_result"
    }
   ],
   "source": [
    "integrate(1,(x,h_1,h_2),(y,g_1,g_2))"
   ]
  },
  {
   "cell_type": "code",
   "execution_count": 53,
   "metadata": {},
   "outputs": [
    {
     "data": {
      "text/latex": [
       "$\\displaystyle 0.1 x$"
      ],
      "text/plain": [
       "0.1*x"
      ]
     },
     "execution_count": 53,
     "metadata": {},
     "output_type": "execute_result"
    }
   ],
   "source": [
    "g_1"
   ]
  },
  {
   "cell_type": "code",
   "execution_count": 55,
   "metadata": {},
   "outputs": [
    {
     "data": {
      "text/latex": [
       "$\\displaystyle 0.1 y$"
      ],
      "text/plain": [
       "0.1*y"
      ]
     },
     "execution_count": 55,
     "metadata": {},
     "output_type": "execute_result"
    }
   ],
   "source": [
    "h_1"
   ]
  },
  {
   "cell_type": "markdown",
   "metadata": {},
   "source": [
    "hm det likte jeg ikke. vil i stedet finne areal av region som er omsluttet av kurvene \n",
    "$$\n",
    "4x+y^2=12\n",
    "$$\n",
    "og \n",
    "$$\n",
    "x=y\n",
    "$$.\n",
    "\n"
   ]
  },
  {
   "cell_type": "markdown",
   "metadata": {},
   "source": [
    "Er generelt ukomfortabel med at grense ikke er konstant...\n",
    "\n",
    "fundamentalt theorem\n",
    "\n",
    "$$\n",
    "F(x) = \\int_0^xf(s)ds = F(s)|^x_0=F(x)\n",
    "$$"
   ]
  },
  {
   "cell_type": "code",
   "execution_count": 57,
   "metadata": {},
   "outputs": [
    {
     "data": {
      "text/latex": [
       "$\\displaystyle \\frac{x^{2}}{2}$"
      ],
      "text/plain": [
       "x**2/2"
      ]
     },
     "execution_count": 57,
     "metadata": {},
     "output_type": "execute_result"
    }
   ],
   "source": [
    "s = symbols('s')\n",
    "integrate(s,(s,0,x))"
   ]
  },
  {
   "cell_type": "code",
   "execution_count": 103,
   "metadata": {},
   "outputs": [
    {
     "data": {
      "image/png": "[encoded data removed]",
      "text/plain": [
       "<Figure size 432x288 with 1 Axes>"
      ]
     },
     "metadata": {
      "needs_background": "light"
     },
     "output_type": "display_data"
    }
   ],
   "source": [
    "fig, ax = plt.subplots()\n",
    "sns.despine(fig)\n",
    "\n",
    "x_grid = np.linspace(0,1,100)\n",
    "x = 50\n",
    "\n",
    "ax.plot(x_grid, x_grid)\n",
    "ax.fill_between(x_grid[:x],0,x_grid[:x])\n",
    "ax.text(x/100,0,'$x$', fontsize=12)\n",
    "ax.text(0.9,0.8, '$f(s)$', fontsize=12)\n",
    "ax.annotate(text=\"Areal:$\\int_0^xf(s) = F(x)$\",xy=(0.2,0.1),xytext=(0.1,0.5),\n",
    "            arrowprops=dict(facecolor=\"black\", arrowstyle='->')) #bruk arrowstyle:'->' for enkel pil\n",
    "\n",
    "\n",
    "\n",
    "ax.set(xlabel='$s$', ylabel='$f(s)$')\n",
    "fig.savefig('integral.pdf')"
   ]
  },
  {
   "cell_type": "code",
   "execution_count": 105,
   "metadata": {},
   "outputs": [],
   "source": [
    "x, y = symbols('x y')"
   ]
  },
  {
   "cell_type": "markdown",
   "metadata": {},
   "source": [
    "Tilsvarer $\\int_0^x\\int_0^{f(s)}dydx=F(x)$"
   ]
  },
  {
   "cell_type": "markdown",
   "metadata": {},
   "source": [
    "Generelt er $\\int_a^xf(s)ds = F(x)-F(a)$"
   ]
  },
  {
   "cell_type": "code",
   "execution_count": null,
   "metadata": {},
   "outputs": [],
   "source": []
  }
 ],
 "metadata": {
  "kernelspec": {
   "display_name": "Python 3",
   "language": "python",
   "name": "python3"
  },
  "language_info": {
   "codemirror_mode": {
    "name": "ipython",
    "version": 3
   },
   "file_extension": ".py",
   "mimetype": "text/x-python",
   "name": "python",
   "nbconvert_exporter": "python",
   "pygments_lexer": "ipython3",
   "version": "3.7.9"
  },
  "toc": {
   "base_numbering": 1,
   "nav_menu": {},
   "number_sections": true,
   "sideBar": true,
   "skip_h1_title": false,
   "title_cell": "Table of Contents",
   "title_sidebar": "Contents",
   "toc_cell": false,
   "toc_position": {},
   "toc_section_display": true,
   "toc_window_display": false
  }
 },
 "nbformat": 4,
 "nbformat_minor": 4
}
