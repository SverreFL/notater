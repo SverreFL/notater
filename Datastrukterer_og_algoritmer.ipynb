{
 "cells": [
  {
   "cell_type": "markdown",
   "metadata": {},
   "source": [
    "## Datastrukturer"
   ]
  },
  {
   "cell_type": "markdown",
   "metadata": {},
   "source": [
    "Abstrakte datastrukturer er kolleksjoner som er definert av mengde verdier og mengde av tillate operasjoner. "
   ]
  },
  {
   "cell_type": "markdown",
   "metadata": {},
   "source": [
    "### Ordnede kolleksjoner i minnet"
   ]
  },
  {
   "cell_type": "markdown",
   "metadata": {},
   "source": [
    "Ordnede kolleksjoner har indeks som angir rekkefølge. Skal se at vi har to måter å organisere ordnet kolleksjon av objekter internt i minnet; linked-list og array. \n",
    "\n",
    "Førstnevnte er rask å modifisere siden det kun er bindinger mellom naboer. Sistnevnte må ha en spesifisert allokering i minnet for hele kolleksjonen. Det gir rask look-up siden vi har adresse til hver indeks, men er tregere å legge til eller fjerne objekter.\n",
    "\n",
    "Litt usikker på hvordan jeg kan knytte dette til list/np.array og sånn i python."
   ]
  },
  {
   "cell_type": "markdown",
   "metadata": {},
   "source": [
    "#### Linked list"
   ]
  },
  {
   "cell_type": "markdown",
   "metadata": {},
   "source": [
    "Hvert element adressen til neste elemenet i listen, slik at det kun er mulig med sekvensiell lookup. Kan lage slags implementasjon"
   ]
  },
  {
   "cell_type": "markdown",
   "metadata": {},
   "source": [
    "```Python\n",
    "class Node():\n",
    "    def __init__(self, data=None):\n",
    "        self.data = data\n",
    "        self.next = None    \n",
    "class LinkedList():\n",
    "    ''' \n",
    "    Tilstrekkelig å spesifisere head node for å spasere over linked list\n",
    "    '''\n",
    "    def __init__(self):\n",
    "        self.head = None\n",
    "    def get_node(self, idx):\n",
    "        node = self.head\n",
    "        for i in range(idx):\n",
    "            node = node.next\n",
    "        return node\n",
    "    def add(self, new_node, idx):\n",
    "        '''\n",
    "        Linke node på index foran til ny node. Deretter flytter gammel kobling over på ny node. \n",
    "        '''\n",
    "        pre_node = self.get_node(idx-1)\n",
    "        post_node = pre_node.next\n",
    "        \n",
    "        pre_node.next = new_node\n",
    "        new_node.next = post_node\n",
    "    def print_content(self):\n",
    "        node = linkedlist.head\n",
    "        print(node.data)\n",
    "        while True:\n",
    "            node = node.next\n",
    "            if node == None:\n",
    "                break\n",
    "            else:\n",
    "                print(node.data)\n",
    "```                "
   ]
  },
  {
   "cell_type": "markdown",
   "metadata": {},
   "source": [
    "Eksempel på implementering:"
   ]
  },
  {
   "cell_type": "markdown",
   "metadata": {},
   "source": [
    "```python\n",
    "node1 = Node('Monday')\n",
    "node2 = Node('Tuesday')\n",
    "node3 = Node('Wednesday')\n",
    "node4 = Node('Thursday')\n",
    "\n",
    "linkedlist = LinkedList()\n",
    "linkedlist.head = node1\n",
    "node1.next = node2\n",
    "node2.next = node4\n",
    "\n",
    "linkedlist.add(node3, 2)\n",
    "linkedlist.print_content()\n",
    "```"
   ]
  },
  {
   "cell_type": "markdown",
   "metadata": {},
   "source": [
    "#### Array"
   ]
  },
  {
   "cell_type": "markdown",
   "metadata": {},
   "source": [
    "Arrays er allokert i minnet slik at elementene ligger ved siden av hverandre. Dette gjør det enkelt å finne element i minnet når vi vet index. Nedsiden er at vi må vite hvor mange elementer vi trenger på forhånd for å allokere plassen, og det er også vanskelige å endrer array siden ved å fjerne et element må vi flytte alle de andre. Det er derfor ikke mutable og vi må lage nye objekt når vi endrer innhold."
   ]
  },
  {
   "cell_type": "markdown",
   "metadata": {},
   "source": [
    "```python\n",
    "from array import ArrayType\n",
    "arr = ArrayType('f', range(10000))\n",
    "```"
   ]
  },
  {
   "cell_type": "markdown",
   "metadata": {},
   "source": [
    "### Lineære datastrukturer"
   ]
  },
  {
   "cell_type": "markdown",
   "metadata": {},
   "source": [
    "Linked-list og array har ulik representasjon i minnet og derfor litt ulike egenskaper, men vi kan utføre samme operasjoner på de og behandle de likt. Vi kan legge til, få tak i og fjerne objekter fra hvor som helst i den ordnede kolleksjonen.\n",
    "\n",
    "Vi skal nå se på såkalte lineære datastrukturer det vi kun kan legge til og fjerne objekter som er på begynnelsen eller slutten av den ordnede kolleksjonen."
   ]
  },
  {
   "cell_type": "markdown",
   "metadata": {},
   "source": [
    "#### Queue"
   ]
  },
  {
   "cell_type": "markdown",
   "metadata": {},
   "source": [
    "Kan kun få ut på begynnelse og kun legge til på slutten. Den har derfor egenskapen FIFO: first in, first out. Kan bruke liste til å implementere datastrukturen."
   ]
  },
  {
   "cell_type": "markdown",
   "metadata": {},
   "source": [
    "```python\n",
    "class Queue():\n",
    "    '''\n",
    "    Må bestemme hva som er foran og bak. Intuitivt av høyere index er lengre bak i køen.\n",
    "    '''\n",
    "    def __init__(self):\n",
    "        self.items = []    \n",
    "    def enqueue(self, item):\n",
    "        self.items.append(item)\n",
    "    def dequeue(self):\n",
    "        return self.items.pop(0)\n",
    "    def is_empty(self):\n",
    "        return self.items == [] \n",
    "```"
   ]
  },
  {
   "cell_type": "markdown",
   "metadata": {},
   "source": [
    "Eksempel:\n",
    "```python\n",
    "queue = Queue()\n",
    "items = ['Sverre', 'Ingeborg', 'Sofie']\n",
    "for item in items:\n",
    "    queue.enqueue(item)\n",
    "def hot_potato(queue, n):\n",
    "    for i in range(n):\n",
    "        front = queue.dequeue()\n",
    "        has_potato = front\n",
    "        queue.enqueue(front)\n",
    "    print(f'{has_potato} endte opp med den varme poteten!')\n",
    "hot_potato(queue, 10)\n",
    "```"
   ]
  },
  {
   "cell_type": "markdown",
   "metadata": {},
   "source": [
    "#### Stack"
   ]
  },
  {
   "cell_type": "markdown",
   "metadata": {},
   "source": [
    "Kan tenke at vi legger objektene lagvis, slik at vi kun kan legge til og få ut på toppen. Det har derfor egenskapen LIFO: last in, first out."
   ]
  },
  {
   "cell_type": "markdown",
   "metadata": {},
   "source": [
    "```python\n",
    "class Stack():\n",
    "    '''\n",
    "    Må bestemme hva som er nede og oppe. Intuitivt av høyere index er høyere opp i stacken.\n",
    "    '''\n",
    "    def __init__(self):\n",
    "        self.items = []\n",
    "    \n",
    "    def push(self, item):\n",
    "        self.items.append(item)\n",
    "    \n",
    "    def pull(self):\n",
    "        return self.items.pop()\n",
    "    \n",
    "    def is_empty(self):\n",
    "        return self.items == [] \n",
    "```   "
   ]
  },
  {
   "cell_type": "markdown",
   "metadata": {},
   "source": [
    "Eksempel hvor å sjekke om balanserte parenteser\n",
    "```python\n",
    "expr = '(1+(2-3*(4+(5*6)))))'\n",
    "def is_balanced(expr):\n",
    "    '''\n",
    "    Bygger opp en stack som tømmes. Må alltid være noe på lager når vi trekker ut.\n",
    "    '''\n",
    "    expr = \"\".join([x for x in expr if x in ['(',')']])\n",
    "    s = Stack()    \n",
    "    index = 0\n",
    "    is_balanced = True\n",
    "    while index < len(expr) and is_balanced:\n",
    "        ch = expr[index]\n",
    "        if ch == '(':\n",
    "            s.push('ch')\n",
    "        else:\n",
    "            if s.is_empty():\n",
    "                is_balanced = False\n",
    "            else:\n",
    "                s.pull()\n",
    "        index += 1\n",
    "    return is_balanced and s.is_empty()\n",
    "```"
   ]
  },
  {
   "cell_type": "markdown",
   "metadata": {},
   "source": [
    "#### Deque"
   ]
  },
  {
   "cell_type": "markdown",
   "metadata": {},
   "source": [
    "Kan legge til og poppe ut både foran og bak."
   ]
  },
  {
   "cell_type": "markdown",
   "metadata": {},
   "source": [
    "### hash tables"
   ]
  },
  {
   "cell_type": "markdown",
   "metadata": {},
   "source": [
    "Vil utnytte instant lookup i arrays uten å måtte huske index til elementene jeg vil finne. Løsning: hash funksjon som mapper string til index i array. I high level gir dette meg en dictionary med key:value mamppings.\n",
    "\n",
    "La $f$ være hash function\n",
    "\n",
    "```python\n",
    "def get_item(arr, input_str):\n",
    "    idx = f(input_str)\n",
    "    return arr[idx]\n",
    "# eller bare:\n",
    "arr[f(input_str)]\n",
    "```"
   ]
  },
  {
   "cell_type": "markdown",
   "metadata": {},
   "source": [
    "### Grafer"
   ]
  },
  {
   "cell_type": "markdown",
   "metadata": {},
   "source": [
    "- Node har navn (`key`) og muligens annen informasjon (`payload`)\n",
    "- Kant er kobling mellom noder\n",
    "- Sti er ordnet kolleksjon av noder som er koblet med kanter\n"
   ]
  },
  {
   "cell_type": "markdown",
   "metadata": {},
   "source": [
    "Kan implementere graf på ulike måter. En mulighet er å bruke dict av dict, der hver node er dict med navn som mapper til liste med navn på naboer."
   ]
  },
  {
   "cell_type": "markdown",
   "metadata": {},
   "source": [
    "```python\n",
    "graph = {'Sverre':['Claire', 'Bob', 'Alice'],'Bob':['Anuj','Peggy']}\n",
    "Alice = {'Alice':['Peggy']}\n",
    "Claire = {'Claire':['Jonny', 'Thom']}\n",
    "Anuj = {'Anuj':[]}\n",
    "Thom = {'Thom':[]}\n",
    "Jonny = {'Jonny':[]}\n",
    "Peggy = {'Peggy':[]}\n",
    "other = [Alice,Claire,Anuj,Thom,Jonny,Peggy]\n",
    "\n",
    "for x in other:\n",
    "    print(x)\n",
    "    graph.update(x)\n",
    "graph\n",
    "```"
   ]
  },
  {
   "cell_type": "markdown",
   "metadata": {},
   "source": [
    "#### Graphviz"
   ]
  },
  {
   "cell_type": "markdown",
   "metadata": {},
   "source": [
    "Pakke for å visualisere grafer. Vil i utgangspunktet bruke det til å visualisere beslutningstrær men tror det kan ha andre anvendelser.\n",
    "\n",
    "Tror det er litt mer generell software enn bare python pakke. Litt slitsomt at jeg må jobbe eksplisitt med filer lagret i systemet i stedet for objekter i python.\n",
    "\n",
    "Tror det har out-fil i dot-format, som jeg konverterer til bilde format..\n",
    "\n",
    "bruker først export_graphviz fra sklearn.tree til å lage graf i .dot format med utgangspunkt i mitt fittede beslutningstre. Deretter kan jeg spesifisere grafiske renderinger på denne filen for å få det i bilde-format, enten fra command line eller inni python"
   ]
  },
  {
   "cell_type": "markdown",
   "metadata": {},
   "source": [
    "```python\n",
    "from graphviz import Source\n",
    "from sklearn.tree import export_graphviz\n",
    "export_graphviz(\n",
    "                tree_clf,\n",
    "                out_file='fig.dot',\n",
    "                feature_names= ..,\n",
    "                class_names= ..,\n",
    "                rounded=True,\n",
    "                filled=True\n",
    "                )\n",
    "Source.from_file('fig.dot') # Får Source objekt som kan visulaiseres i notebook. Kan også lagre til fil som .png osv..\n",
    "```"
   ]
  },
  {
   "cell_type": "markdown",
   "metadata": {},
   "source": [
    "```python\n",
    "d = Digraph() # directed graph\n",
    "d.node('a')\n",
    "d.node('b')\n",
    "d.node('c')\n",
    "d.node('d')\n",
    "d.node('e')\n",
    "\n",
    "d.edges(['ab', 'ac', 'cd', 'ce']) # tar iterable av tail,head\n",
    "d\n",
    "```"
   ]
  },
  {
   "cell_type": "markdown",
   "metadata": {},
   "source": [
    "### Trær"
   ]
  },
  {
   "cell_type": "markdown",
   "metadata": {},
   "source": [
    "Graf med spesielle egenskaper. Dukker opp i mange sammenhenger... organisere informasjon i hierarki, mer generell til mer spesifikk. Lagring av filer på disk, systematisering av ulike levende ting, beslutningstrær. Avgrensing i hvert steg.\n",
    "\n",
    "Har retning slik at kanter er enten innkommende eller utgående"
   ]
  },
  {
   "cell_type": "markdown",
   "metadata": {},
   "source": [
    "Litt terminologi og sånt:\n",
    "- Rot er node uten innkommende kanter\n",
    "- Barn til node er mengden av noder den har en utgående kant til\n",
    "- Forelder til node er den noden den har innkommende kant fra (merk at kun én innkommende kant til hver node i tre som ikke er rot)\n",
    "- Søsken er mengde av node som har samme forelder\n",
    "- Undertre består av en forelder og mengden av dens etterkommere. Merk at hele treet oppfyller definisjon av undertre.\n",
    "- Blad er node som ikke har barn\n",
    "- Nivå til node er antallet kanter fra rot til den noden\n",
    "- Høyden til treet er det største nivået til en node i treet"
   ]
  },
  {
   "cell_type": "markdown",
   "metadata": {},
   "source": [
    "#### Binært tre"
   ]
  },
  {
   "cell_type": "markdown",
   "metadata": {},
   "source": [
    "Kan implementere med liste av lister. Hver node som ikke er blad er representert med liste med tre element. Først element er navn på node. Andre element er list med tre element som representer undertre assosiert med node til venstre. Tredje element er tilsvarende for node til høyre.\n",
    "\n",
    "Trenger ikke definere `BinaryTree` class; tilstrekkelig å anvende funksjoner på liste av liste."
   ]
  },
  {
   "cell_type": "markdown",
   "metadata": {},
   "source": [
    "```python\n",
    "tree = ['root',\n",
    "        ['a', \n",
    "         ['b',[], []],\n",
    "         []],\n",
    "        ['c',\n",
    "         ['d',[],[]],\n",
    "         ['e',[],[]]\n",
    "        ]    \n",
    "```"
   ]
  },
  {
   "cell_type": "markdown",
   "metadata": {},
   "source": [
    "```python\n",
    "def binary_tree(root):\n",
    "    return [root, [], []]\n",
    "\n",
    "def insert_left(root, new_branch):\n",
    "    ''' insert subtree in second element in root list. Må pushe ting ned hvis det er der allerede'''\n",
    "    t = root.pop(1)\n",
    "    if len(t) > 1:\n",
    "        root.insert(1, [new_branch, t, []])\n",
    "    else:\n",
    "        root.insert(1, [new_branch, [], []])\n",
    "        \n",
    "def insert_left(root, new_branch):\n",
    "    ''' insert subtree in third element in root list. Må pushe ting ned hvis det er der allerede'''\n",
    "    t = root.pop(2)\n",
    "    if len(t) > 1:\n",
    "        root.insert(2, [new_branch, [], t])\n",
    "    else:\n",
    "        root.insert(2, [new_branch, [], []])\n",
    "```        "
   ]
  },
  {
   "cell_type": "markdown",
   "metadata": {},
   "source": [
    "Eller kan implementere med nodes. Hver node er representert som instance av BinaryTree. Har referanse til barna. Kan f.eks. bruke Stack til å ha oversikt over foreldre nå vi spaserer nedover treet."
   ]
  },
  {
   "cell_type": "markdown",
   "metadata": {},
   "source": [
    "```python\n",
    "class BinaryTree:\n",
    "    def __init__(self, root):\n",
    "        self.key = root\n",
    "        self.left = None\n",
    "        self.right = None\n",
    "        \n",
    "    # add stuff\n",
    "    def insert_left(self, node):\n",
    "        if not self.left:\n",
    "            self.left = BinaryTree(node)\n",
    "        else:\n",
    "            temp = BinaryTree(node)\n",
    "            temp.left = self.left\n",
    "            self.left = temp\n",
    "            \n",
    "    def insert_right(self, node):\n",
    "        if not self.right:\n",
    "            self.right = BinaryTree(node)\n",
    "        else:\n",
    "            temp = BinaryTree(node)\n",
    "            temp.right = self.right\n",
    "            self.right = temp\n",
    "    \n",
    "    # inspect tree... kanke alltid få ut representasjon av hele objektet, men alltids greit å kunne inspect noen egenskaper.\n",
    "    def get_root(self): # merk at vi alltid er i rot av et eller annet subtree\n",
    "        return self.key\n",
    "    \n",
    "    def set_root(self, obj):\n",
    "        self.key = obj\n",
    "```        "
   ]
  },
  {
   "cell_type": "markdown",
   "metadata": {},
   "source": [
    "Vil legge til noe helt til venstre i treet.. på slutten, altså ikke koblet direkte til rotnode i main tree. Må ha tak i node som akkurat nå er lengst til venstre og deretter legge på der."
   ]
  },
  {
   "cell_type": "markdown",
   "metadata": {},
   "source": [
    "Har annen implementajon der vi har egen high-level class som representer overordnet struktur i treet. Kan håndtere tomt tre. Alt arbeidet skjer i node som er representasjon av rot i subtree. Representere trær gjennom rotnoder."
   ]
  },
  {
   "cell_type": "markdown",
   "metadata": {},
   "source": [
    "```python\n",
    "class BinarySearchTree:\n",
    "    def __init__(self):\n",
    "        self.root = None\n",
    "\n",
    "    def put(self, key, val=None):\n",
    "        if self.root:\n",
    "            self.root.put(key, val) # vil at den skal bruke metode fra Node class... som er assosiert med rot.\n",
    "        else:\n",
    "            self.root = Node(key, val)\n",
    "\n",
    "    def __setitem__(self, key, val=None):\n",
    "        self.put(key, val)\n",
    "```"
   ]
  },
  {
   "cell_type": "markdown",
   "metadata": {},
   "source": [
    "```python\n",
    "class Node:\n",
    "    def __init__(self, key, val=None, parent=None,\n",
    "                 left=None, right=None):\n",
    "        self.key = key\n",
    "        self.payload = val\n",
    "        self.left = left\n",
    "        self.right = right\n",
    "        self.parent = parent\n",
    "\n",
    "    def put(self, key, val=None):\n",
    "        if key < self.key:\n",
    "            if self.left:\n",
    "                self.left.put(key, val)\n",
    "            else:\n",
    "                 self.left = Node(key, val, self)\n",
    "        else:\n",
    "            if self.right:\n",
    "                self.right.put(key, val)\n",
    "            else: self.right = Node(key, val, self)\n",
    "    def __setitem__(self, key, val=None):\n",
    "        self.put(key, val)\n",
    "```"
   ]
  },
  {
   "cell_type": "markdown",
   "metadata": {},
   "source": [
    "## Algoritmer"
   ]
  },
  {
   "cell_type": "markdown",
   "metadata": {},
   "source": [
    "Systematiske fremgangsmåter for å oppnå mål. Kan beskrives generelt og abstrahere for eksakt implementasjon i gitt språk. Vil analysere grovt sett hvor mange operasjoner det krever. Dette vil avhenge av størrelse på input og tilfeldigheter. \tVi gir en øvre begrensing; antall operasjon for worst case med input lengde (n).. en funksjon som avhenger av n. Kaller det for big O.\n",
    "\n",
    "Eksempel: søke etter element i sortert liste. Gå gjennom hvert element: O(n), lineær tid. Bineær søk; partisjonere mengden i to like store deler. Hvor mange ganger kan vi dele n på 2 før vi får 1? $$\\frac{n}{2^x}\\implies n=2^x \\implies x = log(n)$$\n",
    "altså er O(n)=log(n). "
   ]
  },
  {
   "cell_type": "markdown",
   "metadata": {},
   "source": [
    "### Sorteringsalgoritmer"
   ]
  },
  {
   "cell_type": "markdown",
   "metadata": {},
   "source": [
    "Sortere elementer i kolleksjon etter kriterie"
   ]
  },
  {
   "cell_type": "markdown",
   "metadata": {},
   "source": [
    "#### Selection sort"
   ]
  },
  {
   "cell_type": "markdown",
   "metadata": {},
   "source": [
    "Det enkleste er seleksjonsortering. Vi looper gjennom, finner element med laveste verdi og plasserer først i ny array. Deretter gjør vi tilsvarende med de n-1 resterende til det bare er ett element igjen. Antall operasjoner blir da $n\\cdot(n-1)\\cdot\\dots\\cdot 1 = n\\cdot0.5\\cdot n$ (hvorfor 0.5..?). Big O tar ikke hensyn til slik konstanter siden det bare ser på leddet som dominerer når n blir høy, så dette gir O(n^2)."
   ]
  },
  {
   "cell_type": "markdown",
   "metadata": {},
   "source": [
    "```python\n",
    "sorted_array = []\n",
    "while array:\n",
    "    min_value = array[0]\n",
    "    for i in range(len(array)):\n",
    "        if array[i] < min_value:\n",
    "            min_value = array[i]\n",
    "            idx = i\n",
    "    sorted_array.append(array.pop(idx))\n",
    "sorted_array\n",
    "```"
   ]
  },
  {
   "cell_type": "markdown",
   "metadata": {},
   "source": [
    "#### Insertion sort"
   ]
  },
  {
   "cell_type": "markdown",
   "metadata": {},
   "source": [
    "Har sub-array med elementene med index før. Går baklengs gjennom denne subarray og flytter element mot høyre dersom de har høyere verdi slik at jeg gjør plass til det nye  elementet som skal dyttes inn. Når dette kriterie ikek oppfylt eller jeg kommer til begynnelse av sub-array så putter jeg inn element til høyre for den som ikke opfyller kriterie.\n",
    "\n",
    "Med andre ord, for hver key går vi fremover i array og pusher elementer bakover helt til vi enten kommer til begynnelsen eller finner verdi som er lavere enn key. Da putter vi den inn på den indexen. Lengden på den 'sorterte arrayen' (som bare er del av array vi looper over) vokser med én for hve iterasjon.."
   ]
  },
  {
   "cell_type": "markdown",
   "metadata": {},
   "source": [
    "```python\n",
    "for i in range(1, len(array)):\n",
    "    key = array[i]\n",
    "    j = i-1\n",
    "    \n",
    "    while j >= 0 and key < array[j]:\n",
    "        array[j+1] = array[j]\n",
    "        j -= 1\n",
    "    array[j+1] = key\n",
    "```    "
   ]
  },
  {
   "cell_type": "markdown",
   "metadata": {},
   "source": [
    "#### Bubble sort"
   ]
  },
  {
   "cell_type": "markdown",
   "metadata": {},
   "source": [
    "Kjører n passes. For hvert element i en pass så sammenligner vi med nabo og pytter plassering dersom større enn verdi til høyre"
   ]
  },
  {
   "cell_type": "markdown",
   "metadata": {},
   "source": [
    "To implementeringer:"
   ]
  },
  {
   "cell_type": "markdown",
   "metadata": {},
   "source": [
    "```python\n",
    "for pass_num in range(len(array)):\n",
    "    for i in range(len(array)-1):\n",
    "        sub_array = array[i:i+2]\n",
    "\n",
    "        if array[i] > array[i+1]:\n",
    "            array[i:i+2] = sub_array[::-1]\n",
    "```    "
   ]
  },
  {
   "cell_type": "markdown",
   "metadata": {},
   "source": [
    "```python\n",
    "for pass_num in range(num_passes):\n",
    "        for i in range(len(array)-1):\n",
    "            if array[i+1] < array[i]:\n",
    "                temp_val = array[i]\n",
    "                array[i] = array[i+1]\n",
    "                array[i+1] = temp_val\n",
    "```"
   ]
  },
  {
   "cell_type": "markdown",
   "metadata": {},
   "source": [
    "#### Quicksort"
   ]
  },
  {
   "cell_type": "markdown",
   "metadata": {},
   "source": [
    "\n",
    "```python\n",
    "n = 20\n",
    "numbers = list(np.random.randint(0,10,n))\n",
    "sorted_numbers = []\n",
    "while numbers:\n",
    "    smallest_num = 1e5\n",
    "    for i, num in enumerate(numbers):\n",
    "        if num <= smallest_num:\n",
    "            smallest_num = num\n",
    "            idx = i\n",
    "    numbers.pop(idx)\n",
    "    sorted_numbers.append(smallest_num)\n",
    "sorted_numbers\n",
    "```"
   ]
  },
  {
   "cell_type": "markdown",
   "metadata": {},
   "source": [
    "hmmm"
   ]
  },
  {
   "cell_type": "markdown",
   "metadata": {},
   "source": [
    "#### Merge sort"
   ]
  },
  {
   "cell_type": "markdown",
   "metadata": {},
   "source": [
    "Eksisterer også merge sort som bruker divide and conquer til å rekursivt sortere array... har base case med 2 elementer, deler opp i subarrays ut fra pivot... tror dette er beste algoritme, men ble litt for komplisert :((("
   ]
  },
  {
   "cell_type": "markdown",
   "metadata": {},
   "source": [
    "### Søkealgoritmer"
   ]
  },
  {
   "cell_type": "markdown",
   "metadata": {},
   "source": [
    "Jeg vil finne et element i en liste som oppfyller et gitt kriterium. Brute-force er å sjekke alle element som er O(n). Dersom det er mulig å sortere elementene slik at jeg for et gitt element kan si om det er for \"høyt\" eller \"lavt\" kan jeg bruke binary search som er O(logn)"
   ]
  },
  {
   "cell_type": "markdown",
   "metadata": {},
   "source": [
    "#### Simple search"
   ]
  },
  {
   "cell_type": "markdown",
   "metadata": {},
   "source": [
    "```python\n",
    "def simple_search(array,target):\n",
    "    if not array:\n",
    "        return None\n",
    "    i = 0\n",
    "    while i <= len(array):\n",
    "        if target == array[i]:\n",
    "            return i\n",
    "        i +=1\n",
    "```"
   ]
  },
  {
   "cell_type": "markdown",
   "metadata": {},
   "source": [
    "Det er enklere å søke over et lite område enn et stort. Binary search går ut på å paritsjonere listen i like stor deler og dermed avgrense til et gradvis mindre område. For å implementere må jeg huske hva som er topp og bunn i mengden jeg ser på, finne midtpunkt, finne hvilken side av midtpunkt den ligger, oppdater topp og bunn."
   ]
  },
  {
   "cell_type": "markdown",
   "metadata": {},
   "source": [
    "#### Binary search"
   ]
  },
  {
   "cell_type": "markdown",
   "metadata": {},
   "source": [
    "```python\n",
    "def binary_search(array, target):\n",
    "    '''Returner True hvis target er i array, ellers False'''\n",
    "    if not array:\n",
    "        return None\n",
    "    low, high = 0, len(array) -1\n",
    "    while low <= high:\n",
    "        mid = (high+low)//2\n",
    "        if array[mid] == target:\n",
    "            return True\n",
    "        elif target > array[mid]:\n",
    "            low = mid + 1\n",
    "        else:\n",
    "            high = mid -1 \n",
    "    return False\n",
    "```      "
   ]
  },
  {
   "cell_type": "markdown",
   "metadata": {},
   "source": [
    "Kan også ta en rekursiv implementasjon. Calle funksjon eksplisitt på subarray som identifiserert av enten [:mid] eller [mid:].\n",
    "\n",
    "Basecase: enten tom array eller array med innhold..."
   ]
  },
  {
   "cell_type": "markdown",
   "metadata": {},
   "source": [
    "```python\n",
    "def binary_search(array, target):\n",
    "    if not array:\n",
    "        return False\n",
    "    else:\n",
    "        mid = (len(array)) // 2\n",
    "        if array[mid] == target:\n",
    "            return True\n",
    "        elif target > array[mid]:\n",
    "            return binary_search(array[mid+1:], target) # vil ikkje ta med midtpunktet ikke sant\n",
    "        else:\n",
    "            return binary_search(array[:mid], target)\n",
    "```"
   ]
  },
  {
   "cell_type": "markdown",
   "metadata": {},
   "source": [
    "### Graf-algoritmer"
   ]
  },
  {
   "cell_type": "markdown",
   "metadata": {},
   "source": [
    "Grafer er en nyttig datastruktur som kan representere hierarkisk sammenheng mellom objekter (ikke bare binært om det eksister en kobling eller ikke som i relasjoner). De består av noder og kanter."
   ]
  },
  {
   "cell_type": "markdown",
   "metadata": {},
   "source": [
    "To sentrale spørsmål:\n",
    "1. Eksisterer det en kobling mellom node og annen node som oppfyller et gitt kriterium?\n",
    "2. I så fall, hva er \"korteste\" sti?\n",
    "\n",
    "Hva som utgjør lengden på stien avhenger om grafen er vektet eller ikke. I uvektet graf vil det tilsvare antall kanter vi må bevege oss over. Ellers blir det summen av vektene assosiert med kantene."
   ]
  },
  {
   "cell_type": "markdown",
   "metadata": {},
   "source": [
    "#### Breadth first"
   ]
  },
  {
   "cell_type": "markdown",
   "metadata": {},
   "source": [
    "For å finne denne nærmeste noden som oppfyller et kriterie kan jeg bruke breadth first search. Dette bruker queue som er en enkel datastruktur med to gyldlige operasjoner: ta ut objekt fra begynnelsen av queue og legge til objekt på slutten av queue. First In First Out (FIFO) i motsetning til stack som er LIFO. Legger alle nabonodes i queue. For hvert objekt: hvis ikke oppfyller kritere: legg nabonodes til denne noden på slutten av queue og videre til neste objekt. Må huske å registrere alle nodes jeg sjekker slik at jeg ikke dobbeltsjekker og muligens går inn i uendelig loop.\n"
   ]
  },
  {
   "cell_type": "markdown",
   "metadata": {},
   "source": [
    "Vil finne om det er en connection mellom meg og Peggy. Bruker breadth-first search på graf som ble implementert over."
   ]
  },
  {
   "cell_type": "markdown",
   "metadata": {},
   "source": [
    "```python\n",
    "queue = graph['Sverre']\n",
    "been_checked = []\n",
    "while queue:\n",
    "    name = queue.pop(0)\n",
    "    neighbour_nodes = graph[name]\n",
    "    if name in been_checked:\n",
    "        continue\n",
    "    if name == 'Peggy':\n",
    "        print('Fant Peggy!')\n",
    "        break\n",
    "    else:\n",
    "        queue += neighbour_nodes\n",
    "        been_checked.append(name)\n",
    "```"
   ]
  },
  {
   "cell_type": "markdown",
   "metadata": {},
   "source": [
    "### Rekursjon"
   ]
  },
  {
   "cell_type": "markdown",
   "metadata": {},
   "source": [
    "Rekursive algoritmer har en base-case som vi kan løse, og vi beveger oss mot base-case gjennom å rekursivt calle funksjonen. Det er et prinsipp som brukes i mange algoritmer. Illustrerer med boks av bokser.. representere boks med liste. Vil finne nøkkel."
   ]
  },
  {
   "cell_type": "code",
   "execution_count": 36,
   "metadata": {},
   "outputs": [],
   "source": [
    "main_box = [[[]], ['key',[]]]"
   ]
  },
  {
   "cell_type": "markdown",
   "metadata": {},
   "source": [
    "En mulig løsning er å loope over listene i øverste nivå. Hvis listen er tom så går vi videre. Hvis den inneholder en listen så legger vi denne listen til på slutten, slik at vi søker over innhold senere. Hvis vi finner nøkkel er vi ferdig."
   ]
  },
  {
   "cell_type": "code",
   "execution_count": 37,
   "metadata": {},
   "outputs": [
    {
     "name": "stdout",
     "output_type": "stream",
     "text": [
      "[[[]], ['key', []]]\n",
      "[['key', []], []]\n",
      "[[], 'key', []]\n",
      "['key', []]\n",
      "fant den!\n"
     ]
    }
   ],
   "source": [
    "pile = main_box.copy()\n",
    "while pile:\n",
    "    print(pile)\n",
    "    box = pile.pop(0)\n",
    "    if isinstance(box,list):\n",
    "        pile.extend(box)\n",
    "    elif box == 'key':\n",
    "        print('fant den!')\n",
    "        break"
   ]
  },
  {
   "cell_type": "markdown",
   "metadata": {},
   "source": [
    "En rekursiv løsning er å grave oss gjennom hver boks inntil vi finner base-case der boks enten er tom eller inneholder nøkkel."
   ]
  },
  {
   "cell_type": "code",
   "execution_count": 38,
   "metadata": {},
   "outputs": [],
   "source": [
    "def search_box(box):\n",
    "    print(box)\n",
    "    for item in box:\n",
    "        if isinstance(item, list):\n",
    "            search_box(item)\n",
    "        elif item == 'key':\n",
    "            print('fant den!')\n",
    "            break"
   ]
  },
  {
   "cell_type": "code",
   "execution_count": 39,
   "metadata": {},
   "outputs": [
    {
     "name": "stdout",
     "output_type": "stream",
     "text": [
      "[[[]], ['key', []]]\n",
      "[[]]\n",
      "[]\n",
      "['key', []]\n",
      "fant den!\n"
     ]
    }
   ],
   "source": [
    "search_box(main_box)"
   ]
  }
 ],
 "metadata": {
  "kernelspec": {
   "display_name": "Python 3",
   "language": "python",
   "name": "python3"
  },
  "language_info": {
   "codemirror_mode": {
    "name": "ipython",
    "version": 3
   },
   "file_extension": ".py",
   "mimetype": "text/x-python",
   "name": "python",
   "nbconvert_exporter": "python",
   "pygments_lexer": "ipython3",
   "version": "3.7.9"
  },
  "latex_envs": {
   "LaTeX_envs_menu_present": true,
   "autoclose": true,
   "autocomplete": true,
   "bibliofile": "biblio.bib",
   "cite_by": "apalike",
   "current_citInitial": 1,
   "eqLabelWithNumbers": true,
   "eqNumInitial": 1,
   "hotkeys": {
    "equation": "Ctrl-E",
    "itemize": "Ctrl-I"
   },
   "labels_anchors": false,
   "latex_user_defs": false,
   "report_style_numbering": false,
   "user_envs_cfg": false
  },
  "toc": {
   "base_numbering": 1,
   "nav_menu": {},
   "number_sections": true,
   "sideBar": true,
   "skip_h1_title": false,
   "title_cell": "Table of Contents",
   "title_sidebar": "Contents",
   "toc_cell": false,
   "toc_position": {
    "height": "calc(100% - 180px)",
    "left": "10px",
    "top": "150px",
    "width": "279.273px"
   },
   "toc_section_display": true,
   "toc_window_display": true
  }
 },
 "nbformat": 4,
 "nbformat_minor": 4
}
