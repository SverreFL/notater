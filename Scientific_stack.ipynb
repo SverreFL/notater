{
 "cells": [
  {
   "cell_type": "markdown",
   "metadata": {},
   "source": [
    "## Numpy"
   ]
  },
  {
   "cell_type": "markdown",
   "metadata": {},
   "source": [
    "### ndarrays"
   ]
  },
  {
   "cell_type": "markdown",
   "metadata": {},
   "source": [
    "Numerical python har byggeklossene som andre libraries for scientific computing i python benytter.\n",
    "\n",
    "ndarrays er det grunnleggende objektet. Det er n-dimensjonal array med homogen data. Har således to sentrale egenskaper\n",
    "1. dtype \n",
    "2.shape\n",
    "\n",
    "Disse arrayene fasilitierer vektorisert kode (elementvis operasjon uten explisitt loop) som er mye raskere enn base-python. Det er også enkelt å konverte de til datastrukturer i \"low-level\" språk som C/Fortran, slik at numpy kan fungere som wrapper (high level api) for kode som blir kjørt i andre språk."
   ]
  },
  {
   "cell_type": "markdown",
   "metadata": {},
   "source": [
    "#### datatype"
   ]
  },
  {
   "cell_type": "markdown",
   "metadata": {},
   "source": [
    "1. Ulike representasjon av tall (float, int, antall bytes), string_, bool_, datetime,..\n",
    "2. Forsøker å gjette datatype hvis ikke spesifisert. Konverterer til felles dersom ikke homogen. Én string kan ødelegge hel numerisk array.\n",
    "3. Kan forsøke å konverte datatype med .astype(...)\n"
   ]
  },
  {
   "cell_type": "markdown",
   "metadata": {},
   "source": [
    "#### Shape:"
   ]
  },
  {
   "cell_type": "markdown",
   "metadata": {},
   "source": [
    "1. Antall dimensjoner med .ndim, antall elementer langs hver dimensjon med .shape\n",
    "2. Kan forsøke å omforme med .reshape(n,m) der array har n*m elementer\n",
    "3. Merk at én-dimensjonal array enten kan tolkes som rekke- eller kolonnevektor. Sklearn er picky på at vi spesifiserer dette til to-dimensjonal array med shape (1,n) eller (n,1).\n",
    "4. Kan konvertere med .reshape() eller med arr[:,None] (kolonne) og arr[None,:] (rekke)\n",
    "5. Kan flate ut array med .flatten() eller .ravel(); forskjellen er at ravel forsøker å gi view (??)"
   ]
  },
  {
   "cell_type": "markdown",
   "metadata": {},
   "source": [
    "### Subsetting"
   ]
  },
  {
   "cell_type": "markdown",
   "metadata": {},
   "source": [
    "Få ut del av array"
   ]
  },
  {
   "cell_type": "markdown",
   "metadata": {},
   "source": [
    "#### Slicing"
   ]
  },
  {
   "cell_type": "markdown",
   "metadata": {},
   "source": [
    "Kan få ut subset av ndarray på intuitiv måte.\n",
    "\n",
    "1. én-dimensjonal: a[i] gir i'te element, a[i:j] gir array med element fra i til j-1, a[i,j,k] gir korresponderende element\n",
    "2. to-dimensjonal: a[i]==a[i,:] gir i'te array langs 0'te akse, a[i,j]==a[i][j] gir element med plass (i,j) fra henholdsvis 0'te og første akse \n",
    "3. mer avansert slicing: kan kombinere liste med slice, eg arr[:,[i,j,k]] for å få ut kolonner med gitt posisjon\n",
    "\n",
    "Merk at slice alltid gir view. Dette gjør at vi enkelt kan endre opprinnelig ndarray ved å endre verdier på slice, eks: a[2:5] = 1. \n",
    "\n",
    "Dette gjelder også dersom vi binder view til variabel, eks: subset=a[2:5], subset=1. (eller?? nei? Hvorfor da så viktig å bruke .copy()?) Det er viktig fordi numpy arrays er mutable!\n",
    "\n",
    "Dersom vi har lyst til å jobbe med subset av ndarray uten å endre det opprinnelige objektet må vi eksplisitt gjøre det til kopi, eks: subset=a[2:5].copy()"
   ]
  },
  {
   "cell_type": "markdown",
   "metadata": {},
   "source": [
    "#### Boolean masking"
   ]
  },
  {
   "cell_type": "markdown",
   "metadata": {},
   "source": [
    "Vil få tilgang til verdier av array avhengig av om element tilfredstiller betingelse.\n",
    "\n",
    "- mask = arr > 0 (gir ny array av bools med samme shape som arr)\n",
    "- a[mask] (slicer array slik at jeg får view av elementene der condition er sann)\n",
    "- a[mask] = 1 (kan deretter spesifiserer ny verdi til disse elementene)\n",
    "\n",
    "Dersom jeg også vil spesifisere nye verdi til element som ikke oppfyller betingelse kan jeg bruke np.where(mask,[x,y]). \n",
    "\n",
    "- np.where(mask,2,3), erstatter verdi i bool array med 2 der sann ellers med 3\n",
    "- np.where(mask,xarr,yarr), erstatter med verdi fra element med korresponderende index i xarr/yarr avhengig av condition\n",
    "\n",
    "Kan også bruke funksjonen til å få finne index til element med gitte verdier\n",
    "\n",
    "- np.where(arr==val)[0]\n"
   ]
  },
  {
   "cell_type": "markdown",
   "metadata": {},
   "source": [
    "### Sortering"
   ]
  },
  {
   "cell_type": "markdown",
   "metadata": {},
   "source": [
    "-  np.argsort(A). Gir indexene til den sorterte arrayen av A fra lavest til høyest. Kan bruke til å finne index til k element med lavest verdi\n",
    "- np.argpartition(array,k), bruker dersom vi kun trenger index til k objekt med lavest verdi.. slipper å sortere hele sjiten. Eksempel: a[b.argpartition(k)[:k], gir meg index til k laveste (ikke sortert). "
   ]
  },
  {
   "cell_type": "markdown",
   "metadata": {},
   "source": [
    "### Funksjoner"
   ]
  },
  {
   "cell_type": "markdown",
   "metadata": {},
   "source": [
    "Hvis numpy array er input i funksjon så blir funksjon evaluert på hvert element om gangen.\n",
    "\n",
    "Hvis vi sender inn to numpy arrays så blir den evaluert på element fra hver array om gangen. gir oss ut array [f(x_00,y_00),f(x_01,y_01),....], samme form som input arrays.\n",
    "\n",
    "eks: x = np.array[1,2,3], f = lambda x1,x2 : x1+x2, f(x,x) = [2,4,6]"
   ]
  },
  {
   "cell_type": "markdown",
   "metadata": {},
   "source": [
    "#### Universale funksjoner"
   ]
  },
  {
   "cell_type": "markdown",
   "metadata": {},
   "source": [
    "ufuncs er klasse av funksjoner som opererer elementvis på ndarrays. Vektorisert wrapper for enkle funksjoner som kan håndtere broadcastign og typecasting. \n",
    "\n",
    "Unary:\n",
    "- abs, log, square, ...\n",
    "\n",
    "Binary: \n",
    "- add, mutiply (begge gjør med +/* i stedet for eksplisitt funksjon, men det som jobber under da hood), maximum, .."
   ]
  },
  {
   "cell_type": "markdown",
   "metadata": {},
   "source": [
    "Hvis jeg vil ta elementvis operasjon mellom 1d array og 2d array må jeg definere 1d array eksplisitt som rekke eller kolonnevektor med x = x[:,None] før numpy er villig til å broadcaste"
   ]
  },
  {
   "cell_type": "markdown",
   "metadata": {},
   "source": [
    "#### Matematiske/statistiske funksjoner"
   ]
  },
  {
   "cell_type": "markdown",
   "metadata": {},
   "source": [
    "Har også funksjoner for å beskrive innholdet i en gitt array,\n",
    "\n",
    "- sum(axis=.. ), default så summerer opp all element (flater ut array), men kan spesifisere langs hvilken akse jeg summerer slik at output blir array med sum ned langs gitte akse\n",
    "- mean(axis=..)\n",
    "- min,max(axis=..)\n",
    "- argmin, argmax(axis=..), gir meg index til element med minst/høyest verdi langs gitte akse. Kan blant annet bruke dette til å finne index til element av array som er nærmest en gitt verdi a, idx = np.abs(arr-a).argmin(). \n",
    "- cumsum, cumprod(axis=..), kumulativ sum og produkt."
   ]
  },
  {
   "cell_type": "markdown",
   "metadata": {},
   "source": [
    "#### Mengdeoperasjoner"
   ]
  },
  {
   "cell_type": "markdown",
   "metadata": {},
   "source": [
    "Kan jo tenke flate arrays som mengder hvis vi fjerner duplikater. Har funksjoner som gjennomfører mengdeoperasjon på arrays\n",
    "\n",
    "- np.unique(arr,...) gir ny sortert ndarry med bare unike element fra arr. Kan i tillegg får ut ekstra output som korresponderer med de unike elementene: return_counts gir antall duplikater, return_index gir idx til første observasjon av hver verdi i arr\n",
    "- np.intersect1d(arr1,arr2) gir sortert array med element som er i begge\n",
    "- np.union1d(arr1,arr2) \n",
    "- np.setdiff1d(arr1,arr2) gir element som er i arr1 men ikke i arr2."
   ]
  },
  {
   "cell_type": "markdown",
   "metadata": {},
   "source": [
    "#### Andre nyttige funksjoner"
   ]
  },
  {
   "cell_type": "markdown",
   "metadata": {},
   "source": [
    "-  np.allclose(A,B) er godt alternativ til A == B for matriser, sjekker om de er like innenfor treshold.\n",
    "-  np.delete(A, ., axis=1) er analog til df.drop(). Hvis vi vil kvitte oss med noen kolonner av array. \n",
    "-  np.where(cond, a,b). Lager new array der henter element fra a hvis cond er sann ellers fra b. Kan brukes til å finne index til element som er ulike i to arrays, np.where(x != y)[0]\n",
    "- np.diff(array) gir differanse mellom array som jeg kan bruke til numerisk derivasjon, np.diff(y)/dx\n",
    "- unique, counts = np.unique(x,return_counts=1) gir meg antall av hver verdi i array\n",
    "- np.vstack(), np.hstack(), np.dstack(), innput er tuple av arrays, lager nye array der de individuelle arraysene er stacket henholdsvis oppå hverandre, ved siden av hverandre og bak hverandre (tredje dimensjon)"
   ]
  },
  {
   "cell_type": "markdown",
   "metadata": {},
   "source": [
    "### random"
   ]
  },
  {
   "cell_type": "markdown",
   "metadata": {},
   "source": [
    "bruker np.random.RandomState(seed=) for å lage container for de ulike sannsynlighetsfordelingene vi kan trekke fra. Sparer oss fra å skrive np.random.blala hele tiden\n",
    "\n",
    "- rng = np.random.RandomState(1), rng.norm() # vet ikke hvor relevant dette er\n",
    "\n",
    "kan bruke np.random.permutation(x) til å få en tilfeldig permutasjon av en vektor. Kan bruke til å trekke tilfeldig utvalg, eks: np.random.permutation(x)[:n]\n",
    "\n",
    "bruker random.choice(array) dersom array består av flerdimensjonale vekorer, istedet for np.random.choice\n",
    "\n",
    "np.random.randn(size=N) for å lage standard normal, wrapper "
   ]
  },
  {
   "cell_type": "markdown",
   "metadata": {},
   "source": [
    "### meshgrid\n",
    "\n",
    "Bruker meshgrid dersom vi vil ha to NxM matriser for 3d plot. Finnes også et lite triks som gjør at jeg ikke trenger å lage gridsene eksplisitt. Litt usikker på navnekonvensjonen her, har sett xx, XX, xs, ..\n",
    "\n",
    "1. xx, yy = np.meshgrid(x_grid, y_grid)\n",
    "2. xx, yy = np.mgrid[0:1:0.01, 0:2:0.01]\n",
    "\n",
    "Hvis funksjon tar individuelle argument på form f(x,y, kwargs) så kan vi få ut zz = f(xx,yy).\n",
    "\n",
    "Problem oppstår dersom funksjon ikke har indivduelle element som inputs men i stedet tar tuple, altså f((x,y), kwargs). Da må vi lage tuple eksplisitt. Tror beste måten er å konstruere en 3d array med np.dstack((xx,yy).. litt usikker på hvorfor det fungererer. Avhenger av hvordan funksjonen tolker tredimensjonal array.. Løser uansett med zz = f(np.dstack((xx,yy))"
   ]
  },
  {
   "cell_type": "markdown",
   "metadata": {},
   "source": [
    "### Lineær algebra"
   ]
  },
  {
   "cell_type": "markdown",
   "metadata": {},
   "source": [
    "Bruker @ som operator for matrisemultiplikasjon, eg. A@B = C\n",
    "\n",
    "Bruker .T for å transposere. Husk regneregel (A@B).T = B.T@A.T\n",
    "\n",
    "Bruker np.linalg.inv(A) for å invertere matrise\n",
    "\n",
    "Bruker df.values for å få matriserepresentasjon av dataframe\n",
    "\n",
    "Hvis f = [f(x1), f(x2),..], g = [g(x1),g(x2),..] og y = [f(x1)*g(x1), ...] kan vi skrive f@g\n",
    "\n",
    "Dette er nyttig faktorisering av kode fordi vi kan enkelt se på effekt av å endre f eller g, f.eks hvis g er diskontering."
   ]
  },
  {
   "cell_type": "markdown",
   "metadata": {},
   "source": [
    "#### Eigenstuff"
   ]
  },
  {
   "cell_type": "markdown",
   "metadata": {},
   "source": [
    "Kan regne ut determinant rekursivt fra formel: $\\det(M) = \\sum_{j = 1}^n (-1)^{1 + j} \\cdot M_{1, j} \\cdot \\det(M_{-1, -j}),$\n",
    "\n",
    "Egenvekter er $\\vec{x}$ de $A\\vec{x} = \\lambda \\vec{x}$, blir kun skalert av transformasjonsvektoren. \n",
    "\n",
    "Har nyttig egenskap at $A^2 \\vec{x} = \\lambda ^2 \\vec{x}$\n",
    "\n",
    "Kan dekompenere matrise slik at vi utnytter dette selv for x som ikke er egenvektor. Hvis egenvektorerer spanner R^n så vil jo vilkårlige vektorer være lineær kombinasjon av egenvektorer. Transformer til rom der egenvektorer er basis, utfører transformasjon som nå er diagonal i forhold til den basisen, transformerer tilbake. Eller med symboler:\n",
    "\n",
    "$A = PDP^{-1}$, der kolonnene i P er egenvektorer og verdiene langs diagonal i D er korresponderende egenverdi.\n",
    "\n",
    "Hvis A er symmetris, A = A.T, så kan vi skrive $A=PDP^T$\n",
    "\n",
    "Bruker dette til at $A^2 = PD^2P.T$"
   ]
  },
  {
   "cell_type": "markdown",
   "metadata": {},
   "source": [
    "#### Ortogonalitet"
   ]
  },
  {
   "cell_type": "markdown",
   "metadata": {},
   "source": [
    "Hvis kolonnene i U er ortogonale er matriseproduktet U.T@U en diagonal matrise D. En måte å tenke på dette er at \n",
    "$$D_{ij} = \\sum_k U^T_{ik}U_{kj} = u_i \\cdot u_j = \\begin{cases} 0 & i \\neq j \\\\ \\rVert u_i \\rVert & j = i \\end{cases}$$\n",
    "\n",
    "Følger fra dette at $U^TU = I$ hvis kolonner i $U$ er ortonormale, altså blitt normalisert til å ha lengde 1."
   ]
  },
  {
   "cell_type": "markdown",
   "metadata": {},
   "source": [
    "Kan bruke Gram-Schmidt algoritmen til å lage ortonormal basis for alle matriser med rank(k).\n",
    "\n",
    "1. normaliserer første vektor\n",
    "2. for vektor 2:k projekter vektor til ortogonal komplement av space generert av alle foregående vektor og normaliser"
   ]
  },
  {
   "cell_type": "code",
   "execution_count": 28,
   "metadata": {},
   "outputs": [],
   "source": [
    "import numpy as np; from numpy.linalg import inv\n",
    "\n",
    "def gram_schmidt(X):\n",
    "    n, k = X.shape\n",
    "    U = np.empty((n,k))\n",
    "    \n",
    "    v = X[:,0]\n",
    "    U[:,0] = v/np.sqrt(v@v)\n",
    "    \n",
    "    for j in range(1,k):\n",
    "        v = X[:,j]\n",
    "        Z = X[:,:j]\n",
    "        P = Z@inv(Z.T@Z)@Z.T\n",
    "        M = np.eye(j)-P\n",
    "        \n",
    "        v = M@v\n",
    "        U[:,j] = v / np.sqrt(v@v)\n",
    "    return U"
   ]
  },
  {
   "cell_type": "markdown",
   "metadata": {},
   "source": [
    "Det er dermed rimelig at vi kan dekomponere matrise der rank(A) = k i produktet A = QR, der Q er orthonormal basis og R er vekter som gir oss tilbake den gamle basisen."
   ]
  },
  {
   "cell_type": "markdown",
   "metadata": {},
   "source": [
    "Merk at \n",
    "-  np.power(A,2) == A\\**2 != A@A\n",
    "-  De to først tar bare å kvadrerer hvert element. Det er IKKE det vi er ute etter. Vet ikke om det finnes funksjon som gir matrise opphøyd i n.."
   ]
  },
  {
   "cell_type": "markdown",
   "metadata": {},
   "source": [
    "Husker at $\\sum x_ix_i = x'x$. For det første er det ganske fleksibelt hvordan x kan se ut. For det andre er det enkelt å se på spesialtilfelle der vi begynner sum med i=2 eller whatever, bare slice den relevante delen av x,\n",
    "$\\sum_{i=1} x_ix_i$ = x[1:]@x[1:]"
   ]
  },
  {
   "cell_type": "markdown",
   "metadata": {},
   "source": [
    "### Annet"
   ]
  },
  {
   "cell_type": "markdown",
   "metadata": {},
   "source": [
    "#### Bootstrap"
   ]
  },
  {
   "cell_type": "markdown",
   "metadata": {},
   "source": [
    "```python\n",
    "m = 1000\n",
    "replications = [np.random.choice(sample,len(sample)) for _ in range(m)]\n",
    "means = np.array([x.mean() for x in replications])\n",
    "means.std()\n",
    "```"
   ]
  },
  {
   "cell_type": "markdown",
   "metadata": {},
   "source": [
    "## scipy"
   ]
  },
  {
   "cell_type": "markdown",
   "metadata": {},
   "source": [
    "### Lineær algebra"
   ]
  },
  {
   "cell_type": "markdown",
   "metadata": {},
   "source": [
    "Kan bruke scipy.linalg.lu(A) til å faktorisere positive definitt matrise A til produkt av faktorene B@B.T. Kan vel på en måte betrakte B som kvadratroten for å trekke analog til skalar. Heter lu for de ene er nedre triangulær og andre er øvre. Dette bruker jeg i transformasjon en vektor R.V Z, der X = B@Z ~N(0,B@B.T), igjen helt analogt.\n",
    "\n",
    "Okay, fra nå av bruke vi numpy.linalg.cholesky(A). Den gir oss bare en L, der $LL' = A$. Merka at $U = L'$, slik at $U'U = A$\n",
    "\n",
    "Stats:\n",
    "\n",
    "Representerer RV med et objekt ss.norm(), som har mange metoder definert på seg. Kan bruke dette til å tegne den sanne pdf, \n",
    "\n",
    "- x = linspace(a,b), y = ss.norm(u,o).pdf(x) \n",
    "\n",
    "y gir da vektoren av pdf evaluert på alle verdiene i x, som vi således kan plotte."
   ]
  },
  {
   "cell_type": "markdown",
   "metadata": {},
   "source": [
    "### Stats"
   ]
  },
  {
   "cell_type": "markdown",
   "metadata": {},
   "source": [
    "import scipy.stats as ss\n",
    "\n",
    "Lager et frozen distribution objekt med ss.norm(params). Dette objektet har mange metoder. Kan få ut en realisert verdi fra R.V med den fordeling. Kan få cdf, pmf evauluert for gitte x verdier. Sannsynligvis mye mer. Kan bruke dette til å plotte tetthetsfunksjon til fordeling."
   ]
  },
  {
   "cell_type": "markdown",
   "metadata": {},
   "source": [
    "metoder til frozen distribusjonsobjekt:\n",
    "\n",
    "1. pdf, sann.tetthet hvis kontinuerlig\n",
    "2. pmf, sann.masse hvis diskret\n",
    "3. cdf, kumulativ masse/tetthet\n",
    "4. ppf, invers av kumulativ, verdi som har gitt kumulativ masse/tetthet. percent point function"
   ]
  },
  {
   "cell_type": "code",
   "execution_count": 50,
   "metadata": {},
   "outputs": [
    {
     "data": {
      "image/png": "[encoded data removed]",
      "text/plain": [
       "<Figure size 432x288 with 1 Axes>"
      ]
     },
     "metadata": {
      "needs_background": "light"
     },
     "output_type": "display_data"
    }
   ],
   "source": [
    "import scipy.stats as ss\n",
    "import matplotlib.pyplot as plt\n",
    "\n",
    "x_values = np.arange(10)\n",
    "mu_values = np.arange(0,8,2)\n",
    "\n",
    "for mu in mu_values:\n",
    "    y = ss.poisson(mu).pmf(x_values)\n",
    "    plt.plot(x_values,y,marker='o',alpha=0.6,label=f\"$\\mu$ = {mu}\")\n",
    "    plt.legend() "
   ]
  },
  {
   "cell_type": "markdown",
   "metadata": {},
   "source": [
    "### Optimering"
   ]
  },
  {
   "cell_type": "markdown",
   "metadata": {},
   "source": [
    "Mange algoritmer for å løse likningssytem bygger på newton rhapson. Det forutsetter kontinuerlig differensierbar funksjon med kjent første derivert.\n",
    "\n",
    "Bruker at $$f(x_0)+f'(x_0)(x_1-x_0) = 0 \\implies x_1 = x_0 -f(x_0)/f'(x_0) $$\n",
    "\n",
    "Merker oss at å løse likningsystem og å finne røtter går ut på det samme siden vi kan skrive f(x)=g(x) -> f(x)-g(x)=h(x)=0"
   ]
  },
  {
   "cell_type": "code",
   "execution_count": 4,
   "metadata": {},
   "outputs": [
    {
     "data": {
      "text/plain": [
       "1.0000000198565877"
      ]
     },
     "execution_count": 4,
     "metadata": {},
     "output_type": "execute_result"
    }
   ],
   "source": [
    "def newton_rhapson(f,g,x0,e):\n",
    "    while abs(f(x0)) > e:\n",
    "        x0 = x0 - f(x0)/g(x0)\n",
    "    return x0\n",
    "\n",
    "f = lambda x: x**3-1\n",
    "g = lambda x: 3*x**2\n",
    "e = 1e-4\n",
    "x0 = 10\n",
    "\n",
    "newton_rhapson(f,g,x0,e)"
   ]
  },
  {
   "cell_type": "markdown",
   "metadata": {},
   "source": [
    "Hovedfunksjon er scipy.optimize.minimize() der vi kan spesifisere metode og eventuelle constraints.\n",
    "\n",
    "husk at funksjonene bare må ta vektor som input. Pakker ut vektoren inne i funksjonen hvis nødvendig. Tilsvarende blir options en array. bare å pakke ut mann!"
   ]
  },
  {
   "cell_type": "markdown",
   "metadata": {},
   "source": [
    "#### Betinget optimering\n",
    "\n",
    "Må lage LinearConstraint objekt. Likningsystem lb <= Ax <= ub. I praksis så er g(x) = Ax = p1x1+p2x2<= m, hvis vi har standard budsjett greie. litt usikker på hva jeg skal gjøre med lower bound men det får så være. Ser at dette enkelt kan fasilitere flere likninger.\n",
    "\n",
    "Eksempel: A = [p1, p2], lin_constraint = opt.LinearConstraint(A,0,m)\n",
    "\n",
    "Kan også ha bounds direkte på input space, bounds=opt.Bounds(lb,ub), der lb er arraylike med samme størrelse som x. Hvis skalar så felles bound for alle variabler.\n",
    "\n",
    "liten kommentar: hvis vi skal plotte en gitt begrensing i R2 så kan vi like så godt la x2 være funksjon av x1. kan plotte funksjoner."
   ]
  },
  {
   "cell_type": "code",
   "execution_count": 1,
   "metadata": {},
   "outputs": [
    {
     "name": "stdout",
     "output_type": "stream",
     "text": [
      "[1.49973212 1.49973212] [2.0008028  0.99879778]\n"
     ]
    }
   ],
   "source": [
    "import numpy as np\n",
    "import scipy.optimize as opt\n",
    "x0 = [0,0]\n",
    "p1,p2,m  = 1,1,3\n",
    "A = [p1,p2]\n",
    "\n",
    "def f(x):\n",
    "    return -x[0]*x[1]\n",
    "\n",
    "constraint = opt.LinearConstraint(A,0,m)\n",
    "bound = opt.Bounds([2,0],np.inf)\n",
    "\n",
    "a = opt.minimize(f,x0,method='trust-constr',constraints=constraint).x\n",
    "b = opt.minimize(f,x0,method='trust-constr',constraints=constraint, bounds=bound).x\n",
    "print(a,b)"
   ]
  },
  {
   "cell_type": "markdown",
   "metadata": {},
   "source": [
    "Må lage LinearConstraint objekt. Likningsystem lb <= Ax <= ub. I praksis så er g(x) = Ax = p1x1+p2x2<= m, hvis vi har standard budsjett greie. litt usikker på hva jeg skal gjøre med lower bound men det får så være. Ser at dette enkelt kan fasilitere flere likninger.\n",
    "\n",
    "Eksempel: A = [p1, p2], lin_constraint = opt.LinearConstraint(A,0,m)\n",
    "\n",
    "Kan også ha bounds direkte på input space, bounds=opt.Bounds(lb,ub), der lb er arraylike med samme størrelse som x. Hvis skalar så felles bound for alle variabler.\n",
    "\n",
    "liten kommentar: hvis vi skal plotte en gitt begrensing i R2 så kan vi like så godt la x2 være funksjon av x1. kan plotte funksjoner.\n",
    "\n",
    "import numpy as np\n",
    "import scipy.optimize as opt\n",
    "x0 = [0,0]\n",
    "p1,p2,m  = 1,1,3\n",
    "A = [p1,p2]\n",
    "\n",
    "def f(x):\n",
    "    return -x[0]*x[1]\n",
    "\n",
    "constraint = opt.LinearConstraint(A,0,m)\n",
    "bound = opt.Bounds([2,0],np.inf)\n",
    "\n",
    "a = opt.minimize(f,x0,method='trust-constr',constraints=constraint).x\n",
    "b = opt.minimize(f,x0,method='trust-constr',constraints=constraint, bounds=bound).x\n",
    "print(a,b)"
   ]
  },
  {
   "cell_type": "markdown",
   "metadata": {},
   "source": [
    "## Sympy"
   ]
  },
  {
   "cell_type": "markdown",
   "metadata": {},
   "source": [
    "Symbols manipulering er veldig nyttig. Hvis jeg har et uttrykk så kan jeg evaluere det numerisk. Men da er det ikke mulig å manipulere det videre. Så greit å kunne beholde den symbolske representasjonen for å gjøre ting.\n",
    "\n",
    "Symbol class. Konstruere med symbols('string'). Hvis mellomrom kan jeg lage tuple, symbols('a b'). Det er immutable slik at jeg må binde på nytt.\n",
    "\n",
    "Ser også at det er en funksjon var('x')\n",
    "\n",
    "merk at det kan være lurt å presisere informasjon om symbol... for eksempel om positive=true, fordi ting som er sant for positiv tall ikke nødvendigvis er sant generelt.\n",
    "\n",
    "Må unngå å bruke floats! Bruker heller Rational(1,2) enn å gange med 0.5; får da ut bedre output!\n",
    "\n",
    "hvert tall {0,...,9} har egen objekttype.\n",
    "\n",
    "tror den har innebygde matematiske funksjoner som kan evaulueres med .evalf(antall desimal)"
   ]
  },
  {
   "cell_type": "markdown",
   "metadata": {},
   "source": [
    "Kan sympify string expression\n",
    "\n",
    "1. Bruker metoden subs (substitute) for å erstatte alle instances av symbol med tall. Gjør det for å evualuere størrelsen numerisk. expr.subs(var,tall) eller expr.subs([(var1,tall1),(var2,tall2)])\n",
    "\n",
    "2. .evalf(antall desimal)\n",
    "\n",
    "3. lambdify\n",
    "\n",
    "Algebra: Vil ofte ønske å finne ekvivalent representasjon av uttryk som er litt enklere. Main wrapper er simplify(expr) som prøver ulike metoder og se hvilke resultat som gir enklest uttrykk. Det er også mange andre funksjoner dersom vi vet hva vi ønsker å gjøre. \n",
    "\n",
    "For å teste om to utrykk er ekvivalent, a=b, så utnytter vi at dette er ekvivalent med a-b=0 og bruker (a-b).simplify() for å sjekke om dette faktisk er 0.\n",
    "\n",
    "Annet:\n",
    "\n",
    "1. bruker exp(blabla) for e^(blabla),\n",
    "2. bruker ** istedet for ^ i utforming av expression, selv uten strings\n",
    "3. .doit() er generell funksjon som evaluerer uevaluerte størrelse \n",
    "4. Kan importere symboler fra sympy.abc i steder for å definere de eksplistt.. feks hvis jeg vil bruke x,i,k, .."
   ]
  },
  {
   "cell_type": "markdown",
   "metadata": {},
   "source": [
    "### Funksjoner"
   ]
  },
  {
   "cell_type": "markdown",
   "metadata": {},
   "source": [
    "Finnes en funksjonsklasse. Finnes mange spesielle innebygde funksjoner som inheriter fra denne klassen. \n",
    "\n",
    "Jeg kan bruke dette til å definere mine egne funksjoner, men føler at det blir litt overkill for enkel scripting.\n",
    "\n",
    "Har i hvertfall to måter å lage funksjon\n",
    "1. Definere x = symbols('x') og deretter f = x^2+1 (uten string)\n",
    "2. Definere alt inn ini symbols, f = symbols('x^2+1)\n",
    "3. Definere pythonfunksjon, def f(x): blabla, kan deretter bruke f(x) og få ut expression\n",
    "4. Lage homemade funksjonsobjekt. Det er jo mange innebygde funksjon (cos, sin, exp..), men ingenting for å konstruere mine egne på samme måte ved å inhertie fra Function class. Føler at dette er litt overkill for enkel scripting.\n",
    "\n",
    "De første tre metodene lager bare 'expressions' som vi kan evaluerere.. Tror det er en fordel at med Function objekt så kan jeg beholde de uevaluert.. cos(x) er meningsfult ikke sant, selv om cos( ) bare er navn på funksjonen..\n"
   ]
  },
  {
   "cell_type": "markdown",
   "metadata": {},
   "source": [
    "### Plotting"
   ]
  },
  {
   "cell_type": "markdown",
   "metadata": {},
   "source": [
    "Kan bruke plot() for convinience\n",
    "\n",
    "plot(expr, (symbol,min,max))\n",
    "\n",
    "Kan bruke lambdify til å evaluere funksjon på grid, slik at jeg får (xvals,yvals) som jeg kan feede inn i matplotlib\n",
    "\n",
    "grid = np.linspace()\n",
    "\n",
    "lam_f = lambdify(x,f)\n",
    "\n",
    "yvals = lam_f(grid)"
   ]
  },
  {
   "cell_type": "markdown",
   "metadata": {},
   "source": [
    "### Summering"
   ]
  },
  {
   "cell_type": "markdown",
   "metadata": {},
   "source": [
    "Vi vil plusse sammen verdi av første N (potensielt uendelig) ledd i en følge (expr(i):i=1,...,N).\n",
    "\n",
    "Kan enkelt håndtere dersom det er enkelt å uttrykk verdi for expr i hver ledd, eks:"
   ]
  },
  {
   "cell_type": "raw",
   "metadata": {},
   "source": [
    "1. Sum(expr,(i,lower,upper)) # verdi på ledd er konstant uavhengig av i\n",
    "2. Sum(i*expr+i, (i,lower,upper)) # finner uttrykk for ledd ved å betrakte expr som et konstant symbol, lage nytt uttrykk av dette der index i inngår\n",
    "3. Sum(expr.subs(x,i),(i,lower,upper)) # hvert ledd er en funksjon x(i) der vi substituerer inn verdi fra index og får verdi til ledd av følgen"
   ]
  },
  {
   "cell_type": "markdown",
   "metadata": {},
   "source": [
    "Utfordringen er når hver i mapper til indexet element i [x_1,x_2,...] og det er dette elementet jeg har lyst til å substituere inn for x i expr. Begynner med å definere x = IndexedBase('x'), i = symbols('i',integer=True). Merk at greiene under fungerer når x er IndexedBase objekt, men hva om jeg jobber med Indexed objekt? Fungerer på sammem måte, bare at jeg ikke trenger [i] for å omforme det til Indexed lol."
   ]
  },
  {
   "cell_type": "raw",
   "metadata": {},
   "source": [
    "4. Sum(x[i],(i,1,N)) # hvert ledd i følgen er bare korrespondende element i indexed array x. Merk at vi kan la N være symbol.\n",
    "5. Sum(log(x[i]),(i,1,N) # evaluerer (innebygd) funksjon på hver element. Vet ikke hvordan jeg konstruerer min egen funksjon fra expr, men dette er fremtiden siden det ikke er mulig å bruke expr.subs(x,x[i])\n",
    "6. Sum((1-x[i])*3x[i], (i,1,N) # Kan konstruere expression på vanlig måte der jeg bruke x[i] som representasjon på symbol i stedet. Liker metoden med eksplisitt funksjon bedre siden jeg kan definere det før jeg begynner med summingen.."
   ]
  },
  {
   "cell_type": "markdown",
   "metadata": {},
   "source": [
    "Lamdifye expressions som involverer Sum"
   ]
  },
  {
   "cell_type": "raw",
   "metadata": {},
   "source": [
    "# Evaluere indexed sym med tall fra numpy array\n",
    "\n",
    "x, i = symbols(\"x i\")\n",
    "s = Sum(Indexed('x',i),(i,0,3)) # har bare generisk x-input. Tenker at hver element er en funksjon av x(n), så n->x(n)->g(x(n))\n",
    "f = lambdify(x, s)\n",
    "b = np.array([1, 2, 3, 4])\n",
    "f(b)"
   ]
  },
  {
   "cell_type": "markdown",
   "metadata": {},
   "source": [
    "### Indexed objekter"
   ]
  },
  {
   "cell_type": "markdown",
   "metadata": {},
   "source": [
    "Har tre objekttyper,IndexedBase, Indexed, and Idx, som kan representere M[i, j], gitt element av matrise med størrelse som kan variere. Arrays er bare special case av matrise.\n",
    "\n",
    "1. Indexed : hele objektet\n",
    "2. IndexedBase : Representere array M (bruke for convienent creation av Indexed objekt.\n",
    "3. Idx : Representere indexene (i,j),\n",
    "\n",
    "veldig greit å ha symbols representasjon av størrelser som jeg senere kan fylle med tall.\n",
    "\n",
    "IndexedBase('Navn',shape=(N,M)), eks = M=IndexedBase('M')\n",
    "\n",
    "shape er optional. Kan eventuelt bestemmes med rnage til Idx objekt\n",
    "\n",
    "Idx(label,range), eks: i=Idx('i', n) der n kan være symbol. Kombinerer med IndexedBase til å få Indexed\n",
    "\n",
    "type(M[i]) == Indexed, der shape er bestemt av range til i\n",
    "\n",
    "merk at M[i] == Indexed('M',i)"
   ]
  },
  {
   "cell_type": "markdown",
   "metadata": {},
   "source": [
    "### simplification"
   ]
  },
  {
   "cell_type": "markdown",
   "metadata": {},
   "source": [
    "Har .simplify() som tester ulike simplifiseringsmetoder og bruker heuristic til å finne enkleste representasjon. dette er en arbeidshest når vi bare vil ha enklere uttrykk\n",
    "\n",
    "Dersom det ikke gir ønsket representasjon og vi har litt idé om hva vi ønsker å gjøre kan vi bruke andre simplifiseringsmetoder\n",
    "\n",
    "1. powsimp() får slår sammen multiplikasjon av uttrykk med samme base\n",
    "2. together() får alt opp på felles brøk.\n",
    "3. expand() ..\n",
    "4. factor() .. "
   ]
  },
  {
   "cell_type": "markdown",
   "metadata": {},
   "source": [
    "### kalkulus"
   ]
  },
  {
   "cell_type": "markdown",
   "metadata": {},
   "source": [
    "Differensiering:\n",
    "\n",
    "diff(expr, symbol), expr.diff(symbol)\n",
    "\n",
    "Kan ta høyere ordens deriverte med expr.diff(x,x,y,...). siden rekkefølge ikke har betydning så kan vi også expr.diff(x,2,y,2) for å spesifisere antall derivasjoner.\n",
    "\n",
    "Integral:\n",
    "\n",
    "integrate(expr,var) # ubestemt\n",
    "\n",
    "integrate(expr,(var,low,upper)) # bestemt\n",
    "\n",
    "Grenser:\n",
    "\n",
    "limit(expr,var,retning)\n"
   ]
  },
  {
   "cell_type": "markdown",
   "metadata": {},
   "source": [
    "### ligningssystem"
   ]
  },
  {
   "cell_type": "markdown",
   "metadata": {},
   "source": [
    "representer symbols likhet med sy.eq(expr0,expr1). med default antar at lik 0, så så kan jo bare solve sy.eq(expr0-expr1)\n",
    "\n",
    "sy.eq(lhs,rhs) -> equation der lhs = rhs\n",
    "\n",
    "sy.solveset(eq,x)\n",
    "\n",
    "sy.solve(eqs,[x,y,z]) # løse hvis det er flere variabler... merk at eqs er liste med symboler.\n",
    "\n"
   ]
  },
  {
   "cell_type": "markdown",
   "metadata": {},
   "source": [
    "### matriser"
   ]
  },
  {
   "cell_type": "markdown",
   "metadata": {},
   "source": [
    "Kan konstruere generiske matriser med \n",
    "\n",
    "Matrixsymbol('X', n, m)\n",
    "\n",
    "men da er det på en måte representert med X og vet ikke om jeg har tilgang til individuelle element.\n",
    "\n",
    "kan også bruke symarray() som gir en numpy av array med sympy symboler med generiske navn x_0, x_1,.., slik at jeg ikke trenger å konstruere de explisitt før jeg plasserer de i array"
   ]
  },
  {
   "cell_type": "markdown",
   "metadata": {},
   "source": [
    "konstruerer med sy.Matrix([[...],[...]]). Kan også bruke til å konstruere kolonnevektor.\n",
    "\n",
    "indexing A.row(num), A.col(num)\n",
    "\n",
    "Kan også indexe med [], får da ut liste som jeg kan konvertere til matrix med eks Matrix(A[1,:])\n",
    "\n",
    "slette row/col, A.row_del(),A.col_del()\n",
    "\n",
    "legge til: A.row.insert(), A.col_insert()\n",
    "\n",
    "Har jo litt basic operasjon, rekke-reduksjon, nullspace, determinant, columnspace, eigenvects, diagonalize,"
   ]
  },
  {
   "cell_type": "markdown",
   "metadata": {},
   "source": [
    "### Optimering"
   ]
  },
  {
   "cell_type": "markdown",
   "metadata": {},
   "source": [
    "#### Ubetinget optimering"
   ]
  },
  {
   "cell_type": "markdown",
   "metadata": {},
   "source": [
    "Får et lukket intervall [a,b] kan vi finne min/max verdi slik:"
   ]
  },
  {
   "cell_type": "raw",
   "metadata": {},
   "source": [
    "x = symbols(x,real=True)\n",
    "lb, ub = a,b \n",
    "\n",
    "f = ...\n",
    "fprime = diff(f,x)\n",
    "zeros = solveset(fprime,x,domain=Interval(lb,ub))\n",
    "ans = Max(f.subs(x,lb),f.subs(x,ub),*[f.subs(x,num) for num in zeros])"
   ]
  },
  {
   "cell_type": "markdown",
   "metadata": {},
   "source": [
    "Tror vi kan løse dersom jeg har utrykk for gradient. Setter den lik null og får ligningssystem. Kan ha flere løsninger, men kan i prinsippet evaluerer alle og finne største verdi."
   ]
  },
  {
   "cell_type": "markdown",
   "metadata": {},
   "source": [
    "#### Betinget optimering"
   ]
  },
  {
   "cell_type": "markdown",
   "metadata": {},
   "source": [
    "Bruker lagrangian\n",
    "\n",
    "max f() gitt g(x)-c=0\n",
    "\n",
    "L = f+lambda*(g(x)-c)\n",
    "\n",
    "finn gradient til L\n",
    "\n",
    "sammen med g(x)-c gir det ligningssystem. Finner (x,y,lambda) der hver ligning er = 0 slik at vi har stasjonære punkt\n",
    "\n",
    "evauluere f() i punktene for å finne global maximum."
   ]
  },
  {
   "cell_type": "markdown",
   "metadata": {},
   "source": [
    "### stats"
   ]
  },
  {
   "cell_type": "markdown",
   "metadata": {},
   "source": [
    "from sympy import stats\n",
    "\n",
    "kan lage symbol med kjent fordeling, eks: x = stats.Bernoulli(x,p), deretter kan jeg lage funksjoner expr = g(x) og evaluere \n",
    "\n",
    "- stats.E(expr)\n",
    "- stats.variance(expr)\n",
    "\n",
    "kan lage homemade RVs ved å spesifisere pmf/pdf og utfallsmengden Z\n",
    "\n",
    "- x = ContinuousRV(x,pdf,set=Interval(0,oo))\n",
    "- x = \n",
    "\n",
    "når jeg lager normal vil jeg ha varians som parameter, men Normal() tar std som input. Løses enkelt ved å bruke sqrt(sigma2).\n",
    "\n",
    "Må bruke st... funksjoner for å sjekke egenskaper (pdf,cdf, mm.) Synes det er litt rart. Men er ganske fleksibelt siden evaluerer expressions og ikke bare individuell RandomSymbol.\n",
    "\n",
    "- st.density(x)\n",
    "- st.cdf(x)\n",
    "\n",
    "får ut sympy.stats.crv_types .. som jeg deretter kan bruke .pdf(x) eller .pmf(x) på"
   ]
  },
  {
   "cell_type": "markdown",
   "metadata": {},
   "source": [
    "#### sympy.stats.rv"
   ]
  },
  {
   "cell_type": "markdown",
   "metadata": {},
   "source": [
    "Finnes en egen modul med utvidet funksjonaliter, blant annet:\n",
    "\n",
    "- sympy.stats.rv.RandomIndexedSymbol(Indexed('x',i),st.Bernoulli('x',ρ).pspace))\n",
    "\n",
    "det er nå en gang sånn at RandomSymbol er representasjon av et probability space. Spesifiserer et domain de tar verdi og sannsynlighet for ulike verdier. Kan få det ut med .pspace propoety.\n",
    "\n",
    "Vet ikke hvordan jeg skal bruke RandomIndexedSymbol til å gjøre noe som helst.. Blir litt knyttet til stokastisk prossess, og jeg kan betrakte sample som dette.. så er jo nyttig, men bare vet ikke hvordan det fungerer.\n",
    "\n"
   ]
  }
 ],
 "metadata": {
  "kernelspec": {
   "display_name": "Python 3",
   "language": "python",
   "name": "python3"
  },
  "language_info": {
   "codemirror_mode": {
    "name": "ipython",
    "version": 3
   },
   "file_extension": ".py",
   "mimetype": "text/x-python",
   "name": "python",
   "nbconvert_exporter": "python",
   "pygments_lexer": "ipython3",
   "version": "3.7.9"
  },
  "latex_envs": {
   "LaTeX_envs_menu_present": true,
   "autoclose": true,
   "autocomplete": true,
   "bibliofile": "biblio.bib",
   "cite_by": "apalike",
   "current_citInitial": 1,
   "eqLabelWithNumbers": true,
   "eqNumInitial": 1,
   "hotkeys": {
    "equation": "Ctrl-E",
    "itemize": "Ctrl-I"
   },
   "labels_anchors": false,
   "latex_user_defs": false,
   "report_style_numbering": false,
   "user_envs_cfg": false
  },
  "toc": {
   "base_numbering": 1,
   "nav_menu": {},
   "number_sections": true,
   "sideBar": true,
   "skip_h1_title": false,
   "title_cell": "Table of Contents",
   "title_sidebar": "Contents",
   "toc_cell": false,
   "toc_position": {},
   "toc_section_display": true,
   "toc_window_display": true
  }
 },
 "nbformat": 4,
 "nbformat_minor": 4
}
