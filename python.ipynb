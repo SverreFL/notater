{
 "cells": [
  {
   "cell_type": "markdown",
   "metadata": {},
   "source": [
    "# Jupyter notebooks"
   ]
  },
  {
   "cell_type": "markdown",
   "metadata": {},
   "source": [
    "Kan bruke interaktiv fra command line, men hele poenget er vel å bruke notebooks"
   ]
  },
  {
   "cell_type": "markdown",
   "metadata": {},
   "source": [
    "##### Jupyter triks"
   ]
  },
  {
   "cell_type": "markdown",
   "metadata": {},
   "source": [
    "Har noen \"magic commands\" som jeg kan ikke er python kode, men som jeg likevel kan kjøre i celle."
   ]
  },
  {
   "cell_type": "raw",
   "metadata": {},
   "source": [
    "%%who gir liste over variabler\n",
    "%%whos gir liste over variabler og datatype\n",
    "%time gir tid celle bruker på å kjøre gitt kommando\n",
    "%%time gir tid for resten av cellen\n",
    "%timeit looper flere ganger for å få bedre mål\n",
    "%run script.py, kjører eksternt script i notebook. Litt usikker på hva som er meningsfull forskjell fra import..\n",
    "%%capture hmmm\n",
    "%load_ext, load extension\n",
    "%%sql"
   ]
  },
  {
   "cell_type": "markdown",
   "metadata": {},
   "source": [
    "Kan gjøre shell commands i jupyter med !. Bruker anaconda prompt som backend. Har to terminaler (anaconda og git bash) med litt ulik syntax og PATH som gir ulik tilgang til commandoer. Ukomfortabel med dette!!"
   ]
  },
  {
   "cell_type": "raw",
   "metadata": {},
   "source": [
    "!touch text.txt\n",
    "!mkdir my_folder\n",
    "!ls \n",
    "!conda install .."
   ]
  },
  {
   "cell_type": "raw",
   "metadata": {},
   "source": [
    "@ kan uttrykke dekatorer\n",
    "@interact\n",
    "def(f)"
   ]
  },
  {
   "cell_type": "markdown",
   "metadata": {},
   "source": [
    "##### markdown"
   ]
  },
  {
   "cell_type": "raw",
   "metadata": {},
   "source": [
    "```python\n",
    "def(x):\n",
    "    return x\n",
    "```\n",
    "har det noen kobling til celler i Rstudio notebooks mon tro..\n",
    "\n",
    "bruker `tekst` til å indikere variabelnavn. Får grå bakgrunn i markdown"
   ]
  },
  {
   "cell_type": "markdown",
   "metadata": {},
   "source": [
    "##### html"
   ]
  },
  {
   "cell_type": "raw",
   "metadata": {},
   "source": [
    "Litt med low-level enn markdown, kan ha noen utvidede funksjonaliter slik at jeg må bruke eksplisitt..\n",
    "\n",
    "Består av element\n",
    "\n",
    "<tag>text</tag> utgjør et element.\n",
    "\n",
    "noen tags har ekstra egenskap knyttet til dem. Internett linker har a-tag\n",
    "\n",
    "<a href=\"http://www.nrk.no\">nrk</a>\n",
    "\n",
    "Kan høyre-klikke på nettside og få hele source koden deres. Mye ting. Bedre å bruke f12 til å få opp developer tools. Kan deretter høyre-klikke på objekt på nettsiden og finne koden assosiert med det objektet."
   ]
  },
  {
   "cell_type": "markdown",
   "metadata": {},
   "source": [
    "##### widgets"
   ]
  },
  {
   "cell_type": "markdown",
   "metadata": {},
   "source": [
    "Vil ha litt interaktivitet i mine notebooks. Hvis de skal leses på pc så er det litt old fashion å være statisk"
   ]
  },
  {
   "cell_type": "markdown",
   "metadata": {},
   "source": [
    "from ipywidgets import interact\n",
    "\n",
    "interact(fun, p1=(0,1), p2=(0.,1.))"
   ]
  },
  {
   "cell_type": "markdown",
   "metadata": {},
   "source": [
    "# Library og moduler"
   ]
  },
  {
   "cell_type": "markdown",
   "metadata": {},
   "source": [
    "Enhver .py fil er en modul. Kan laste inn størrelser fra det namespacet inn i annen fil.\n",
    "\n",
    "Enhver (?) folder er en package. Derfra kan jeg laste inn ting fra moduler i folderen.\n",
    "\n",
    "Når vi bruker import, så søker interpreteren over\n",
    "\n",
    "1. Innebygde libraries\n",
    "2. Folder som er spesifisert i sys.path, liste av strings som angir plasseringer. Søker først over folder som scriptet ligger i, og deretter noe greier knyttet til anaconda... hvis jeg vil lage custom library som jeg har tilgang til globalt i stedet for å hele tiden kopiere over til samme path som scriptet jeg til enhver tid bruker så tror jeg at må lagre det der. Eventuelt finne en måte å legge til ny path i sys.path\n",
    "\n",
    "Kan bruke dir(library) til å undersøke strukturen i folderen\n",
    "\n",
    "Merk at import er lazy, så importerer ikke på nytt dersom allerede importert. Hvis vi gjør endring i modul må jeg restarte notebook for å få inn endring."
   ]
  },
  {
   "cell_type": "markdown",
   "metadata": {},
   "source": [
    "## Innebygde libraries"
   ]
  },
  {
   "cell_type": "markdown",
   "metadata": {},
   "source": [
    "counter hmm... iterables... time... "
   ]
  },
  {
   "cell_type": "markdown",
   "metadata": {},
   "source": [
    "## Egne libraries"
   ]
  },
  {
   "cell_type": "markdown",
   "metadata": {},
   "source": [
    "Det er gode idé å lage egne moduler for å skjule implementasjon og dermed gi ryddige kodebase. Dette kan jeg gjøre ved å lage .py filer i samme directory som main program/notebook.\n",
    "\n",
    "Dette kan også fasilitere gjenbruk av kode. Synes dette blir litt begrenset av at det må være i samme directory. Litt usikker på om jeg kan lage \"offisielt\" library som jeg får tak i overalt... tror det må ligge i den anaconda-mappen som det søker over... \n",
    "\n",
    "Tenker vi vil behandle script litt forskjellig avhengig av om de blir kjørt direkte som et main program, eller om det vi bare importerer noe av kode til et annet program. Hvert script har en \\_\\_name\\_\\_ variabel som angir hvordan kode blir kjørt.. kan bruke dette i en if-klausul, if name = main.. hm. \n",
    "\n",
    "altså, det programmet jeg execture får name=main. Andre script som kjøres via import får navn=scriptnavn.py, noe som betyr at alt som er i blokk if name==main: ikke blir kjørt når importert"
   ]
  },
  {
   "cell_type": "markdown",
   "metadata": {},
   "source": [
    "## Tredjepart libraries"
   ]
  },
  {
   "cell_type": "markdown",
   "metadata": {},
   "source": [
    "Kan installere med pip install eller conda install. Vet ikke om det er noen spesielle kriterier for at library skal bli tilgjengelig på den måten. Et alternativ er å få det gjennom github der folk laster opp. Finnes sikkert smarte måter å gjøre dette på.\n",
    "\n",
    "Det er egentlig bare tekstfiler med kode. Kan endres over tid dersom jeg installerer oppdateringer... dersom jeg har program eller kode som avhenger av slike importerte libraries og skal brukes over tid er det viktig å sikre at dette ikke skjer. Tror beste måten er å lage et virtual environment til applikasjonen.. tror anaconda har noe funksjonalitet på dette, eller så finnes det noe som heter \"docker\". Tror det er overkill ved mindre jeg begynner med software engineering.."
   ]
  },
  {
   "cell_type": "markdown",
   "metadata": {},
   "source": [
    "pip var lengde den dominerende package manageren og kommer nå default med python installering\n",
    "\n",
    "anaconda bygger videre på pip, håndterer software som ikke bare er python. Det gir også verktøy for å lage virtualenv.\n",
    "\n",
    "det er noen ting som kan installeres med pip, men ikke med conda."
   ]
  },
  {
   "cell_type": "markdown",
   "metadata": {},
   "source": [
    "## Virtual environments"
   ]
  },
  {
   "cell_type": "markdown",
   "metadata": {},
   "source": [
    "Globalt så har vi én versjon av python og én versjon av alle pakker som vi kan oppdate til nyeste versjon med conda update --all. Men når vi oppgraderer pakker så kan det være at våre program som importerer kode fra disse pakkene slutter å fungere 100% som de skal. For å forhindre at dette skal skje må vi isolere de fra det globale miljøet; lage en lokal tidskapsul der tiden står stille. Ved behov kan vi eventuelt oppdatere miljøet for å utnytte forbedrigner/utvidelser av tredjeparts libraries vi importerer.\n",
    "\n",
    "Finnes en virtualenv pakke som jeg kan laste ned; lurer på om jeg håndterer gjennom conda ....\n",
    "\n",
    "lurer om det blir spesifisert når programmet blir kjørt.. eller hvordan info blir lagret.."
   ]
  },
  {
   "cell_type": "markdown",
   "metadata": {},
   "source": [
    "# Innebygde datastrukturer"
   ]
  },
  {
   "cell_type": "markdown",
   "metadata": {},
   "source": [
    "## list og tuple"
   ]
  },
  {
   "cell_type": "markdown",
   "metadata": {},
   "source": [
    "### Mutable"
   ]
  },
  {
   "cell_type": "markdown",
   "metadata": {},
   "source": [
    "Det eksisterer objekt i minnet. Vi knytter objekt til variabelnavn til plassering i minnet slik at vi ikke trenger å huske deres fysiske adresse eller lignende.\n",
    "\n",
    "a = 2\n",
    "\n",
    "Vi 'binder' tallet 2 (mer presist: fysisk plassering til objektet 2 som eksister i minnet) til variabel a, som deretter fungerer som en referanse for det objektet.\n",
    "\n",
    "Deretter kan vi binde variabelen a til en ny variabel b. Dette skaper en enda en referanse for det samme objektet som eksister fysisk i minnet. Et objekt er mutable dersom vi kan endre egensakper på objektet uten å endre plassering i minnet. Siden variabelnavn refererrer til plassering i minnet vil endring i b også endre a. Dersom det ikke er mutable vil måtte lage nytt objekt for å endre b, som da får ny plassering i minnet som vi igjen må binde til variabelnavn. Det opprinnelige objektet som a mapper til er dermed uberørt."
   ]
  },
  {
   "cell_type": "markdown",
   "metadata": {},
   "source": [
    "### comprehension"
   ]
  },
  {
   "cell_type": "markdown",
   "metadata": {},
   "source": [
    "Ofte vil vi gjøre operasjon på hver element av iterable og lagre resultat i ny container. Kunne gjort dette eksplisitt ved å første lage container og deretter kontrusere en for-loop, men i python så har vi enkel one-liner,"
   ]
  },
  {
   "cell_type": "markdown",
   "metadata": {},
   "source": [
    "```python\n",
    "result = [f(x) for x in iterable]\n",
    "result = [f(x) for x in iterable if condition(x)]\n",
    "result = [f(x) if condition(x) else g(x) for x in iterable]\n",
    "```"
   ]
  },
  {
   "cell_type": "markdown",
   "metadata": {},
   "source": [
    "Kan bruke inputs fra to iterables"
   ]
  },
  {
   "cell_type": "markdown",
   "metadata": {},
   "source": [
    "```python\n",
    "result = [f(x1,x2) for (x1,x2) in zip(y1,y2)]\n",
    "```"
   ]
  },
  {
   "cell_type": "markdown",
   "metadata": {},
   "source": [
    "Kan også bruke comprehension på dictionaries"
   ]
  },
  {
   "cell_type": "markdown",
   "metadata": {},
   "source": [
    "```python\n",
    "result = {k:f(v) for (k,v) in some_dict.items()}\n",
    "result = {k:f(v) for (k,v) in some_dict.items() if condition(k)} # if-else er litt komplisert\n",
    "```"
   ]
  },
  {
   "cell_type": "markdown",
   "metadata": {},
   "source": [
    "## string"
   ]
  },
  {
   "cell_type": "markdown",
   "metadata": {},
   "source": [
    "Har mange fine metoder slik at kun i spesialtilfelle det er nødvendig med regex\n",
    "\n",
    "Vil ha litt oversikt over relevant metoder samt kanskje noe greier om encoding\n",
    "\n",
    "det er ikke alle symboler som er støttet av default encoding... hvis vi vil ha inn norske bokstaver så må vi bruke spesieell encoding.. kan googles......"
   ]
  },
  {
   "cell_type": "markdown",
   "metadata": {},
   "source": [
    "## dictionary"
   ]
  },
  {
   "cell_type": "markdown",
   "metadata": {},
   "source": [
    "Legge til nye greier i dict:\n",
    "1. min_dict['new_key'] = value\n",
    "2. old_dict.update(new_dict)\n",
    "\n",
    "Merk at vi selvsagt ikke kan bruke min_dict['key'] += value hvis key ikke allerde eksister.. litt usikker på om jeg kan håndtere dette på én linje eller om jeg må ha control flow med if/else\n",
    "\n",
    "Kan bruke pop(key) til å få ut item assosiert med key og samtidig slette key fra dict"
   ]
  },
  {
   "cell_type": "markdown",
   "metadata": {},
   "source": [
    "## Mengder"
   ]
  },
  {
   "cell_type": "markdown",
   "metadata": {},
   "source": [
    "sjekke om alle elementene  i en liste x er unike\n",
    "\n",
    "len(x) == len(set(x))\n"
   ]
  },
  {
   "cell_type": "markdown",
   "metadata": {},
   "source": [
    "## generator ?"
   ]
  },
  {
   "cell_type": "markdown",
   "metadata": {},
   "source": [
    "### zip\n",
    "\n",
    "Generer en iterable fra to iterables. Lager en tuple fra de korresponderende elementene i hver iterable. Lazy, så blir først evaluert når vi gjør noko spesifikt med generatoren. \n",
    "\n",
    "Eksempel: a = [1,2], b = [3,4]\n",
    "\n",
    "list(zip(a,b)) = [(1,3),(2,4)]\n",
    "\n",
    "Kan få tilbake listene fra en liste av tuples (liste-evaluering av generatoren). Må bruke asterisk for å få ut tuple.. hmm.. Merker oss at generatorer bare kan blir evaluert én gang. Hele poenget her er at vi ikke lagrer objektet i minnet.. vi bare finner fram én og én del ved behov. deretter kastes det. Så forsiktig hvis du skal iterate flere ganger. da må vi først konvertere til noe som ikke er generator slik at vi har det lagret i minnet! For eksempel list som er ganske fleksibel datastruktur. Funksjon kan sende ut generator med yield tror jeg...\n",
    "\n",
    "eks : zip(*zip(a,b)) ..\n",
    "\n",
    "Greien her er at vi tar zip på én tuple som består av mange subtubles som så blir unpacket til to tuples. hmmmm......\n",
    "\n",
    "a = zip(*(1,2),(3,4)) \n",
    "\n",
    "print(list(a)) = [(1,3),(2,4)]..\n"
   ]
  },
  {
   "cell_type": "markdown",
   "metadata": {},
   "source": [
    "# Funksjoner"
   ]
  },
  {
   "cell_type": "markdown",
   "metadata": {},
   "source": [
    "Filosofi:\n",
    "\n",
    "Do not repeat yourself (DRY)\n",
    "\n",
    "Do one thing (DOT) (funksjon inni funksjon, eks: main som caller helpers)"
   ]
  },
  {
   "cell_type": "markdown",
   "metadata": {},
   "source": [
    "Ulike måter å liste argument.."
   ]
  },
  {
   "cell_type": "markdown",
   "metadata": {},
   "source": [
    "```python\n",
    "def my_func(x,y=None, *args, **kwargs):\n",
    "    ''' docstring '''\n",
    "    params = **kwargs\n",
    "    return x+y if y else x\n",
    "```    \n"
   ]
  },
  {
   "cell_type": "markdown",
   "metadata": {},
   "source": [
    "Pass by assignment ... relevant distinksjon dersom input er mutable (eg: list)"
   ]
  },
  {
   "cell_type": "markdown",
   "metadata": {},
   "source": [
    "## TODO"
   ]
  },
  {
   "cell_type": "markdown",
   "metadata": {},
   "source": [
    "Funksjoner er helt fundamental byggestein i programmer. Vil utvide min kunnskap om dem. Mer komplekse program vil gjerne ha en litt hierarkisk struktur der hjelpefunksjoner bare gir mening innenfor en gitt context... Kan gjøre alt flatt ved å definere alle funksjoner i et global namespace som kjøres fra main, men skal se at det kan være bedre med nestede funksjoner. Det med nestede funksjoner skaper både utfordringer og muligheter.. Har litt avanserte greier knyttet til\n",
    "\n",
    "- namespace\n",
    "- closure\n",
    "- decorator\n",
    "- context manager\n",
    "- generator / yielding \n",
    "\n",
    "som vil ta mine python skeelz 2 da nxt lvl. Foreløpig er det kanskje greit nok å vite at dette eksisterer. Lærer ved behov.."
   ]
  },
  {
   "cell_type": "markdown",
   "metadata": {},
   "source": [
    "## Docstrings"
   ]
  },
  {
   "cell_type": "markdown",
   "metadata": {},
   "source": [
    "Vil at funksjoner skal kunne brukes av andre. Kan tenke på det som api; må vite hva den gjør, hvilke input og hvilke output. Ikke nødvendig å vite hvordan den transformerer input til output, litt av poenget her er å abstrahere. Kanskje ta eksempler og mer utfyllende beskrivelser under, avhenger av kompleksitet til funksjon."
   ]
  },
  {
   "cell_type": "markdown",
   "metadata": {},
   "source": [
    "```python\n",
    "\n",
    "def add(x,y):\n",
    "    ''' Plusser sammen x og y\n",
    "    \n",
    "    Args:\n",
    "        x (int or float): optional beskrivelse?\n",
    "        y (int or float):\n",
    "    \n",
    "    Returns:\n",
    "        int or float: int if all inputs are int, else float\n",
    "    \n",
    "    Raises:\n",
    "        ValueError: ..\n",
    "    \n",
    "    Notes:\n",
    "        Example: \n",
    "    '''\n",
    "    \n",
    "    return x+y\n",
    "```    "
   ]
  },
  {
   "cell_type": "markdown",
   "metadata": {},
   "source": [
    "Merk at funksjoner er objekt i likhet med alt annet i python. Kan binde plassering til variabel, plassere de i kolleksjon, gi de attribut med setattr, mm\n",
    "```python\n",
    "def my_func(x):\n",
    "    return 2*x\n",
    "\n",
    "new_name = my_func\n",
    "my_list = [my_func, new_name]\n",
    "4 == my_list[1]() # True\n",
    "```"
   ]
  },
  {
   "cell_type": "markdown",
   "metadata": {},
   "source": [
    "## lambda"
   ]
  },
  {
   "cell_type": "markdown",
   "metadata": {},
   "source": [
    "lambda er annonyme funksjoner. Giddsje gi de navn en gang. Syntax\n",
    "\n",
    "labda args:expression ---> returnere en funksjon\n",
    "\n",
    "eks: f = lambda x:2*x**2"
   ]
  },
  {
   "cell_type": "markdown",
   "metadata": {},
   "source": [
    "## Unpacking"
   ]
  },
  {
   "cell_type": "markdown",
   "metadata": {},
   "source": [
    "lager dict kwargs = dict(histtype='stepfilled', alpha=0.3, normed=True, bins=40)\n",
    "\n",
    "caller fuksjon med f(a,b, **kwargs)\n",
    "\n",
    "merk generelt at jeg kan feede ut innhold i container med * og ** slik at de blir evaluert som indivduelle argument i funksjonen. litt usikker på forskjellen"
   ]
  },
  {
   "cell_type": "markdown",
   "metadata": {},
   "source": [
    "## Decorator"
   ]
  },
  {
   "cell_type": "markdown",
   "metadata": {},
   "source": [
    "Dekorator @ er syntactic sugar... tror det gjør noe med input til funksjon før den blir callet.. så tror det er alternativ til å wrappe funksjon.."
   ]
  },
  {
   "cell_type": "markdown",
   "metadata": {},
   "source": [
    "## Context managers"
   ]
  },
  {
   "cell_type": "markdown",
   "metadata": {},
   "source": [
    "Vet ikke om dette passer inn under funksjoner."
   ]
  },
  {
   "cell_type": "markdown",
   "metadata": {},
   "source": [
    "Context managers gjør i stand en blokk der kode kan ha party også rydder de opp etterpå. Analog til å bestille catering...\n",
    "\n",
    "```python\n",
    "with <contextmanager>(<args>) [as f]: # noen context managers vil returne variabel..\n",
    "    <ha party>\n",
    "```\n",
    "\n",
    "Kan ha lyst til å sette opp custom context manager.. Kan da enten\n",
    "1. Bruker decotator @contextlib.contextmanager\n",
    "2. Lage class med \\_\\_enter\\_\\_() og \\_\\_exit\\_\\_() metoder\n",
    "\n",
    "det er et eller annet med at funksjonen \"yielder\" og får tilbake kontroll senere... og yielding har et eller annet med generatorer å gjøre"
   ]
  },
  {
   "cell_type": "markdown",
   "metadata": {},
   "source": [
    "## Noen innebygde funksjoner"
   ]
  },
  {
   "cell_type": "markdown",
   "metadata": {},
   "source": [
    "### filter"
   ]
  },
  {
   "cell_type": "markdown",
   "metadata": {},
   "source": [
    "Bruke filter til å få ut de elementene av iterable som en funksjon evaluerer som sann. Gir generator objekt.\n",
    "\n",
    "- filter(func, iterable)\n",
    "\n",
    "Har tilsvarende en funksjon filterfalse fra itertools som får ut elementere dere den evaluerer som false\n",
    "\n",
    "- filterfalse(func, iterable)\n",
    "\n",
    "eksempel:\n",
    "\n",
    "f = lambda x: x>= 0.5\n",
    "\n",
    "a = np.array([*filter(f, np.linspace(0,1))])"
   ]
  },
  {
   "cell_type": "markdown",
   "metadata": {},
   "source": [
    "### max"
   ]
  },
  {
   "cell_type": "markdown",
   "metadata": {},
   "source": [
    "max() har en optional key=func dersom objekt i iterabel mer annet enn bare tall. Kan bruke dette til å finne key til maksverdi i dict.\n",
    "\n",
    "-  max(dict, key = lambda key: dict[key])\n",
    "\n",
    "Tingen er at den looper over keyverdi, men i stedet for å gi max keyverdi så gir den key med max dict[key]\n"
   ]
  },
  {
   "cell_type": "markdown",
   "metadata": {},
   "source": [
    "# Applikasjoner"
   ]
  },
  {
   "cell_type": "markdown",
   "metadata": {},
   "source": [
    "Stort sett jobber jeg med script for å gjøre statisk analyse. Det brukes bare av meg og kjøres fra inni en text editor. Alternativt kan scriptet betraktes som (del av) en applikasjon eller program som brukes (som back-end) av andre.\n",
    "\n",
    "Scriptet har da en main funksjon som viser overordnet logikk og utfører formålet til applikasjon. Alle detaljer og mellom-steg blir behandlet i hjelpefunksjoner med deskriptive navn. Dette abstraherer vekk støy og gjør det mye enklere å følge logikken. Denne modularisering gjør det også enklere å gjenbruke kode. Importerer også hjelpefunksjoner fra andre libraries, potensielt inkludert mine egne. Gjenbruk av kode er bra og kan være lurt å begrense lengden på individuelle script.\n",
    "```python\n",
    "def main():\n",
    "    x = helper()\n",
    "    return x\n",
    "\n",
    "def helper():\n",
    "    pass\n",
    "\n",
    "main()\n",
    "```\n",
    "\n",
    "Scriptet kan kjøres lokalt på maskinen ved å skrive destinasjonen i command line prompt. Mer generelt så tenker jeg at scriptet fungerer som back-end for en web-applikasjon. Har brukervenlig interface med html/css, håndterer kommunikasjon mellom bruker og server med javascript (?) som gir input til mitt python script. Det utfører noen operasjoner og eventuelt returnerer output som blir kommunisert tilbake til bruker.\n",
    "\n",
    "Merk: kan være noe problem med å importere libraries når jeg kjører fra command line.. Har noe med PYTHONPATH som er liste med directories som søkes over for å finne library.."
   ]
  },
  {
   "cell_type": "markdown",
   "metadata": {},
   "source": [
    "Hvis jeg vil ha et program som kjører kontinuerlig i bakgrunnen kan jeg bruke,\n",
    "```python\n",
    "while True:\n",
    "    main()\n",
    "    time.sleep(0.1)\n",
    "```"
   ]
  },
  {
   "cell_type": "markdown",
   "metadata": {},
   "source": [
    "## Input"
   ]
  },
  {
   "cell_type": "markdown",
   "metadata": {},
   "source": [
    "Hvis applikasjonen skal brukes flere ganger og av flere personer så vil gjerne input variere. Ikke bare statistisk analyse av et spesifikt datasett, ikke sant. Har i utgangspunktet to måter å få input fra bruker\n",
    "\n",
    "1. Prompte bruker til å spesifisere med input()\n",
    "2. Ta det inn fra command line opsjoner (kan bruke batch fil / shell script, aner ikke hva det er)\n",
    "\n",
    "I praksis jobber jeg nok mye med filer som er god måte å large og organisere informasjon. Tar inputfil, gjør operasjoner og lagrer output fil. Automatiserer lagring i stedet for å (bare) formidle et resultat til bruker.\n",
    "\n",
    "Når scriptet har inputs fra bruker så er det ikke tilstrekkelig at *jeg* får det til å kjøre. Jeg må også håndtere at det kan oppstå feil som er syntaktisk korrekt slik at programmet kjører men som ikke vil gi det resultatet bruker forventer. Det er viktig å oppdage feil så tidlig som mulig og å kommunisere dette tilbake til brukeren på en slik måte at det er mulig å forstå problemet. "
   ]
  },
  {
   "cell_type": "markdown",
   "metadata": {},
   "source": [
    "Begynner med å validere input. Gjentar spørsmål helt til vi får gyldig\n",
    "```python\n",
    "while True:\n",
    "    prompt = \"...\"\n",
    "    response = int(input(prompt))\n",
    "    if not condition1(response):\n",
    "        print('Forklarer hva som er feil med input')\n",
    "    elif not condition2(response):\n",
    "        print('Forklarer hva som er feil med input')\n",
    "    ...\n",
    "    break\n",
    "```"
   ]
  },
  {
   "cell_type": "markdown",
   "metadata": {},
   "source": [
    "Utfordring at det kan være mange conditions å ta hensyn til og at det blir mange linjer med kode. Kan forenkle dette ved å bruke library pyinputsplus som har fine funksjoner som erstatter input(), men ser på dette ved behov."
   ]
  },
  {
   "cell_type": "markdown",
   "metadata": {},
   "source": [
    "## Error handling"
   ]
  },
  {
   "cell_type": "markdown",
   "metadata": {},
   "source": [
    "Finnes et hierarki av Errors ..hm"
   ]
  },
  {
   "cell_type": "markdown",
   "metadata": {},
   "source": [
    "try-except-else-finally \n",
    "\n",
    "else gjør ting på de som kom gjennom try. finally gjør sjit på alle. Er selvsagt ikke nødvendig å bruke alle."
   ]
  },
  {
   "cell_type": "code",
   "execution_count": 6,
   "metadata": {},
   "outputs": [
    {
     "name": "stdout",
     "output_type": "stream",
     "text": [
      "lol\n",
      "balla\n"
     ]
    }
   ],
   "source": [
    "try:\n",
    "    1/0\n",
    "except ZeroDivisionError:\n",
    "    print('lol')\n",
    "else:\n",
    "    print('halla')\n",
    "finally:\n",
    "    print('balla')"
   ]
  },
  {
   "cell_type": "markdown",
   "metadata": {},
   "source": [
    "## Command line"
   ]
  },
  {
   "cell_type": "markdown",
   "metadata": {},
   "source": [
    "Jeg har lyst til å kjøre script fra anaconda promt/command line av en eller annen grunn.\n",
    "\n",
    "Command line er gjør det mulig å interagere med filer og programmer på pc'en uten å bruke gui (pek og klikk, bevege gjennom foldere..). Litt usikker på hvilket språk den bruker men har litt kommandoer (mkdir, cd,  pip, ..). Tror kommando egentlig er et program (lite script som ligger lagret i directory i PATH) og alle program egentlig er fil.\n",
    "\n",
    "Kan skrive python kode direkte i ved å bruke kommando python. går tilbake med ctrl-z eller exit()\n",
    "\n",
    "Enklere å lage program som kjøres fra command line enn å lage et program med gui eller noe nettbaserte greier. Kan få inputs fra bruker gjennom\n",
    "\n",
    "1. input-prompts\n",
    "2. command line argumenter som tas inn når jeg starter programmet\n",
    "\n",
    "bruker import sys, sys.argv[1] gir først argument siden sys.argv[0] gir navn på fil\n",
    "\n",
    "det blir litt som å lage custom kammndo.. vanlige kommandoer har argumenter og nå kan mine custom scripts som jeg executer også gjøre det samme!"
   ]
  },
  {
   "cell_type": "markdown",
   "metadata": {},
   "source": [
    "### Kommandoer"
   ]
  },
  {
   "cell_type": "markdown",
   "metadata": {},
   "source": [
    "- where [kommando], angir hvor i PATH commando ligger\n",
    "- start [program.ext], åpner fil i default text editor for den extension"
   ]
  },
  {
   "cell_type": "markdown",
   "metadata": {},
   "source": [
    "### bash"
   ]
  },
  {
   "cell_type": "markdown",
   "metadata": {},
   "source": [
    "Tror at command-line \"språket\" i windows er nedstrippet versjon av msdos. I linux/macos bruker de unix som er bedre. Unix er operativsystem.. tror macos or linux er bygget unix. \n",
    "\n",
    "Unix er laget for at flere brukere bruker samme datamaskin... Har sånn greier med tilgang for ulike brukere i systemet.. sysadmin sjit. På toppen av hierarkier er superuser som har root privelegie og kan gjøre det han vil.. kan få privelgie ved bruke keyword sudo (superuser do) .. \n",
    "\n",
    "bash er skall som interface til operativsystem..  skall er commandline interpreter. Bash er én, command prompt er annen.\n",
    "\n",
    "bash er ikke native til windows, så må laste ned programmet \"git bash\" hvis jeg vil kjøre bash commands (inkl for github).\n",
    "\n",
    "litt usikker på om jeg kan erstratte command prompt med bash og bare lære det i stedet..."
   ]
  },
  {
   "cell_type": "markdown",
   "metadata": {},
   "source": [
    "#### scripting"
   ]
  },
  {
   "cell_type": "markdown",
   "metadata": {},
   "source": [
    "\"Alt er fil\" - programmer er filer, jeg skriver pathen deres... kan gjøre ting fra skall? kan kjøre python ting i hvertfall, men relevant for andre programmer?\n",
    "\n",
    "Kan lage binde lokale (?) variabler\n",
    "\n",
    "FOO=\"bar\", merk at \"\" er opsjonal dersom string ikke inneholder whitespace\n",
    "\n",
    "får ut med \\$bar, output som kommando\n",
    "\n",
    "environmental variable\n",
    "\n",
    "export FOO=bar, kan få tilgang til variabel i program som blir kjørt fra bash skall\n",
    "\n",
    "PATH er viktig enviromental variabel. Inneholder liste over directories som bash søker over når vi skriver kommando; hvis fil (program) ligger i en av directory blir det kjørt hvis vi skriver navnet uten å spesifisere hele path. fungerer litt som shortcut: hvis fil ligger i folder som er inkludert i PATH så trenger vi bare skrive navn på fil i stedet for hele path. Litt som om at det hele tiden ligger i current directory. Har analog til hvordan python søker over filer når vi vil importere med import ...\n",
    "\n",
    "Kan legge til paths i PATH med \"export PATH=$PATH:ny/path\". Bruker \":\" til å skille mellom paths."
   ]
  },
  {
   "cell_type": "markdown",
   "metadata": {},
   "source": [
    "#### kommandoer"
   ]
  },
  {
   "cell_type": "markdown",
   "metadata": {},
   "source": [
    "Må bruke ctrl-shift-v får å paste i git bash skallet\n",
    "\n",
    "commando har i tillegg parametre som er enten argument eller opsjon. opsjon er én bokstav og har - foran. Litt vanskelig å huske opsjoner.. \n",
    "\n",
    "- echo, litt sånn som print ..\n",
    "- echo blablablal \\n blablabla >filnavn.txt, lage file og skrive innhold. Må bruke -e opsjon for at den skal tolke /n,/t\n",
    "- sort -r <filnavn.txt, kan printe innehold fra fil inn i skallet\n",
    "- history, gir liste av kommando jeg har kjørt\n",
    "- clear, fjerner output fra terminal/skall \n",
    "- cd [path], kan bruke .. for parent, ~ for home\n",
    "- ls [path], kan liste innhold i directories som jeg ikke er i \n",
    "- rm [fil], slette fil. slette directory med -R\n",
    "- rmdir [directory], slette tom directory. \n",
    "- cp path1 path2, lage kopi av fil eller directory (med -R)\n",
    "- rm path1 path2, flytte fil. rename hvis nytt navn i samme folder.\n",
    "- touch [filnavn.ext], lager tom fil. Noen filtyper på ha litt metadata så ikke alt som kan åpnes..\n",
    "\n",
    "Special symbols\n",
    "- a | b, piper output fra a inn b\n",
    "- a && b, kjører sekvensielt og b kun kjørt dersom a var success"
   ]
  },
  {
   "cell_type": "markdown",
   "metadata": {},
   "source": [
    "#### opsjoner"
   ]
  },
  {
   "cell_type": "markdown",
   "metadata": {},
   "source": [
    "Har korte opsjonsnavn med én - og én bokstav. Har lange opsjoner med dobbel - og mer informativt navn; gir samme output\n",
    "\n",
    "- R, rekusivt\n",
    "- l, long (feks vise meta data i ls)\n",
    "- i, interaktivt, greit hvis man risikerer å slette ting hvis overkjører det som er det fra før\n",
    "- --help gir dokumentasjon"
   ]
  },
  {
   "cell_type": "markdown",
   "metadata": {},
   "source": [
    "#### glob patterns"
   ]
  },
  {
   "cell_type": "markdown",
   "metadata": {},
   "source": [
    "Kan bruke wildcards til å lage mønstre som filterer filer i stedet for å liste de eksplisitt som argument i kommandoer. Litt analog til regex men med andre regler. Får forsøke å lære når/hvis blir relevant. Tror jeg bruke grep kommando for å søke. \n",
    "\n",
    "- ?, matcher på alle string med lengde én, kan bruke text?.txt til å få tekst1.txt, tekst2.txt ...\n",
    "- \\* matcher på alt, kan bruke *.txt til å få alle tekstfiler, eller * til å få alle filer\n",
    "- [abc] alle filer som inneholder bokstavene (alle eller minst en?)\n",
    "- [!abc] alle som *ikke* inneholder\n",
    "\n",
    "noe greier om at man kan pipe kommando med | og kan gjøre noe med &&"
   ]
  },
  {
   "cell_type": "markdown",
   "metadata": {},
   "source": [
    "## git"
   ]
  },
  {
   "cell_type": "markdown",
   "metadata": {},
   "source": [
    "Versjonskontrollsystem for filer. Laget av mr. Linus og basert på unix, men jeg kan kjøre på windows med git bash\n",
    "\n",
    "Gjør det mulig for flere å gjøre endringer på samme fil samtidig. Naiv fremgangsmåte for samarbeid: Har felles tilgang til et main depository. Kopierer fil, jobber med den lokalt og deretter laster opp når jeg er ferdig. Hva hvis to stykker sitter og gjør endring på samme fil samtidig? Personen som laster opp sine endringer sist vil overskrive endringer gjort av første person!\n",
    "\n",
    "Versjonskontroll gjør det også mulig å gå tilbake til tidligere versjoner. Hadde tatt veldig mye plass hvis vi lagre kopi av hele main depository på ulike tidspunkt: kan i stedet lagre differanse versjoner på ulike tidspunkt og rulle tilbake.\n",
    "\n",
    "Innfører også såkalt branch: kan utvikle eksperiment og prøve/feile uten å ødelegge for main programmet. Kan merge branch når det er blitt testet.\n",
    "\n",
    "Initialiserer versjonskontroll på et directory slik at det blir et repository..."
   ]
  },
  {
   "cell_type": "markdown",
   "metadata": {},
   "source": [
    "Repository består av \n",
    "1. filer og folders som i vanlig disk\n",
    "2. info om endringer over tid, .git fil i root directory (blir lag til når jeg initialiserer folder som repo, begynner med . indikerer at privat)\n",
    "\n",
    "hmm\n",
    "1. Staging area der filer kan bli endret, tror flere kan ha tilgang osv, alternativ til lagrig lokal\n",
    "2. Comitter alt i staging area til master der det ikke lenger kan bli endret direkte; må slette eller commite ny.\n",
    "\n",
    "Filer i repo kan ha tre tilstander:\n",
    "1. Modified (endring fra commited, men ikke plassert i staging area enda)\n",
    "2. Staged\n",
    "3. Committed"
   ]
  },
  {
   "cell_type": "markdown",
   "metadata": {},
   "source": [
    "### Branching"
   ]
  },
  {
   "cell_type": "markdown",
   "metadata": {},
   "source": [
    "Bruker branching for å unngå/håndtere merge konflikter. Hvis vi bare har main repo som flere personer cloner, gjør endringer i samme linjer på samme linjer og alle forsøke å pushe det til main repo så blir det bare kødd. Men hvis vi har brancher, så kan de pushe det til branch slik at andre på teamet kan se deres endringer. Tenker at de da kan klone branchen slik at de får det lokalt, kombinere arbeidet de ulike folkene har gjort (manuelt) slik at helheten blir bra. Når en branch er kosher kan den merges slik at det blir en del av main. Deretter kan folk klone main igjen og syklusen kan fortsette."
   ]
  },
  {
   "cell_type": "markdown",
   "metadata": {},
   "source": [
    "### Kommandoer"
   ]
  },
  {
   "cell_type": "markdown",
   "metadata": {},
   "source": [
    "- git init, initalisere en mappe som root i repo \n",
    "- git status (oversikt over filer som er modified eller staged)\n",
    "- git diff (se på endring i repo relativ til forrige commit, viser hva som var før og hva som kom til..)\n",
    "- git add # legge til fil i staging area\n",
    "- git commit -r \"message\" # commit alt innhold i staging area til master, legge til kommentar så man ser det i loggen\n",
    "- git push [origin] [branch], kloner (?) lokal repo til remote repo \n",
    "- git clone [adresse]\n",
    "- git log # oversikt over commits overt tid, har hash som identifiserer commit \n",
    "- git show, oversikt over forskjellen mellom snapshots..\n",
    "- git branch, se hvilke branch vi jobber med... lage ny med git branch -b [name]\n",
    "- git checkout [branch], bytte branch\n",
    "- git clone [url], klone remote depository til lokal\n",
    "- git remote add origin [url], legge til remote depository slik at den vet hvor den skal \n",
    "- git reset hash, resetter commit til hash. vet ikke om det gjør noe med filene i directory, men går ut ifra det\n",
    "- git clone, usikker\n",
    "- git fetch, få alle branches fra remote repo\n",
    "- git merge [branch], bruke mens main er aktiv branch"
   ]
  },
  {
   "cell_type": "markdown",
   "metadata": {},
   "source": [
    "special variables \n",
    "- HEAD, gir hash til siste commit\n",
    "- HEAD~k, gir hash til k steg bakover"
   ]
  },
  {
   "cell_type": "markdown",
   "metadata": {},
   "source": [
    "### Workflow"
   ]
  },
  {
   "cell_type": "markdown",
   "metadata": {},
   "source": [
    "Basic workflow i programutvikling:\n",
    "\n",
    "1. Lage branch i fra main i ekstern repo\n",
    "2. Utvikle nye features eller fikse på eksisternede kode, jobbe lokalt\n",
    "3. Pushe til ekstern repo slik at andre kan se på endringene\n",
    "4. Code review\n",
    "5. Merge med main\n",
    "6. Slette branch og begynne på nytt\n",
    "\n",
    "Navn på branch bør være litt informativt slik at det er mulig å skjønne hva som foregår i branch uten å se på kode,\n",
    "\n",
    "* feature/ny_feature\n",
    "* fix/hva_fikses"
   ]
  },
  {
   "cell_type": "markdown",
   "metadata": {},
   "source": [
    "### github"
   ]
  },
  {
   "cell_type": "markdown",
   "metadata": {},
   "source": [
    "Tjeneste som hoster repository i skyen slik at andre får tilgang og eventuelt foreslå endringer/samarbeide om innholdet i tekstfilene. \n",
    "\n",
    "Har en velutviklet og brukervenlig gui. Har også noen ekstra verktøy\n",
    "\n",
    "jeg vil finne smartere måte å clone repository enn min download to zip -> extract workflow lol. \n",
    "\n",
    "Kan også bruke github til å lage webside for å dele mine greier"
   ]
  },
  {
   "cell_type": "markdown",
   "metadata": {},
   "source": [
    "## anaconda"
   ]
  },
  {
   "cell_type": "markdown",
   "metadata": {},
   "source": [
    "Har anaconda prompt som basically er command prompt med litt ekstra features.\n",
    "\n",
    "Vet ikke hva som er så relevant med anaconda eller om det trenger egen seksjon lol, tror det har noen greier for virtual enviroment som kanskje blir relevant."
   ]
  },
  {
   "cell_type": "markdown",
   "metadata": {},
   "source": [
    "## gui og nettside"
   ]
  },
  {
   "cell_type": "markdown",
   "metadata": {},
   "source": [
    "Tror aldri jeg vil gidde å lage en applikasjon med brukervenlig gui som andre kan laste ned og bruke. Mer relevant å ha et interface på nettside som bruker kan interagere med.\n",
    "\n",
    "Tror github gjør mulig å hoste nettside. Tror dette er fremtiden og må lære git"
   ]
  },
  {
   "cell_type": "markdown",
   "metadata": {},
   "source": [
    "# Modularisering"
   ]
  },
  {
   "cell_type": "markdown",
   "metadata": {},
   "source": [
    "Når vi skriver én-gangs script er det gjerne tilstrekkelig at python compileren forstår hva vi prøver å gjøre: det er syntaktisk og semantisk korrekt. I praksis er det ofte ikke bare pc'en som skal lese koden, men også andre personer eller en fremtidig versjon av meg selv. Den bør derfor være organisert og utformet på en ryddig måte. Koden bør være selvforklarende; hva vi gjør bør komme til uttrykk gjennom variabelnavn og kode. Det er enklere å kommunisere intensjon ved å gjøre én ting om gangen, selv om det kan medføre ekstra linjer. For å forstå selve implementeringen er det nødvendig å finlese koden, men dette får være opp til brukeren og ikke nødvendig å beskrive med kommentarer som bloater kodebasen.\n",
    "\n",
    "Dersom koden vi skriver skal brukes flere ganger (inngå i applikasjon, bli del av public repo som andre bruker) bør den i tillegg modulariseres slik at det blir enklere å teste, debugge, endre og utvide funksjonalitet. Ved å organisere kode i funksjoner kan vi isolere blokker av kode der vi kun trenger å bry oss om hva som kommer inn og ut av blokken; abstraherer vekk selve implementeringen som kan endres over tid. Dette fasiliterer også gjenbruk av kode. Skal også se på objekt-orientert programmering som er en annen måte å organisere kodebasen.\n",
    "\n",
    "Tror fremtiden er å tenke på alt som API: må vite hva som er tilgjengelig og hvilke inputs kan transformeres til hvilke output. Unngå å bry meg om implementering (dersom ikke nødvendig). Tilstrekkelig å jobbe med public interface til kode uten å se på source. For at dette skal bli operativt må jeg har workflow der jeg kan lese dokumentasjon på god måte. Tror også det vil hjelpe å bli litt bedre på å skrive egen dokumentasjon."
   ]
  },
  {
   "cell_type": "markdown",
   "metadata": {},
   "source": [
    "## Best practice"
   ]
  },
  {
   "cell_type": "markdown",
   "metadata": {},
   "source": [
    "Det er mange måter å skrive 'korrekt' kode og folk kan ha ulike preferanser og (u)vaner for formatering, navngiving av variabler og lignende. For å gjøre det enklere å lese bør koden følge faste konvensjoner slik at vi ikke trenger å ta hesyn til idiosynkratien til personen som skrev koden. Disse konvensjonene utgjør til dels de *beste* konvensjonene som bestemt av fellesskapet, men det viktigste er at det ugjør én konvensjon. Målet er å frikoble kode fra forfatteren slik at flere personer kan samarbeide uten å se hvem som har skrevet hva. Man blir også vant til å lese kode som følger gitt konvensjon slik at det blir enkelt å skille signal fra støy og finne det man leter etter."
   ]
  },
  {
   "cell_type": "markdown",
   "metadata": {},
   "source": [
    "### pep8"
   ]
  },
  {
   "cell_type": "markdown",
   "metadata": {},
   "source": [
    "Den offisielle stilguiden for python. Tenker å skrive inn litt regler her etter hvert som de blir relevant. Kan også ha egne regler innenfor et prosjekt, f.eks. med utforming av docstring som vi skal se nedenfor."
   ]
  },
  {
   "cell_type": "code",
   "execution_count": null,
   "metadata": {},
   "outputs": [],
   "source": []
  },
  {
   "cell_type": "markdown",
   "metadata": {},
   "source": [
    "# Objektorientert"
   ]
  },
  {
   "cell_type": "markdown",
   "metadata": {},
   "source": [
    "Alt i python er objekt. Det betyr at det tilhører en class med felles metoder og attributt. I python finnes det spesielle metoder, eks a + b == a.add(b) der add er spesiell metode (og forsåvidt også ==). Tror spesielle metoder er definert med to underscores. Hva '+'-operatoren gjør avhenger av metoden på classen til objektet. Hva som skjer når vi plusser avhenger når vi plusser objekter fra ulike classer (og og med er gyldig) avhenger av konvensjoner. Har built-in classer med tilhørende metoder, men det kan ofte være gode grunner til å lage våre egne. Og uansett vil kunnskap om objekter-orientert programmering gi bedre forståelse av libraries siden de som oftest er organisert på denne måten."
   ]
  },
  {
   "cell_type": "markdown",
   "metadata": {},
   "source": [
    "## Objekt"
   ]
  },
  {
   "cell_type": "markdown",
   "metadata": {},
   "source": [
    "Består av metoder og data. Metodene er felles for alle instancer av objekt, men de kan ha ulik data. For eksempel kan to biler i utgangspunktet ha vært identitiske, men hver bil er distinkte instancer med ulik mengde bensin på tanken osv. Data holder oversikt over informasjonen til instance og blir brukt i metoder. En metode er en funksjon som tar instance (self) som første argument. Kan skille mellom to typer metoder:\n",
    "1. Accessor (metode som gir tilgang til spesifikk data om instance)\n",
    "2. Mutator (metode som endrer/oppdateter da til instance), kan velge om gjøre inplace eller returnere ny referanse \n",
    "\n",
    "Når det gjelder denne dataen så er den lagret i instance attributt. Disse blir initialisert når et instance av objektet blir laget i en constructor. Litt usikker på forskjellen mellom instane variable og attribut. Det er forøvrig også poeng at instance variabel er 'intern' selv om dette ikke er enforced i python; kun konvensjon å navngi de med ledende underscore."
   ]
  },
  {
   "cell_type": "markdown",
   "metadata": {},
   "source": [
    "Det er litt poeng at objekter i python har noen viktige built-in metoder.. getter og setter.. usikker på dette."
   ]
  },
  {
   "cell_type": "markdown",
   "metadata": {},
   "source": [
    "### Constructor"
   ]
  },
  {
   "cell_type": "code",
   "execution_count": 2,
   "metadata": {},
   "outputs": [
    {
     "name": "stdout",
     "output_type": "stream",
     "text": [
      "Sverre\n",
      "Sverre Master 26 :(\n"
     ]
    }
   ],
   "source": [
    "class Person:\n",
    "    def __init__(self,name,age='unknown'):\n",
    "        self.name = name\n",
    "        self.age = age\n",
    "        \n",
    "    def update_age(self, age):\n",
    "        self.age = age\n",
    "        return self\n",
    "\n",
    "class Student(Person):\n",
    "    def __init__(self,name,status):\n",
    "        Person.__init__(self,name)\n",
    "        self.status = status\n",
    "\n",
    "b = Person(\"Sverre\")\n",
    "print(b.name)\n",
    "a = Student(\"Sverre\",\"Master\")\n",
    "a.update_age('26 :(')\n",
    "print(a.name,a.status, a.age )\n"
   ]
  },
  {
   "cell_type": "markdown",
   "metadata": {},
   "source": [
    "Kan inherite metoder fra superclass til subclass som er special case med nye metoder. Denne organiseringen kan tillate mye gjenbruk av kode, men hver objekttype er ganske fleksibel så ikke ofte nødvendig å lage eksplisitt hierarki bare fordi ulike instancer kan være litt forskjellig... "
   ]
  },
  {
   "cell_type": "markdown",
   "metadata": {},
   "source": [
    "### Public interface"
   ]
  },
  {
   "cell_type": "markdown",
   "metadata": {},
   "source": [
    "Noe av fordelen med objektorientert design er at vi kan skjule detaljer ved implementering fra bruker som kun ser metodene (med deres docstrings) og attributt. Det er viktig at funksjonsnavn og docstrings er informativt nok til at bruker ikke har behov til å se på faktisk implementering. Designet er også fleksibelt slik at det går ann å endre kodebase uten at det påvirker bruker eller ødelegger gammel kode."
   ]
  },
  {
   "cell_type": "markdown",
   "metadata": {},
   "source": [
    "# Jobbe med filer"
   ]
  },
  {
   "cell_type": "markdown",
   "metadata": {},
   "source": [
    "Input og output i tekstfiler. Lagre arbeid så man får tilgang til senere og kan sende til andre..\n",
    "\n",
    "Vil også slette, flytte, endre på innhold, mm.,  i filer. Dette er jo ting man kan gjøre gjennom peke og klikk i gui til operativsystem, men dersom det er mønster kan vi automatisere med veldefinert løkke. \n",
    "\n",
    "Bruker i hovedsak os.path og os.shutil... \n",
    "\n",
    "Litt vanskelig å jobbe med paths siden '/' er special character og windows bruker det i sine paths.."
   ]
  },
  {
   "cell_type": "markdown",
   "metadata": {},
   "source": [
    "## Lese og skrive fra .txt filer"
   ]
  },
  {
   "cell_type": "markdown",
   "metadata": {},
   "source": [
    "```python\n",
    "with open(filename) as f:\n",
    "    lines = f.read_lines():\n",
    "        for line in lines:\n",
    "            ...\n",
    "```        "
   ]
  },
  {
   "cell_type": "markdown",
   "metadata": {},
   "source": [
    "Det er et poeng at det er ganske tregt å laste/skrive fra harddisk. Noe greie om at jeg heller vil ha ting i minnet, men på en annen side er det begrenset med plass der. Hvis jeg jobber med store filer tror jeg det er noe poeng med at jeg må buffere ting inn i minnet litt gradvis."
   ]
  },
  {
   "cell_type": "code",
   "execution_count": 58,
   "metadata": {},
   "outputs": [
    {
     "name": "stdout",
     "output_type": "stream",
     "text": [
      "<class '_io.TextIOWrapper'>\n",
      "<class '_io.BufferedReader'>\n",
      "b'hei'\n"
     ]
    }
   ],
   "source": [
    "with open('test.txt','w') as f:\n",
    "    f.write('hei')\n",
    "    print(type(f))\n",
    "with open('test.txt','rb') as f:\n",
    "    print(type(f))\n",
    "    print(f.read()) "
   ]
  },
  {
   "cell_type": "markdown",
   "metadata": {},
   "source": [
    "## paths"
   ]
  },
  {
   "cell_type": "markdown",
   "metadata": {},
   "source": [
    "Filer ha to egenskaper\n",
    "- filnavn som inkluderer en extension som spesifiserer hvilken filtype det er\n",
    "- path som angir plassering i forhold til en root folder. \n",
    "\n",
    "Filer ligger i en folder som igjen ligger i folder.. trestruktur opp til en rot. Har to typer paths\n",
    "- Absolutt path som begynner i øverste folder i disken\n",
    "- Relativ path som angir plassering i forhold til current working directory. Merk at all program har cwd. Det kan avhenge litt av hvor program blir kjørt fra\n",
    "\n",
    "I windows brukes '\\' som seperator mellom directories. I python strings brukes '\\' til å angi spesielle characters, eks linebreak '\\n'. Vi må bruke '\\\\' for at python skal tolke som '\\'. Det er derfor slitsomt å angi paths med string. Dessuten brukes '/' som seperator i andre operativsystem, som må ta hensyn til dette hvis andre skal bruke programmet. I stedet for strings bruker vi derfor et Path-objekt til å representere pathen. Merk at pathlib erstatter os.path"
   ]
  },
  {
   "cell_type": "markdown",
   "metadata": {},
   "source": [
    "### pathlib"
   ]
  },
  {
   "cell_type": "markdown",
   "metadata": {},
   "source": [
    "```python\n",
    "from pathlib import Path\n",
    "path1 = Path('sub','sub1')\n",
    "path2 = Path('sub/sub2')\n",
    "path3 = path2 / 'sub3'\n",
    "```\n",
    "returnerer WindowsPath hvis programmet kjørt på windows.\n",
    "\n",
    "kan få ut som string med str(path)\n",
    "\n",
    "kan få ut nytt Path-objekt med cwd med path.cwd()\n",
    "\n",
    "kan konstruer nye pathobjekt med '/' operator mellom Path og Path eller Path og string, eks: path / 'sub3'\n",
    "\n",
    "kan lage nye folder i path med path.mkdir('folder_name')\n",
    "\n",
    "kan sjekke om gitt path er absolutt med path.is_absolute()\n",
    "\n",
    "for å lage absolutt så er det bare å ta path.cwd() / path('my')\n",
    "\n",
    "kan bruke Path.home()"
   ]
  },
  {
   "cell_type": "markdown",
   "metadata": {},
   "source": [
    "## Shell utilities"
   ]
  },
  {
   "cell_type": "markdown",
   "metadata": {},
   "source": [
    "Gir meg utilities til å flytte, rename, kopiere, slette filer. Interagere med operativsystem; ting som kan gjøres fra skall (terminal), men som jeg også kan gjøre inne i python.\n",
    "\n",
    "- shutil.copy(source, dest) # inidivduell fil\n",
    "- shutil.copytree(source, dest) # flytte alt innhold av folder, inkludert subfolderse\n",
    "- shutil.move( ) # ikke behold i source\n",
    "\n",
    "Bruker send2trash module for å slette filer. Lurt å kjøre skript med print() på filer som slettes for å unngå feil"
   ]
  },
  {
   "cell_type": "markdown",
   "metadata": {},
   "source": [
    "## os"
   ]
  },
  {
   "cell_type": "markdown",
   "metadata": {},
   "source": [
    "litt usikker på hva jeg bruker herfra nå som jeg bruker pathlib i stedet... os.listdir() er jo litt nice og os.walk er fett"
   ]
  },
  {
   "cell_type": "markdown",
   "metadata": {},
   "source": [
    "### walk"
   ]
  },
  {
   "cell_type": "markdown",
   "metadata": {},
   "source": [
    "Jobber seg rekursivt gjennom paths i tre med opphav i top_path. Hver directory får sin mulighet til å være rot. For hver directory vi er inni får vi ut tuple med rot, liste av directories og liste av filer. Hvis vi har lyst til å gjøre noe med alle filer som oppfyller et gitt kriterie kan vi feks:"
   ]
  },
  {
   "cell_type": "markdown",
   "metadata": {},
   "source": [
    "```python\n",
    "for root, dirs, files in os.walk(top_path):\n",
    "    for name in files:\n",
    "        if condition(name):\n",
    "            path = os.path.join(root, name)\n",
    "            send2trash.send2trash(path)\n",
    "```"
   ]
  },
  {
   "cell_type": "markdown",
   "metadata": {},
   "source": [
    "## zipfile"
   ]
  },
  {
   "cell_type": "markdown",
   "metadata": {},
   "source": [
    "Kompresse og unkompresse filer. Tar mindre når zippet, men kan ikke kjøre mens zippet. må først unzippes. Likevel greit for å lagre og sende filer..\n",
    "\n",
    "```python\n",
    "newZip = ZipFile('name.zip','w')\n",
    "newzip.write('fil.txt')\n",
    "```\n",
    "ZipFile().extractall()"
   ]
  },
  {
   "cell_type": "markdown",
   "metadata": {},
   "source": [
    "## web scraping"
   ]
  },
  {
   "cell_type": "markdown",
   "metadata": {},
   "source": [
    "Må lese automate boring stuff with python igjen .."
   ]
  },
  {
   "cell_type": "markdown",
   "metadata": {},
   "source": [
    "### BeautifulSoup"
   ]
  },
  {
   "cell_type": "markdown",
   "metadata": {},
   "source": [
    "Det enkleste er å bruke requests + bs4 stack. Workflow:\n",
    "\n",
    "1) res = requests.get(url)\n",
    "\n",
    "2) soup = bs4.BeautifulSoup(res.text)\n",
    "\n",
    "3) element = soup.select( ... ) -> finner elementen, får ut en liste av tag objekt.. \n",
    "\n",
    "4) url1 = element[0]+.. -> får url som string\n",
    "\n",
    "5) res = requests.get(url1)\n",
    "\n",
    "6) with open(..,\"wb\" as f: f.write(res.iter_chunks(10\\**5))). Skrive det ned til fil\n",
    "\n",
    "7) element1 = soup.select( ...) -> finner elementen som tar oss til ny side\n",
    "\n",
    "8) url = element1[0] + .. -> får url til neste side\n",
    "\n",
    "algoritmen over fungerer dersom hver side har samme oppsett. forige, neste.. kan ta try/except for tilfeller der filen vi vil ha ikke eksisterer på nettsiden. for mer kompliserte ting kan vi bruke selenium som imiterer menneskelige klikk. \n",
    "\n",
    "hashtag: road2scriptkiddie"
   ]
  },
  {
   "cell_type": "markdown",
   "metadata": {},
   "source": [
    "##### BeautifulSoup\n",
    "\n",
    "import bs4\n",
    "\n",
    "soup = bs4.BeautifulSoup(markup string)\n",
    "\n",
    "lettere å jobbe med dette beautifulsoup objektet enn med stringen direkte\n",
    "\n",
    "bruker soup.select(CSS LOOKUP) til å få ut element som matcher lookupen... litt usikker på hvordan fungerer. eksempel:\n",
    "\n",
    "-  elems = soup.select(\"#author\")\n",
    "\n",
    "elems er liste med bs4.element.tag objekt... har attributt/metoder. Tror dette hadde vært enklere å skjønne hvis jeg kunne HTML lol"
   ]
  },
  {
   "cell_type": "markdown",
   "metadata": {},
   "source": [
    "### Requests\n",
    "Bruker requests modul til å laste ned innhold fra nettside\n",
    "\n",
    "-  res = requests.get(\".../fil.txt\")\n",
    "\n",
    "Det gir oss et Respons objekt... Vil få ut stringen og lagre den til som en fil på datamaskinen. Må bruke \"wb\", write binary, for å lagre formatering. Eksempel:\n",
    "\n",
    "with open(\"RomeoJuliet.txt\",\"wb\") as f:\n",
    "    \n",
    "    for chunk in res.iter_content(10**5):\n",
    "    \n",
    "        f.write(chunk)\n",
    "        \n",
    "Spesifiserer antall bytes for å ikke bruke opp for mye minne om gangen... kunne alternativ brukt res.text til å få ut hele stringen med en gang.\n",
    "\n",
    "Kan også bruke requests.get(\"internettside\") til å få html koden til den siden."
   ]
  },
  {
   "cell_type": "markdown",
   "metadata": {},
   "source": [
    "##### BeautifulSoup\n",
    "\n",
    "import bs4\n",
    "\n",
    "soup = bs4.BeautifulSoup(markup string)\n",
    "\n",
    "lettere å jobbe med dette beautifulsoup objektet enn med stringen direkte\n",
    "\n",
    "bruker soup.select(CSS LOOKUP) til å få ut element som matcher lookupen... litt usikker på hvordan fungerer. eksempel:\n",
    "\n",
    "-  elems = soup.select(\"#author\")\n",
    "\n",
    "elems er liste med bs4.element.tag objekt... har attributt/metoder. Tror dette hadde vært enklere å skjønne hvis jeg kunne HTML lol"
   ]
  },
  {
   "cell_type": "markdown",
   "metadata": {},
   "source": [
    "# Annet"
   ]
  },
  {
   "cell_type": "markdown",
   "metadata": {},
   "source": [
    "## Tallsystem"
   ]
  },
  {
   "cell_type": "markdown",
   "metadata": {},
   "source": [
    "Jeg vil si litt om tallsystem. Vi bruker titallssystem med ti \"grunnleggende\" tall. Kan lage nye tall ved å kombinere disse i en rekkefølge. Vekten vi legger på hver av grunntallene avhenger av plassering. Vekten blir multiplisert med 10 når vi beveger oss én plassering mot venstre. Kan være nyttig å representere det i en liste med omvendt rekkefølge."
   ]
  },
  {
   "cell_type": "code",
   "execution_count": 13,
   "metadata": {},
   "outputs": [
    {
     "name": "stdout",
     "output_type": "stream",
     "text": [
      "2354\n"
     ]
    }
   ],
   "source": [
    "tall = 2354\n",
    "tall_liste = [int(digit) for digit in str(tall)[::-1]]\n",
    "print(sum([tall_liste[k]*10**k for k in range(len(tall_liste))]))"
   ]
  },
  {
   "cell_type": "markdown",
   "metadata": {},
   "source": [
    "Mer generelt så er b-tallsystemet kjennetegnet ved:\n",
    "- base b\n",
    "- siffer 0,1,..,.b-1\n",
    "- vekt b^k, der k er index fra høyre og starter i 0\n",
    "- eks: $(d_2d_1d_0)_b = d_2b^2+d_1b^1+d_0b^0$"
   ]
  },
  {
   "cell_type": "markdown",
   "metadata": {},
   "source": [
    "### Binært tallsystem"
   ]
  },
  {
   "cell_type": "markdown",
   "metadata": {},
   "source": [
    "Den grunnleggende enheten i datamaskiner er elektriske koblinger. Disse kan enten være av (ingen strøm) eller på (strøm). Maskinen kan 'oppfatte' forskjellen på disse to tilstandene. Vi kan assosiere tallene 0,1 eller (FALSE, TRUE) med tilstandene. Det kalles også for 'logic gates'. Uansett, ved å lage et system som består av flere koblinger kan vi bruke de ulike mulige kombinasjonene til å representere langt flere tilstander. Antallet unike mulige utfall er $2^n$ der $n$ er antall koblinger. Med utgangspunkt i dette kan vi få pc'en til å representere tall. Med sekvens av $n$ bits kan jeg vi representere heltall i $[0,2^N-1]$\n",
    "\n",
    "Totallssystemet fungerer helt analogt til titallssystemet, bare at det er to grunnleggende tall (0,1) og at vekten på hvert siffer ganges med to for hver gang."
   ]
  },
  {
   "cell_type": "code",
   "execution_count": 16,
   "metadata": {},
   "outputs": [
    {
     "name": "stdout",
     "output_type": "stream",
     "text": [
      "75\n"
     ]
    }
   ],
   "source": [
    "tall = 1001011\n",
    "tall_liste = [int(digit) for digit in str(tall)[::-1]]\n",
    "print(sum([tall_liste[k]*2**k for k in range(len(tall_liste))]))"
   ]
  },
  {
   "cell_type": "code",
   "execution_count": 20,
   "metadata": {},
   "outputs": [
    {
     "data": {
      "text/plain": [
       "75"
      ]
     },
     "execution_count": 20,
     "metadata": {},
     "output_type": "execute_result"
    }
   ],
   "source": [
    "int(str(tall),base=2)"
   ]
  },
  {
   "cell_type": "code",
   "execution_count": 21,
   "metadata": {},
   "outputs": [
    {
     "data": {
      "text/plain": [
       "'0b1001011'"
      ]
     },
     "execution_count": 21,
     "metadata": {},
     "output_type": "execute_result"
    }
   ],
   "source": [
    "bin(75) # første to chr indikerer hvilket tallsystem det er"
   ]
  },
  {
   "cell_type": "markdown",
   "metadata": {},
   "source": [
    "### Andre tallsystem"
   ]
  },
  {
   "cell_type": "markdown",
   "metadata": {},
   "source": [
    "Totallsystemet er ikke det eneste praktiske måten å representere tall for pcen. Kan behandle en sekvens/følge av bits som den grunnleggende enheten. Tror gruppe på 8 bits er byte. Moderne pc'er behandler info i form av bytes. Hver byte kan ha 2^8 tilstander som kan representers med tall [0,255] . Finnes noe annet tallssystem for å jobbe med denne representasjonen (8-tall,16-tall), men dette begynnner å bli ganske perifert."
   ]
  },
  {
   "cell_type": "markdown",
   "metadata": {},
   "source": [
    "#### Twos' complement representation"
   ]
  },
  {
   "cell_type": "markdown",
   "metadata": {},
   "source": [
    "Utvidelse av binære tallsystem for å håndtere negative tall. Alt fungere som binær, bortsett fra at først siffer tolkes negativ. Verdien av det sifferet er større enn resten av tallene til sammen, så det er nok til å få negativ tall. Blir ganske umulig å konvertere fra sekvens av bits til 10-tallsystem, men er tilstrekkelig at pcen forstår det."
   ]
  },
  {
   "cell_type": "code",
   "execution_count": 72,
   "metadata": {},
   "outputs": [
    {
     "name": "stdout",
     "output_type": "stream",
     "text": [
      "-2\n"
     ]
    }
   ],
   "source": [
    "tall = 10\n",
    "tall_reversed = str(tall)[::-1]\n",
    "tall_liste = [int(digit) for digit in tall_reversed[:-1]]\n",
    "K = len(tall_liste)\n",
    "print(sum([tall_liste[k]*2**k for k in range(K)])-int(tall_reversed[-1])*2**(K))"
   ]
  },
  {
   "cell_type": "markdown",
   "metadata": {},
   "source": [
    "lavest verdi med $n$ bits er $100..000=-2^{n-1}$ og høyeste verdi er $011\\ldots111 = 2^{n-1}-1$. Begynner å få rar atferd når vi forsøker å få representasjon av tall som ikke har representeres med det gitt antallet bits vi har reservert... Dette kalles integer overflow."
   ]
  },
  {
   "cell_type": "code",
   "execution_count": 94,
   "metadata": {},
   "outputs": [
    {
     "name": "stdout",
     "output_type": "stream",
     "text": [
      "-128\n",
      "-1\n",
      "01111111\n"
     ]
    }
   ],
   "source": [
    "import numpy as np\n",
    "print(np.int8(128)) # høyeste tall vi kan representere er 2^7-1=127\n",
    "print(np.int16(2**16-1))\n",
    "print(np.binary_repr(127,8))"
   ]
  },
  {
   "cell_type": "markdown",
   "metadata": {},
   "source": [
    "I motsetning til native python are numpy integers med fast bredde (antall bits i reprentasjon, leading 0s hvis ikke trenger alle). Må passe på å unngå overflow, men er ikke så veldig reelt problem med 32/64 bit som vi pleier å bruke. Fordelen med fast lengde er at vi slipper overhead til native python integers og at vi kan feede bit representasjonen inn i kode som kan compiles i numerisk programmeringsspråk (type c/fortran)."
   ]
  },
  {
   "cell_type": "markdown",
   "metadata": {},
   "source": [
    "## Representasjon av tekst"
   ]
  },
  {
   "cell_type": "markdown",
   "metadata": {},
   "source": [
    "På samme måte som at vi trener en kobling mellom binær tilstall (0,1) og tall i vårt titallsystem trenger vi også representasjon av symboler i tekst. Vi trenger altså en regel som mapper mellom det pc'en ser og det vi ser. Dette er en såkalt encoding. Kan tenke på det som en dictionary mellom byte og symbol. Litt utfodring at vi trenger med enn 256 symboler.. hm.\n",
    "\n",
    "Mest kjente er ASCII, men har ikke alle. Dersom tekst er laget med hensyn på en gitt encoding og vi laster inn med ASCII, så kan det være bytes som den ikke kjenner. Dette  gir '[?]' i teksten. "
   ]
  },
  {
   "cell_type": "code",
   "execution_count": 37,
   "metadata": {},
   "outputs": [
    {
     "name": "stdout",
     "output_type": "stream",
     "text": [
      "b'sv'\n",
      "<class 'bytes'>\n",
      "115\n",
      "118\n",
      "sv\n"
     ]
    }
   ],
   "source": [
    "encoding = 'sv'.encode('ASCII')\n",
    "print(encoding)\n",
    "print(type(encoding))\n",
    "for byte in encoding:\n",
    "    print(byte)\n",
    "print(encoding.decode('ASCII'))    "
   ]
  },
  {
   "cell_type": "code",
   "execution_count": 35,
   "metadata": {},
   "outputs": [
    {
     "data": {
      "text/plain": [
       "b'sv\\xc3\\xb8'"
      ]
     },
     "execution_count": 35,
     "metadata": {},
     "output_type": "execute_result"
    }
   ],
   "source": [
    "'svø'.encode('utf-8') # når den printer så forsøke å finne representasjon av byte fra ascii.."
   ]
  },
  {
   "cell_type": "markdown",
   "metadata": {},
   "source": [
    "Unicode er dictionary mellom symbol (inkl. emojis og sjit) og såkalte tegnkoder. Det er ikke i seg selv en encoding, men finnes encodinger som tar utgangspunkt i dette for å gi representasjon i form av bytes (UTF-8, UTF-16, UTF-32). Tallet henspiller på antall bits som representer hvert symbol. Nedsiden med høyere bits er at det tar mer lagringsplass, men kan ha flere symboler.."
   ]
  },
  {
   "cell_type": "markdown",
   "metadata": {},
   "source": [
    "Jeg kan\n",
    "1. Forsøke å oppdage encoding med chardet... bruker detect på byte object, with open('...', mode='tb) as f: \n",
    "2. Kan konvertere encoding med å lese inn og skrive på nytt\n",
    "\n",
    "tar dette ved behov"
   ]
  },
  {
   "cell_type": "markdown",
   "metadata": {},
   "source": [
    "## Tid"
   ]
  },
  {
   "cell_type": "markdown",
   "metadata": {},
   "source": [
    "Har litt ulike moduler\n",
    "\n",
    "- time\n",
    "- datetime\n",
    "- pandas"
   ]
  },
  {
   "cell_type": "markdown",
   "metadata": {},
   "source": [
    "## namespace"
   ]
  },
  {
   "cell_type": "markdown",
   "metadata": {},
   "source": [
    "Variabelnavn er referanse til objekt som ligger i minnet. Objekt kan være funksjoner, tall, strings, osv. Greit å ha oversikt over hvilke av disse jeg har tilgang til i ulike deler av programmet. Må ha eksplisitte regler for å unngå ambiguitet dersom eksisterer flere variabler med samme navn. Rekkefølge program søker:\n",
    "\n",
    "1. local (feks inn funksjon)\n",
    "2. nonlocal (nivå over i nested funksjon?)\n",
    "3. global\n",
    "4. built-in\n",
    "\n",
    "kan bruke nonlocal til å få tilgang til variabler i namespace i ytre nivåer, men vet ikke hvor relevant det er. Vet generelt ikke hvorfor jeg har lyst til å lage nested functions (definere funksjon inni annen funksjon). Stort sett kan jeg dytte variabelreferansene nedover i hierarkiet gjennom eksplisitte argumenter i funksjonen."
   ]
  },
  {
   "cell_type": "code",
   "execution_count": 32,
   "metadata": {},
   "outputs": [
    {
     "data": {
      "text/plain": [
       "2"
      ]
     },
     "execution_count": 32,
     "metadata": {},
     "output_type": "execute_result"
    }
   ],
   "source": [
    "def f():\n",
    "    x = 1\n",
    "    def g():\n",
    "        nonlocal x\n",
    "        x += 1\n",
    "        return x\n",
    "    return g()\n",
    "f()"
   ]
  },
  {
   "cell_type": "markdown",
   "metadata": {},
   "source": [
    "# Algoritmer"
   ]
  },
  {
   "cell_type": "markdown",
   "metadata": {},
   "source": [
    "Tror jeg flytter til eget dokument, har nok ikke behov til å søke opp dette on the fly"
   ]
  },
  {
   "cell_type": "markdown",
   "metadata": {},
   "source": [
    "## Vurdere kompleksitet til algoritme\n",
    "\n",
    "Flere algos for å løse problem. Kriterium for å velge mellom alternativer. Hvor lang \"tid\" de bruker på å kjøre.\n",
    "\n",
    "Vi abstraherer og bruker Big Oh. Asymptotisk upper bound på vekst i antall operasjoner for worst case når n øker\n",
    "\n",
    "Finnes regneregler og sånn. Ser på dominant ledd. Faller inn i et fåtall ulike klasser der \n",
    "\n",
    "1) Konstant\n",
    "\n",
    "2) log\n",
    "\n",
    "3) lineær\n",
    "\n",
    "...\n",
    "\n",
    "k) eksponential c^n\n",
    "\n",
    "Gidder ikke huske detaljer, men skjønner i hvertfall intuisjon nå. "
   ]
  },
  {
   "cell_type": "markdown",
   "metadata": {},
   "source": [
    "## Ryggsekkproblem\n",
    "\n",
    "Skal velge kombinasjon av gjenstander. Får ut verdi fra hver vektor, f(x) = . Hvordan velge beste x? \n",
    "\n",
    "Her er det rom for algoritmer. Kan sjekke alle kombinasjoner. Dette kan vises visuelt med et \"Search tree\"/\"decision tree\". \n",
    "\n",
    "I hver node kan vi velge å enten ta med eller utelatte en gitt gjenstand. \n",
    "\n",
    "Tilsammen er det 2^N mulige delmengder. Vi kan sjekke alle - det er brute force. Ellers finnes det algos, men skjønte ikke så mye"
   ]
  },
  {
   "cell_type": "markdown",
   "metadata": {},
   "source": [
    "## Graph theory\n",
    "\n",
    "Decision tree er special case av graf. Beskrive relasjon mellom objektene. Node og gren. Kan gå én vei eller begge. Finnes matte på dette, men skjønte ikke. Tror ikke jeg får bruk for."
   ]
  },
  {
   "cell_type": "markdown",
   "metadata": {},
   "source": [
    "## Lengste sekvens av mønster i en iterabel\n",
    "\n",
    "Min løsningstruktur er å ha to variabler utenfor loop, en temporary og en max\n",
    "\n",
    "struktur inni loopen er\n",
    "\n",
    "1) temp += 1 hvis mønster fortsetter\n",
    "\n",
    "2) erstatte max med temp hvis temp > max og resette temp hvis mønster slutter\n",
    "\n",
    "3) må ta hensyn til case der iterable sluttet før mønster slutter, ha en siste sjekk om temp > max utenfor loopen"
   ]
  },
  {
   "cell_type": "markdown",
   "metadata": {},
   "source": [
    "# Kaggle"
   ]
  },
  {
   "cell_type": "markdown",
   "metadata": {},
   "source": [
    "Nettside med datasets, tilgang til andres notebooks som de publiserer og konkuranser med holdout data der jeg kan sammenligne min score med andre. Laster opp en submission-fil med id og prediksjon for holdout data. Tror det er grei practice for eda workflow og basic maskinglæring. Har også tilgang til gpu for neurale nettverk. Utfordring at det er kjedelig å gå gjennom nettsiden for å laste ned data og sånn. Vil håndtere ting fra terminalen. "
   ]
  },
  {
   "cell_type": "markdown",
   "metadata": {},
   "source": [
    "## api"
   ]
  },
  {
   "cell_type": "markdown",
   "metadata": {},
   "source": [
    "Må kjøre gjennom conda fordi kaggle ikke er i path i git bash. Kan jo forsøke å legge til. Litt slitsomt at jeg må akspeter competition rules på nettsiden."
   ]
  },
  {
   "cell_type": "markdown",
   "metadata": {},
   "source": [
    "- kaggle competitions {list, files, download, submit, submissions, leaderboard}\n",
    "- kaggle datasets {list, files, download, create, version, init}\n",
    "- kaggle kernels {list, init, push, pull, output, status}\n",
    "- kaggle config {view, set, unset}\n",
    "\n",
    "bruk -h til å få dokumentasjon"
   ]
  },
  {
   "cell_type": "markdown",
   "metadata": {},
   "source": [
    "Hadde vært greit å kjøre alt fra notebook, men klarer ikke installere unzip lol :("
   ]
  },
  {
   "cell_type": "markdown",
   "metadata": {},
   "source": [
    "# Prosjekt workflow"
   ]
  },
  {
   "cell_type": "markdown",
   "metadata": {},
   "source": [
    "Skriver ned midlertidig for å internalisere."
   ]
  },
  {
   "cell_type": "markdown",
   "metadata": {},
   "source": [
    "## Big picture"
   ]
  },
  {
   "cell_type": "markdown",
   "metadata": {},
   "source": [
    "Må ha veldefinert målsetning. Ha forståelse for hvordan maskinlæringsalgoritmen blir plassert i kontekst... hva er bruksområde. I praksis så er det ofte en del av en pipeline det output blir input i beslutningsprosses nedstrøms. Må skape verdi for nedstrømsbrukere. Utforming av prosjekt og valg av algoritme avhenger til dels av deres behov (høyest mulig presisjon eller transparens/tractability).\n",
    "\n",
    "Hvorvidt prosjektet skaper verdi avhenger av forskjell til baseline/status quo. Se i hvilken grad vi øker presisjon og/eller reduserer kostnader."
   ]
  },
  {
   "cell_type": "markdown",
   "metadata": {},
   "source": [
    "## Workspace"
   ]
  },
  {
   "cell_type": "markdown",
   "metadata": {},
   "source": [
    "Vi begynner med å lage et workspace for prosjektet (ser her bort fra samarbeid/ekstern repo). Her kommer command line inn i bildet. Vil lage en root folder (?) og initialisere repo for versjonskontroll. Vil også lage et isolert virtuelt miljø for prosjektet som definerer hvilke _dependencies_ (eksterne kodebaser) den har tilgang til og i hvilke versjon. Ved å isolere det fra det globale miljøet som min partikulære pc har på det gitte tidspunktet så unngår jeg problem med at andre (med andre miljø) ikke kan kjøre det, og unngår også bugs som følge av endringer i ekstern kodebase.\n",
    "\n",
    "Vil også organisere prosjektet på en god måte slik at andre kan samarbeide og replikere arbeidet mitt. Gode rutiner er viktig og dette må jeg vel utvikle etter hvert. Prosjektet er iterativ prosess med utforskning og prøving/feiling, men vil lagre ryddig versjon. Lagre kode i moduler og ha et main script som abstaherer fra implementasjonsdetaljer. Unngå notebooks til annet enn ren presentasjon."
   ]
  },
  {
   "cell_type": "markdown",
   "metadata": {},
   "source": [
    "## Laste data"
   ]
  },
  {
   "cell_type": "markdown",
   "metadata": {},
   "source": [
    "Vil unngå å manuelt laste ned data på min lokale masking og laste inn fra path. Det er poeng at det skal være enkelt for andre å bruke det samme scriptet til å oppnå samme resultat på sin pc. \n",
    "\n",
    "I praksis ligger data i relasjonell database og jeg må gjøre litt sql ting... litt usikker på om jeg kan gjøre dette fra python script eller om det blir separat del av workflow.\n",
    "\n",
    "Alternativ kan jeg laste data fra nettet. Kan være litt utfordring med at store datafiler gjerne er komprimert, så må automatisere unzippingen fra python scriptet.."
   ]
  },
  {
   "cell_type": "markdown",
   "metadata": {},
   "source": [
    "## Exploratory data analysis"
   ]
  },
  {
   "cell_type": "markdown",
   "metadata": {},
   "source": [
    "Må først bli litt kjent med data. Om mulig: liste kolonner, litt beskrivelse om hva de måler inkl målenhet og datatype. Vil ha oversikt over manglende observasjoner, univariate fordeling (sentraltendens, spredning, outliars) og litt om relasjon mellom variabler (korrelasjon som sammendragsmål).\n",
    "\n",
    "Bruker pandas og seaborn til dette."
   ]
  },
  {
   "cell_type": "markdown",
   "metadata": {},
   "source": [
    "## Modellering"
   ]
  },
  {
   "cell_type": "markdown",
   "metadata": {},
   "source": [
    "Jeg inkluderer feature engineering som del av modellering. Hvor mye algoritme kan lære avhenger av hvordan vi representerer data. Spesielt viktig hvis vi har relativt få observasjon; hvis uendelig data så oppdager den hva som er viktig og hva som er trash. Kan bruke domanin knowledge til å konstrure variabler som er informativt for output (feriedager viktig for reise mm.)\n",
    "\n",
    "Kan til dels bruke teori/domain knowledge til å bestemme hvilke variabler som er relevant eller ikke. Men dette kan til dels testes/automatiseres, så god idé å gjøre dette. Kan blant annet lage nye variabler som er kombinasjon av eksisterende (interaksjoner) mm. Vi operasjonaliserer dette gjennom transformers i sklearn med hyperparametre som vi kan søke over (eks: parameter som indikerer om vi inkluderer interaksjoner eller ikke).\n",
    "\n",
    "Må dessuten skalere før vi sender inn i algoritme."
   ]
  },
  {
   "cell_type": "markdown",
   "metadata": {},
   "source": [
    "### sklearn"
   ]
  },
  {
   "cell_type": "markdown",
   "metadata": {},
   "source": [
    "Har veldig godt og ryddig design! Enkel API som gjør at jeg kan lage custom classes som kan brukes på samme måte som innebygde objekt i f.eks. pipelie og gridsearch\n",
    "\n",
    "- Estimator\n",
    "    * har .fit() metode som lærer parametre fra input.. eller returner self\n",
    "    * har classes som er slags kombinasjon/kolleksjon av estimator.. disse er selv estimator med .fit() metode! \n",
    "    * Transformer\n",
    "        - har .transform()\n",
    "        - har .fit_transform() som kombinerer fit og transform\n",
    "    * Predictor\n",
    "        - har .predict()\n",
    "- Kan inspecte objektene og lære om de.. attributt og sjit\n",
    "- Pipeline og GridSearch (kombinert?) fasilitere gjenbruk av kode og gjør ting veldig ryddig"
   ]
  },
  {
   "cell_type": "markdown",
   "metadata": {},
   "source": [
    "## Presentasjon av prosjekt"
   ]
  },
  {
   "cell_type": "markdown",
   "metadata": {},
   "source": [
    "Hva oppnådde vi? Resultat i forhold til baseline. Hva kan vi lære fra modellen? Hvilke inputs er viktige, noe om retning på effekten... gir mer kredibilitet dersom vi forstår $h$ vi har estimert. Performance på ulike segment av testdata.. kan vi si noe om systematiske svakheter/styrke.. forstå hvorfor den fungerer såpass bra som den gjør og ikke bedre.\n",
    "\n",
    "Dernest kan vi si noe om prosessen. Hva som fungerte og hva som ikke gjorde det og noe om veien videre. Mulighet for bedre data?"
   ]
  },
  {
   "cell_type": "markdown",
   "metadata": {},
   "source": [
    "## Produksjon"
   ]
  },
  {
   "cell_type": "markdown",
   "metadata": {},
   "source": [
    "Lagrer modell med ... hva? Litt usikker. Plassere i pipeline slik at får data inn og spytter ut output. Kan være at den mottar queries fra webside der bruker plugger inn input, hva vet vel jeg... tror ikke dette kan være mitt ansvar. for da være grenser. \n",
    "\n",
    "Kan også være greit å overvåke input og output for å se at ting er kosher og at modellen oppfører seg som den skal."
   ]
  }
 ],
 "metadata": {
  "kernelspec": {
   "display_name": "Python 3",
   "language": "python",
   "name": "python3"
  },
  "language_info": {
   "codemirror_mode": {
    "name": "ipython",
    "version": 3
   },
   "file_extension": ".py",
   "mimetype": "text/x-python",
   "name": "python",
   "nbconvert_exporter": "python",
   "pygments_lexer": "ipython3",
   "version": "3.7.9"
  },
  "latex_envs": {
   "LaTeX_envs_menu_present": true,
   "autoclose": false,
   "autocomplete": false,
   "bibliofile": "biblio.bib",
   "cite_by": "apalike",
   "current_citInitial": 1,
   "eqLabelWithNumbers": true,
   "eqNumInitial": 1,
   "hotkeys": {
    "equation": "Ctrl-E",
    "itemize": "Ctrl-I"
   },
   "labels_anchors": false,
   "latex_user_defs": false,
   "report_style_numbering": false,
   "user_envs_cfg": false
  },
  "toc": {
   "base_numbering": 1,
   "nav_menu": {},
   "number_sections": true,
   "sideBar": true,
   "skip_h1_title": false,
   "title_cell": "Table of Contents",
   "title_sidebar": "Contents",
   "toc_cell": false,
   "toc_position": {
    "height": "calc(100% - 180px)",
    "left": "10px",
    "top": "150px",
    "width": "307.2px"
   },
   "toc_section_display": true,
   "toc_window_display": true
  }
 },
 "nbformat": 4,
 "nbformat_minor": 2
}
