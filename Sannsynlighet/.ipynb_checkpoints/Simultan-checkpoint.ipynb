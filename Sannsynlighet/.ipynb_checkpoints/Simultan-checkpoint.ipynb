{
 "cells": [
  {
   "cell_type": "markdown",
   "metadata": {},
   "source": [
    "Vil visualisere simultanfordeling fra to terningskast\n",
    "\n",
    "$\\Omega = \\{(\\omega_1,\\omega_2):\\omega_i \\in \\{1,2,3,4,5,6\\}, i=1,2\\}$\n",
    "\n",
    "$X:\\Omega\\to \\mathbb{R}^2$\n",
    "\n",
    "$X(\\omega) = [X_1(\\omega), X_2(\\omega)]$\n",
    "\n",
    "$X_1(\\cdot)$ er summen av terningskastene og $X_2(\\cdot)$ er absoluttverdi av differanse"
   ]
  },
  {
   "cell_type": "code",
   "execution_count": 36,
   "metadata": {},
   "outputs": [],
   "source": [
    "import matplotlib.pyplot as plt\n",
    "from sympy import *\n",
    "from sympy import stats\n",
    "from itertools import product\n",
    "from collections import Counter\n",
    "import numpy as np"
   ]
  },
  {
   "cell_type": "code",
   "execution_count": 34,
   "metadata": {},
   "outputs": [
    {
     "data": {
      "text/plain": [
       "[Text(0.5, 0, '$x_1$'), Text(0, 0.5, '$x_2$')]"
      ]
     },
     "execution_count": 34,
     "metadata": {},
     "output_type": "execute_result"
    },
    {
     "data": {
      "image/png": "[encoded data removed]",
      "text/plain": [
       "<Figure size 864x576 with 4 Axes>"
      ]
     },
     "metadata": {
      "needs_background": "light"
     },
     "output_type": "display_data"
    }
   ],
   "source": [
    "Ω = list(product(range(1,6+1),repeat=2))\n",
    "\n",
    "fig, axes = plt.subplots(2,2, figsize=(12,8))\n",
    "axes = axes.flatten()\n",
    "x_values = np.empty((len(Ω),2))\n",
    "for i,ω in enumerate(Ω):\n",
    "    axes[0].plot(*ω,'o', c='black')\n",
    "    x_values[i,:] = [sum(ω),abs(ω[1]-ω[0])]\n",
    "axes[0].set(xlabel='terning 1', ylabel='terning 2')\n",
    "\n",
    "\n",
    "\n",
    "axes[1].plot(x_values[:,0],x_values[:,1], 'o')\n",
    "\n",
    "\n",
    "axes[1].set(xlabel='$x_1$', ylabel='$x_2$')"
   ]
  },
  {
   "cell_type": "markdown",
   "metadata": {},
   "source": [
    "Var ikke helt trivielt å finne antallet terningskombinasjoner som mapper til samme $(x,y)$. Skal prøve å bruke sympy, men er litt usikker på håndtering av flerdimensjonal fordeling."
   ]
  },
  {
   "cell_type": "code",
   "execution_count": 42,
   "metadata": {},
   "outputs": [],
   "source": [
    "ω_1 = stats.Die('ω_1')\n",
    "ω_2 = stats.Die('ω_2')"
   ]
  },
  {
   "cell_type": "code",
   "execution_count": 44,
   "metadata": {},
   "outputs": [],
   "source": [
    "X1 = Lambda('X1', ω_1+ω_2)\n",
    "X2 = Lambda('X2', Abs(ω_1-ω_2))"
   ]
  },
  {
   "cell_type": "code",
   "execution_count": 47,
   "metadata": {},
   "outputs": [],
   "source": [
    "X = [X1, X2]"
   ]
  },
  {
   "cell_type": "markdown",
   "metadata": {},
   "source": [
    "må få jobbet med vektorer på en eller annen måte... var ikke helt trivielt.. hvis uavhengige så kan jeg jobbe med marginale, men litt usikker på hvordan jeg får ut hele simultan pmf/pdf..\n",
    "\n",
    "I hvertfall opplagt at dette må være definert på vektorer."
   ]
  }
 ],
 "metadata": {
  "kernelspec": {
   "display_name": "Python 3",
   "language": "python",
   "name": "python3"
  },
  "language_info": {
   "codemirror_mode": {
    "name": "ipython",
    "version": 3
   },
   "file_extension": ".py",
   "mimetype": "text/x-python",
   "name": "python",
   "nbconvert_exporter": "python",
   "pygments_lexer": "ipython3",
   "version": "3.7.9"
  },
  "toc": {
   "base_numbering": 1,
   "nav_menu": {},
   "number_sections": true,
   "sideBar": true,
   "skip_h1_title": false,
   "title_cell": "Table of Contents",
   "title_sidebar": "Contents",
   "toc_cell": false,
   "toc_position": {},
   "toc_section_display": true,
   "toc_window_display": false
  }
 },
 "nbformat": 4,
 "nbformat_minor": 4
}
